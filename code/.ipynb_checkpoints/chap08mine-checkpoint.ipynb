{
 "cells": [
  {
   "cell_type": "markdown",
   "metadata": {},
   "source": [
    "# Self-organized criticality\n",
    "\n",
    "Code examples from [Think Complexity, 2nd edition](http://greenteapress.com/wp/complexity2), Chapter 8\n",
    "\n",
    "Copyright 2016 Allen Downey, [MIT License](http://opensource.org/licenses/MIT)"
   ]
  },
  {
   "cell_type": "code",
   "execution_count": 73,
   "metadata": {
    "collapsed": true
   },
   "outputs": [],
   "source": [
    "from __future__ import print_function, division\n",
    "\n",
    "%matplotlib inline\n",
    "%precision 3\n",
    "\n",
    "import warnings\n",
    "warnings.filterwarnings('ignore')\n",
    "\n",
    "import numpy as np\n",
    "import matplotlib.pyplot as plt\n",
    "\n",
    "import thinkplot\n",
    "from thinkstats2 import Hist, Cdf\n",
    "\n",
    "from matplotlib import rc\n",
    "rc('animation', html='html5')"
   ]
  },
  {
   "cell_type": "markdown",
   "metadata": {},
   "source": [
    "## Sand pile"
   ]
  },
  {
   "cell_type": "markdown",
   "metadata": {},
   "source": [
    "`Sand.py` contains an implementation of the sand pile model."
   ]
  },
  {
   "cell_type": "code",
   "execution_count": 74,
   "metadata": {
    "collapsed": true
   },
   "outputs": [],
   "source": [
    "from Sand import SandPile, SandPileViewer"
   ]
  },
  {
   "cell_type": "markdown",
   "metadata": {},
   "source": [
    "Here's a small example starting with two cells ready to topple.  `n` is the number of rows, `m` is the number of columns."
   ]
  },
  {
   "cell_type": "code",
   "execution_count": 75,
   "metadata": {},
   "outputs": [
    {
     "name": "stdout",
     "output_type": "stream",
     "text": [
      "[[0 0 0 0 0]\n",
      " [0 4 0 4 0]\n",
      " [0 0 0 0 0]]\n"
     ]
    }
   ],
   "source": [
    "pile = SandPile(n=3, m=5, level=0)\n",
    "pile.array[1, 1] = 4\n",
    "pile.array[1, 3] = 4\n",
    "\n",
    "a = pile.array\n",
    "print(a)"
   ]
  },
  {
   "cell_type": "markdown",
   "metadata": {},
   "source": [
    "To execute one step, first we find cells that are above the toppling threshold, `K`."
   ]
  },
  {
   "cell_type": "code",
   "execution_count": 76,
   "metadata": {},
   "outputs": [
    {
     "name": "stdout",
     "output_type": "stream",
     "text": [
      "[[0 0 0 0 0]\n",
      " [0 1 0 1 0]\n",
      " [0 0 0 0 0]]\n"
     ]
    }
   ],
   "source": [
    "K = 3\n",
    "toppling = a > K\n",
    "print(toppling.astype(int))"
   ]
  },
  {
   "cell_type": "markdown",
   "metadata": {},
   "source": [
    "Then we use `correlate2d` to make a copy of the update kernel around each toppling cell."
   ]
  },
  {
   "cell_type": "code",
   "execution_count": 77,
   "metadata": {},
   "outputs": [
    {
     "name": "stdout",
     "output_type": "stream",
     "text": [
      "[[ 0  1  0  1  0]\n",
      " [ 1 -4  2 -4  1]\n",
      " [ 0  1  0  1  0]]\n"
     ]
    }
   ],
   "source": [
    "kernel = np.array([[0, 1, 0],\n",
    "                   [1,-4, 1],\n",
    "                   [0, 1, 0]], \n",
    "                  dtype=np.int32)\n",
    "\n",
    "from scipy.signal import correlate2d\n",
    "\n",
    "c = correlate2d(toppling, kernel, mode='same', boundary='fill', fillvalue=0)\n",
    "print(c)"
   ]
  },
  {
   "cell_type": "markdown",
   "metadata": {},
   "source": [
    "Finally, we add the result back into the array:"
   ]
  },
  {
   "cell_type": "code",
   "execution_count": 78,
   "metadata": {},
   "outputs": [
    {
     "name": "stdout",
     "output_type": "stream",
     "text": [
      "[[0 1 0 1 0]\n",
      " [1 0 2 0 1]\n",
      " [0 1 0 1 0]]\n"
     ]
    }
   ],
   "source": [
    "a += c\n",
    "print(a)"
   ]
  },
  {
   "cell_type": "markdown",
   "metadata": {},
   "source": [
    "Any grains that topple off the edge disappear."
   ]
  },
  {
   "cell_type": "markdown",
   "metadata": {},
   "source": [
    "## Animation"
   ]
  },
  {
   "cell_type": "markdown",
   "metadata": {},
   "source": [
    "Let's look at a bigger pile, with `n=20`.  All cells are initialized to `level`, which is meant to be substantially bigger than `K`."
   ]
  },
  {
   "cell_type": "code",
   "execution_count": 79,
   "metadata": {},
   "outputs": [
    {
     "name": "stdout",
     "output_type": "stream",
     "text": [
      "(332, 53336)\n"
     ]
    }
   ],
   "source": [
    "pile = SandPile(n=20, level=10)\n",
    "print(pile.run())"
   ]
  },
  {
   "cell_type": "markdown",
   "metadata": {},
   "source": [
    "The `run` function invokes `step` until no more cells topple and returns the number of time steps and the number of affected cells."
   ]
  },
  {
   "cell_type": "markdown",
   "metadata": {},
   "source": [
    "Now let's look at an animation, starting from this initialized pile."
   ]
  },
  {
   "cell_type": "code",
   "execution_count": 80,
   "metadata": {},
   "outputs": [
    {
     "data": {
      "image/png": "[encoded data removed]",
      "text/plain": [
       "<matplotlib.figure.Figure at 0x7fc460350518>"
      ]
     },
     "metadata": {},
     "output_type": "display_data"
    }
   ],
   "source": [
    "viewer = SandPileViewer(pile, drop_flag=True)\n",
    "anim = viewer.animate(frames=100)"
   ]
  },
  {
   "cell_type": "markdown",
   "metadata": {},
   "source": [
    "Starting with `level>K` produces all kinds of interesting patterns."
   ]
  },
  {
   "cell_type": "markdown",
   "metadata": {},
   "source": [
    "Each step of the animation drops a single grain at a random location and runs until no more cells topple."
   ]
  },
  {
   "cell_type": "markdown",
   "metadata": {},
   "source": [
    "Most avalanches are small, but some are very large."
   ]
  },
  {
   "cell_type": "code",
   "execution_count": 81,
   "metadata": {},
   "outputs": [
    {
     "data": {
      "text/html": [
       "<video width=\"432\" height=\"288\" controls autoplay loop>\n",
       "  <source type=\"video/mp4\" src=\"data:video/mp4;base64,AAAAHGZ0eXBNNFYgAAACAGlzb21pc28yYXZjMQAAAAhmcmVlAAEILW1kYXQAAAKrBgX//6fcRem9\n",
       "5tlIt5Ys2CDZI+7veDI2NCAtIGNvcmUgMTM4IHIyMCA0MGU3MmRhIC0gSC4yNjQvTVBFRy00IEFW\n",
       "QyBjb2RlYyAtIENvcHlsZWZ0IDIwMDMtMjAxMyAtIGh0dHA6Ly93d3cudmlkZW9sYW4ub3JnL3gy\n",
       "NjQuaHRtbCAtIG9wdGlvbnM6IGNhYmFjPTEgcmVmPTMgZGVibG9jaz0xOjA6MCBhbmFseXNlPTB4\n",
       "MzoweDExMyBtZT1oZXggc3VibWU9NyBwc3k9MSBwc3lfcmQ9MS4wMDowLjAwIG1peGVkX3JlZj0x\n",
       "IG1lX3JhbmdlPTE2IGNocm9tYV9tZT0xIHRyZWxsaXM9MSA4eDhkY3Q9MSBjcW09MCBkZWFkem9u\n",
       "ZT0yMSwxMSBmYXN0X3Bza2lwPTEgY2hyb21hX3FwX29mZnNldD0tMiB0aHJlYWRzPTYgbG9va2Fo\n",
       "ZWFkX3RocmVhZHM9MSBzbGljZWRfdGhyZWFkcz0wIG5yPTAgZGVjaW1hdGU9MSBpbnRlcmxhY2Vk\n",
       "PTAgYmx1cmF5X2NvbXBhdD0wIGNvbnN0cmFpbmVkX2ludHJhPTAgYmZyYW1lcz0zIGJfcHlyYW1p\n",
       "ZD0yIGJfYWRhcHQ9MSBiX2JpYXM9MCBkaXJlY3Q9MSB3ZWlnaHRiPTEgb3Blbl9nb3A9MCB3ZWln\n",
       "aHRwPTIga2V5aW50PTI1MCBrZXlpbnRfbWluPTUgc2NlbmVjdXQ9NDAgaW50cmFfcmVmcmVzaD0w\n",
       "IHJjX2xvb2thaGVhZD00MCByYz1jcmYgbWJ0cmVlPTEgY3JmPTIzLjAgcWNvbXA9MC42MCBxcG1p\n",
       "bj0wIHFwbWF4PTY5IHFwc3RlcD00IGlwX3JhdGlvPTEuNDAgYXE9MToxLjAwAIAAAB83ZYiEABP/\n",
       "/vexj4FNyAANlzqKeh/hFbH0kFF6sdmgZOoAAAMAAImBjhZAtblacVAAAN+emVbcqQ/MAiO/mv7b\n",
       "IttluWPIqIQIhpmyX73ZkvVeEyenL++P0cmUrOpC7y4wnqJLWvvHTErGiDxAjKia5YF+cVr1Qs+E\n",
       "y8iDl/h1ymqfP6EfMQRa+ig9oNovdobUs9i2oVfGCeZkEHeglB+6QthEY9Kzs153i62VMGU/byQK\n",
       "c3o6TnzQxfzCDuVNQ5x8opwfbkEge8aZiP2wm083LdHTy8dURHBGuwLAo0aJYx3+v3qLp2p3b/UR\n",
       "of/bngUYwx/DxxpefaeOMpvw8aabINjhkx+A+rF0jPAeou60/Nw/d53SPez2wfG5enT6e63QpQNN\n",
       "mGlbD6bcu2iP/AELBZuXqypqGX+38AyloY6pO/XbEGYsFbvA2ey8Gsqb/83XAC8Ecl4bM4rL6ev2\n",
       "FpjGB2DlMw149fivQwshVGMBOuDQjdw9QpFh5j2oEm3eHHP2GfL38zo3aTlmQX3Nsfxu36FUM567\n",
       "/+M3GRTuOe6o8Sa9O7kOZZlBDkWhEBuHiI2/PxJ/s6j0Ldag3Fhj6+VBEJPvU+Xay9zwEVDDFNjR\n",
       "1GZ47mJAirvHGh34Py7QcC5V39DCgnbRURI2G8f2ejpGtntCAdaeC7k+DqGVbz2+kc93Or4jbpPH\n",
       "8+vhzwVoCXu7R0GAGH7TPuLlF4sCapU5eTY91S0mmnCdEJ9gXMS/JMH0oalqz9mCj6QHSOZXdY1k\n",
       "M1AC6/ziW+DYzKxi7QEe9Qbwr+XYd8tAPSoTsPhyVsr9s482ld+AeIShdhqhUh5B30pOoHAG/eW0\n",
       "Fd7uSQej38gjOYTQbKjIATDwtcXDoZYUfl2I8QPTcUEpGFDEBtNRPPWmhFZaqmlulgj6ntjJRZKE\n",
       "QSqv0fUkSt+ED5G+AAxWpzpIfQ0HheEC5rAsMtaITBUQEMzApJE9c67z5Yk6Cr1lH6shS9JbxtvN\n",
       "XMGDZr6NL4WN5AffoQ9pqUEijbf17m4FJK89/jKsfqZp4TjA34nJKfeint1kdQSkulQJxlXIzmk4\n",
       "QZTuOic4111qjDEDrDsIQzXGk3kef9oLBFFr6mVaWpP+NIQuoZA7qKSYA1ywDv7+Z95ha9DnjGKw\n",
       "tebT/IqTgHr1BfUE9MJLe0NIND8ubTPuWS6CCsO6Lq3cX8JR6Y/zCHejOtqIXlBp8Qc1G90xuYwC\n",
       "af/GZKUpsA3/QN9AhtOvUneTVsszHF7Aw5oDkqsC4TUH7HXUagdTarmX/svA7uv2MsRQKclatqca\n",
       "uj84WBzRurc1rkkeGw0Ri/wc4xLll6ylOOxjc8KcT9/3eIiFGi5MMH5VYyT4tFzsZEy8d1s/KAWE\n",
       "xdRKswK7SO/EilMCkNNEHUgqwhFv2BOoOCOQLPqZhe7tU+lbu67yf+ZhD5iODlXInNL7G7MEmB0h\n",
       "MzGaMwvWPqA6jSf+LPY6bpuEWSVROrwCFm09I51AS5y1mD6MJMRFV4x2ojOMUVB77r5QWE1ebOhk\n",
       "iOxOvAbG45tAV8HZM+lbI1z+2g3ujM5Mq+lOY9E/98hEaBj9ahTD81I0cJ9VtAysbg3BKV0l8Jfu\n",
       "Ok94/H/zTgcb/sNK+GODghVsSsqRfa9hbQV7ie/pnW+VGTnW1jbr51xjHXHOPWbptplgGo4bL/AO\n",
       "7Bsto5rVsavoFI+ezhd+U2BQM1NjOrCIp4V8DhI4p2iA9Ah39chhFuvg4sSsHBfpzrHAeUckXdxM\n",
       "3XhjxTbMRQJ3URW35AQeE7ziVGTGnPxr1iGQ+QOpgNGSWz68DMn/VmsKaYfHNklOGdARDw+B5Dht\n",
       "US2v66zf1bBBQgQxbPloWG29l85nMQk5BKCKCgmYk8gi+SvJLxtCw+tClx3Ef+JLP3nIb5KGmu0U\n",
       "0rjh8cUnTtbvsKdJVPzXsCx/78kAj/3JrMyF/SbMUvrFU6q+KCPGpmFnRYOjOK21cEC8QRx1XMrr\n",
       "io47Wln/5WZXxCK1AgsDd5DP5MVOZfzGHjO58qKy3bFH9UD18gPbYyjUOzhLYjb9naAA6TlEUyOo\n",
       "UDrJD/YZbzjJlRnSxntyhQDQCj1MUduD8H/+o9rflwUhvYhbUcL1pkmYNkV45sZikIP16ROuBM+u\n",
       "oSljp3XILmAmLnINTY6f7e/103YVk05WHigmIin39I6IoeZBbs+ULXZVk8Vgm9IyzOv97ycfl9Na\n",
       "kEGdW+vPvDEk90jCyHeyFg4x6NbDukqKlg48L303ftgExo03OrsHHZemx0SHvOhtuO332CjLxRIh\n",
       "4Pzl0uzBYF3b4S+RUtEtZHO2N5Z8bPI8PkqXVN38en7Y758U+d7h0XOwqC9BlZVdEwwiTExp8UUH\n",
       "cRfEFFVU7Oxqg7jrIWV+HqL0GKxQbQZlcjG7omZuEdeBDZGCuU2Upr7EWgu4RwG/t16crfIFvJn8\n",
       "59XWTmieQ9xWXqFl8Q2zk03jpcOFUixzw2hzyeABLQ2aOrF8FA0gRlNg9fPPE/s13fTJHgKQU7v+\n",
       "3WzgkckM4BRxY43ye4C4hxbBAbCgAf3BnEnw4kFDgcWYrSX1nuS/OTF4FlvYh0MGT34vH+fw2Mjd\n",
       "GpBlCTMR2ZokEYnrRzCGJVQeD8yc/IZkYLfIYSwbSzuKhvCTdipUo49zbvgUyQ0/untYGZgBh2yR\n",
       "AeHTnPqTUpG1jmkUWacGSGaPMz5xm6YhXFIbVN7w9znO2hfeLW3RCWt8GH86RALtyMvf9X35Mm1m\n",
       "/xWncQNUtobR6GGAT2mjun38rSgU+1Ch+tY0RQPsQb+jsJQswNdDdXmUMJsmJWmOJFSwT73bEW3V\n",
       "fmKkIfWC9QckkX2I2ylWIXa77J3eQ7gk6+aGbWFSFt97BMh/XiwbUJIzpg/17gJDY6J9qHDA+z5p\n",
       "RBdGv66NFqrykUgDdMKbse+Ltt0EnyOOqE6ZqpjL2LcQd3evmi6SQcX2jgXOB81wymJEIcjndkGE\n",
       "j+jh68xM3O3PphmGgxsTC4qDMDj4v7jxpAedF6+cJxqsLeyusL5wZ8UT1U6yZMjr+3zu8jGgjJOM\n",
       "Yd20Dm9Bvuu96Hn8e5np7ChO2/g/vv5GicZTETLxW277mjsAO1tsG8S2l2YE3ha74myza14gBMOH\n",
       "He4TS4T6JpPAWrs4esMWesdAkYhTPvyEuiH8O5OPoCaWUXov5j34M5j8OVm+rJRgx8v4c89HBnH0\n",
       "P15sPmNcTBxTDvKsv5Q1dNAoiVp/Hdh8nBcaUW+JMDTQIm48eZMaHozxMPhhcwtnhwY/MvIX6hrn\n",
       "hVjJUekEw99c/3ej78S+scFKxT9heUXFnfzi5SVDwfP0SSYzmE3l0x5vjXW5njgKMM0BBDS2bCY5\n",
       "fvGoWLDP9zyYDp5uf7fXz82Nv/L8yXhh7WQcL0eeXfrtOvR1yh0CsR7ZnK7oll4M6pFj/Jjghjgc\n",
       "7rzTyJgjeUkg0fobpmi/sEIGGfhs2aW3u0RJiygYWj+sk6xyoIEOerrvlIRXH1N+6cBQqmP6v7HS\n",
       "cByx6u8fs+5V9ReCp5qUhm+yCyG17+P7F0l+gdDRGMl1poBYE1skC/YeQErOtotjvI/2Ro6DBlxn\n",
       "oIRoWAXoAcD6nAJ4DKF6l+HnA9DGIfB4OTVhXim3rQhj6zIEy6b+fL05tAhuEd+ERb5K8nFT7vyr\n",
       "srofyVYypaRL4/UmBt+ojtNyt0sTCgY6zcpTM317CykxYM5GtIO1+8LiqxeB0rS+jSWb8jjRN0m7\n",
       "j2qrhWBfEh6Ts3w4jpunhA/zjwTU6n2oIB1QtOGedg9jO2Ux6NrVQ/a4OLwa1fONuWD3OqtdD7R5\n",
       "uNfxziYjGB2HeVe3rzMOVtaB5GuHxCtl19APnrKvWWt3NO+Eu6+/hhkIM+GiGVE50Khi1D5aGMpW\n",
       "thO0FuakwV0L4uVVMNTbMeZmRgpdztxMkL9dUArb2gVuhSeIEsqTrzGh3HUXTJt87080/IS3Wgwt\n",
       "3Zn0YjNQIxofM4yE0he3aZflhFREIzlZi8X3zkr14OmQ/o43tV+FRMxQxMwwrR+P6VZR6O4yCPTy\n",
       "cmSztsAP089iS6KNM9SNe4z8gBnF+HNynO8Tp145c+t1gejeUlGmTMTbJhl4ABuw7geB9xcc9iat\n",
       "/KMhBQwX3wngNMFEZT10QioXqso7gbbeYzZbA3GU8gs0jqFrYbXRf594W2robsowBWzsgkZbhwrw\n",
       "JqOrzgI9X9p8aDujDZTALHgEJ1d8xPyVik/kz8+PzF80ZR9zh57VtN8r1G93yj65fMzxcaS/7kFX\n",
       "b0SZcr/+jSMtMaT9c3+s+/DnIcd/sFCS0MZ+rya/qST+CP5RB/qcwyhkVhKul3sTaA5RHcqdizlS\n",
       "MVZS9CzXZrgKokuaa8Lp+h9vbeU8hMxsd6OM27lxZY9ZiJCQhSSod+u0jz/Si/FMbV+kDW/K5LKS\n",
       "6q7ZHac+JEdmgCXqlKiA8yxaLBEvq2yfUAvDS0SzWMFvB8tCnTqVqjNjKgltkBe37why5n8fu54P\n",
       "QWIfQcpO3tMtwXCKunDqqpyEkq6CWwVlkBDiBzItVy5RDsdr4IhgVAzpPpyM7s09QSc4K9JEHu/n\n",
       "ie+2sjl/E+NPJF02TEk22HEX+jeOYvq5QECfqNNRkLhkyfiKzzjilQnF9BW9mThTO4lTFT2z3JVZ\n",
       "xhl4qvKT/n0V+J1Z8BJMMNSjLS4U4SWdVnCL1hmhR2pM0MxKg4UJQOTpR4my1H5YcUWdS33PaXzX\n",
       "ckfR4mRQXfU1hekxwqLVAjq+yngKd5eSyYdXDZbX2UTpd+pDefVj6jW6wqkwcQnvFr8BTddjK1qO\n",
       "TmbmFD23hlBba6W/M7liljsAM4IIENHcn5bHkGTuPbWGIAeEnWloyzA6UtycRZ7PhGSjB3aqQEPC\n",
       "3wJ6Zh2EhFA253O9jw8F2kfgYqDUq+nwfgtjhcfd14qhYa4e0m5PEtYMXrPqw870ZaL/P+O9udc5\n",
       "sO6Vqfy8RBYZmqC2rvsZAqAVreFouHOHoonYTHYxxO89wl+tCc52I262iX3foSnvpIGxxAXjwz26\n",
       "2BwDFRqsYIlWHdEACFr+TT/Q1ngoQzhrVL8wWzJaj/yIa7R2wQQW2sSIJ0TaSYYcqEdpuEjFbC4o\n",
       "PkLUcPGbz6Mfks0zI56mrhTcy0Sip5q9mOEvvGox+PUHqw1HDUzktrJ/m81EmXOdSyrMuxcsriRu\n",
       "QBR5kH3AegpaqReM76jiRMuUEGq4nSl+ZTeQao8eTn+jn92jc0b2NKTx8PR2gB0e2dhEbRfD6mXU\n",
       "1o3l/2o5hmu8CRZxSCqAWcHaVa0zM3jr9LJ5+AKSs2pdYG+aJvGmiGYwGbt4Ckr3QcAwOJenbwco\n",
       "Zjgyii1wQO0lfuOsTPP7Q47aqnbeXmXzQfQEHGnb6y8CxOZBmKwNJ3U8cxGn69kyA0VeQPnPl/cA\n",
       "OJQwR5DuoKbvfr4DxYMfD+pG+8XWw5UzssDdn28UExq1hYEQGBSpgMk72q7T8hbjhH0OK8zDd9P/\n",
       "8inMGPt4BNbEUG+0jBA9DCFIBOc/6879D9uRgR9/m0/OLLN9AZVuwtyvfCqheHQhjvjLk6xahfhv\n",
       "6zaCrcJxH0qizYHudMu2z3x+yA0YLu+xGZ0ItyxxMoo7bgSn5YJo+vgNvJc7iQWC9T0Kb+L9SPuG\n",
       "mzbY13aJqCCO3MYIkuPBqrzv1us2Z/5G08Dozq8xW3lVXCNZgfWtCHvJb5zxju9r93Xo7IjeYsem\n",
       "rKb/rh/EDM6mtJpSgDQLeCR0I7YtSpORhFg+qk/hTfk/4T7sKAsKDQCQie+YXafjamL+1MKYMIHA\n",
       "cj3XEZA9D7CjnYE4o1LCz+CgB48z9fmAhyZzy6fkLfYNs48owHmUpIFZBTXJtWEblGJNQjYSfJAV\n",
       "tYZrObq9bnnl1DCUdLs7EYD8wlXwVriDEfiMlihOud/I1K6qaOvqoNp0TGD84I3uYCVfx59CKl/p\n",
       "zwsagYy+vF7uZKLMXyLUzgksnRG1WyevVEiSJdACvw9t/Prjs7m0nuq0OwHNv1Xc8pvAI9+2sUK/\n",
       "Dr/+Tz09UuAoKMuHI4i9W3BH3N23/g8EIXsl6b8bl76u6ttK2gvOmRNn6dzQeizps8UXzfd1jhFx\n",
       "1bpmRP4qGgpyNxz4BHBNsP98dwMGC5btpck/KcLx0GIn8Wu6pc5d9Ql+XhNmt3iJ8XE2bFl37ERL\n",
       "i0agcn6d9ANLX62Sr/IapF7Tq4nrTUo89le8qSt0AgyO4FtwvQ+PqJDrf1Lh3NPNXBaEwlYi2g52\n",
       "N1ro9gWtuLmzlRA7oP6bVf/rfJVDiqMwo6f1Qk7t6KuTevIzEjpygfJ7xSFJ+jU2vCckMcUIkVTp\n",
       "//YX2PPQWlKW1V7CWrcTox1w7cVqmwhA3g/vqhFI3qzwfVzUtoQoGygiXOq8R+vB4i3sYqMPaAYr\n",
       "B5+TlSetfzAOaHa6+91fTZqLbzJvbpi9TcpEdhUbE/Sid+Nm/uojC63CaMrnnoKNQGFn2K9G/zrn\n",
       "XIl11DSwxqndKPX77tjetWXnUw+U8NizaTdZBz0JOl3FYX81k2FhpX85MNrL0EzbWKi3QHVYOloc\n",
       "864110XflaOvwZKtQGPt8f/5mCioNFScGIUXoWwjvTQvIdP5m9v6TafaS09NGTkaw/rHGJzARziH\n",
       "bVo6dN0ZcvgqtD8G1sn2exnsT2yNA+HiWKUJ4ZfEmeKpBPcQkDWRv11kCN59eG0yE3HBwJJjekI0\n",
       "SxDh/c+al7Fcb4ZQ+CXCCj0zV3X/SJwcwJmM6ecO+j820CpTEDgcf6M9f6znjXKeoJgVknDBWEfy\n",
       "5Wcz+9cSvTbZ1NBf8Gqc9+rp2dzsL8gqYTca71uOLyy1xB4gHHJZyB3PohSIsF0pH8v6bmbuTfRE\n",
       "+TcjdgcCpt7w+I93pHOe00GNQwYhD/2DIokZuKFyktRaO04fIXNoj82YMPnBWofGuSGAXH4k1cxs\n",
       "q3OfTIzpvaHsgHgLgBULMU7C6PW1TPBBSfA805aCkHwY5NL3OOp0iQHouLtbFeIsrEHoY2LHuFIX\n",
       "qau0zDEg0QWhJc+tcxWqcFjxuMKhxFy5jXPZVRpRp2cFHQhoyRC9cDxck8bSI5+6AM8Sk0VY0Jrk\n",
       "TAkR0KRvMzAAWsD3vNljjnXcmJ2eB0RzXvH9okDwmX6EyARBCGDyfGu6i/EYMQj3VFFaT61LZp1x\n",
       "sipH6GmaO3VYByTTsWZn+wk7oec1l89hR+63g50QT1BBLwQIeq3GADE0v1sIYRbF6SYiFQEcnQsO\n",
       "LXfZzQbnr8KyRAUku17bAso2C9LGjHWsgpd/wEgYyt5NHO5aaKLrezlW6b5556DskQFqpXOsIUOW\n",
       "SN9NJjcx0ehjxq4OmK76s5eLIdGvhm8zw70cXO/X9YmcoG9ZjTQ7ZmEkcPSr3h2cuTakbqBDEKvO\n",
       "OAfdHiD9FWQko5eLkzSfsEWFD2EAZDo1SB7DllX19YK4RZGDPS0O6LCJvM3DEL/kESmVuqr88GE4\n",
       "DghnyzM6PW9565t4VbgB3+PAkBAEB1wRS/tNYo4gtmIiLTHae8WIYEwF4tE8zAUkfpfzJksGZ/W6\n",
       "zRxtVTBt3peY9Z8ymIcGjEJnDYEFbEWLmxqztd/+CuCYer78A5mJMCtNhdsMY4zil/IwwsjgaLBc\n",
       "kESUlmR3kl1cmLP80EtbWoB2e1yK1GjE3jzVGziH9TAGm9zsX5XlVEQgGnVLAWLJ05Cc1zZ6BQVM\n",
       "qaQXw75saxTKzdoFQ0fWhx2Sxc1/i91st0fppri8JvwG3QjZRo3iFiMNsithKYcE04uctrPbA/f+\n",
       "RS4KsZXLBa/RRt/IAiXdYFWIm65EDlNOvDYbhBk1+dJDoyqMaFmHTUJNSLBdj6KUvXmjrgqwyk9x\n",
       "eu5wyDFuQHPUAr1yx8v7b2J65BTWnxRfcau0pELD8nK3Cv7nUGJ/nGtOCVG5EV1C8MUaqLDwNgZv\n",
       "valULeAp4a/K3bNXnTK7TARsotjT4Q0c7V/yBkwmUG6FEbCmPZja/9FjeFjnh0s84JwltzRd5jlG\n",
       "q5ebY39vv0HWGqOS24d+4zKYViLyXLR5nWDFyb+V/ZhucIV/J+lM1yWdeytB2E5GrKV5dr2Y85L/\n",
       "kjIT5G4rVVRKCptNRWeEJcz/G9shdLonQ+BmdfhcV2rnid/bUjVIJCS/yhJmquwUKh0zgkksaFEj\n",
       "s1/59WDIHFctmgZrbs+jTcFDhDaeNkRJ0HZ94NUQ8cKPhaCPcGY5BqZ97ZDifrMC00bIwZHaBlYN\n",
       "5uDrZ5nLHb7kcLovDQgdkq+fneQW64FTYZMdAEg+HOH/bd6fpBAssTNF3/8zrGhMi59FjSAuHi/q\n",
       "P49cNx8+Gfv4dKBSF1WXxnuATjQBtw5MhWwGLCEgBOtGn86ijSVO00IyF1+nJlgrUswVk5q5NVHL\n",
       "uhOQanWQJ+RCLe28nswbM6WlvLxpZ029XQ1tkg9nN/FWf2tGhKJcG4XcY+nV6kDZ3J0skjVy7cJH\n",
       "FWicJnuB8p9p6HOygq6hWhgZLJwAR9nfj6JhWwPOZzihgFoCVJl1Jc2p6yPYkVb9PXH8LI/2Anbr\n",
       "mCrgdeLMFI6fIkhRfNIaCSjwN3xh6RjvIf9zTgISNoYsbK6vfUhN+575qYxNbico8N7/8JshBSkH\n",
       "zRlA1BkJKNluh52w5+AOBJGnRn9n+KAXQOFmp/eFvS+nWoZTZCYvzUVn3RYnfAp4HZbPCGNNm8Wv\n",
       "cz9kElhISKDzVvsR4lJx7TDAZOftyx1IvEQ/f8jB27GYc8SrMJLWYjXLhqyerkP/gIVFuXPmLaL0\n",
       "2UKkPoOBOvA+Yss4rdvx5atDy1G/7Wg15Hi9s7SDS22G1ucS9dkIFGJ48pUr8ikDzvIRNaU2Abwk\n",
       "Br7QYk3iKerhFhCommL8p8Esd/d/bisYFNZRQOVryjqVOal9rEnmqtgJe53WWIac+IZKy266Icot\n",
       "LdqhUfts2fscT4n0902e2173Nqtiy35D3nDozfuWOY+zKN94wIZoHCiE3Uy/t+B3/ukr+u5qSZsq\n",
       "zLUD26LCcB2kuyFWoPTEHsZM0yMzlFdoRsOrVPiyaY74bN1vplVL79t5hMfzP8na9/kSTYa+Gc83\n",
       "WtCeou7vBUlsqwexDfIazTva7VpzgV2trvohI4RpBxN9MsEbqoYZdZX7pTspLW1Ec/SFT8SpGgRD\n",
       "HeoXiimkm+6TjOyUDV4erFeSKKXpcGY81zv9VL0MxLLA2GgYQleDVBa/DcVVwFW0nH90hlkQ1rAD\n",
       "QV3yu4irjVH2ot9CWilOexsXhahypS15ibWkrOkF9dgVtkRPcE+ZRffDjftkZnrLmXVofYqkBatF\n",
       "RlWcJg08/hfPvsq0NK+986xluyN8kzTHFg3lib+CjZRaaXKLV1e0hu7HN6waRDTomOOit5VcQpcb\n",
       "EH600YK+YC4J/weK//CDilf2/E/+ynJxs4zxUV7jJ9Im0u+3jznvgBJ8rANDHcK4aww5fneIsrFC\n",
       "yokJ9XIMj9mFcdIht7gAySpPmTtPvxj7krwzbvEfoXMRUgS6CwNpcs1o2pSfO9CHcNCSCkWw8WHY\n",
       "nKvKYfSwVAnPALD9iEii10XKlFbgJ2Q7r9UkOOoYXskp8lhwQB5m4iQmAWr4OmcCTcPsqXbJvTaT\n",
       "3nYcqGpSruO+FWOBGWkwV4bFPBCAHYp6ENUyzgpaf5Nf2Afb9vu7HPKVtqwJqQQZhk7w/+6GcSjY\n",
       "089n2G16HjNH5gmSHK2uS1Hjmofja2Z6qJAxw3EJV1alBrzLaXYUyLxt10IoZt8KPFREft1mHG49\n",
       "c4tp9/bRrl7vdMD2pzhBN8ueg8zVn2zF8PuXdjSNBkKRd4sCGlF1qKTWWgmH1lpTfOHslrdq99ud\n",
       "luvmWGguBBSox2PDQaNyvOTddYDiXrzgmlHs33SSlIVpOdMgfpHBJdqQKH05akY44f68Fop8dCoX\n",
       "gDMEcNAIDgXGfy9lXRUAShWrtE+mLetVYO4kA82JFpVNu0/Hz/j3DlcNiAc1tXqB4i0TY63LNXCP\n",
       "IEx6NOOP9ebZXo/FaCn4g8kEkLc1gSSRojhwgDj2zr7A4K+a9F69Y7KqQRsn7H31s5uaox0s7reX\n",
       "Jy3CpvvTqaHZG+1QuTKybZvovzH8/xC5vtMEQGg1vyd0pWm3CgzcKF1dRC9EovIHluZ3AFtQe+wc\n",
       "DM702HSa8Rzrq1yHRa64B42QGWILG046QKLnjqbBmg1tndn9Dmg03C4dgotw8EXsgLfzwbuIQDqX\n",
       "47V/lPkFvIwXSOjo7d8I7XfrLWQS5xpHHdbsDt/TcL9tuCSvgdcvvavpS8CSS6RVlh6Gv9w86I4U\n",
       "vOtHtzCd69ZzQckY3yAeGDCySKq1gnqNeoFRelTSYDCLHmBG0tQaKrdnRnyvrPvJmvEllj4883db\n",
       "nmCp0s/vSPfTjJdwq7ig3xuQc9CA7uV44F+V9JT0uQewk9K/4SX590Q6XYbRZRkf6gzn4cS/osN3\n",
       "bbFFETGi+seI3FyazVRXHKS7bZ3DQJ9/JDZvufgaUFWkcwftSFjwJ5kgsr+u06ChWCXH7FMDkGCx\n",
       "COIG9W+/1DmsRkcQmXWg4GGTnoNxESsX0HSMyqGuiZDCQhyOkHXh1RNlS1KUWgszl7n0nkhBHtjE\n",
       "zRDjabdZIshADCUYvaMUHISHjUrhJgvCyN01zOz/VeFtdtpQ/bzKPVVTgCey2NBt/MeNvzP0UjzF\n",
       "AZM2CoMAAA35QZokbEE//rUqgBx+YcAJsYNTR+fO+z9zFkLbAlZyLo11Z8hC0Sf1rodB2LDkf4v1\n",
       "kSlo4p/FL9OIhQslYEz2Q+CC0rW9XuvIT6UkSS3Dd1sV4XbYZW7oMOj8nIcX6jdpWwB/azCx5qtD\n",
       "DQR82hrQaiAgPQyktzwWIDQWeOfJrTvq7dDM+caekSfoMrHgVhhnGCTr5IPw4HoqVEuG3ue7SuUH\n",
       "WD1d5cswkdZZX/m3qjuio9D3zB5qgIKTk0tstTgTxiD+b3M8LnmweHg72MgEZqxN/S0VrMMt+hI8\n",
       "PqPTctJPtEB9tUBvwMDKje5OFe+ESvt0f21Gm0uA4vpMhGfRYZTAl0E0ATN24juSJiVt6bEBCNeK\n",
       "cPwpALwIbz1I7WgAHKcEOvVGk2SMYD7hM4kHHuoAMtlhcuCjHDp5GaBRQK2KJuVR7SBDomEEwue1\n",
       "egZTPlRhjjSAo2+O3E19Qh5QTqLzTpDudys58OH5ZPaGS1pgeAcX1lxgzqjq1oUpIT5chlTvPVrL\n",
       "8WkzGMOrEBeArNQwj5vppSYMpDVk9jmL8aL+9fNC/GGJq3D8JnqkkYhUHPxprLdGyXyL8MXC6le9\n",
       "4JFYvHwt/nSZgEdfGy8Bkw+oQSwA13YATzTQPNFyWfi8wUl1Vb13CAyt5ZTgWuYfhY09v3Wv07nV\n",
       "AeV9F1/r9j7MH5ibhVgDbJsOaJq3rCz/gHWpqF5TLWE6CThyY2B4k3RqL5Twc0EUv6IA93yGWcS+\n",
       "/G4L7VAO7a6NgUel/LBrsbu3pqimkLn3zRv2nLYAmF9xDlMIL/3sBKr4j5279b84Jhfq8TeO/cMY\n",
       "gEnWXL0K7bQNo+Csdbr6vwtVTj29eafKSw3brFGxa9JTBPcbDW2QxUkz8C0V4FSjMvm8S/4JLHe5\n",
       "8b0GftPxTWYFwMqCUrRnUvhopqirj5PcnmiD2Kzy7AnKTLFxIjo9W7OPLE9ovtvCXdg9JZFcvwJs\n",
       "Fm7MOUOQJrtqxfoCDz+olJQWVi6DytxGB1+vwrMGUJ8Vh//Ewc5R/J8tEP8Dxb+wrDJc9ff/WWQt\n",
       "+/I06Mu0copImglZ7ZRZsh7lnN1975AEXnN2QGNuYhJAA2mv9+ESSo1XEqWBDZevO1k970erGym/\n",
       "HMso1wK1ujSvUkwaIsQnRw9kNF0kHUQVMKnr8D0TeTU9rfGy9qL7kiU9WGa1yJSD8STd/ThJxDsc\n",
       "Tb7PdBa5jBvs0mOFgO8qHLWrceBr0W5+jarvunA06LYrEBtvK9Hac4N6eGn9Aag7FaBjszOM9hJU\n",
       "HyUavvnar0hDfY63vP5qtzbMSPXcwn9s8KuN/lHObSKS2USec36hOM7Dz/xmR2pYMj8d9gWtEi+w\n",
       "BK3VROpstnCWez3R1UHjZ1Sq8bLk+9doLj+XC14Zo9v9SZxgVr4yfgg5LAuEuPNweFSSBrQcGz+n\n",
       "gOGXPPK8mjITfW6WrhTsL5bsbkB9xRr8OgJQvlg1ihawCCJtyuusHoGkhlYWauhRLPzU+ky9WGyI\n",
       "Zmsc6ccOz9O0O4VIncJFL9GhmeKpYgjqBbKzmXGUbS9hc0REFg4bjlYfRx+K1r0PzYtwaBJcqcmZ\n",
       "Dox1g8vYdqDnOZAQwdASK1H/SZNv2FcxlSpnRXXUPE3SSQ5Fr0VdAdAz3rzRzP+9gUkrE9WzFBZE\n",
       "cQUYTGhzjTfjW/N1MDaadajRj1s+OwzfygDpZvhAwGEyu4VBPTwirk30+Vk5S2FhhEVkPu9Boanw\n",
       "mLzPbNE4baRHGsEdh4bx1gTQML47lop1zo5AS+newpzQtzxRXDFS4Ogu28ud8CTu2lZvq5fkOV5Y\n",
       "LdI1h0jjEkM2elxAcG54W6hjfpcPcJM59cyOGG76BtI4qqmvzZeHe0CJ9bpDewTju2AtJq1WbTxr\n",
       "XIevMOPLcRTdE4LKbHobx14lZWFTs7GdPsAflmUww0oAfT80XH3KfEWpeZuE+JS23cDOKUop+uZd\n",
       "b6sHN1zCH63YLVg1fzZWbLg2enENZjiGo+4lQ0qXybcf2Q0fsjS7VaXA8OiLHBCjR9HGnys9rcbm\n",
       "6J0FcyVBi4AJi9cpdKv1Yj/EBWIoheye3SPdnVGSymo8wR8NjYbx7WtdAndRD2yvISDCr7s4675R\n",
       "3GmTle0oPxTUrotCIZ1NJEZ1dQockk1ll/9yzLu+W6d/vAVcg1e4WM6i7HmBvmM98ihmKnNWtepU\n",
       "ZobJy1/RylqbXQo6S9itf38k4CDntoJOFEAHO35j9FFpOsZJ5PmQ0MmneByBrmUJAaoa9M6asXOB\n",
       "xyRPdI+dxUdpgIMkT5JsZ1hCq7bvGm5wePSZUPY0a6umjLTT1H9Y10T4KzDmyICoZ9pgNCtsc1dg\n",
       "jgcok1aa85cIbQyvOUmnD9L1juPyPvJplLRV1n1pyiZeTNamu5PsdkaVfOX9QQwY+Z44zkywjlO2\n",
       "U8h0Zya6QfNxIvXy2jKWQ6yPEEROneTDrGZ0iRaInhfL5h5rXZp2R9496Guyo8TcLg1Y+Gsk/l9M\n",
       "fAlwnqo5uZRCPaR7utT4rbTAnvhPKgtLaVMgtdulUDv8QxpOgFGla9wQ6bgegGnqqZ174gke5mYZ\n",
       "e59wqI5SXA3sxvGfqA+Wk9gcBr/SO8GJDuKllpXb0RNgsUvlbmQuD2Xr7iJr6IbbJEAKri52g3zr\n",
       "Z46NCcnEXV9fNpCF/FxiGG68YI0tNAC1WTUhG1ZXJ3R0Sqgyosv0xQ9G7oA38JQB4KN4/9L/K7gO\n",
       "8wjZLymP7Q8vtXX3U8wjOOkaBKOWc/JYmvZkSCNhv5SnYgfcv8CNZfOJenx7/EMw85MP9I8lfVEK\n",
       "32Dfzl+cF1uoyHLKDfCA4lVKIT2scObbou5YJ4VvAOB2LTLp0j9rad8bnJmr7DXatQkmIUpfofmy\n",
       "6uWTJ7VUyq+g5m4maWAa+ga6VVrU0JPZM7OyF4X5ADQweEfxSDDiHUT55U0t+mvI6zLoDJlAAoIE\n",
       "nCdOmj26o4yzkpy4H1bF8+w98J7NPhfFR7Bcxtr6yVCxMuwNmKDqU7myaweNy51v7bqz/82FnJS1\n",
       "rVfwvJQuWdZ6PaFuVVJSFxJ6vO0FazT/PlkJaFeki1jGLc75TwUJMqIFDFbN9AmBu/1Go27Cl4MM\n",
       "S7K/YfwKznffAD98swwC2APqp2IgaY7OVyy6Ox3zC5WT0uw7iq6Cb6/d4zXn19ooKaKHszeH+O3B\n",
       "6AP6eKj/vvr1cI7paV/uWZrTVf8y/s2xPmHetVxbt22kIawmfHw87lJkuAkdtBmgA2QSODOpU9o1\n",
       "tVwNJutEMGu6m1IWgVVmLaZLuIp5OVX9NkkiMTCjDOB+X/kP8C6K8ZOKzGFwka3DRTg4MAkciEpT\n",
       "jzQ8TuikYTGse+iQ9H9UmafPnj/ts1ad8nFaSjRULxrnoJ+oqZ2syVLIjNu4DcsPhcxYsT0GFsxt\n",
       "23fzcYY7AnoF7emRalRTDqOG53FmkRTJK4kFrkiHWDuVm14OxM9OFt2FJUnafmgLhFczZDojM9b3\n",
       "18VNyvFvrLFTdbSfdSP7hF6nlF5+sPDLUG5xsmwjEerK7d0yyTz5Q0Qt7coVHxuzw2zvftnjdZmm\n",
       "cZ5NMGKcAssetQCWvI2deZXVphzggRqWLUJqlkOcoo1B0zzmp6rZ33dkuBJFlBTj3hysLdAETg3g\n",
       "X7KNpzYCXDlbzovYubEYJ2xyeP4j/7A4V9UB3/WxdtJkBCG5DoK2pNBmsLfWsokuBagT6B8t5Bq7\n",
       "FdCYoZFkw4fW86Pln9Btb8Qi2zC+2nhacLLbCpSCQjqqQgONalUxNzyudGm2ZBU5Gni59wa6BT0O\n",
       "/1Ew6lM6QaonGQpBTtlcIyLJ5cA4ZrOy+svwT2G7fUdaaCrjXssa7xqAsH52Xwe25uqQ3VDGumLu\n",
       "vNtkKFPQ98sGuOPT+a6qW56g7fakajHkwLX4+Po0LEujmIJjigKIIf0UldCSmzYyCC1mi9aFgiC5\n",
       "OOaNe4WH6ZSdcOYBnS7BtKIbPqO2LYbXTRhCcC1OimmimGihxiEVjDbl/rrz07F1l6DkyLFITa38\n",
       "SJ2meKZi2lZaGJVPL9r8jryMj27VMJg3lUjXVdGRG4C5cSqcHvgfEsRFud4lInWGs6t4pcZLVYrp\n",
       "kwwMWVJthRxShvPOUVJIpyEKYPahawbI9u1XySNhkw1Som990gQ66CvRTQHW3qkpCjoSalELk3ZZ\n",
       "OXLl/oJ5AVdSmxWzfST01LFxJ9/BpP604y3gK2kq3f6TePUF0duAteGHVQAH22+dUqh2NbhKDmzi\n",
       "Gcb/DfIplPkit8tZnh8LvvUJPMl9H3ERx1xjKrY8sKZGYonpPkH5uXcZ1LyKA3soclCyhav7Mci3\n",
       "ezaEV3P6+/LF5Yc2kEAVrdNt+M/WE3we67++UoSkTML5zISA6xvTbuwyQ1Qvqi5h0kFJt0DTJu8O\n",
       "Zo/LPHfpjsixtdZajJGnB5DCyhY5mIb0v7kWaHcE6trrIZvSi/kBw7R48bfX6U9keJtYom6KkmBE\n",
       "zxAJrqrTXSeFFnXCMHU6OEGM9lkkeCQAJKVZmf1qZqjaLFZRHzrA8M+JxkDpAG2j3FHPgQwRKbbP\n",
       "hiuuzvUzfVhIug3P+HOvMOQJ23oyYIESDRt3t8XD+m/U2sWLjUSGaT6MuAbEU9HofwDYYvPXG5A8\n",
       "ufgkehgOyJEofblAbXN51D8LoJ1tZANui+Uo08BfAmahiEMJLJkLdz5x1izl7wiPaI4UQlcsXzkL\n",
       "q+S2r7zyihtOR+zSBUEKdVp0zsBdKEEodszmsgQNFM9ArzlbgVHV1FyRjeOPPt+FZ2miYAAAApVB\n",
       "nkJ4gh8AHjnuFGZ8joBiP3/W/KS5R+4D+fadjGyAI6iAwqFdDWWJulCI4Tq+seZtcXVirXb1wV+t\n",
       "nYKhB+obSJaObWEyzE9naTqaFaEi41C+aKNtT1YN99EkqQ5JOhuSDWugaEpMmNYb/ZSlcXJdD0Iy\n",
       "CndqCpEiW+xLbVPPRLRpbhbDBHiXVxDE75vwrOeoY1+fVg9zyEfyb+l1HihjTekwTabe7WbPjksp\n",
       "04fPYfidaj+hw9JXGUh9IIpdcShjH/calJuUE20LucrS7fLcdZN7HbnmFTaFQitnJ+4RkZ1oZ67Z\n",
       "LHADFTZPsvGqKPKUg3TCD93yHvOwgiWec1P7PlIXy5MegeGtWWP+afNIRS3KzXs4XRK3gZImeAre\n",
       "udHot6tZPzG87N9Xfd8BtNZe/gdyoALRhD1BkdZ+R7EhbDaq3Qgyv4Z34FKRXcy2WyQrzo38Vj0a\n",
       "RD49Yre9wHAhLDMHWeoRXHu7RyNj2MsjqxyE0cNbMznjQtPcY98aQ+HehYYH85OQdAWaxe7beS45\n",
       "QEqxglItoP1e9hhEnMkjjdYzLJc9fKeBxODkcr+so7sofIjWl4wUf09M5AEj0g6KdwnrgeNaYcM9\n",
       "QPSi5V5CKVunTQl6470hmkOEK/HkYgdlbiupfbdqTp3Cm50lt71atnp5qSmRulTomxN3j2LktOXB\n",
       "NJz74HQ2pb3hGN6iBo45yX0Nb6xUXV2M335b92qN0jtVP4dEFThCXw6V7MJ87Djia3tda3xlIQ9M\n",
       "y2yhlf49Op/CumAROgI3oRQoCP6UhfgT9pIHO2BCe0ImBMdJqhXKkRrcNwjiqiuwLh4wuOFngVg3\n",
       "ElcKPU1+DnI1aG7+7nHR221c83BfXpQTnfkvTqrF3oVVAAAARQGeYXRD/wBC1y4fh2r2Ptx2fiLh\n",
       "/GNmRjEOsf/QDDb/QNAYcAAN5Gdh4zXVhT/AAApUcKJ1fS3SMzvVa+Ku8JsQc/pvBQAAADkBnmNq\n",
       "Q/8ANHnX0AH7ktyIkivKVI7Y6hquv82Wlw6QpPGaogFFQnq8ma7HczvPRe8qOunXJpe0g3sAAAKQ\n",
       "QZpoSahBaJlMCCf//rUqgBheTAABtF7Ov9yGupTGEvyuQLPK9eVebKl0u1yPR2Zm5kY084/J1Ao3\n",
       "pJuG+T+rA6Dz/11nBueuZLTk/ScDD04DvO6v3xSzkxB5ij6Dbu4sTPj6+oA7V592NvBQT0ednsep\n",
       "f3oodw0s3dTyoCa+k7uijGJu5PJyrK4ZHq2g+O63unFl1u7oBcviUpnJ08Au0HlCyngn/4GUPEw/\n",
       "HtgRennbeS2mUw26KInRDA0PdVm89ZSiMjjGCh3FQfRYS85aAiVIWcFCVJ4a6FdtJhwGszU67zUN\n",
       "LLrgxq3c7qTFjPnUe7X44lLTNxmCwnuKnCraByR/7gOqdXlhdMKID90Weg3+TQaCwUhJPBDY0GQA\n",
       "sJkND23syA836/fmLMjIWVO3KvNWQzW6r6bV2b/o/CpoKqHzMwWs4JL87aPsKN4CZj5W9xrA7Vt3\n",
       "3ppsvO6GzMwMZaCwTNTWR9rYyGw0NaqIpKFCxtPUqIEDScY4YfYt8IYiDc+43g3B6GcEEyTajBWf\n",
       "yojropyldLShfAdtpWhn5rF/livKLS7sfIsy2MXQR0TQjQ0dKenkgFFquy9E4RvSSAeEvzjdxt6B\n",
       "w08KidmWGrByACtn4SEVGg6OOy8kD7K+PTOqAFSp+Jv41kprrhG7nSF5/15tn8Tdha/H2mdnfi7s\n",
       "0epyRRVhAwC78pb3DNi2qG7gnU25PKtijaQXFz+RVd6wyxIThwGySDdZGo5QLxgZzImA5AHJ6+6k\n",
       "+xqbJWUPU5t/PtEb744l68wrsFoiDYLl2xktUEhjbw9BoWMoD0/LkOSFCHK4EdeVnqalTNSvYI5S\n",
       "TvdOyknmm7zzoeS0/cSGrQYv76d/0eM104oAiIEAAABMQZ6GRREsEP8AHNv6xsyObkXkjLqrikNk\n",
       "w3G9sL3B9xwACLNeg1f9zHoVFi35lMLCdURi6EHaOaIYNC77umbkvyHiwsgXkkzE5leSPwAAACsB\n",
       "nqV0Q/8ANHdKNPI4rTIC/WpkCxVcsFgQyn3eLY0kNOmLYdv0mgUHd8EXAAAAFgGep2pD/wA/PYyL\n",
       "E6ZJ+6rPSSa+Sn0AAATmQZqpSahBbJlMCCf//rUqgAspUfAANombtvLXWEUwVAA5BTf8Uv/wVZOC\n",
       "b0+XjwyVQgnP/E2wygFMgKrv/zRo212XRsJcYiDHl26pWqCC4sWpFQEZywA/LatQOsCjUUkjHjPZ\n",
       "6k+esCJMN29+1x8cX5h85MwT/5FjkPk7AHpQvz6VRzf8ZiCQZX0S5sUbc5AeKycVegjqKBL71lT1\n",
       "6hLzU5a9KSoIhK+L+sKi0JyGGTYjQMCfimFlgnARfO4Li6ug3IO8bJHkPZkF9tiARmWC4ExhDvH9\n",
       "iLJJCQcmtbJH0iwHkvFkdaZaHivFyJjn+QXIzPiHgJJhAGBoCm2SVHpOOWZYpp+T9ivI4iA3nnge\n",
       "FZcgB18SqZsZwxbO1kYZYNpyYmokUTn4zupkawG8XNLGU/d7D2E64hLicseVAM5I6U5mEQqzxpmg\n",
       "WZDVnXn+170j+PKuFoAp3jQNyJ5b2Way0YIJwHkjPAhjaZsHRdKlwCd1bhmxXIyrvUH8ZrT19LNj\n",
       "TUKft6ft7GKoz5pMGlXtp3KlpdNjYwPp6G2Jbut+L2znejA7xomxGjidyiyOkCvsOdjjnIXhxIYc\n",
       "3ereSvycGMs4yxdc2NjYPBohk32To/ffL53l1qg94xvfvj/j9+UdGLZWOZ6M00291cFpnRbI31aA\n",
       "Qe+521bkUZT657cIIbqV/FclGXu4+93V0mA/+tUr47NiEnMu+8Vi40A9priMeh03KQ70CHOAEGY6\n",
       "tjk9B2dyroC3LlvwhEYg69B9OGjhQzL8SeA06o4GKx48KyzvXDeOV8TmPkT2Yli6xps4fWaG7roo\n",
       "zNnK2VcGIAZcZqPRsZ8EYvEWlwW0+Unjjekq70nX4LVjojEznnaOe3e0+cyXi9Hu2yPSR7z1oa9p\n",
       "ya06+W3X0DdPoFzUlJSFDfJGdPdFJ2L5mIKinXiVx9TWiAVPwFEvtD9A1HtH+wsPeyE0tCVUcAx3\n",
       "jYxVOpOQJANhi2pfx1WQxuZPqQuu7fWD5/Cnncsy+q9UvUHFe1lbqBQIJixrLDG2vniPW7Lqs1tR\n",
       "p8xdYrQEkvBLkADrXq29j/k7rW83mniEDhYVVz0YpvAqbXRExsY++dy0cn6Ybqxufn/goQ4S2U9k\n",
       "URNj3UUR74ACvcva5WLH3fwHSZ/2DJfVVXxMwIMIEHAvH0h5iCnIdgfNLleUOPEowmU1ZTOsrSyR\n",
       "UUpHDoM0vqa64MZa4MT9RwPpT4Q14h5udFvpsAWwV2DeSbmmSxbHD5dRIRZFbilTJbr3CA8ZPjI7\n",
       "NgNNtehvPK/gYJbCmutXow+HGTMmnYxZ/1qcGwo+/G/FoOTHzuBKXgNc6ica7QKAqmFzLqv4JfQw\n",
       "s/rxqgMLEj95Xp/sgADS00e4ozy03sW/EVxJ00AWrud1ug2UddhmVR7JMWRwys4sJNvFN25/haxf\n",
       "cmrNAAzPRTuUIvh44DKyX+/KyKllQb/8IfFxs+RPDtX/nqSy8XHiHnPmlDjXSBnCDEQBNWTsM2wG\n",
       "d1GDaEPSgBcvdKpVjEkk8TEfCIHdVHGznmePNs79qKTU09tjj9IwfhPVEefnz2bn5wTS31dGqCff\n",
       "6aHPHbBM1nVebj60liVZD7FVEXlTyOVXR2jjbQsyo/FV14RG0jsFGmPacz79uHdlPRK7NUIE45zV\n",
       "7SXloGdZ3RRkS7hp12K1AAAGf0GazUnhClJlMCCf//61KoAF4wI4x6Abb7dXbnj8seqcyLNu0+nC\n",
       "XiQtKmqvQ52uMkVQGd8po/asWJ47CtuDsEsAPL9yCGGP9xLG+FT4jS+S17t2SbCzTVSqId/+0wDU\n",
       "BuxXAlFbWksJAd1VcSy6616+bH41pPQMp7u+Moj4f+2gAWLX2eJaEEP6/1mJfhwmFEYcZVb8FeWQ\n",
       "+t8KCjaRO9Xza/am+oxSZzt+Sl6ifxtRZ1l25RDnF21e+Fwz9EbhAijpLsQ/b/qceriYFEAWCWxM\n",
       "+cjU2LQZ9kuuG7sEbucpyoVoOdOPfyRWVRKe66FUlPpZG+4qktsw+YHLqo+CMlFmSrK+cFx+ctLg\n",
       "z9jhsdP3RlToLqrCnHa6WoPTEesWHbfutfMpHKjJojMCsQB4Y/W4AUoNzKoErLvFTyxc9WLM0yZQ\n",
       "+jqvmTB41j787Flxap1AOHeATvLCqoxX227AGv38//5ufGw8ePn8j5oD//KLUl9ktiT5sl7nRFIe\n",
       "Ef3tiBkPOPX8EKMOLngPPeLpQnJh513a4kq9ftXfIsMYLyDye8bSViE3SchtJgppZCKcB76thSwX\n",
       "eT2OhS2h913x67/qZraM8JxI2rckcGR1PB2DYwBz7oGCUa9tYlFc1roxD9Pm4n/IvjWBRezVXlBU\n",
       "1hdhiVzLkdtXXTANEdfRdMtvBqkvLc2H02hQF+B0ZtgweMi5MKnvK8CuDkDvJeyzaD/rUiYUBK2a\n",
       "T2ZJmpeo38jOGw/Be9R5vZZObr71IZOoESL6wreffEP5iED671E1x3n2vT1eMa2FNvoEihM4dQXf\n",
       "EtNzKn3CU/zGmdCutpowIaK9AiW6SSH3q7NZbf0kDMdDstsHx+uzTpQayIXnYgBdJlSkbF5k7Kqj\n",
       "wnkMQEn7xgiiQQd/ZLZCV0hMfhQz9fm0Mh2Ugplii0yGlvIH1KRWECukCYQgHq1OkvmDcDf//tCQ\n",
       "TjmD1TLjH0JwQDgofjJkRkN6Ub3C6homeWFN4Td9Rnep4SGsFypWy6vKuSZ52N7g4yxgvLXqRJUK\n",
       "vQMJvqI0LqNv6zjAw2kMX1eYx/p6V2u8vlMkXW7Tu4w86iX/V2n9eSMi0/PLoBMd98tndFqsvUIe\n",
       "AJCphNuRiqiArPP20XCsBKljzRoaie/4AGh1f+XtrMz5H8k2baYMPWl7Mxeu4m1t8paKCqKAaC2h\n",
       "IsVVYxc4rr47ia3yWrdh+qJDjLIxnm8oxwVMY6D35F2K0GGULlFPcJVgPtSi/7J/jzXtGA8AvDN/\n",
       "2wYWIj3abXR52jNub//1LCA9inm88ms9JEFnjQbmtjEf7dwzFVUHF2aP/6flP9jDWhgicq8Bsxg1\n",
       "EHWt96ymERlaQ2bfhqPrtwFwCo1HCgOSbAFnMi+qpNyAb4/ljLy3C/ILmgu3fJd9UsxnN5F7Lq/j\n",
       "ZJO+XSJV0MQSgKcMLt+cMQh0LrRBLFG+ZAFt2qiAwZNVullCQrx1yyRPG2ksFQ5rBME3ZrRDUA6j\n",
       "Kyrhjhcaw5Z2ZJZuepundQDSxqdAXSVMkRtcKBsQ7fBj9tIkDl/YcQIvvtSIlYR1gAIeLUEdQ7cl\n",
       "qyj8ge61jdLGGpd2+JV5sdzFpnyQMkRGHjDua4xa+2ghL4Zkap88BznCElbUwNekIhSC7QLgCHh7\n",
       "Twm3DIrQUd9UShDZbzpgbjf2ClBNSCM6dX7rdxgPp5fc9XXVRbvszzM6M3VMFfO6kJRkKWvIWYP2\n",
       "wUOMkqYRYfNarHETEWEQHyt0iWWZ2u1YMTFwKhvbATQVDj8Tac9vQmf+OPiOD+ErwNQ1o1244j+D\n",
       "dpvZOk2QJF2Y5KAmE4WmAkDcqWxrtf/ZFb4KHIacCx7tK6N3n9HofjfpVVidfUOlOyerZijM3XBp\n",
       "7LCM4vUrlfdZZJ8nvKn90bmUYYH6T44Pj91YfPCOh+xRr6f/GT5dohBd0WS9f4LN5U8WpnQe2sid\n",
       "S5oEQv3LkdahyTY+VFlvx6jzfunDwPb8wL/fxeMtlL3OORMX1EbMSPp6+H6/RETsQbjE02WslIFL\n",
       "vR5k5PDA9Reg5cJNUi7P/g8KgnxAgDEGw0PbIY3YY4+X41dFom6Tx2MbzHbkRIkRuvDaGhp3dWjl\n",
       "Nae+4oA7oG9y5xRlN7+Oq0wD8Usxputj66YMMe/WYsmHQfoVWsj+a9uYQeN5/BXLsfe2JzVCN0OU\n",
       "m29/lTgAtDcvTRfSHxqNJEwAjuWlnbCdSfO2fZEAAABFQZ7rRTRMEP8ABz7/L7M4nRYwsuoACG+6\n",
       "Bp3KAUJThcBpwu3PGXBIRBfL9Qjb0uC/hI2OVFRPy8cWPNP4buqHc7GJ8j4gAAAAJgGfCnRD/wAP\n",
       "L+fxM4JjhuKoB9rcs84RdB9f1g8swTMcktxBy6SJAAAAFwGfDGpD/wAP32P3bFpaYlkaMiiOo7JD\n",
       "AAAET0GbDkmoQWiZTAgp//7WjLAAGBmzGwAMtClehB8cy+SD3Q5QlfAiOG7DSeJtONw7cZuQ4ZOv\n",
       "Oyyg49WoJhUOTzSyvPEPgrm5LG7J6dzOvshn8BlDq80quGqikuR3ZwIk6+qNjeDSiT5SI8all1op\n",
       "8V/6dFKuESfWdK01orZJfq7Nkr9V626ccxYg7YTHL7auPtN8Ngn7s/+iRs4INCYajp3MtcrS+4aU\n",
       "tQ5s6N9uRaQM+MJKX9G7YMa19x2Cf72iKa3RDREMhNqVezJveirKBtTfrGGi0Qxde0MbL94vxtNz\n",
       "1OEG+vnFAjYjEi3TgqUjEWLj6PYAGeadZZDWfM7pWewrJJjRG3GyHAj4lXR56eU2Ft8+pY2Xna5g\n",
       "BlcQc8cPLxM8NMfjuxh14Ec+EUA8ZyUDeyT1cMaly0k7Fp8/aQGHyJM/z6V4VLEZdHmvF417N9h2\n",
       "2XHm6LVgE6HlTAgMkj7KMDCH57S9LhVJSzUo/sE6IhxwjJoI8N54MJPswhVWWIx94dz88/lA7gN8\n",
       "9bbdart7Xh+4Ae2xeY/6ZwL3VNvwofTdCI7A3ZfgOOygGb/3ZGRhclL4h6L2oJsp8mJ0Dx9ShhVn\n",
       "O5vqavtsPSeZJaiSY+VaMvKa2/2hgNj5SVBwBfI6ng8nVSxOQGdvjVr94RB/Gk2+sDnUwh+Z//FY\n",
       "V0I8RQm0ozW6xOEZz6uz3If61CJnhyB9TLrnuCjU69EprBQLe7dMLIexNbyA510jEIXmV6KXA4q7\n",
       "tvqeefZ8DM3EjzgHjrjjGo0gjOY7BrVGvFkYW38k0cTBO7U3i2odAkP8shvDDaJtbLmSHQa9iSpL\n",
       "9IYKoFpPgtu/lbtoLSmpojPHRxpYIjaHhILwFDZrVXiskOoGHSrwiA1l5Mxg7UPUJ/zAtHqHlO2+\n",
       "rTEutst6Db2TvL51SaL1oV0C2RCSGsZzdIplIDVhoIInl6vxkp4g2oU3lLaB8IgaRdPQytzIS3ze\n",
       "Rt6WK92nDB0/lm+cjZEjY9xy7vChDgKAwyNIuuOY2fLcaG37jqGA6KuQgjy7/8xBCRvHUc4IEtyH\n",
       "CLhWDMaq5Jv0tjajQM8ILsERU2NQRKUg2BtW3pd9aFlbNpx+wrUtkzUj64XNx50MBrXGHZJ5lOC4\n",
       "cMc2RvvbSXvLL5gY2W5ivHmbDD9RgrTTFitffz/RBAm9AX/8k11JL52j/jQiRrex/Y0NTzlCrw4j\n",
       "XkZ3IhLnrqpjy1Egvc5MOl6ijN4iSWSWHtF+YxN8iOdOLqf14twgSsSRwp0/NuLNCuSYIgprd5cy\n",
       "y5WhamnnfeEb79x0zjDPP20c0gACGpZ/T12OHqWfoFoyA3KUUhsLK64oRdaF+4gn/Ff9+ESDVYoI\n",
       "AdPxENfvlQpWBdy82HO63YzRhPW48RJMkwij+Q7kIc2yYgx4mMf2uMPhYxyeyFD0vPbAY4sOLyUp\n",
       "sn8qBBjVK4moLj86X3jDGsL8TJsxuNfBAAAGekGbMknhClJlMCCf//61KoAbRXURmJJACuKWZegv\n",
       "V90YhW3riSeYH5YPzCpOQYYfQRctyeed4SMvb3/yrg1nByDTiwfqnkGr2Gss5udyCBZ4xidzpMav\n",
       "GeSD+Y/oHVWQNpv/NsxUO90KjSpwhEU0bb6cDkopBEtjb0tSlqeRAua3sB/D/j8VdMbGn44E4vu2\n",
       "NK+jr3HzDEx2uDALFAbLjyzG9ksMdo2Sr1jO4BKQ5YVXg+hvSXQoby69SYpr7bJxlYB0incU/tdV\n",
       "pd9Xjlz2206tSFMqyY2CjXtrJWZFc9xsJTuGLvcPsgrRy70Wj6oHlGBfMc30HPqGSXG7FGSV84+H\n",
       "Lq/kqLVmezhcyW70nu3z3wyZazWFv+7EOHXx678u8lxJIjYqAvlhgZXR2D8SD8y4xPVGvvZJXK1M\n",
       "cS7sFsSZHl1hLU56IhEDNSNPd0fGv0jyj0wOsB4gZfZfOG5iVjY7U1sKflbdREOP4W7QrCvuk9GF\n",
       "5Zejud2HDk4r8G2iMbCEzhR2wbIHuVQIKhcb3jelhw+4zOSWy3kWsbP7CkwSFMXQ3rV9zFfzYHiA\n",
       "iv9juQGHUOidI8M7fR1u0KP92e/2L0iTSJaYhDZZd4mGP6rC0ry/mkho2Cl4qgnrT4ZE3gd3mHqD\n",
       "1dSuYrKym00K0l5N5CE6qXkE4ohrduOjantpflm6Ax1p3lHkBl9N60HnxaFRS3goNDlvCwJSe0PK\n",
       "umXYSNUWTZXMuyiyxnoNwtwvF3tWyBtReO0LMVUwJ2q2qEm2YmbiQLlDEuUgRYANtMKLJakVmN/d\n",
       "jZRP5VnGLN4D2oqYOF2L/RWOXSx0qkIY634UkznZLoxlDoe5aMoJi7fv222QV8pD3vv02Xf46hS0\n",
       "QKmK5O3bl10MnLURYwBh2N2fLyJIbG+G3YVFjLkKYrbWNXiDh12R+01oITiqkem5nZJCwTJrIb6d\n",
       "gbUm9m9zHOOZrJYoBq+nrffHQlgtrdFalAKqqlIrWrrvSZZlpPhJCeDYrk4UNcLPzwS8PiWyzH1S\n",
       "3UTPPSyALc+XMvXZoAovGmIatveAD9GMBzeRi6Z68b2n46IKMqw/spMTc7bHRPyVqsXVNjDU9576\n",
       "cMrLesXqxOWAyXiHOtdjFSuKPRwZA8WxcOo0WFgq8E6fjJ4tdBNKGXQq8EzkzS3l8sau3S2FKH76\n",
       "uqmGO1cFkS8wJh1HT86EPLHjz5VUOOxYVnuWPIANTgoy9TaNnPTVB83xlKlmpEmk9z3op7TZBLhZ\n",
       "tajpUXipC4mZ/iaV5bHvKEshWXoJRBIhZmMeSYZ1m0FPh7IirYYHE3MEAfu3BKZ5oXWXZrA7fAcO\n",
       "W0jXDGLRO7b9p9Nb7Hr5JjAtuB4nHRFdZm+rCgN6/ytg2hkpNFhoGiwwPzx+AbCSDBPsYlmJ1QXF\n",
       "wrQymf9nFWiVhls6gVnnDPcQhNc9/rIiQSaf1fYQXKY3Ou5YnMdlSRdpfINsFdi3xCtuTTbRvnmq\n",
       "psbr99ydUA/M6bt6qR1O37pqycPSROl8JZzlp7BIkxGIeCcwc5DiVoz+wb5eSZdhXtwbaz1lA+dk\n",
       "Hk7+xJIqPvXVSfEDJ5m5I09x7Zk/hCQe8E06/hFUGDJwrqMjBiO4cWTnUbPpa3JdPag0UYi11ru8\n",
       "51xFR9Thj702F+q5mWLxBAt9hqXxk5oUNP4r1d4ThetRxf4HpgRDjCWzqGBB7h8x8IiwSRB8EO27\n",
       "fMRknMA70Cn35ozhGWxmMyl4ddZnIcVE1yrNr528TriQTACLjbKawQlgPQ/gqIrN7yMwPgODRylG\n",
       "BsEVgw5Kjp/Qbu4AVVO5K/WN3c1pLWCwS11v1kkHjzCZjof84ayz8eAcEjoeFTleeb8J9gAlQLDh\n",
       "qPr/8+f9MlGyFQDJyK1GDkDj26p79Fh5Ic3+E5Boh0JU0JMDkaUgpwwOxQwb0wa+sKpFBCRddDiB\n",
       "jxu5Gbv3lilblGFLsMuuM8oDChIwq/tGfTIkn70twOVfBvxo55kxOtPlRWVf7+xJDrWg6roGSnWo\n",
       "j+AcUXSfuJxMM3ZbrO2aLd9JtN6MIIuzNdKOiRIaeg2zeXG/tTfwQlQW8ze9w6XMP9HQF8/Cgzfm\n",
       "XuHuGt9axYnNKUd+0XANFky6pKm9wvcZCnOm83FK3K3Dwdep0KrkOyC2yRxIzBkInrSuSbOXfAQ+\n",
       "nRWHChwgFTRWJIjPN3bI/6NBUTUMB205T9kpQ9UGgjWBAAAAX0GfUEU0TBD/AB7p7iFpAAtoN/3m\n",
       "YjQqJd16lHUdbAaj3+fgEJZ1I3Z3kEuXLtGtsFZFbv+x8nfQpQBz4F533hFFJa7CeEFV/WISd5pX\n",
       "qoCTvu8GgsWJJVCwIymxnQ1IAAAALAGfb3RD/wCff50mTp2fle6z6MhjY3/P4KrSCtoUW6Op0BS5\n",
       "CzoqOjPNWOqAAAAAIQGfcWpD/wCfTOXeBYadTA0/T2jnpY1sYuo+w9xVGr6FwQAABNdBm3ZJqEFo\n",
       "mUwIJ//+tSqAGj8eCACtPECeQBnd0ReztWRVN86lSmfORNCWZ5BJkrFkGHfoVYnQ9DQIy4rUGCUx\n",
       "eN823UtG5CiKdFOzXhTsYfKuRsJQjKOEhmGojhquu/oxru81Wq5JGY607LYVwQwRvCMI70Rw89In\n",
       "lUM2e89M/rM58mTv1qwPzBCmS+tB+nqBJFf9e501zt1sA4eOfyXeu/Wkf14JD+xKu/o4tverHkP9\n",
       "D1WFj+Cgeh7lwYGSFoN8WTzuKSjiLoKzQY4/urDm0mEiz79RP8aI+wcDlnRtF9GXIFLg2yEu9Umo\n",
       "HtG5X8G5dh7sbczyK/lu5nEmecrqF2yDcZNSAttbLQy6TMeNAcCnOf2ABvXlLtHbcFVjT/uCKfLH\n",
       "EpMWg+jpSjwwOdWb0FWa8DJ/8iZFSE0JXJUEy/xD/W+6iLuRt6a8vKtYMIwe79YbZfhTrHGSlGUw\n",
       "9GXwmp3H5gq+kXHCbCtZxj56Xl3B1TxLSrCQg60uY88/FtDEPx2BcrbgXeX6wn7KtRHmkBb5t2KD\n",
       "mXHZ//EjOnCqkJjMkUmChJ0pb5t9vz4VxiXsifnaBneSSYMHHTt9rZ1bxt++1O2r4QEptDZpzZyF\n",
       "ezK2FyLfdXGjIkuoVIRqVYl4WM+mZRpHbCCxVVQe8O81b9/vxpyHJw8ctQlF25Grc2cgRC5bcEUz\n",
       "AV+bqguG2/B+/Jl5PEod1fFAuOJernni31T3Hio/Fsa/OOgtjyhK326D744HCc2Hkc+c2ArbkoSs\n",
       "ZtPKX+ydOtY0c0soq8trwGTWc8EY1o59qEKn16lyBa0CkQiXd5SUObW1f1koxpWfsDxDaku0Wf4h\n",
       "GzLakYCnEfZxHWwjIG9jTznne1mAGnU/TudTUlD6Xk3YKkEFhEdxB+kxbvBKzOBQ34bLBPXCWr8K\n",
       "5r8/qVAFs+quxwUhvwyui0Xu+RZj386k++E1cKihaLP7jOmuvmMljhFE4gWvQfZzUqyJO8W+E4+4\n",
       "/DqdsDlR+3ca42fQpJuviQOjeetf0ha3HEIzB1dIrcMRXInZhD+BUSHd6FBjHl6N2gtLGl1/xwDV\n",
       "vpPqZ7JoHZy/vYPd7K6cNxUe4ef7xL3o8kUXUI8dmk/E639AUwCFjzfpf/3wo+eQN4IREGkl5T1z\n",
       "km5KEb6mmyIxu1P6UWtbOvyVi3nnjmbyiarqZ0S59fKm6D0oCtDzoVw7wERK2fMP2Xb3IK2JcRNT\n",
       "jh+vWRssr5bmOUcFeFfp09odtSKSLaR0/P+V8sWAe2Ki3rIH/xslSDT+89KRx2DffkBqHDoKEmMX\n",
       "2l8N1Aesox+H3BADOB1IvIQZzPWbFI1crFUHkaLc+gbhJVhwZzh1SNPaxKhKzE+R8RbG66uGc7WQ\n",
       "S+dg7hel5eqOU8nuKwQ6FTKQY+iJPRSzTiRB/oyq1yCeHIvLnR9CZtLUb8O0GRo4RdLFDZDtvKwK\n",
       "/TnWxDgxcB3d9SubMkDPJbiV6Vr1DRMRmRg+fhUrdAyXwrZAsevlan51UE90NcHYQ78elZN+5i5+\n",
       "fXpIDiHJ8S0faN+pGcKFgcniTn2y5jaSJ3pv9SUMaKo0+6zIXNB2qfhJSX54yptMOG23G1NzPLv4\n",
       "fZdbAKxsV2behwOoJpHjk8FU3vxQ7XfFWTBuFN+rTIYgO4QAAAA0QZ+URREsEP8AHjnwreAkxUCF\n",
       "GjodbR804RqZieGPB8FZcjuEJQriuhN2EPOrgR1MLr+XMAAAAC0Bn7N0Q/8AQtcp1IWkbjA8unzY\n",
       "m93RaOcBycTsh66hnsO056EevdwB/e4kTgkAAAAZAZ+1akP/AANL48OqjPrSMz7KtAdTpFQQDAAA\n",
       "CYxBm7pJqEFsmUwIJ//+tSqAFhNhxXV2R4u/aAF+NMuzRXb//HfoRX9CmXTksDYvOs+UP2iWKxBu\n",
       "L+V9Dvc8tWLtv2ZTbVlCoBKpZ2YOZTPPa+dl59hZhv41l67CAixe+rVT5esTzXA/BG15ER4k5SM2\n",
       "zjVlX/xZa4YpzX/X2uHHAJtgNm4UkqTskHv7T0BlmXL6ckwkGDdHE2p82nXByJBEOvw8DS/XZhu5\n",
       "DEUcrKh0VD5SKKEqBvhHRYf5dnjVwyk7P+BYAiifpk8Uiyes7Ms7m7h8QrquhudZba+imd9+SC+m\n",
       "YJZPRdLRe21LvUihvkOc0wnx6Srys1NkHt0tld84axItkFGOSaKnfyuxWJdKGnG0jyqEHkyIKpEi\n",
       "e9oTqRwfTy316sgXwN7II3VhME6Syvgv4sKmFOn9niQVsdCfmtEKkDiIyTIjyWuH772gynsoNGAB\n",
       "GH+0YyX2kVUVyrCQ0PP9RY/rl7C3R24rpehbN5Q11LnVf0o01pd0ZNepA9/Uavjx8PJohk2EL38L\n",
       "gK75gX9vYx9TeDPpJMfV0pgHIxXKTOgAQ9eUzOoHR78EraWfSRRUl/ucN1okLMgsOPL/dEPWGCFd\n",
       "nB1SwP8N/xLhv2X1YNqCjphR+p8/Vuxf+uY5LH/nF0RCs2i2xKP/ZS18tZhB3UwQfpIS7Wj+aWi9\n",
       "JGjS7xT775eW+B7sZ+j7FZMpcaNeDHcRRw0iTJqwwFYCJOYU2KKsXM1LNHUUEN6OxwAB8u9Kyoxh\n",
       "vUjx49PPOAIs+WQ46aVfSgzkdB5xDb7zoTSV/vTsCoBFutlzChPYyAKVzxOmwPHk5yJxsi87wL51\n",
       "/jvNK//yMWI2yKXhEypQT3VLCey2Vdv5gbGciUqF1/P4n/8TRopG3tvYx9WCPCHRcJxAzo5E9mtx\n",
       "qPz+z0uwN4uW6bIl6d9wRig/4U1HMZP4R0AXVKP954NHdVpGOoRJfPBlM2rVo3Lplw2XMHyOSZBD\n",
       "1oRpmkUakN1G5qFaWaI8XUKowxpaZamZeLE5g4UV+vKN6/4YScAM4l8bkRbVJVd7shF2A65c3r8q\n",
       "99+MemSDs+hrY6/tnYgxvLW/irKy6eC440P/xXv6jA+BymtKCjByM1pzyKu6CXCUJWb0FpIR1MGT\n",
       "Mx7UmBL7OVUinUZkcQ2TGiEH5mpO1Qjl4MPHaozqZBu1y44Vsfa+0vD1c7aPpsQlhb1Me4Jb4Wp+\n",
       "LpuMCMY9ngwSXr1BCGC0V8bbvX8/Mwj4A5/zdM7peYLLecRPWaB2so3ZPYFimfpMpsi0LXPEVUX5\n",
       "iIgUG8tloHgeJvnyFiof4MAP90nMhn7dYoBtbVFh/lTTc1zAQcLh3tDb/h7Il8PRwBI55EkPGsrd\n",
       "/xdS4Ag36XqgEpZ75cEbvUncTMzQiOuL2vqMTtFECrCC+OYNU6BmGsKJEpRPahMjYu00+YJB8anP\n",
       "sVjBCVzF+J1lFPl2pfZLgir3SzGPZ7a1tB1jM1IgnwjsLbxfcD8gjZ0JdmoQJqHR1TLMENeW2ZYp\n",
       "5Pio1XRhBKdLcEhMzbfUolf4+4/D325/mkn8sVNShsZ0q+/SKqm2+5fmXND0Pi4NXMw5gjuemNvN\n",
       "p+Pvr2cmw11rOT6/6PPGQqbmgObpmXCFrwJWU3R85irMlWxpMf/Os4foIGV6zrf9C+5k3cDFKE35\n",
       "yHmUGo+1sCRe6J/ijSFMPiETrRqT4fCXA1+Q+LZWl/xSo6UYhVU3geGD20Y9Kmjq7d1HOTgE1X7K\n",
       "GgT/m0sovSPR/sOoSjqWDbJi4BxA4mo+4ZxGlsOoRE1EBIJLgqNXTURdauCWLcjRwH7KQBYlSXHt\n",
       "ex+5KqB0kbk7IQxY94GAXm5Mfk57nut5p/pVW1DazGZEE3PM3tj5XnT1iPTZYSYhbRil0l/bAEBP\n",
       "lK7L6vs3E8KNDAcyJWtf7XZ6+UC4UyBB8jwg0JNx+JjNMd9fEiPfrc8hDa3Wh4+SWmZtvJ+q324f\n",
       "R5OsciC3b4kKHTw/oD7UCE7hMK4OH8+GBh73Pqzah3tqoqd9PqxDcWINlIJ74iE+Jb5zYcTjYZz9\n",
       "dzZDewxcuF+h4FSOvtJ+uCm+COCoocm+cWvOY8aPGvyhITUOIcQMkPIxiimAvAepQ/TRgXmcFI1H\n",
       "XZueXOdgp1vV7195MXBpPbWNBCvncmZSgZzdU2ENkVpCiKtuiNjQ8ptyXSJSmdp4Qt66qaFbzXte\n",
       "4zNeFBlW/R9/GiIiT9mAqNl9m3Ogv3Jn+bgvFOy6lv11ARqUeaXXOx7b2DSqxLX2ce/7c65+sHAC\n",
       "4FyKRlOAFJAueKQDU2qtmdqd9jKu6dKix+N+YD0uwl9k2L2V0CodYWowJgbiKWlGMFnqKaV+DjPS\n",
       "nfN6Dm+hqQgkE51d0uh9gVPn8GhT4wS/dTFYWQL5iBiYXc6ylqPBc6FVQL1XADiowNrEsSpItFms\n",
       "kBhfQQ57Fd1KxmLhiUP6IyqqBl8UuuE5nQWiIzWmFysyA4Keqx4J7g59VmrnhuIz7qIq9/0tG7iZ\n",
       "zEas7Ok6klly1xL7JHWZHTp2OTBvi8xZ1+ezfCGqPdOOgYW1qUBv3TCslIJjyEfrAUAERxWgCedf\n",
       "rLQ3Xbv7+Lj57o+eeV6xDAPYbVUqiABqfmd5raAVWe3SmXUl6QOtcnl+et1TxUcTwA1+bzkRrB2Z\n",
       "QD0MBH17kBHLwv0SMiMAMKqfSF2Pa3vmNG9MD/MFztskJhpGx1HPNCWezQlvCstTK79tlChPaEwj\n",
       "tSM5LtaX7qRe0vVQpkV78ecSdM2mlghWohTiEKrZ2OatwdLS4KeiHAQM3LTY7WVUVDU+q4HQMBB8\n",
       "ZIYRVPupoqe0PjmLuooCs/UUjctCjS61pvP6+Uv/XvE2gZfIS4vMWjriMlUX0RwkspRqyUebXWss\n",
       "y/PSmLB5Jxd0wOEtCthZUfrFfUkauOLMXfyT8uuCYM3VpMcs+KFqsRXGNvAXPPvn4iP1P57PJE6D\n",
       "hqIYmHHwcDYrUEDCmOq7h66DeoC9fWiaRsXH8kRb0TpARa06hzeib02RPQWxNnUGRlwpgyfX2u/7\n",
       "mZpQGQejkEmt5FgjpN7ZOUUB249vSk3Ge9cAj1xQgRvZ8ecs+xb8hErLIAglxcZVM/IasK5jvSCu\n",
       "cHV9IgCG7AOIzySO2LZ+dyES3/DlLrCrTh+N9Lmw/lqznccOj+VWIPtrCJVzkJRliuWl7hYsbETG\n",
       "UTOg0q+YU4Csh6bauNEJGW8yhExDQ1tLUC1pO2IzIE6KMlnifTSz574qncOUl3/bSlukgQAAAFBB\n",
       "n9hFFSwQ/wAalTT+jbbj+TZUQ+UfyB4pxINhiabad66yihw0A9PiLVFAFu1O/lRaIOVoJ3HrY7AP\n",
       "8cusul3sLQE37QXSikvjFmK0ncYCDQAAADABn/d0Q/8AA0t0oZmSv1ikwq5f37IK7M6CGKpYGvh6\n",
       "4bxtAC2jx9HZP+kypNlQrewAAADDAZ/5akP/ADpkRA2AAEqGSPrefYT1ips/R3AMzHMRzmF9HkkY\n",
       "dM5mNZrbevrhBg5ArcOYi+2wX7rln6pF3ONUklbSHExIo2mBkg+ZF78FjyD5ZwnR2eS8fOlVYRnC\n",
       "RhLTy6loZwQM63OpNdD+9FPof7+9vClltGgHnf434aUG4Tyvx6TFyU5SqGStxRfq1QFcZW+2nVxD\n",
       "TIeEI2aJWgbAt9ynP83PtOyK+AcFHk/qrb6ug9eyKpoKPevwmH5TvDWnJIPTAAAGK0Gb+0moQWyZ\n",
       "TAgn//61KoAVaBxUAGo/Hh+7jFbOAwDx/yQa+dGqe3gULGtTpOGBl6BfC+hGyT/IfzkzPwmsvQIM\n",
       "IbxoDxIR5wXGcGu8cj3vsZguVvAWR9UDrXfziDdecJFj8kuTJcjbqwlMAnbt2YAc7DT+RWVSYl8S\n",
       "Ch69lz37Gv8PEgrBpIBfcGHq8b0UGpz00zNi0W92f4zyljYNFAJ5p8xKIbGIGtwBIho91f9Gl0sk\n",
       "L0GHHPftm7ugMwP2rwLaEYYaJh7tmwB/CBPoNJ5j/fOF40LkCWQU6vL3GtOG//9BSzVDewW2YlO+\n",
       "+jljuNXnBxfoNQhKy74hOjfukBTCGkM40YPx+e4k1sqJVZVN++hpHNNGM8F8kH0T/+QatLoxH4AU\n",
       "i04xCrKSgQ+1oWtuhRaGr4MhYU10RDbQx4ZzIbjsGakaIjyAOVTnLbU3tBj2M6RljKaSfXcFZB3a\n",
       "chkRprTlZvlbcAWx4UIajt4fm2ebVcyOtRDsHMNMkh0MmlIKzOz4LtxgTRDD9qwpFmcn91LqBB7h\n",
       "bA5Wwxof7mj6pRjOL3hfqnqUmLm079h4rRqLJsf3WmTv8eswDYBkFDpc2UsViahGCzCNeTmwlAt4\n",
       "+RiWJvbJNpF5iXOvR+7RnORZYT6O90jkehPagBdJCBvZVDhzsW+QWS34zJzqUxc7sKp2hrzutovM\n",
       "NVkzlJTLuvx52oWoHUm1IC9jDyeOK+pVEcg/F2RcAl7z5MiVzZkjwRDWJEiwzen7TFpLGTGIT780\n",
       "8CIcT7RrjLmbs/p0mNB9uvwwpVquy4QlODN6C6YAiUoLQn3T6GuHAc9XCf37+CKrTHcoVnQQfVXk\n",
       "yP/vTtpp/FFM87/T8DORHs958pnLvv+BxmK2WqhH8GrFe7FRO/cccOt8Z0eqWnPNbMIrzekEQLcX\n",
       "3ZJMY6sbLjRG93oWxYxIt8xFAv5EuFxefMEz3ShF/0fJNPFAa0Mj4LwLIwoEZM9+SKYcj08Nrrbn\n",
       "ndORz+wi3L90FQWceS+atOeG88Z6iFF/Av4eF614ZOELi9K73xqo+6AfEqLpQNabOGRdsnxP2huH\n",
       "dbt7XUsdYKFURSlmt7zdBQPw+cr5GVdDnBPH1VvOa7vvMLme2YM9Ib8r1VkMlS2AI7UKAV956yrN\n",
       "z/xYiIMUpABN4XtaLXjdxOlAFN6vtcL2JavVEdpP50v5mYTNoUNDeXPup7wP0v87ObOMkLEkNpu8\n",
       "anuBbEW/p9OcES6PBL4pI/iTTJdj0YCfTeYTwh11aUevD44Z2x/ZdzwyVPmt62LooTEy/TKvVmTc\n",
       "CzJslJwOzoWaXcKxTXK8kmkN3BuFwHY4oe7ct5Gw7aHw4oB/SOG6aCBgY2TRzCgTdGgQP0A+Ft+P\n",
       "uQOkIZvK0RqLHYS5j8CYEFZXhvdylUDPMVCUdf6T8NKa5xlB8nl8yQ8zEvj92D3l9mpHsiEh6ybV\n",
       "a/ZKK/yOyrg1OcVjTDUBfYAvUJtZYOX91UVpm0hBO18h9ml4vHEgHG0wnN7TpsraNEoSU3ds8ke+\n",
       "4f1vgozQ9gZQpf0t4XpKdd5+FwI3mbvwkqj2zA5WFm62Q0xqdNqri6lVDTjTVXCaT8uTwFOtFwdZ\n",
       "cIkuHKFmamdhvcX1Vu85RSstZZNjP+aVsAkB214O6Di+wDIm+7Q6KNsoyeMEjWWGKNKUIoPCCP49\n",
       "13j60rrHfep72cr04ySTzd/wyTxlsmUBYUxAYnvWQnouO8BF4eAfDCWNjEcRkH03JJ7Xo6BjGaJm\n",
       "OOAdNXsRh2W7//hFZFjo2hRC1UHNg2MPSlwiQ/U9Ypv+qLsJiWJY0ZvvMaF8HC0+TuKHks4hOxsb\n",
       "asgGhXI+9FhwQk38Hcb3dEnU0uheBrJjEQs0xvpbUJCAMeVC07G7TdZDiDA3lpVheWBnvub/zbll\n",
       "T9OGj3FaWrPVoJHe1uM9gPxdjkDLP2JhsNMhdm3sTh12h8q0QuZNj5nAwTTDaL/UdrcIzVnQKqWP\n",
       "R9vk/eyH9mpL0GQVJbNXlH8RU14NE8p8PmAUZG/A0a6ATP7JFq2YAECClTB3pUVThX97oxziE7Sz\n",
       "0RRTEn4y65T4/r3daZKODzMnD7O+4dbDm9+jbKJSupgAAAecQZofSeEKUmUwIJ///rUqgBzF25+S\n",
       "AHStcnjJdQv4X2iXc4B2BuosSZ51JbqpR1zBC9P/B4cWAGnP9ZFP3jpjAOvLMXrnIr/KPqjRjPoZ\n",
       "z0TqnKFekTcL87nS5jqRz+G3QTjd0ZU27P30IKDd0Tb72BX84w75DJPf/VjIW5ANYI0sq5Iray7P\n",
       "0ixjuWPPZX+jadd5Tbl29XcnnHu0FmjXUIicnKZgN80hQlqZIWUogBJR2Cb9BaNYli7LJ4S1Kq1G\n",
       "+oojhtfGslGzlx5Jo1ToTYIuL9ig13nhlpSp9GLCfkomqg5YdjfvwgJaW21T1seYK5QKhmFEBY/z\n",
       "Hx/teJut7cxPvXNIUY99up2KGVR73puu3p2517gfOd/e2PjdqOjWVgWrKQ0NxwpUuu4jsC1MNgG4\n",
       "OBOjS88S9AA/PqSxMEWcsOjCwhvDHaqjcLnGHfXaIDQVvDONGLTAfyYJI0fPd++wnEKSH0vKZymG\n",
       "yTxqAEJCDg0Obh7FKiwxLmbEArLTQm63OcKdTHoeBb598+CUtP7qRRo5AEaKbZTzvAftsJWp009d\n",
       "qNBEAqlJkzCzYzKgQmMTc80lUWqBTMD6aQ0wuePQiHZwfN9Uq3cR0XPwX8EfE0+1Zqj/L4jEeTC/\n",
       "k6Y0Q5bQZr03rb7bcCoXS6vgSbeze0PlAqR7MCWzxldDjhiGGc7X95hQ08MCmZB1loDiFADNAmbz\n",
       "hXTRsssVAJAAVpb71QaG2BgvHasQqjxU3wMZZ1rqghbbSsvAeLMZwSOLw5oHSrWX/Zazrfg0AFOB\n",
       "wsts/yhvNWZ/FtO8awS4Sl2vRg9/FPpWg+tu9R3DypEHgVmcgxmNGMvowvaplwNUAdMEgna11nCG\n",
       "gm2q5j1g85sLrCx4Kw1VaPmenWKe1DApubDmbz0aapkRrqCWGanM6c7NxOex0yTPEwcen2X72jdb\n",
       "lgMrukJD/SPqrxlJ2k67Z8fokU699s8+Ppf7h/Kf+2MsLudvdihNxDJrJiqU0l+vR+ejuPxAsPmM\n",
       "pqwEqNaU8cRZSlIIbODdFL7WUdVKOFAT/oN/kK9ME4cXLEo9yWghaoqf/+XwABe3lNyKGHkdLQIZ\n",
       "OpybLV1tQiIBSy/jgT0toBxyphBpQynJxBCOu4GvGbB+SL7GMvL3ulI7Njmndz1mvAql4efCcAC6\n",
       "m2ysF3iXsNEZdRHR+DBcH8XDX+VGIvAWqiIZOR9TkZXZ18MhOyE1B/zkdhziNLuww+4/WDTTYr8n\n",
       "YhZls2ijSB4T2UMwe5TCfQVrzeOInBpHxnpJXfENdNj8wGdyOwYTTxSSHRcyggRa0meD2y9lWxKa\n",
       "ZIoioEZIynzMa5RXYgo4WzGfDHLdojoHeMU5N0E9i/KIsQQ2EUudu3DXN6L3cPdhIT2uab761Hr1\n",
       "PACSvhJVKJUGESlUhmzRsLuByP2gzTT+gsmOx+m16ri5+IB+doWjJdsgDEPJCbUutApwcZl/QqR2\n",
       "DqO1VhBZrbP4XP8+ahrd+QRjQzhhq/szLkT+XQm/l3rgR6tE+U2OBtQyE/t+rdlUImYr5gZ+RDIy\n",
       "P2mdWNPkV2D1fvgJbd5zCdonnQ+xCscg98EzvPpd9d/bSOXMUA/+UZn682/Ig2MT65qPaZ503HBA\n",
       "h/+yXVOmRhKefhaHhl4wY03lS6drKWNoSzSAghdyMyOy4f9X1GFnkla2S8g3gMdIxr9+VaphXYWS\n",
       "ArErsSeG2LpUvG26AmnyRQPAGaJfbAAU0XRrOFUoj3oPrNAXMqhXVrRfZxeP4Fb0n6nFnO1knDBa\n",
       "MmXIQvUDxEERsT6k4pZOKBnG73mmcxI+xAlXn3hscZoDzebZIrRJc6YsBN8yqYLIZrnH5z9xvgbg\n",
       "2TsYYTfH6Fj+aPDhVPk/3vMn5fznojKmrKaNx22Sdf9kHTptAn2I6DFJaYz1s9Zj95d6JX2Eu4jJ\n",
       "tobJgnRWelZpREtU8J5R4JhBr0whqnGC3EsaW9Pairn3xQNQkQf9iYr029AgagB8oWVgGoZ0FLyH\n",
       "d9qqp35yPMOuIk5i6HQ4S5BSnG77KT+rgbh6gS5r7sBuOZ3Qz3oDNED36fegeI8O0D59tXxArzKB\n",
       "GSw5n3sp1SLPAzsYOsgQik4sFvy+lwb8aQ/9jdZLJdJkMY4Hqq1TLVh1gNwq/mqq0qyLfoTBd94j\n",
       "3C+KHIM9M4DoSO1/t+zCCzoVToCI01lWyLHZI7zVuXfm0mf+aUu5eNVBACep+wBpfuK3nZIhmW3p\n",
       "yfH/dv3KRKL9Lfd14m5Imyn5ojNdf6Bsm0H8NyQii/tSUMaSM+Grehnqb8Mzu5IklmYlvd0cOBld\n",
       "SrDq6xW0tI7Yf0g2s1rLpFca8B0XkyjHUP2OgU5VA4SRJjKPTQg+IXWkxaVhEkehFCBA3mFYdLhx\n",
       "Q6E1xMLVMYCMQUffTICFE7jjGsnt/G1xRKFnVA8UQnnCbNOGW0o7USRedeXDKBn1x/2d6WHVk7Dm\n",
       "+7U98AlZbMrMyGRqOoFF/2egfLmwx7aNnaPQ748tZGjE6gT0Zxh7vU14A9eFTJMaHAJn+FTAplj6\n",
       "OeU0fenfvAJKrDkBNrNmsiZB819jJUQNy7i9NubhZYUK8T7OYT3D17zftfZxwQAAAXdBnj1FNEwQ\n",
       "/wAfm/u3QOBbkXXdVWt+J6mBycOqvsVtoAI2v1e4t23hTsbrCE09/9vapZFY3PwNYmzPAeMAFDaE\n",
       "xvVP/w/ScuKklZYWXVTzwZgFnhpzlLTJRvUn8sLGjecMJQxDyaezyciW7jYUSzprwAExACfbe/pt\n",
       "zGSB9O1aKhstYo5zv8Y3zOj/rqmOGvunSLXsrmYecuDSoQxvr7o2wPRCb8KeC9xKVFTRcSlMLPio\n",
       "vl1sGeH/rFC2wJfHWnsJe4lVHgvfSioTaqcHRNLNG4zGRQMfGoma7pKlvGDLYUNlnX9JCsrdXO+g\n",
       "bdAHqpw/EUM3mAvGViUP50PPiZ+ADCQUiTGACiFmtn/Jb7ADWtvLH1tF3qJL23OPEvxU6HUncD5v\n",
       "YzbnhbJIx9HsP50HTwL4CpTlQb3B01O+RDrD0EtnAbadIMGEVP2ljk2QbvOZHFEYNGk/mOCztaSM\n",
       "8Qdh7KFo0h4XejTkNAqZFYVwWZA+DeajxYEAAABCAZ5cdEP/AACKrkmSMH6PIdOk9SaWBs5B7+yU\n",
       "4MR7TkGjObgCJxHQmC6XFhlS9+fAKyUESfe6vhSi4pFihe9007HmAAAALwGeXmpD/wBG4NnaopsS\n",
       "ieNea9116OeLZgarpqWWIrBYAWe88lB69Z+b6T1295cwAAAFW0GaQ0moQWiZTAgn//61KoAcg3XK\n",
       "EQBXRNicOP4qhb1z//wVYnR66iHkV27cNEluy4afistwkrPat/00/NJYtbGD1aAAPEzGCQ7AKE+C\n",
       "UuvB9WJO3rCZVv+M6XcvCEIYI06xMN5xKz26s5TiWHBGiVF+qXtYhNZnFxVRdWLX7Vy9bYE/ZB8W\n",
       "CiHd6P2TgmlOBiAzda5QcigH6HiHyfyg4YFJZQYeDAxvPHekYap6Qmy2BPR0WxjFiARMyWCYSHg2\n",
       "85uG0+JnhjnfEAlZtwAsED3P1Q4kBMAN3zx/n4p14qffmHXvOFnU9Ok/IUM6lgIedVyJ0/LMM8R1\n",
       "zYqtoFyeRybkL60+mHoEFRuCaw5lmTWStKhjLsFwbEMHRJ1gDgmCxSxDKL8bo5FXz4XD8lkKM9tY\n",
       "2XXbEHKkHMaxr1d92ww241UhKhDdUGxLAnbmtgI52iDBamzcQss/LCVtiHxQuD9h9ByAt/i2vxQP\n",
       "SIz9LFSs7rsXdCAoU00PwOqWs8ere9jXlNeCLBoCXI70bwpRcnskQdmfNUd1Mr7qiZiYhAn7T6v+\n",
       "anEL32EcwTN08cx/Qd/aOj1g5LKDVlmz8GtZzpiff8KMWjD2QgbiQt3X3DZjbNnzw8tncQPG0NX6\n",
       "s3LOm4ryxDmKxkavea+KuaS9yrAbwfj+3MG2YtH7ch5sN2I4ncUZz+hJauPRhmeLkkDO3wyKJLTP\n",
       "63jSLBb7jAKW9vlXk65Am9eFrxV5tr2nnTVNeqver6T6uwbqgMuxeGzAF7YDtz/MBT98iMJW/aiq\n",
       "c4GDx5od//gpQVeIa+3DEdigpn4wOpaPkhF+GWtU9leJQZURixDdL/sx6LdeR0ZatUIrMEoa8iJ9\n",
       "CY+ottczTqpk9W0EESJaBXZe+7Io0uJD3kG0uiaA4u4A02K9vQK+SoLVM+KRc4J7Hw543lfzwlOi\n",
       "EVwrokFnc36JaSN1V5NLtatCTjN1WUmEpKQRbPqKKalaNUHCXv2bqvqATKv2FwsYh+gJPBlRNM/r\n",
       "aboC+G5jKxRRwIZeiJh0kCbX5BgY2LDAV6EKsJ0XnrhVLT8nrfIDgYCgXUJgZAxN+/b8kqWoBxpT\n",
       "lYupRCzmPpumefhg6+0dkh1nfcCFM9Wo7276/+q+FxnaWU3m+3Yjt6w0l4+P7XouqwMYYPQNKTr7\n",
       "iqmZA6Fr2T4YdrG34kZI33vh75VGIs345v1FjJd5Fg1nA3aV64XvKoJctx6qITjdhVt8niPClo/9\n",
       "PNs7gHD/BTYgyYBA35NkYQK67uch+Cb8MePqOPxKHreT8kLhSY9COBGKb9ei5Ut/nTgj+yNTjRWV\n",
       "PjhwZ9u4wU+n4/HsUmaAEaq+Py2weIxLaOBb3RA/AyGmzjyxRlZiUfOI0n57vVm6JlUU9wzbP/o+\n",
       "tS7oV/9C1Or0S70xt3WxfLKDGmHv378gLkD5fIqnln4V/vrVJCL5uPjtha1xhlwhNH7PQxCNoFTn\n",
       "zyk3Khup7jpLvjg3dGnrARSggZ9FFxDgJYt6AE9yJ0pTGIQaouH0LN5m+gyrERHTlq04grhbUYJS\n",
       "xLlrnOYJff7KCP4XIcBxr92aysjE07LAfGZ6v/OLKxzqpfZX2nx6T6T0Qxa+7DpLFIi2AGYuGeZq\n",
       "28+DtoaBcmnxlglObuzlcfb9jrx9/WKKtgiOZocVrpf2fzg6VHjv8L+sAxt4Kwgndryk1Z3boBmr\n",
       "W6d3jcww0LOuR8w0TClYQQlHfi1gg+i+6xhsfjQRB6NKkmcgI4kqA2d0dtH/zN26jmoDmpKWIhwb\n",
       "rMVDsUP9GtSC287Cyh69khX5cOi5/j1wUJEobPNUwKzektNeZe7hsQAAADNBnmFFESwQ/wAfm/rG\n",
       "h/XuX6JQv/zLWxe0eDvgoSyzM0Yg6N9eEG3SXCfWlNToCrWjMqAAAAAdAZ6AdEP/AA/dezI6gNWE\n",
       "qZepzuHU9/u1FZRPkTEAAABEAZ6CakP/AEbhAUABNNnj47+518dGdoCcqWAOkHFY4Jx84fXSdD1x\n",
       "P+Ev/3207S4CBpR9XWbEgIyIAt9YsdV7MMOobagAAAKPQZqHSahBbJlMCCX//rUqgBx7dKABLM8W\n",
       "EKqqeBmvPl9CTUggaOtIi0/Ffpld3hsGp6i/a+fl6ruEviRHW8JRLfe+ReMnK+95UjWl0RdzwFkL\n",
       "EHU3EWDvr3NxnTIQfG9+Wmq4qL2fU4kW05f/wLXFHrFnw0Fca/mkeZFAyx0lNCHv+mSAvnvzkWYj\n",
       "sDgbDh6eXqmyYiBMXeRfo9zZgIGw7mlnEMmWterTn4QaO+H1nLliGdaiy30lhKb69L/HsvsnNnKk\n",
       "qrGbAytuE3yUhMoSmu7uoBS/sft6EiJSLFhY0iuU2P3DRW00F59dJ4wKLwlpB4zj3CnZWSOKPg0z\n",
       "9x8SJQhqeQPG2p79U1F4hbfWi/3N0Faz+UFbsHiqBtJ0PEDa6mYKpa1wRofe2fs0ARwa+VHiA14R\n",
       "QEdJID6Uj9dklBeNfdRW4ZgSzYcznT1asHd6EbyPSFvCnFN64yTF5FleD9quQ9GuZPSpm1BQglnB\n",
       "KJigmkf4k3Hj0Biy0y109CrazubOvM7MehRHxLGfdqjZyid6VQqc9mknypR8gVyaDTE37JNhWX5r\n",
       "nQGqtf45eJ/AYMvo3MiGQSceKj1zouyzYKy+gnRZXEkWT36R/4Xe+NS7vjvgLH+HzLDtqaTYUo9v\n",
       "ZF1x1zR9B2ADyHb0g6fz0w6JPKnG+AgGNHNn2Q20JGKmkvPIQrmp/KfG0pe3DQWEELdAa4hrI8Ss\n",
       "EG9qEfbcM10LStJfBZDcqI2fKuk9QUPKku7FcyjoVV6xrw0O2UBTOEuAM3bXdi4Ns3oGsolOrWWc\n",
       "z4u6nitayq19tYavxnTBoX+Q7CzsQTYCjEZV6WpYNebmMNey5nRHRG9aDE4Er2dDdX0Ga+BhISSP\n",
       "b74U0QAAACpBnqVFFSwQ/wAHwnuE6Jat6SF7RUsRag7KYzRwqwKjSTGapWLu123FjpsAAAAdAZ7E\n",
       "dEP/ABFVyTIJFvrzVZLoT9qybC178c5fY4EAAAAXAZ7GakP/AAOf2P3bD1ZP7jQJ4UKJDm8AAACL\n",
       "QZrISahBbJlMCCf//rUqgBx/4jQBa0CFDknotoqZ9gUM3Sf9K7FC+P1g8ExLuv5sjXjuvjKBhuv/\n",
       "BGxMjtMfLaP58NveI4bK0T3fXAwdd9TPq7Peu8Fy9QmmGi0nxW1IMm6x5SM01QkHEsEPHz4fKUFz\n",
       "ad3uoiwv7NTEbm7h4WfW9d8saS76hspJgAAAEURBmupJ4QpSZTBRUsE//rUqgBx3fc5fAFAHRbpy\n",
       "ASk4jibpCWjwU/1+Ggz5z4fZA71L2iJFyS37+QnQKjeWiziBij3QtPkpAcmj3YIJjEBV8yhbwvQj\n",
       "9O8XOdF2IjVGidKksL3Ss9DM46ndmsWZb/wiCPV9/rGyBRmxR/3Mso9T2w8+4IzJwWQ6xmSqaAn1\n",
       "vESRCwgPi6Xa8EfmmUJREfBXaENobrjf/DsUoWFuSpGIqm1pt9hhw7uvhVWGGgDJT5+2qq/9NEW1\n",
       "6ZfVuoOM3McXqKQkO5dEefA+t9alXIq6uD9NOQPeeg0BuhVANBczcx0Sa1QDgFr+56yJLOZl4Vpi\n",
       "REhsuDpNX5dkAqGe6F8zZWF9vit0vSZD0/8ZTOpfOuWFHjUyHXfoEOVxJOd9vUH0rHYBHbdtyhvM\n",
       "SZTEnm2nWZghPxR+QpoEPvh6KSJPlOEjvCW2RYZOOtBL/ammf42ttf71L25t9YbrygtMz2MxuAgL\n",
       "LdC1uSAvVf2AkprwpwrQfc65FTqIB4FCLXUf5Gp6f2GMWCOOvsH+8Rxh+Yq1oMcFswlQut0V0wMO\n",
       "I6szhxd+GdyQ1/o9DXbPSkEoZN4PSqU0KDryjK7jTgNGbOKsf4zOv6Hx9zBgDmlgMF1HBa2rPwC7\n",
       "SP+MPUBI+5rGNj8ea554e4nn9ufm+nvqC81G5GH5fIiE1tK979J6pZdkjRdTpZjIVrvwt0vVm9Ax\n",
       "5eIOwcP9a26eA+ue23ZG1ZndbYqdGdT/vVX0BwuoKea1PXMTJzSliNN0teoU4smH1GfuciUFta7X\n",
       "eEbcTXNeMHAqxH+pKrZV2CHH70b9t/+zWO9lmFOfncxUntUhjDPdqKZ3h2mPutZMSdyvELT87Vi3\n",
       "1IW/OxnXnE9dJFAjHmo1HJt+qlLQCzAxYtek9ETuGrI11+xUkIDkdJOe/9tBNj3a31WWggL2s9p/\n",
       "MrCjrtlizRtA+xh2J+gbNCoIKnLdFDEbDBNmPE9/8xhf1m2nPDNx8YgF0Ep+bYrPNNvCZq6Rs2hs\n",
       "W/ZmStdhLPdt55AtUV0vpTR3LcjugzWnu9eyxe2FKOi24Qe1JZd+SEZ2ikW2x/ihEM98ReXpNNJg\n",
       "gPhKIX3KqnC5QV6BDhruO1SnREIWaU20165fMgk7I/epEzmYyRGoTcZKA49VEOZDwSneUIue+ViV\n",
       "3QAK2q0L5u44hU+IhBcGA6xWyzy7ikDDbDE2kIk40jeXvVOB2xIB7KhS0ZvFqXFxYfWkrghPu7dm\n",
       "6kHOu2riYER99dN7lqNqovvywTrd+3ps4E/N898kbqT99ifE5gBr9wO5pXG54ZDYyc7IOCJfT26l\n",
       "v4UIZIIKZr/1HpaK6R8UDm+RtOwiehlR7m/fpLBSEFn1vHFXY+0gM6NQbu5Hlrt2NrGghQp/al9B\n",
       "dWjZlh+9jB7NqUS8Fl++63T06ZEYPkh1S2Q9X80i2pOmLAV/uj5+CqUnhcAdid15pJCRI/crYByP\n",
       "hUJR7XFF1IAdXggJFHC1x48Cv0P7U/eyxZlYTa7tp8iVTLGd26jSBXpO7FNINlJhBMAx7NuHwkGG\n",
       "Ot5JMCmE9i2FdXQLPIESXIrJnfIsSsktnzsHcOLEJ2oPBFrUQRwDdxUKzHEIHIB7AjoXeGtoCIVa\n",
       "6Lt5V6NSQHEZPn0uklITyg53QT60RqOvpJECve2oyOcpAKPoLnT5W6OlmKM1+8piBtn61nNNeL36\n",
       "MSHqXQlrtBZWsvZL55rczJHY6vD8o8s4YB9LsLanoomyoMjxo4wuGXlcf/tOHwNVeGL5JBcv4SAW\n",
       "F1+FJjL5K0BCD/JInrJE+2xmKO9BV8P1djCBYHHbM7HdkRsJ4DHBB20hekLa93IT9OyBIZ9U7oVS\n",
       "HnSs5aAkRWwcCfWxizdSDWYEUw0yJfqk7ZxrF6Tj0SuKm9XTuIJOLnbCE45fTMx0dqBfIxjMeZfs\n",
       "FBirn2oR+4cSQ5dfSC3+e5zkIZ3G4POhvR1MBFBOiR/BPRb7VINGcsHvQ6jmB+C5MREBxKp072zD\n",
       "BzE08VFSSvgkbIRfP0DjsJMYKiBwPfJOa8+DjuGuvhDnBgBiJD/Et2HkzwfbToc6iYSK4s8/CraR\n",
       "BCwBzCp7ZPW3nEYfwRltTUL8lanKlm7r/ZX1Zg1Vp31xmhn1NJQfdlaILDfxU72yNPrSpMoTZxY2\n",
       "uqb1r8gXA6GVNCYqXAFO4vqhU12sTsyhbNm/FGpuU96dooiYT3WbBbRFed3amMtibDESU6FQcARn\n",
       "4Uz2PSdIREyNOt7CFR5ugYWyLfZPYNRk8c8JWSblYzOcHhT1reelAORRK+PXhBzcNV5VitMtxu/x\n",
       "Gu7su3Qd7jafcnYqXmbt9CKyM7T4toq5CD0o+RQQA9y+XOLeuoIwg2eApMgIWqi5XJ3KMvQxRIuc\n",
       "HhwGtpQfI2dxAc8odsvr6Y3bbj28gwGFl7EvbelAqFpbFyPCMmXliv4P2loDyXcVwmnjDzLEAYQg\n",
       "yWsFQPsqXisIr1lf4hqnnnQAN6WX7weI7CoCVIIGpkbUvSamPmMmRymRDn8cwNPocDL9XkLw1t5V\n",
       "fkXC+LWOZSJ4f37uR/UpTeBWOVyBC2zaZBUEzXpT9XZYENcPi85YyQalQNYKqqgqMhvstnfllXzk\n",
       "UM8f1YOGx8qpbivUek9jX1CHzWYQr/3NMB0p9daNRfUoO+Qc8kYe2GM26Fyb7+STkZDi6sp7kVeY\n",
       "e6t6n6ed+EOlPV8CbE/f1fWNFFtW6SgzBuIcrgsvQkcDnI493tO+iqbQzPr04IuYvf0lEhkb1ANr\n",
       "ahvl0hxixrkSNXtQpJjlviXKYWAKxAMjMnMnT1UhiiYbSwfDMcvao3QDrzIR1/16sNlxdOaIcU6P\n",
       "mC2CO8s0kiCZpeYVrXNlz6FcBpA84tkjIzzRM1k5Iihgb1F9XCakQRI0XdQ+Y8+rsVhXjAKg4cwJ\n",
       "qvewjP7tiioTnYV72di9Jz4HKjbRZcdlAaQ1jeRCFcWFYvJCdH0bWNWndSTDxtNsC9nws1tE/pHB\n",
       "jtshldnC6c8TEkxLHn+WQL/AIb/iy1HTyHh7ZWzR04W9U88chv/qofA7y8gRvfrCHF21ssZCrHlh\n",
       "mYnr9yAk7SUKelsIZLYg4dwVf3+NZkGY3Cc6pzoResjqs6TQTiVzK3VwMtMMLrXptY0W8t+IQd/f\n",
       "bbEVDZL9dDXZaqsFaPj4Ybs6ruH2gFrOYEyZAW/fc5tTnGrihFV10ZfcbDGSaGyZQx339oiXLMyK\n",
       "mLXQpRIFYR/6jqg+MXV1ClCQwU9SDsWadlg5CG1j40GHRi2p1vU2Ec9L1i1J2COqsN4bECn8uCyV\n",
       "wFo1WOelK38HMJeFGSlK2eFNgTprd7DEmV4+hMnYrubMxyBb2VPnlBDfBNKGclB5gNYLueqfrIfe\n",
       "bx6PnD9tXyF4VVoL8QOtPvvLqNwRcd0p3rgt/Wvaz9n5tJKebvdXnmeWSJOKcF31Hi46SZV34wVa\n",
       "xB+OkAFcIvBlaGjCl3KALrtF5WifO7APNvW6qn+JMljQzCVcs80oYm59WtFHI+BvuznH1IxE17hf\n",
       "YD0doCvDQ192/C5xa0aMXODX/3szfna2Sgi12B9NPdqgQ4GmcITxPAbkS1/6c9ZGzFlWeRxIUSR+\n",
       "+PaQjWuOU7Ivkr7Nd1jExM9fnrkrjIDa4WB5let7ugKkT0U2nx3JECytFRQjRiFGSVqVcDnjfFM1\n",
       "cO3NdFxKc5AXBwQaPoh8Tl6yTbX6MLuxFe4+5YeYUhSUaIqeWc8SC2yrJxhnT6YF2nq+WogEitjd\n",
       "iOgfjomRc7A3dNmZDRWcf67d6CbF/2phwapUo/04tAYvizxMVOowQ0HAZZlanL+IqJt2ZCzLdd6m\n",
       "INp7Q7GrOX7qBDzaH0LbornL6WIJ10Frx4UM96Tw3GGdO2rpQJw1RTIT2mNvmlPTYMGpduYNEjvm\n",
       "dPy8VMbQYZk16tN9keMcZNH8KP2H7H4D47J/d9iicnhzdoqeJts+Zvdo4XY+h/VtfTOTy7axB1ka\n",
       "t6mgGrQFmStAzklgCv2ycFpmdPaaeHw2ch92AfF4+t6e1DbtIbVvuI0L+HsUQHzjEf560Xu3FD6E\n",
       "lwEz5sfphtCBYyARlwJ6GCnwOd5UyldVYPVo8/4Z0/jurOk68VytzII52HvLjBqNXbc11sEEZZbw\n",
       "It3x/Z7JyknbgVkREgc1XFf5jwZ1Hfe6UsQEfX2ySPeY7YzaRKPvkqAVPUtDiU9aItvUu7A6inZm\n",
       "QJleuenmJUzDd9RRipT7Sbzjcjil6Th+jjNj1AIyERH0eAqjPz279+trUj0iX4lt1mkgUOoaHhB7\n",
       "fhFNfQaUu0SuELLhEuhEdJhMyWNACTlz1z5d5dwsVPhq6sA7P9Bkr2/Ro2YcqlnBebztyMcQFW/P\n",
       "CEOY+fPeIKNV5H5yLZazXK5y4xPyuscZ+Y5mBLrWzofKSMBfVlDYiS21FVnH8C2nou3W8WHmKW2o\n",
       "WQUspC/XhV4+ZRCa9hhArCxGh639xCY42wOsynZ8jY8mDDnTQRzz7xfAW8x/JJJqHsjsrePtAYxs\n",
       "siLazol2TWhTEOJl+G2/fcjJ1A7nzdDUeZ8VTwnqDvq/NUAfHjz3bemt1427N/wFDwR/tZo8lY4Y\n",
       "Ugu3yI3sPj5kC0enZ/1a++NuzQ8k96gbRl2t7CatfLXqKNV9LQuzotI5XH6M88n7EVgcK1u3dAnQ\n",
       "SYAWb4cV/Xb3hcBW8wkLZXKiwAHvh73P6QpiLx/kDy9uuEWTqPBTPOjh8biLxNtb5AdKFBumliqz\n",
       "XXz6vzferdzbvsxZZHEZ1AAafBwD4KhA+7AMfHVKXJ+e2tirE3dDplQLD3jAz6vzq8QafsH28eXB\n",
       "xSyuBfokq6pOev+Mg90lTRC8rupcJU+dfNfwLy6XQjibVrvbF603hFfoWPqntqCX9M5dIFR7Zsw7\n",
       "CSGOO81KmmmbzckOJFyEXjCqqFltsl+PKvFNI/e1/eWJwJPCQF1dbIsZPx1x4uvh982R64QNh7hO\n",
       "S6kxCmwm+q3aL0MC0Kl/G6k8OW3opUiMtKdmlnqp3x7rnG0xh2VkWRcOeG0tvS1ikMzd4yzL0Dof\n",
       "I6adgNV6MogWyvlwBbEL+weQIQhJauBgR93lutN98rxu2nvrAqNJ9HpkkG1HcWz6YcO89cTjXzbA\n",
       "njsQQSAk6TwvVamSzl/Vj0R8y4vnzOzXxGetEs2smQEVQIShAnO+OS/mbIloPZUHj6KzUowNnftq\n",
       "jmUS8SJ92Bd/r7+KWmuKQ7gMGWoQYIkJvw42bhXAGNzVYn2p3Z7/vfw4PEqAYXNOKZz73zGLR22l\n",
       "5j9+T+ZyFuaSF04ar8yFQXEMmvM8CeAHjXfg0Iqcv8D87OYkyMAu7rl7JYuXvz1Gp4dJcGfOZA9W\n",
       "J686FBs4Otwa7roZhwv4RFSYjPK8oYXa8g/8IGANcRNdI81Sw/z+MH/b4bQ5xhhh/CXAZIsn+DxT\n",
       "jWJxR1WJNeu/2vqv8xMv8X28W6nM6Y/uG59wpwJHsOdKgaKhVMxuZlmeBL7ZDN56BY1dRBO+PZ9h\n",
       "2vsFGYvZE05ZmmwfrfdEw43Ewird/tj7n63jer7z0k9DEnf4EMuan8qSEaB76aLY+Eu7+Ny2PYNQ\n",
       "Cd4NrmYoDhB4WHpTc5dMUB23HrPtbCOVmbCFk80kY6esYQzDtNF/uEuuAerUKnJiu4EEgTPAyNLo\n",
       "pqb3NSDXfPmt9NcScwoLhkPlO4vSdUECAy/ynhfoxaIIqaxneP4x3c2ZEtbKUljieU+3u9bSXY0W\n",
       "5yRZbnWnP/OCllo6HkEOygyHON9OiXJmzXO2rHxBmRa4nF3MG7hsKx0pDfoyEkkFmdAVJHB/oytO\n",
       "QBUBnfJUEVlyVn6YPcJD9wP66DDJo4zxDf9jucdc8lG4FS+63yKRyoQP/JztO9F6gkFnzXfSrEnQ\n",
       "4hIgAAACHwGfCWpD/wBG4NbmcduV0sleVQ6DnvPWd0lPfv85K3/AALcsCHZb6RJey3tlOHy0xl2t\n",
       "Ynqdi3+HUBf5nCYutbwExbkv8VQY+zHk7cpijLcb6RGl7PFfgXTlGUL2EtRLRq7O/19vj/AFlNjz\n",
       "VNHaxUX+Znv2MYxaWEnXNKtJ1F3IDLwoM0eVHgL+uT/klk81GMvH13uMZY3rrwUyc5CejuDp6KoO\n",
       "SQTfpS9BaveLPKeOwooL158XTwfLSyAUlI5oSa627WU+NxXQBhgZA4Vt55BAZG+PxcrLhI7YTJBN\n",
       "tk8tXfE4FT9x1KHwzbmS/Exw8lTVBQjuvV+f99bzyzFGn41epn+tpY8i6b7+8JHlQLJMuemO684v\n",
       "HWBRIYhH8+aXNJUa7MzfhM+xYhLhw9+LsE9R+ATJLyoQUwgsIvpM5MWoKcdj5SGucyroUcfXxiQ+\n",
       "OOj3F3YszunnVtyEJAQn5nK2F9JFFJhm+scfQxSC5HSSXagLR7H87lOVvEhlA47ViZyChG52Mk6Q\n",
       "ryNocoKjAo7DFYKNTKL/WCmhu6EuVcewEYIoHya8AOHeeJNLkDFH4zi/jO6c6UumGk9JHsKbz8/h\n",
       "1Kgookl4Sss6D3bPD1y93dUVLnTQBogBoTKnqiL/8gz8id4Ql7TVC+OCMFcJdihjXL/R4iU06DNp\n",
       "tzf9nDIpxoRPlpU9brxAg0D3FDr3yWwCgXZr0H0+cRruWxEauQAAA9pBmw5J4Q6JlMCCf/61KoAc\n",
       "gDDgA5lrk+EMjD315hQLNssS+UiNuEW487T++db/dGS0qjvWesv3Wj4Iag+PAKIUByP/8B/ZvJXq\n",
       "eovEb36frNJJZmB9aYqSt5CVHBAUfb9tNHC6qkulg7Yb/FzjqWdbiGBlbtDsGhpmslHmLffDELYg\n",
       "FgbdEwver0rUWzXcE9z/kwke2c8y9wjgag39mXrKvBFhDOoJtdpUFOKzlRLtPwcgxgqj0YVfN1Qq\n",
       "lHqZWMaTyTkZS/2HZy1z3qEVEOsjHPvr8yJEkkkInJ7dZvAl5OraIctFm2LB23HRwGV+R/g0uLcd\n",
       "fBna9ss62FwYvRm0L4AfnipLJfE5YEw2qGnDbBWj6sI3lLr14GMMhV+xegqo18A9Jby5NX49YxB/\n",
       "Pk62rQ1SOl8HuAFWg0uxKobYcm1xRQFhdOjz5Hybpzl03j31NPbeHyNnCu1EYf4Sq4crUf8Vexdu\n",
       "xSN5gxP50dOO/jrhbAshGU8K+qy8a9WOXegTXyZ9RU6WUz0m9SYNOeINYZCuPw+kNeiV9GhoIp+X\n",
       "V1l4YmQEjzxdtfwOP1Xp5ooSwaeSi3PlKpuDnn4SjHxN8IWGDz4wdSWbULjs1Is05R31Y+zvjKcX\n",
       "e0hNIpGk0a3lY4Fcsrj+IytSMsoOBjdWVUxKXOYSoMf/WXMlkix6SliOGyXy1OKQsufVZx+Uusj+\n",
       "IXJu0+Lohqt2dlSdx3R/uJCRWUb5gnDZ/Kb25zZvCV6DBAy8+BYF507muwxJ8ryYSSA9cpnbWtFr\n",
       "PzKPP3v42Nj9rAT98/Rmt1nh+8293/in79ZxVMaZDVGgcM9XHuWGewaKPXOOKKmVc4IkvfiQ8uZ2\n",
       "Rxgsl8VzTh4YMKEq9WBQe+k8cFVsaMHwcDa+BpGuO1CYGMPsUV2YFd/T3R/WQXIbAVd3W+qLctAU\n",
       "cudHKFC9MVvjwzWOoqPDsvEXwjxDTmh6dZT+aPq4nBHAJUbelJGBRXhgn9CXyH8WCIJOrnObgnWc\n",
       "fed0rQf5+Y7TvdmxCcwuzpvMuw+Pf/Zx1sTwqT3W6oXHyvQK7++TnmYes36+LAQeOjj7i4qnvNFn\n",
       "WOnhZMvBqEgELFSD6Cd7uudrZ/irJ3Hahl05brkrbeIvkup+1eipcDk5iHDcws46U22AsbJk1wmk\n",
       "fF7oOit79HGjfZXutE6L7Ywvm5UZn64bqI1D04X8JGG90z4m+7UrSIZAFbp5peYtCiO2+Aj2qJEC\n",
       "JAurBnmqrh/HvMsINeuEPkxyC0xPoiy5AyEvV8bshSHLj3Gfe/V93L+/GskF3Mkpg85dSubAQxJD\n",
       "GAAAAFJBnyxFFTwQ/wAfme4UZ0sfjoHRal91XbfdH6G2ngBabXua+CkgqFTxd9LUFAT62RWvBt+B\n",
       "RTtox8mse00Lh5cuqSWhfLnJ7SMK8HjxlB1N9n9AAAAANAGfS3RD/wBG1yTILVxejSYFIBvs1P7E\n",
       "rIxZ8ALQDuC2PCN9FU8qx7CV/9LAYv7fbmZo4GcAAAAxAZ9NakP/AD84Qp7QAP3Je5JttlQ3vfqw\n",
       "/txmyQuIcCexiAMRO5fypCs2n/JN6NMvmQAACfBBm1JJqEFomUwIJf/+tSqAGHACuaNgCgAvT+IT\n",
       "/O1tQIrcihOBAdm+2nEXO0CBT9c4GburQ+gUDiy5BNgXymXC154ONTyhzFmyJrynFr2UGqnmvwBP\n",
       "g1n2e4ag4eNrBX0X8NBbp9ICZiFP+yjoovbSSIdRdIkUkQAvlUOI9oc9cfNMFnhPJFa8YI8Hr0s7\n",
       "KLqznYWAlhFKqkYE0r1yzmXhsxqBKC9T+DuZg05qa/Qi4wjHFLQgIfZvG0X/EhWxQufQLZ7xzPQh\n",
       "Ba2/Xxl2d978ZqYtg6VYKJ1EjNWO4aPDZVE6d4b+qDMtMuHzJI7E1EFg+hSu9xasG5sczMQbnF6p\n",
       "j7EivGkT1qjdH1UbnbDemu5+qXDC4YIylDMWKTXg1doJDj26v0dXGyRDVOgJ+cCg32tTQjSIje8T\n",
       "nLQ2lquOyeTgQETw0ah3Av5G8KK03yILf8hL+56b7hpazQERo8pL2+dKEpzKVDKh5r8m+M237bmG\n",
       "g29G0pyD2dVwEbiE7fMOCM0iOKKCC7j5xv6PvVNrDNPdQmn6CaqO7QZnTf5VqZieDm4lPwO9OEEa\n",
       "e3R0sd4E6bpENqTRZjWbeY4b0p9vmDkTH4mGWxcUs0GHZzalvLgx0gyiNnqdTev5HWXjvfKLfuqN\n",
       "GiH6KEA/fiFY8aU408jIsh5koLanI43vS72AoJC9bPmbucw1599oZSakJEfO3Tbhc1qu91AzeaVt\n",
       "NcHqRhQJTsr/EqBj7mAZyo7JY3dSIbJh11JSca7Ig66YqIQusZBGChyRuJaRhVifAlSwNeh6AqKZ\n",
       "0lKAUfePiJMgtIak2I413akqFVasNM+J6TYxAZPHBb3y0j9C33V/hZOlfz2b7fDYO1Eu/ltTeWF+\n",
       "xG8jlKSPHjwRYFfxnEX7IiVPYXFgUTBu1frQh6eCfU7LjtwN2vZsLHWaPyOU3e1o+mx6F432T4Qf\n",
       "qFy1yGk5UDeeKVW6lyb4XPfw4Y/z28/VQFI0nbN9ZQ75iejjiZHQnLixReph2CK7nRf23jyIwtL6\n",
       "BSxYg4bsoY3sDH201kzmUByA5LlW7+mf6GeOGmTJS40iBCSSkdP3wPt/4kCCtYC2J9awVpBqw+V5\n",
       "zu/bhZjtvuB0nUFouRx2YVRTYS7wiasUmgVUyzRJs4a9bcJoAc/gNBoVFzxkCejWVLtacMT8U70V\n",
       "pmXwoBQtdSelanrIEtP0nWPwnp1NUXiqWXzIWkm2/FXSwBL+xUISOiArg4JHYI3qOChoEH1MuukO\n",
       "WE9oJkIE82batbM9e/QeqPKeB4nucMX+1FqqfHU51HemTWHUds/tOaQY46FdqHI0VDoGUD8GhcJW\n",
       "pCWs+iZw1VUyaRjbpTnJ7x77zoZzKmKPkLzJvG0lh6fWJYmnpgxeXp6u05VOXVvL0bfpMgihcfb3\n",
       "b6B7Pj+15iTfFL0w773lvualXIr5G4/HKUqVnVWrDYAuXm/555kDXOvgPg53vihx2Bb0R50D9gtL\n",
       "qcqz6cCZjrpc+chVRIdck/lbX5H6F1noRKThDPhaRvJfHnb8qL85/J3DioON0FdZcRNQUnl0kmXT\n",
       "BOR2bDFWWate7FPm/B0+y5nKBN1rKd8FMV2Y0wHUbmKww0B80dU9ADbdYhTaOZSXPHf5W8gNwmVd\n",
       "7njL854gD2TbC4bpBtpcBGWXNBX5C63g6virW53hUqs9qAbMAE4a/m+/yT+bFcB7hwHTWZi/Xr/d\n",
       "DJdxhRo1lYimkbdg3fNVaNnfs2HAuwed2F4iQQjg9+JzivnfELciWelaIeS9ybKbsn2/rJRMSSY7\n",
       "bL6ax/53k31ZlaIVu14kSSrE2H7wTjoHgr2bR4nh1K4/oRCNOIgq0MEf0pXIU6/dWoTYJ1OyYPI8\n",
       "bQ12KBKL6WA5psCYr+R7wpmf7Puet5F3rDk0ctjK0UWOqDtA2Wp6uOBOyVvfJQAYYvdyRpa5wooq\n",
       "uI90qVu4SUGNjqjhGdhLHSu7+UD+VGsF+y3moha0ETWA6ypEIRmm754YOr18NxsDu3unSYhUIxIK\n",
       "NJp+sz13yzMdvz24ThENNvG+izK2tgaKCJTk79yI8TKoLN8KLUQbSBmW9mCir0o3QriYdRMIlwu+\n",
       "kEmMI+fMf6Ce6h0BIOxPvUY68odCbbMj5h9mJhGdN754kGDmfzLmpb1hqzAw8rEmKU6a2a95RE6v\n",
       "G06hmb587rPv++x16BS0wS/eWa9fKtfGL9IGsMyd9F1xLkLxKSmPq0bUTp92h7qtEaqF1aC71xb2\n",
       "t3pvgDQUpfldiZq9WLe/0+c2vOdfiOBegN/E2dgsMbtXOwquKMKUdIgoyFU28A43oX0UeookPaf0\n",
       "/JACJDiKithS2hV6DZjjM2BtuyZ9mmfru+LCt8kdInpgPpGCm7o71MzrO1VAMkD1jtDlasuKjqDn\n",
       "qorSnj8mlUm7d22fZ+ifwymxxgx6ven5WII8S2ht6YfH7R45cyLXjOsf2AhtrBkj+ZhTckI6bhtp\n",
       "LnkwhREZNlTm1toCja6fQBjqyRDbBGbm/ID32WVrEi8DogMcl2Dgw8px9nnRiT1t+iQLylUlFiXm\n",
       "nVHAf2X46FJzz9w62RZ8NAvlH/dxeQi5D0VgYUSeD69kuGWO+mtWk2GtDD7WauNsqmLoZkpDHdeW\n",
       "r7ZBsxCTdZZZ+yVoxMFLuqYf2WmmBOI/ImsFma4yI20AW7aS5s52x2U/5hjrrNKMluZMMvfdWLU9\n",
       "e1jbx/HFX2AvG4IXJ86QUFkbDNs/qiztKH6jAzOzolSXhvp7uM0X/TvXklkRZJnYvpLQmjM3nOAF\n",
       "DGLbOcAtra669TtHfID7hcfezZ48zMoPEOpl1+Lx50oAlfDtQ25vtF6Op6Z7Nlj8/BKrcfDJgarL\n",
       "2aOx6pr3LAz480cO1NOS+oG77GSL0+e+3pbeT5nWC942lSAnLURYIXxgkJ/YABbyBCIFv2+pDiHP\n",
       "qqf8tcBc+kX7CFNiVmEY1PiEQKTJ9gEhBqSPcx7fRKVl8rwNJxWebVO4hJzMEE1Pg/PdcQo2haC8\n",
       "SJre4zmq/1gAu2MnCQfrCsoEoaBCmRVtHFyAK9P49MhQcopYD6Dt/7jA5+OI690lmegPLp4HOooP\n",
       "h8eadLjgjA2hgoIluVjySzppPztq2071fj3S2+ivBjMGbHYLPDiZ/vwiA9Wzs+ugkpxTkZmQRfNI\n",
       "40brs9y3IRwDStiDm/CeSf7j4yRjZXoUQPJSWDgiwF/T4wvsArZg5bt/xEIskB4eqVWXfgbI5mGO\n",
       "TPBgWznbCxZbP86zVymBY1IG1Mxol0UxkJvk3D5uqD6c/AWUOA2X8SOtYk5r2vNpTCC8Vf+zhawy\n",
       "KbkjzKvTG51yW8n/80xBrh9CSg1bjfd7mfxg/qgNZMaV26seR7WFeLVFoS5dOyURAKVgkUhcJwpi\n",
       "NNv2JkvfMTEAAACCQZ9wRREsEP8AHCnuEnlxiM8AACuYG0O/G4VBh4p43UsyGK2q+aGiO4dmV+oJ\n",
       "9qmkYOB15+E+3fUN7jsBXotIcigpTZGFxZt/7V8pRhJd5E8HzJUl5pYYrRDFPX3oWZktCdVvI2lU\n",
       "xoAryxF3V0Q/+AYW+y++racchEodwMGjLf+bGwAAAC0Bn490Q/8APdXsxnoV3w95wMcAaJNLVT+e\n",
       "cZbmnxC7E0lJ1D6mw9pW+UuoMkAAAAAlAZ+RakP/ABDYNotiN2AmiCF+S/aORkTTbCJLpNh9WjRm\n",
       "YC2NnwAAAPlBm5NJqEFsmUwIJ//+tSqADFyI85zMt0ADUCoAZ/wRJRmEzOKT+gnR+0Kb0vI4ZBz4\n",
       "gARFRRU9kiqIUeVz1rFswlZM+AQqHh+w2pp4kN9gDbc597HqY3XdFBJ3NzHxvdv3E7Mc5RRn2PWu\n",
       "BKiP4PfYTnY3OX7uAiWZ+6qFpBn2hSBgWXWFq4eQi6/71OPEdjXYguPxPVKeD1ZJXFleC3HpPE40\n",
       "/lWv/l+eZ1bUlyabACZd1X/qfIpW1nLK1NE9jLYOlUBBP/tt1o+u8WDTnBJ1N91DDl7vM6p17NnC\n",
       "2YzjrUv5aVNWnzq3hfoSD5PnkBysBhHRGobM+g4AAAbrQZu0SeEKUmUwIKf//taMsAXhwlQAj0Mi\n",
       "b2TVS+PNB5O/4+AbUGMVHkCJ6Oy3udfBx0gdzVYvt47xWg4MYN+s+gX/8mY2uUsUiBHdxgXwvyQK\n",
       "r8SJ+vU/oPip36hnG0l1/CMXpdGe7fwi1UHD6jyLMk5Ux3H9A062yZtiNe8FRblxorCcs26h0uMC\n",
       "IUcD2cQ/axNi9+AFekx4SYuXT6MCqbg1K/PLIbFGkLVzAXdHmAnJAXirbQOFF6ettjFA8vxYVlIF\n",
       "MvKBWoTDGt1TBtN2FQ6ENxI6fQFuFpNeadhnFOrkPe7OQ1MQh4sMG9r/6DJQ3zKWnow+iBM54mm2\n",
       "IfqS/EYJbOXv9nnhBTjyXgxrmswcQOCY4WFzQHb6ZzXfY1s0gwb7163mgbC1zvVcS5geHBm5SLEj\n",
       "sJAhTQurP1L/7IDizV3XNAwILHNxPqcr22GRrzzQG3k0P5dArMza9gCZeadxoJ8LH9V5DP/uxXGT\n",
       "Ti9X+5IHt7P2cZK72zBjhJBFENNykdU9/YrenBOHTMyYDqy089lRjrTxDbqMhYsagdNLOyLQTwI1\n",
       "fP3rTFT2cVijfsNKsP1sw7b8hu9ksb9S9+JCdtZJKg11DLVlliklY/BUbArm+HWl0KpRlw4YAcqQ\n",
       "CBcT4vy4aEakR2/Z88HLfFZ57IQE9YmjwOAiRMtBDuWlgWKCIlyMqEGxOpdIM6sCSzTSxPHMQrKr\n",
       "JSjmIaJT1b4u/IYdLQaX4bPEh6qQdWIUPn9K0RbW2/Isj33Kua8iJEfp9Ob5y9u9rfCnkzQty5ZQ\n",
       "7Hou1rAgIeSOcX3W8T9F+VL5L2CnCenP9DwqyOfCRF7MUzf9XIv3tDIKGHRn2S1QhHNA5vcu0r7S\n",
       "OBMxX27AIvHIpvzY2ToGiZOJi3JGKUC1s0ATxLVsbdnGJlnpNIJRKHrFcuuddmUbxCGasWKEQUk+\n",
       "xfNKRnm5bJlZKQH+kQ8jxhL49EuFKcj6gP66AObW9sgHaPFmQ7zUcA0lLxPWUTBs1D/05U/Yb8D1\n",
       "us97WDKrtNaHjNdnNOgobrnGxIMOYfSeCzLUsqtx8gNnjU3DTVYGURnxkpP4P00uZOwluujwWGS7\n",
       "NJI7l8o+WGPrSR/9SidhOoCEcH6MHj1gdMAGEq5rEqUCYgzkEQTF53TYzEuRoqSIdSzk7M0BREzT\n",
       "VWUs+IdJRZHSqVP2+ZJRiTgEiuaCj8WM7MxmmWRuoNYVCxg+oM+Qmtl4M5jPchzaG90XDtodsSi0\n",
       "LTgdrBPID5kzyVNO1uCwvs2+NZ5mXOT5Js8tUUibPJGxakR+bALaPa0L3ZEwGMLsF9q+3BvdFwQ2\n",
       "5FA9TkS9bqXf5P76YZjHuN7ryOLw4Kc5psP60HIQA/NrS49kuSK37xZmMjlaet6TEAJBr0mQS4JO\n",
       "jsbrtxY1WhzqIBMtK8l05mBLrkYcFbXyBVcFo9tParkse75rm0CnTyAaZOoqHL6x4zA6P2lmH3VE\n",
       "inqy/n53wtD9EPF03lNDVbnMKhAy3GXm4d9aYstWp9TwanDcfbcZwE7K/SbXTuzXIdRA9jl98ZoN\n",
       "wYOTULZpI0z1rA/Oqfp21rARjoaAz0QtcFOO9mXDA37oS4vvLgH3YhJEOXWn+CxOGEpoYyXOLTIq\n",
       "tfxm06vI/919Q3fUqT5+nvEbDR8OzI0oCKxpNCaAewPLEIHvewB3iriAd4aV2g2rP1o+HPYa+aMY\n",
       "Lh/1Wg8OoemmzIBswyABx4ffIO2JbTpbeylFMm7+1/WAcqFtjtbQVa9tNm4MA9FgmK3DBWiHrlu2\n",
       "mK+BSLDH4c84SMa17b3nPARfeZ9ct23C3Gq+JNh13KMsYqcFc5ajAiJDaMIMUWkbsZSZg+941Kkt\n",
       "ndPC3Rm/nj04mpbxIuWddd82zXDGgUkM0/7kdtIQaREBdmm42YhUb+zZzHQHS/tn60krydjwgRVk\n",
       "FYe5+X8qOB6pNnaSCnAouTR7+qfurBsWWX6UPBYzwptXLkIYkI4NRKvEOdGw0pJeQapRgmlnQZ8Y\n",
       "H456dr0UStmmVB0CQ2h0LCxhET2wxHGl7n6md/OoZkCqN47oYkLbGraJjRq+366nkr06mk+r2BPn\n",
       "MaGg5kMHXmJVfOSkMqueasLz8lDdgMQ9SzQXkHcgeEoHfAweZYCBAgCCHBRKjyP/Gxu1SMFLUvUd\n",
       "vmEonaqZsRuFX3FWE9M1L2LMlz9zs9yZ4GnhShhVnyjvlFaDLy5ZyuQ+INWM8nkxM+MMc4KPA+W+\n",
       "gLpwAtwRWHNMlNCKy+JcHLIMaz0Q/Ll0rE3JynDAFDmTVmTUiik7OBd1cgAIHaptVrQXwFbdY2k2\n",
       "MU/XN/myp3ecRDbCwfFxGuFXW6s7PQHFamgst3kfxFTvMc34gAAAAqhBm9hJ4Q6JlMCCn/7WjLAF\n",
       "sgiIABU3f95MVhFYTO8MoRHlKVw6CQk3wDKPbkdYFyL/aCJSf6VPthfPmZjxUdc0NQ/5NJr+VLBs\n",
       "ZBRTEmVG6h9UdihSSkUn0aTvBg5qPSkM2t7A1PtLPS4XFvIBjWXeQ+8/QmnpAWtk6gELVrDZsPvY\n",
       "M+TR2vI2yWeMhN6DxJjCEF9UgEjwbOnjE1SLqtrt3CRthvyiZRu004u2s0bESMGOepo7wf5TYms7\n",
       "UQoi1WG8boyx1V9psE1kA3g4MUHkJMiVBvIRx8urfgwvubo+Au5cgtOpHvJiJ8k0EoX6iPbz6FFg\n",
       "SLDDkeEFyM4WPqNIMcPF8/nJBZOjiceBvEVPleaYJrKxLWZ6CNpCcTZIt9FS9K+mwBgJOw//xywh\n",
       "ykNS9GjsUmXBMHgIWLp2yBKfM5SfBNLyyoaNENNcvPrd54Px+rG89BaG0/uvf4XUY1Q8NtV76L43\n",
       "0C9QUteJFPLWo2agts+WIeSvJVvm4k2JAUGRE0hxSg88gtEIKH6r+wZAmanH7qmysnFBEAPToogA\n",
       "pd0jzk6sW+aO1DuM725fevm8zwb7SZE//WaCO7wf02XuuXf7vxMZbXt/4P3eX7kcCNrgBnVPmtXm\n",
       "Cw12WL/Yi9qxgF10tXCPBSIyagsHTRtEAcuZmNsuTvIAhqjUPwCSLUJ4cbQv42jJ1dGXY9iMvAlx\n",
       "r8iI6dN9IrsIriUQjDVFN0e/qyj2qdsHh2nKcgu4CF4XABE3pP9qwhWcj6GAAP/yIWjBqlzO6X2z\n",
       "i2qDN9pn9S/URr5qEkNItcjziXCqz+yiz1Gwj578N7vDi5O/vu83op0qzCzeNNpV2Bfwhlvq0p14\n",
       "9Mwori7u0TJKWVwBNxxBaEpCyCTsCUGo/KPxtQcHRcVn/gimgQAAACtBn/ZFETwQ/wAHPnziBtT3\n",
       "qxE1K6aWDFe6FH/i4eggz1YPYxwcAwFU70OwAAAAIwGeFXRD/wAzO9grLBwMlwZt5vTwypYRo+Z/\n",
       "Q9FAHYRbzPK/AAAAEQGeF2pD/wADN+PBPcTpN4SpAAAGhUGaHEmoQWiZTAgn//61KoAGUm6Nq3We\n",
       "gCg7VToNH3kFzMoc98Q7jUs3frfGML/e7iQbkqMSeoKuQGIy8u6A2vH1nMOst3ASU94mGhniaCO7\n",
       "/hWktT93qni3HKOnYlF6QxT3I7qFI16n4C/iQS6YW5AZZyqyutKS3neKDgbHG5x60h9NnraPFsWY\n",
       "Q1+CZhf91Ls21XKjdKQz6Ch/0xjMybxx3JvpPLjxBWqAxIcOmoGiX9FJpsH5Rigi2QMD1XXJHgXE\n",
       "YtDMo5aLjpi8pL0KzEZJf3RAjehpzGX/OXYRBdVCnokw/4aba5k4pAUUVR8zrzIbYJUuK8n3d4Xl\n",
       "BeK8LfzQyldJ8sXkmV4ClQNeYPUi459sppu08nqPaU7q4EIi5AupW8SzL9cEMzplguZ++XL9CYZv\n",
       "ATllraYZsvjdSaOOji+0jueEVAjEvsNVXHTPs8a/2ocbt4vHeTu2c8JhFqv1FPMZWkgX1iexkLWh\n",
       "+KJalX3PPVgYcHBlBchoEEmSukdfqZQDgOAK69o/SBuafJnOoYi+JVUDBc+VdmIGj8+so8Aqbr2S\n",
       "BWz3kJb9HcOyz4XpG+x2rwLRDp8YH0BgVdHuiZ+so97IXe6RIwxM+YGczhUcjrRrBnIyISHvl0np\n",
       "Q5iggbNfh46/58m37db8Htpb6/gZO0mGLIRg9NudvxbAX2Z32dXspp0UNMTK7klYr+Ei2XbMsmun\n",
       "0FfpjRTWkHKA89djnBZTtVTQEWj1JZ5SNGl05I9nKoVNb7VH+MpSQZN8Aj45tfvHbaXDu1fnX7q/\n",
       "mvEt36zanRlhg3t5n4pJFj0HFrWOTBzqZLuIBuWFXKRWSPNCVNAVprpa6rHKNxubmfTvs18Y06Fc\n",
       "zC9/VlkBbrwap5YC7Kcw/4Wv43Dmc6MXRY5ECmEAsspcIxVcxjr+fgZTxX078ila1tdqekWpKwVu\n",
       "2Wa31viOpYBNQIwvk3hV+k2uChtoLZXrc8zdwZ/EJVfuU4oaSDAJoXRHbFQuq+c9Y1zmGtX9bswj\n",
       "E5zwu/rjaUl+5JdNopTl/b8JPvqBVDEvO5p28ZBOLSAMpku5BWFsoVvUE2A4UnGp7+COdg5T9P8P\n",
       "DqNPrKTHdg5vvFDQC+pMHMB4kA5fE9IXivDjU9hK2HnFQ3/mEyStmPXQJzghZMKsR4u0smF1P2Em\n",
       "IPAj8aT6pqPuZhec9+92PEHIrqWsgStkP8LHO4nBPN9rmp6t4qbt65siSNMmz4wpFLFgD8tX5lQ/\n",
       "Xa+XjpT/aJGyawEgSuzJWqLJa9OTIjYQhpu0Tm7cBy6jKHKgjCx37DnFPgF4Eu0KzHLQvjbPJNZE\n",
       "nkLvitD4lge8X2qyi1sSKCjTo1C08rtKMm04p9YGhocHQfLInDYauY5uyY+TkxE8uDtJq0wc/Oac\n",
       "IahEXTcrt1M3KSQQfP3fcFzqCM/ACR5iscgNIn+7a0cdwKRIzWgyzKDpwgm2gKe6WXZKZn0pLMA1\n",
       "Ire4fl8kRQGNntLM8WVvQI38x6U4nUFKK5DRDRs6KZFZrTy7TV09DrLXJW5xO8OAoESgUJMoa9xA\n",
       "FQFhqFghDJSvpnZ2O4gCHSirKlOT68ZLa8pUxClOKxL5fyr4aaI09LgwjjePh2fWk1SqgcbnZbuY\n",
       "gCp2BDqOKwBIbnObh39/tm8OHpDMpr5VR1JeIIM/sPINa9bZP9TmKZ/ZZ1RiAqjOmqXZCIFuve8J\n",
       "7H/3DyxT8ZQFNY3kRk3AU1X2VexdkW1mPEFeNHJZskIFoUdT1DHzAfM5jnJQY26PobwE6cPjSNIG\n",
       "cH2ra0BYnXc4+QoervebNKQswf2Od5ZaWqQlaQl+UdxsJnd7/3MHou/N4pJ+z/3cO3KwhSDAoG10\n",
       "bYqMWm/cCxgRR152d0TrW/FsoLzVYQtkNyW89K8xjMI5mKtgBqC2e+HtWcelwD1kvQIPWrjpE9XD\n",
       "qQFo76xtcPqUPdZn08EtMOqQxAqMd4v69lbyLdvP8ytpnFqBCWVugI6WAYRPdEwTyEb03Mj1LEMb\n",
       "hE2Tjht13I4CVY3ojXQp08/AieX19SDFSsHTQr1662UXthqch1at1W9PyRymaWXlzsxvAyU/+JwT\n",
       "RvcNOcBtMSOnPUXGs8kiYCov7vk8yXSC8x/noRbZpVEHAe67PhX0NG1YoCyRsQ47aDylgMz7mFv8\n",
       "xHrQqt6WeBl0KC+5We6xwb92qHYAQgpXABN4Ql1VOKCsyKHskpYRyauJvtVkYVv9C2IAAAAxQZ46\n",
       "RREsEP8AB8J7hOHI0m60t5PKSyyZMYDA2DNmkFvs+CnZbHM29lUuZw1FetP/dQAAABMBnll0Q/8A\n",
       "EVjLkJymVr8sT42YAAAAJQGeW2pD/wACGwbS98LVPaVvf/WL8Sx/yu1ZMP/bsPTUIiaGlt0AAATG\n",
       "QZpASahBbJlMCCf//rUqgBhXsETbICd5QAFmXXN/9styL/wWdo8LfGSYQWBF9E/8/+kztI0B8/NZ\n",
       "F7DB8JS0QlYXuCmDLFL7NIxWltvTuGf4UDlYj1QVAMmSL4JEqkuP+UX/FvxjB6KukhLCKDk65hVW\n",
       "CWKXAv2Kj10VyWnGWbD5duU7PfH+J8PhifI6iFGlubgWc88jw94bzWVr9H9urcS51rZIcv7+ZLvn\n",
       "CrTA1bZxggsTPeX0LOLGozLrWlI6Tiqfyzeq6ZY185k1PgoDnkhNj3dIywNzmIAGgGjWXyhh2J9s\n",
       "7ZaU9W8xQNMPLvMMWwSuz5mZNOLKKv8+xgCN3BvdduBl9e8UbUrh7xOZQBvl99PGSiDUSoyCsRgf\n",
       "stamZrD5RAzOXbiYr0yc7j+o/FnHA9xrSQfhLl94IpWvcv/wGztA2SFReTD+n32vXRje5SspvxBE\n",
       "TtwwCvlpHkoWdkLf856IkozuC3567wJrV/+DcPJdMzbMPwnKG5rJQD9mtSXatVVhtkSDNJxRAYtc\n",
       "W2fJlVNASwLZtogCBHuiMLFF5DWZnMzCA1tje6goU/8rGcKUFDsTPIWg1IuOVKV65MSSfrbmTfaN\n",
       "JF62h6N0dujeTbheX0s9V448BfCDkxIQZ8nvkXtUCBTpbQpNH9uNvkVPTQU46WFpxffvjsU31cTA\n",
       "k2cezeW9mCBuhOpeRFh6+eFcG/1vI/qVxaqdief8Vf9gy9qcHmYzPb8aCZpj/+p8cFF89+0wcBGS\n",
       "rhDKChITOr2qtueqCG84jHXDA7BJ+FtpHrQmtVC9Tp998B3Umt8mVC38O9pYORfsHO5flDr4Uyv8\n",
       "KWD4msybzCzW4mSEN4s3/DqtDcoLjg0qRRLosZTD5/2tlmHr7tbwL/IMaPloTMy67Q7gHFumfOSD\n",
       "eNf4133yE7LpcUoToL/3+TncYCyxpBX+pIoO08xIONHpoYKChSD6LJdiHyqbN1l85EteKpbbt3Gz\n",
       "tzKbeUFAD53jIWpv4z8JVuTIJ3fCj0Xm5PILj0itfrXhMCj9J8qvTE5wSS6wcl5a6+DqvivS18oH\n",
       "jVQlwdMExvGFnDWCsKiS4/6iz49wRnu9xMypJgWXoP6kTGqPf3LDIr1bURMax3yp8E36Ro3/Lpoy\n",
       "3V+DUDIYZuU2XVBiYD62iMOxCWcCM/f5jgK92/58MjpqWkdPx4rDsCtwAghL6azAfkZMbKyHzzIK\n",
       "q8IeDNl2bUAIzDKOUbGY7mvNDkaHlYNC7sVm/JHowkU5OYoHJ8JTWOCura0w+bI2DdoxzSBneYs+\n",
       "hPLaX3JZtOptUO/pe55PYkglX0+ZzsQsutLYrBKUQ/qXddWj9lhzv7iVtiwsswlrDH2pNh6nHhwS\n",
       "EphEjzffYEff1nv8vomJiV/QDgM0vpOZd0Dp405gSSMD7oLvQm3TlEkkkpQ1pK8V3MWa5RGR7wzY\n",
       "+K9NDhShczsbdWHTOL2KuH6bhp9FydtH0tLj4mO+YzLFd42YkIjf56BX/Bp6RCeSdHvwLL9+fgfR\n",
       "tj081/vpy94hko/VGeH5gdsGknHMM80xZQnhEmzjKydreuf1Hew4QjvRDu6FYRmvE6IH4WOXZPzM\n",
       "79TOXET2ukvvYA1B93c/eMYBJioOj8/tbQAAALFBnn5FFSwQ/wAc2fNC2gvUgAJaj7r8Azj672m9\n",
       "ZUn3iw8cHe6eMbsoICZ71ywoDIf18lkiVqRx7swYC5wDUuvthhvQy7sL0NhNpQTrWJa0ZijwPfUz\n",
       "ELs31GIc6g4fV0+eJ2OofPEOhmJh1FZUNnelmmUZS7dKYXw7lDVQNHeAeW5i5qmaMHZNGzbycnc7\n",
       "x+f/XmKs3kbGth/JfBIDpPo1OlBH7egc/l5Ek+4LCUXHcSIAAAAnAZ6ddEP/AG+pawhI6mWHl2QA\n",
       "fvReujsmqVYeJdaMgMllt4/V3DBwAAAAQwGen2pD/wBvk8MzbOIpsqpkAH8ieUtBN9JXprVHB9Ko\n",
       "qJCPF9mkNI2lEnhKfhkEdLBjb27sb52OKl4xKtLnLqjcMCEAAAVsQZqESahBbJlMCCf//rUqgBYU\n",
       "WHpUBM0AC7OuCAVmuMdAvBpCNWzsz9FPzp4yXmE/85ZlU732kCQbmX9W49P0noslPPUTUVOgUkfV\n",
       "a8Ohd57Wg1XqSVOnCftjTBQ39qgr8vIvsqXbZz9e8l21+XE9MoNQWRLezUdxn0KBC/lw1JBvzRgv\n",
       "Q7QHdpVxVVAhbMS0YIRcv4zNIhmiESYiH9LvDQ9/2qwFIEGtZSgylHQzQgxzJY4S+t6Jaoh1G4Bw\n",
       "Bey58ZPFFCqyYT77Zyi8QwcB+HSlbOet/I7tNLIN12OMy5qeEddhgnRGZTS6XsKM6+DjXeK6rkc8\n",
       "SWMfZVMGhe+EHoZPb1phw1pBT9FJr5iJ2MHULtExPklf8kNIdUzZIr0aWY/0LaMR5No3q+qdzHG1\n",
       "YWBZ1CS1vg+anWDGLmX+adTQjfJlers7n05iiN2s87HhgP/LcOcH3XeDaOOoK9AdcVL9+WI3Ko8Z\n",
       "J70fBrcAU+DG70Hzm9j7udppGrSPHDSJ3nhiYPBwQBNVi/2dMwvGzbx6kHYf6Kq0sE77Rsg+EUBK\n",
       "s055Blp+oO79gyOaG4+6UDIFoXKnb6zefAXXf4Yti2nIXwWAO9KqB5DoqLKq1KEf5NRiDaTeXSEO\n",
       "j1kz8KmTx3Vo4iuatp5uolIHyzEpjLifRi9B3O3FEo4QHV36f5AC3A4E9ufB7mWk36RaKbpVNVZu\n",
       "0e2gKmvhl5b8uAGNU7GA1D3AAPm8C5B/goDmBW2MKMWLV1anzpdpLd7kQvXkTyLXp30KOUoU68E7\n",
       "ndwu6iw/k5jEs7DS/Rw1txCe3Umt/XfmP9GzIzr4Ut/dJ1iZpInfzI4KxigS1YXYdcH4surpud3s\n",
       "jKgZ6Dz/E6206TZPsSMvEnO/R6s58Choy+fp9blnPz4QWlVPUWeZhp6RSaWWRamr+izlwUINJinU\n",
       "0/1fP+1Q2nyI8J3/BXY9vd9C4txm8718jmgzUa/qYXglN/xfGF6/AvXVe42gC5N5z14n2AK3upZm\n",
       "hRdJKD1eEJ8kdRu4xIqF+zcaDMgXQKosfHqwSAhDa/UYIqgzuparPvaKq79yuh3N9Uddp5+9F2Ia\n",
       "ojUy4025GnswtJVxvNtoGAC3M1MxoS3D2rHOMX2B47qtR5yqoG4EL5gaSHUCF8ef/fIen55g3efa\n",
       "zFAfldzH17zaFHhLSzWaE3pGp7rKbRk2FSvFtljt7jXQVChP1ExyiOLhFlr+rMXkaBumiHEdLD17\n",
       "3RnWZ5hR+MNMXWYqM3FjdBOjHDfoE/iXXZhiiCJdA8i23yHZxYL9/zVMeAxt7VF8mURKKDpCx1+d\n",
       "EEVroy05mEpbeM8eh478U9pHpM2eDmKXtx4PIQZidfbSJqQ/U7BtK6Tx2vUQhHnm1Qrmp+zMMWBc\n",
       "e6qo9K6opa/KynXmwlJ7e55/Jlj6oIpEAg+CldDAdjEy6lv9u3fWxanX7eXMzXNIOHmTM2bTvvqF\n",
       "CXAf82La/qk7Iz9R2VGJQoVFj8VCWisQAKPDavNblLJhM0wS7hz+qcET6NNyyl9lSPP07YxQBm+Q\n",
       "23JXFjoacgeNhe0xHZOgf3AqmBhsHVC9ktn1KkEUMq0z189O3d37D0MaELTGA2zb7SBj4z3xn8wk\n",
       "TVUynQKG/kwEmWgv8K0DTw4NduIEzDrrXQr0sXow+eLJPSLeAWTfimCVMq/ry4oIpKqndNbRJZNj\n",
       "Zya66CpJwSyt2pIRhSVGo5zEC+eB9ieFxF8IAMaX6z7Q0IubhQSrQbyUIVn+FjsP/VQnH6Id/Vqf\n",
       "zyE0YwUufWs5FYBnBV5Jpt/P2cR3/wojtjtSpcHrJpWMgFJ50Az0WMGKJRyKLXe7Wcq4zPT8g6gK\n",
       "sCAAAABAQZ6iRRUsEP8AGtohTbsX8XlNi7/SXwgbU8swBBttxL9v+zNQ+LSL0VN/fmaPtAfXl2+D\n",
       "lpWGiqk7PoT0/RyT8QAAAC0BnsF0Q/8AOxX2g4sX8WmURfG6xe1vcVzGPkwFg/rFWDjtjLgO10Fz\n",
       "ktonJIAAAAAWAZ7DakP/AAO12Qf+dm6DzMQku5wjbwAAC+pBmsdJqEFsmUwIJf/+tSqAG4KSwlYB\n",
       "Y7X5EpcvHA5pFJChNXqZ7uItf94KB8T/8HhdSkfR4RdA8HK2HuDVE6gaADKozw+sDcV9jnbrIwtr\n",
       "/bQCLHjt5g8rCS/uzXSArhAwjO73DPFYW6XaVwYdYKf2KphEUk/t82qn63bQ34Mr3BVpnjct/gFG\n",
       "uiQBrbRz//Oor/N/JTx0oQob7/152BbE7PvFX8PT4TRI+I1Kk6eVm1olejTH4d7s7WqYwn+vsl+m\n",
       "XLa4++jIjMJGYgWu2GMNfdkuZZgvDgTZzfs1WtS9UiV0pj8d0HDzMnnetTYFz56stRBAqbTQ/x5a\n",
       "cK4fUA7lzIsaInf2vebAsCAUWzewfo0m3a5CYADxtMNBXz8e4NlNJCLN02qoNfLVF/CWmt2DO3dM\n",
       "lV3xQGDOft4QojsBXd0nAeDozZKkeduH2ay2P8lG2/ur9QhwLFROdQfLsCy6ufJv6tKG9LWZMLoF\n",
       "NdFx7ohfeg3aFTlicUA1osjSLPYZFqxSdkj365h/O+V8t1EOXylE92WzH60IlddRHrcfpO4Gd4hm\n",
       "h6kL7DbevsgQ8rGNGrPe8KtnUw7DwuJme+nYVf09Lk2hUpzVmM4BMxKPlefcmLSo+UqUG46WF77+\n",
       "gyjYxTAJelM0jOul6iycwqQcSCURmQ8u1HItpXq9AYpPVU3YfTreGvMXWmDOy7ClW2IfTPyD/tX9\n",
       "W2knaGBu3KJ20J3uUIWhaSFjY9FrywRlPBSMAGKTrR1R34eyNdatfEEQ4qTpxS4Z6qx10WZrFdeR\n",
       "qYHnAlQlmkMske5WL3sX0BV6FTrdwa7cwyK5tFrfi+rdC5ilRrkQp/5SDsblgETVNEBDTpbdhmnt\n",
       "5AJxj8BLg5WW2q7sFFLNHm7TV0ibcA41rM7fNeACFeMmcqR0u3YCn8dGJ50Znj3OZPKIOXJUEiJM\n",
       "dnp2Uj943fm69u9jEQ3qdKiYyJkLRF2eCFPiwsdYyucJY0p+cA5dAHxY2eU0gPgAUmMTcorJg5VX\n",
       "NocJkWE0RxO3L815kyCpg0F+WvabqXQB7OpqNitrzQB+pYseYogiB8LvUl6J1PiOQA3WO85d4m4H\n",
       "5wOL67/2OlMqky1HvsaMpCG0XjRUukKsZzFERDpI87UbrB7Ev0TsQY7kfJau2KmftaFAl36P45Fg\n",
       "KRwfU7jWWmhBcX8ETdG4yYvCqH43ZL/6Xmvy0Zp6z25TtWJe/HiHvYia9trXA+f0CT1Xl5VdfISk\n",
       "7FZykEg7c1RYeyx7fwp+KwCAC/iZrIGjzHRwwQPVv+0N7zhO59emcgaboyFOUKYkejNyfsS8N9aS\n",
       "EQq/r+OCx6FFzDJiFZ//uVPqAxkEkR+7238ElYGI5FnMPtUPrTdnsKGC6/n8tTpxFgxX5zCmUTwC\n",
       "JthIoKq1UL/3qP80MumQrik7S+tng6ojMay34EMrQxGoW6XI+0WjGsjdHTXnatrH7c3FrTihG4cT\n",
       "32JhQzD9cjBzp7+39p1GTeXu7/DO81NELGa2OIfSvbLAKXYOZsRrajQ/PmuFhrugi+xjzO1Ptx7R\n",
       "55UVpvWf3gGSUTpTrOqBwUX3Jqb6LNI3pJmXosWfMfEJIFCFxENXFNxalQ3vx7gcnVSWba1ov7FV\n",
       "m+qwXmQAiJYCjTmUY00+a/tS/E0xDayY8YXUDzVywEuUA1quXaGCTxtC7cxNGdflquariSp1KzNq\n",
       "LAHzYXbe6f7Xdco1dgaI4lS2FF0sTkEnl28UC4s/j+aat9IFNpJCSATPZWNH8gkC7ijwlsKDzybI\n",
       "ko8xdSSeIaNEwQBUnW/F7QpCnkWbDl1AalMCMFzW5UzytIEGL5xzqHRElXfx73YoIiB6zQ2uqUGw\n",
       "XieZVzBbxXy/19EhpZ51A4eY37Dp3Q2nZfOzeIlB8LghQKU/jInDVCPquzoNyNy7B4UeL/H1qf7B\n",
       "W2oNy92mUdSskY3n5PzGKKzt3+ZmfSIS/VjQjbTzSJsNfcd2EDl6EGtxwqEDp+VO38TarQSNV5RG\n",
       "OHHADe+VVEvlB/Afm9rZeIN3o6lLHJgsh4i4onbmvxiOJv2yR1l3EUjY4ehJGvGtj7V5DLw78wiK\n",
       "BUd9jz8gfpswqu+fjvnlNwGiVe3TiFfzBMUx8womTeKL69iXNdkzmvjAHtQVzZi30+t39/8wOCbn\n",
       "p4E12WOMWUTuYbSlXRC86M1ZOxdxbYSeK6M0ygRxPHM1o99eupUzraNhIMo1PNS2gzxEzVVx27L2\n",
       "RUNJGpWaZDjZGiVy5vTmLUar5J4nIIkb3jxI+yeYp0FvcBuzLEZlrkR4KxQXMWkvEtMfYCbNxPdO\n",
       "UrHHJw7uNhVmSQzn5NHToII303f3D7UaSWxeJpj19McW/lyq1aWK+V53sDS4ZoEl10LNRM7buTim\n",
       "yH8VNyBdi/9b1F8tHvlw2soUxLWr0K9lQCFHpI4Yni3yeVBkGej9O1zdogG1OLAZFh9sVbkPezux\n",
       "0k5w6+ZGZr6jV9P8nwe6skPD6MRLqXMQ2UnxEC9vy4xvdAU5V8DjpsKmV8byDR15Fh9TYGAPXLxu\n",
       "7ILYSgqp2PSqA0vDXkFbjCIF5SzZC9x2rXY3dQqHW8BYCsozbYIVyScxnhDziW3BUPXLWRHKAOcb\n",
       "W4W2i5ZD9z39yewFEmeqcZp6GdT32MnKUTKPB4fQVPVoQPsZZ2LkQCmjOeqxHvxnRZz0qp7uxGHw\n",
       "R/zHBRs0Tp4DsABPdSq94JvcbU+VyW/EOub6ShkCCemUmlRX2AZeJbwMNRNJAnQ18Xbv8LymMY/a\n",
       "CwuXT7TRPktTQ5ShAdYY/UGY+y7qO9nbURNA+5G0XxIVbCkyQRS/irdA82UMFw2n8Z3KQXxD/GDc\n",
       "1hatFtA1DP/XwTw1xxbFaIFw1FfoE+ILp8NZsqYmgXFZyOCglPJuAfcnpVGB/RU6d1QkPO48i6zE\n",
       "PsJqRqBJDduszRKW2XgEkPpudSo1qki/D60AYOe12kxJXz8/5WNWqn71WtgOIHR4xxeWem+rzb90\n",
       "I8lrAO551ByAB9kDi+P5cBfNck7VyHT/dIQXv2rpSzZh58J23o474xsdijXVWAX+Fleq3ExjFjja\n",
       "0/kDAuIboFD6HGkOhdHVLNG0SJmWaipEx8U3eJ9NwxuyQaseM2Lt4U1gE54IjEs1kwpKjQMnSJ1Z\n",
       "9Bt8Zr6uHoXPPG7g4wMKWS9m+rmAGuoAqKuoLJtP3z9ynFHmawsjLO+jUQ35EgifjO/YGC0w5VcJ\n",
       "laXfF4LKDTNpVAZxIPRRu2D2HcLOxvU02rMDmIUOmKF2+epUK+K90AT16YBLmjvhQEDPgy9fNaMY\n",
       "/EAXFoHVDp+PiMsmZ40JbqYgFWfjvwNsEKDKie85FawNAPFWmdFEwL5DJmtb9QvnyZss8nBxTAC9\n",
       "Jg20YEvNnm0DLnFRI7/mB9nxQ8fd8Fzy9AEjhc/FAv4L8PmjBcJnYMHd9xwA4yu5H5W27bfh5CsJ\n",
       "rpmeEk3vtbcKHmGfB643OGNbQ5iGiJqj+Sxi+pxdaOK9p3IHD/8FHAszFOKU4C0QaUp6e/0fo3FS\n",
       "GcgmetWko0VhuoUa6AWqsBxoRtnD1Q6aDisAx3MibvieRuUSxbq4robGlRfCy+5PORy8etOt9Lch\n",
       "JZt1cNMUYMFrpGg7GNlz8l/BYbIn2obVpWFefA6B5l1c4C5mVrQqE1VXaTmsO9czyWl4hzWm9Kf7\n",
       "EN/TMqYIY51lGrm80b2DZsuZiKjg8CZCLH+Wykj7nUvdjCEve/ayyTAaahpGuUH4Cdg5cjmEbfZF\n",
       "ag2XHjZ+ulgMHluYgpaF9mT5ubjOyhRk775FvBgPWYcqMH6gFFH/B/yQzKJaM89VcSKE4PUWNd+U\n",
       "dwIflMm3GFhKkalRW/g8e8bbz43/lu26mMwhvc7TAb2qgfSvi4frwTTS2aoFkE8N1tTyiaF9yaKi\n",
       "+aOejW09xs4LS15YDOFqCqLW39c4TXusTViEOfFYdaM1amhQdg9YdBY7YPyz+nGg07LEslrO9Lqa\n",
       "SL6/+O5ZW0sl8NDtuHTDHkon87Cp/x3ACfK4VynYE5KIWpXOvRYwg0dQaB683CX36I151bBDu+zL\n",
       "jwktKlVjMwAAAkpBnuZCH/8AkANob6x/jkNveUAH70XStmlqKITfu5o+o1/etNlfTztyPt6REz+u\n",
       "T0kd7CSwei83871EL8Nu28n43VOZbsCuWyjM/vOrD0CHPiXvpxMc9gsXS61zEQ4QIGbO0DcPxRUC\n",
       "evIOjey5xKaXxMgaFJTpYNp8xhV+hzlZmnKGn2iE2r045T1//h4YxhFt4E8E7tDyIrWERwdg14Vv\n",
       "NGDrvijLP4dahzRL2fncM3ZzvMNvPikJ7O1MIfm1senx5M2WmQtMdJQ8nrD1aaueaNSxdd9wfyZx\n",
       "DccisfukyOC46E7kjIfKh5DEhJwjYXhOJF4KyhCeBmKlvE52BEqB2OYiNwNBYea/Wi4dKxXzNaNB\n",
       "Fg+iHN0VLo4RpcGIWvtc6n19QVfS0IYDNC4cF0Mo1ZkcrfFM5FKaC1jIE1DrfiI+znZgNjaXzHXW\n",
       "5WVQ0IvKKl7VCTClXZbHi6Oe3LvZHqc74WQznf0TjggHu0wkyRDLrz/py3wXoVFA/vOkZwM0UK4c\n",
       "oRGZHWBVDgj7KUpdI3a4IseWcgqCENehqNbjEYu1snuETgZZANSYkoWvvm+0CXTNZ2E0YJvq6yhr\n",
       "cICGwlbumTwsmKCPC6Pquu36tGuLCSDGUbl5b0A7WKOK9pzuNDE1AL9OQGv9Vo/QBhNnIBtWTUSf\n",
       "TE6peunUK5k/gVLQnh3jAeYvAld2pJlFoou4ZdqDEpPj/WsgKp8H88zPflgDkXktikH7AjIpmL+c\n",
       "S3VOzxSJKOjB3KuFom1dO+pHS/l5m1C0DHuhAAAA+AGfBWkQ/wCCu1uZyWJWP47I+YqJr1CzNACd\n",
       "uHdPDQs4ARM41Plo7mTVrfDB7Sp0HVVL8KVgPUFwS+WB/+P4huSze8FVcV5NFX3JN5yt7RcEDLOv\n",
       "NSD9c/618TV1+IHAi+I/E2zHu6wDW5JX++a3/f0A8cvMUqXAr05b4i2YU7GLzMRJ+xeUjsG8imrG\n",
       "lY5RgI/y8H6eUH0UjojnSjjwVG+lh64Idiq8rSoRz1vh+zq/VP5VY04lkBo84Sc5wc8J4kaatBya\n",
       "DylNNY57wAgAk7hldYV1jPmzvu/6I+ZF0p6tQdNCdEpfiuQlJu6zexe+98XUAHJ5Nuj5AAABt0Gb\n",
       "CEmoQWyZTAgn//61KoCpbUNs2UP4SASREKhRKAem9vzNbi1tcAj7YkDzkjv8wKjX05OyUVp/m308\n",
       "vpY4oRAdVXxi7z3yjA4+8nlW6MjrasSqAKp6r5eO2BqKn5SWsqyJ11MeZ1BxCyjEiD0TBZuTEDbl\n",
       "dEPnM/KWu27VAqECxwny+KuxNi8/Hcq5KjLfYT2Bc58JAXeHkoP8BqfgaDvAPQYamhPSNEDjTgWD\n",
       "bIwsa8OTTLfrYYGs0U/yzXXehV5MtYkOBPcU7JOZzAzeyC4LfaEpAM6hzSoeoa9U7oyQKmZBoVj4\n",
       "AYsqEQv4rSVz9T4XFnUMAQuZahe3fbjJq4KpZo+JP2pfokDgxJa4ae4EUsdk/dGppZiQt4Ly6rgb\n",
       "GTSo8EjAyrXuH0YpeRSrU5DJp4g0am+3eZzDMeDnd2qxiM+ZH+c5GIQq8geFD3eb9KeJA0ah5LYn\n",
       "NT4zwM7Pgc6hL3yZznSRBOuutD9lQ9uTRa0/hM8rLsT6v32UT3L2awk/6XJdVJNTk2oXSeDYsEmH\n",
       "wfWnSBdL1je/hcP2VvewX9ayjXKmOoae2Yigc+VwriIRoyJNpIAAAA6xQZspSeEKUmUwIJ///rUq\n",
       "gBo9kPiLqlyD0AdFwLU4W+rR3HFf0CcgmyFAXxnuD2NFCj12FOiQbddMbFSN57ylYKhkwscHXCPr\n",
       "gqJnnhH5EzZguV95K1CkIX66tt/lUfAOdrQgMImDcltbx9S5GELnz6xAzzYySULhhzum0ksYMsBM\n",
       "nu1bS6dQLj2dQSWAo5iagLinlwQ3mxcNjUOnf5LMDnMVXYtqzkBupusDOu6/JSryf3mcb3AGv+nr\n",
       "nSLI2frv0Cex3x7+T9fPyNaYwh9qWY6JGP/mzrt8Cag3B3BAwU0VrLWkNgoJsQbnQTcqffv7wwN4\n",
       "QBP9vx2UzKTLdxszKDYfMehhzLZXVe9K2S9TuMXDPHerrIo5GC6NzxD1JOWKGXB8E/StCiZhq/JX\n",
       "X2N28nTMpSpbPI/YFAC+xmXnKMLgq2jyA9QXWYTO2E5EQZxoPMIjC2s658Zs6tqg/GPQ6+bMo/5I\n",
       "Vxux6d2Xfs1lgQETgBWm3A3MuMikQzbz7qja7/ZMi9R7qC5e3jRq2VdwgN/uKS9sTaHaztN/Mqj/\n",
       "KLPZeqw9WZ/4k7blY/Xs1psgcnlZ8wXbBPwuffAm/rstXt4XUU09TmHNIzn7cZ10I7jRKBnt7Zhq\n",
       "oH1rEeFATWu70N81Mrc/9qdYjDu/ozodc/s48koNz7FWitv4kg6tepW0C2Ei+jChucKPvaLX0Blw\n",
       "LbnTwDrPfx6GulSuGk3cYww55+lOB0srENmW2JsCQw1ujRyOUu+20JIwPVyqgl0IAVMeJ3jmp17N\n",
       "oInprlYm2kn8kmTeqqAPznmyMTPAoQXZtZhMCH9Kku07q6KyyuGWG5yemihESoGYHALG91pI22Ts\n",
       "g+FGlNBVQFXU7uZ7ME3JMTlWOSSiRI4QV08jVVAbbpjbR4VvOe3W27AEIyMZr3PqrQGVGC+KwYVo\n",
       "PF3PxoyH8YKe0XIjbnnvVKwXeosIAhqCmqsxjpCtUq4E5gCC1SbUMiIjUjRvnFEnl122h5vdOTK5\n",
       "pFFgtb4ejQqsp4kfR7UqIma5bBLhQ2JwCZbWy5frBx8ScSc8BJG3bzkY4W32g++t5YyC29jT+cvZ\n",
       "HGedTTuNrKeU9JHGbPTCGfJyOCUwEGunJgCt8Z/1SSZcpYv4HBBjU0rKIF6KvwvCoivrk3pzcSxH\n",
       "Y6/ebE5wVdCUy0jnRU0plRs9D9ArT1v9IUi7UTOdr/zfvDj79QO2BB6biW+eJsL5k0PTY6j9VYdU\n",
       "xxmkA+bNzWlkiDUUOH0Qq3slD/6F7FKEU8KOISNo6NMKKUKwRy1UuiTZFfBqUlKGzYugBilIodFe\n",
       "Cj/t+uY9fI8I/KQuaT3G9drieatKCX/Qp8zQeyblszaQUuWLCB5GkxjOSjVtyglCaG5Aec8JXLJi\n",
       "tqGhuooZGFKyDRqffTJAifGciu+4QOe/3HhLEv3tUezUR2YH5weNtfMiXzjgwVy1xvMiiZVI4IHG\n",
       "8fIA4Tp0hWoeOHRl8ZnefyJTR0dfSU6TY2b2qMasBy09aWJgVtVgyA4xA26a1domgD/1g5KUVA0z\n",
       "ujq+SV8CnwIVn9B6Y6U8FLms3x95ZEW8F8a7TBn0c8dqXNL091ETTyUllxyvwZ4X4Fq8u6ogJhJS\n",
       "zG+KItAUJdA92Fm/t8TUWRWbVwyZDWeNxykbJky2pUuFKvhe81KTgRhnmVe5Ouf4sWFlS8L5D5X6\n",
       "rL7YOYAJOe4+Qwrp6eGEFBlcUKaWvWuoEr4nu40T0A7AwGtvxOfZ6iDBaLWnmtcLQieBT5rKEyYF\n",
       "j3Fdoc38a9aIKEQ5/lveSpvaHHsReb7eeLqUANAwdo7eoduvwTxZOMEXRXdpu4dQelASotsENpw5\n",
       "wzN6p86LNGK29BT+kFNLWC6e9+l1e0OlMujGqYcUOwhYi63zX2tCOtNSZiDXYFhi4zt82fuPZ+XZ\n",
       "QMhWHfvCAMZpTqf2fueTUyMJhC2ghVrFE5xPP0KP5G5ghLGr2YMdCriFA4DDUNeQIhhwEGuLTNHm\n",
       "bPSMyZJKjMn16Dcqh8+WCY9im+Phw5f8G3mHjxHfpc/5wBBC/DmFR+Es6/OuqpS4Oy8bgyqEvLom\n",
       "qXFlLoFsfnxHgy3xp+BJo+mY/jll6114LTaC2CaYnrvfDtm3SWg6Q950EhFSeHivdW6RMi8/xJMG\n",
       "8PoJSdZnd8Y0WB1xed6N39WkwOl63zdxSwpINyB8hPl8ugetljTwwpa35tMwZr9sqc3eHErEBaRB\n",
       "dS3CZotdrv9PRqZZ3BSY2ylrMnIUyrejTv44gH8Aogobj96Ru7qKHeOMnyilgw78Xj4S+QC2thWV\n",
       "9hYyRS33YhQofUoXXYAZadt+865cnRuIA2pjOyWLwS8T+u6ZzAdQAtx/eZrgQc+71ioAvDnWF+LU\n",
       "yyIXKogMgXsBwrtfFGArlMffU/FJbByUmnwr3luXTAI/LSfh1ZGRP5fQJfbxwiNjxIf5WysOchQV\n",
       "FKC5vrhcNqM2UcvEzbEaCLgNQIRpo9NtzcBUuKsfm3HL3gLWaL3Z5z9xdeDEe8gQUQcpee5PmDFq\n",
       "wOtrBrPVuOKnXII9j88GjNUysiqJ4AmwihYmxab0TrRaOsNywO9O2F6qWmI7Px+y+czdeo4H5vvQ\n",
       "J1VeSdARzts8oYQPqINT7unPnuhjgyK32oGlvds/0RXIaKIKX2Sgp1HDF54GX0ARad/zL7adOWy9\n",
       "zlfCi20UxBFv4BHNnGMV5avLaFU94IFaxzuWYJFASWzN7SA/jcSH9CEI+6vDokdKbCq9gwHzFXXt\n",
       "4DqHIIku0pjHym+sqZcJcSoOklYwvtLVfVQTrQGtMkY7LkpDj1cDeCj+mI8EwgbAIEMMgNSsd7PX\n",
       "h9nzDpTjZuywr+3dDzPAWQefQ3tr+U15dze/1rfw7b1MYZDjmaVcfRaDATH3zSjvOIAy/AN2NBHO\n",
       "33WwkFf8p7yZIzU/e3ho5euV5so4CsnjPFivIO4+vjx+yVDirMpICMnidECGuN/wH//tlV8KH0ui\n",
       "Aa3f8LvB33DM5Q5A/UR33ykG4gJAW91Jh9ULBvg85Fow7MH2FdWm2XDRxRMiKZKdcOn4TGGe5pDs\n",
       "l6jWumqG4Q1jfs4wBZiCHKs7DxSTNCcSv1gEvRwrBYAfMgfDRxdloLnQOMUNUL3oQssVHaiCd0Aq\n",
       "kJSZJ3Po65bcrPOcpGFesGjEcOM6JZfAOF9RcaOZDTeTUk617OGWqHemzBYESLIXNruVvlRc7Anu\n",
       "tYstxQOkusVO/VE7qiGY+ofC/BXgol9EwidN6RJSk4wPVmf6anJrY0QoGv+1+gvofdhSNar8kAuA\n",
       "YQATq/EhDYeFaqUqHhDSlPr+HJXwI/1gNjnC3xYZ37RkwssUUVn69aYQf1e6KHIB6qd4U1E3/IKh\n",
       "AppDdogcZnr0f/qU49RRbC/6n2UYpScswcKFoNKmdqsJSmM1Q5xyU9zPlFTTcEwMpA3Kz15ImBth\n",
       "xvMiGhjtVHE3J8JDlAD9MtE44Z6GgtAVrAWN/zz+/tHaTq3TIvc+zBt9vmw1DqkPvkLMl6SkOw1y\n",
       "BwmSkDzh7ShO9fsVq+Ii3GiufuTuooKuhFK2RPS8InLM1ZJOUHMsHUMm0LQso2s+GyQhphGq78Bi\n",
       "CGneXL5z0AGveTbLyBKVnVbwyyOq3TA3Dc16K3VWg1lnFzyrjXv8BqXWVjDUwAUnPeNxxIysLhVw\n",
       "+2/Kpg0uZ+V1Oy+iJZitEa/GMV5Wn8cUC5fbvAQ3sx2h2sXcbCkHkpilDOz+H0hq1GlJiQcAZVYn\n",
       "fA8h168pKXKa7a+JalYnuTIWLOcwTBhn5n63IKGbPgrvwgX+dwM9j8X5/uO2RKWldjfg+HzSet+l\n",
       "vyV4ODcymt7l9PumSSEel9DP2ASl2xozIC7PW+979IlUFDEr2L+3W0gsbNl0indumVArqBOU1tur\n",
       "WpjOEr0u7o2nt5hSMHqw6RkkStC+O/6+EcEIez8IgqHT5WA5nnl0xx7icVhgahxY8gG2yvNRmElz\n",
       "EvFN1+Mcrssa+189rTpXPuchZGPeO6+Bz+YFK28J69Q0lMDuuSjq1d1f1aEcV8jRX25uK3N+xMGM\n",
       "yWa3CM1c4KoBfyRpRXtH6t/Wc4O23GFpfxbQgzhgZo/G87unxnnzcBFf2P4aSHN6GOjnhfl9pZG1\n",
       "a6olAs//WSvRbnuZ3CE5PpG9pQLMU98chhv/NOFdt7mrLzVcD6OVqTEyd2cU8JU+OBBnsEC2XBT6\n",
       "yC6by22JYpF/0g78BSMBhRn03bN7LCcjHicwTIglAzz3MyzOp3rZ+3DQO+OG7nyry9zJndh2CgHz\n",
       "AlHHXNydr1HRaFnDVahP0PEORnnGRW42bZh42TX6xAoHJn2Z9ZLOSL8r3jjeBakswWIwHVItrB/w\n",
       "MsuUnEnuh/yn37wl0jt/7c58JYnSuid/G+uryW5oqpFIMfj+jsL5PqJvUtSIlZsSpz9ZfvembibA\n",
       "t45N/UKk+140j1F6THMapAc4F5kKdgRLeWCnGfhI6ID8guE40V8wBZtCoyF8IDTh/yPjndX30WUO\n",
       "6Ox5t9w5B7LuE6j+4beJLp3rDUlsruVii37miJnJO96/0DPNXl6+o3vbwyjt5dvDveEuaWVE5ab3\n",
       "0zwZVMLPAUbheQP9ALBtN+HFeq4J7u6oq6X25RL+sjTE+psT+AbWbiD7skgV5doCu2J4JPWLHvda\n",
       "QVTpubKbU1ezXoDk+qiAnyaPp8e+ZOVG4Qpi3AsGyZGKZZhBA0VioX9KaAhAsiBbnbFCu3LXx32B\n",
       "t6UtgmWXbRRx4Cp+eh24xD306UHC1VDjZ8bqZ0b2XO4SEYiuAVEfmo2dfMC4sxANd3ilYRBDMKIA\n",
       "iXfKFUUM6W87Y3bihT71YLEN0fCQzxm2k4WiNVkntqjbKPRjY2o4aYsFKk7eTSXSX7vqVxQ6R/hz\n",
       "noLuHc/CQUeJco6NZLN7/uz1NYbGBMc7uNvl5RclqVV4G2+M2BIYQAAbwgMR5dneOTWOm0CU85JB\n",
       "GwqQaWyivUBVT79aT6o0m6NBYzuhp570pvI93SUxl5MHQhpDJJSEzoAAAAOnQZtMSeEOiZTAgn/+\n",
       "tSqAGj3+cinaADkt3rfZxpz6KKt33/tIiNmpHe2PS/xGiLuM75EUkNt4cg4N3ZCVwcj2FXuwgPSc\n",
       "pIJUUmzWtS3CC4kGkCjOioQCEJAVrYQhMg/02FMlTWmZEhVm89rHWES8QnLTnXGqKMTtSMJNeHsl\n",
       "3tDUMPPfCo+fqKHn8msYhw+MlRk/ih2dEehXhpUIjrePPqCPuEtgWyH5gbT97jmI9HrdFz0Si0LB\n",
       "NrCehxYmrZrU4h94ULMO+ha8rnB9Lj9L1AoU/fq9ij9WyymnJfAB9Wu4JwZ55FP0FeIGyAv0vX1f\n",
       "7C50bz63/3pGUvn+qQa13N5gOv4YIq0ZRzAb5j+AslGFj/3aPlfW4x/y3R6zdvCtj4PbFyUfprGp\n",
       "VUzbyLD8XFuEoO8NP2h4PjOJT0P6W0HW+T6O2fTu+F7+NVRCuQTosse5d0Q2caze9PfzTDUMXOtx\n",
       "Jpgvk+sPQB7ffpDPayo0Uf3XPDkdhZyaCTR+ai/dK3b66CWwCu9vUOkgjYl20yIZoTUkSERb9057\n",
       "wnc9Sd+S2R1DVtptbQRGBi71s3ePH/9HYmnVmOBUuUkw7VNbSVLePpRd1ieBtTsVdN/dZ8/Uqm9D\n",
       "RFlM3tycs8IPTihFhNdoXw2Xgvm4csP46ViTc8X+q5KLI353r4CURmG0TC7TgK6SubvPvopjsLJ/\n",
       "9p9IDd29/I0IP7kcXSqNZ/SuI9Guk7UQp4Him9GzB8+37PDAxfHRomsWrL1G0uC1GgoIbSb2ljWr\n",
       "sJH0vw+s4vFBElAfLVqaXAtOiOE8r3qxi1H4OX+kqpPT8Gx4wToP1SKJf07rXzDbt/b78JnfqO67\n",
       "N1wPG/mzZ/kBZJP91ICpvHkkEkjwlGmYOqF+B+pSmC9CJCo7RIbb9TxQYFJwzUJg98dNcz33NZSX\n",
       "19keyZbvPoWIUjxKj7CpchEbO/SWtkdmiycTZAaPQlISXJLc4zoYmA6TlrB2MtT2qmADPQs9YrVE\n",
       "BWJqPcH8SVzKQCxJHeWHbM+LMvI3mne3G/7EjLgOts8TjoElFyz6UYYpFlW797lSJSBWWDrWwAdr\n",
       "GQKT6uT8f7GkLjLmUmQBeHfYjSjFus5S+YD5vCRTwmJkjTjmXNSUfctAA4mTwXU+qWjIjLPf88RL\n",
       "XtOnZYVDNRu+47qfvSxMpIoLYaWL+x1Gp+eSV0imaQ0u5X9i7P16dBT0DqcqTd3QF0Ob7UBLcX5e\n",
       "NGvocIcJBFYi1WcAAAAlQZ9rQh//ACGtIMyUTeiiuxa8EExqvvBNZdDdimi2rArAEIBSQAAAALwB\n",
       "n4ppEP8AQN19WGDmcuNajvEz+ujw9ur00ADjfHqvYa7gDdWiOgurLJDNaJKubOaAU8d+sw6ibKaH\n",
       "txBv7q3Ntpns1NoYgn5vo0uThS3WslxLDaQX6+J8kQrJ1y4s+1cPqkjHvy1HiJKy9x2+gB0Y28zu\n",
       "DZ8/SYY20zYgoeM/1vr0zXOP+/5Hs/N+HzM84vqFKxe6hXNXvROAVteO3/8/44aqdD19T7K+GQ7Y\n",
       "Y78Fa3i+4b5JylUaQjUyegAAC71Bm5BJqEFomUwIJ//+tSqAGmLX8IAdLeY94yKbAg52/M+r5nmH\n",
       "eyJLzgg/M1oeb7eo9uEJbWtFgqtcn9fu+2T9aZxH/Jm/9B/+PB6u2O+TbfkENxIUOIAlZfLCgc2J\n",
       "5EcnGzfztXIL4O8TbvvmsgUIYVh4mIOW0LmwAE1kiH0nvqfpp1Oo2xe+koUOZcExDczxuiUby8CN\n",
       "cpZ+tlv14vFAScXbpgiA2051nvnerC2wi+RN+X1DpVNi0WmkU8Afm3m4HBwr2/yVrZyZNfVmiR43\n",
       "lvrJL4jA04tylSilvQ4DK45Mqi5lQtjTXBAoKJRBrVIPS06RxZ1XDvd17yaiaP/R/5wCHMf31WIS\n",
       "EuvnvuxNd8i5SDoxFOEvOp1EP305ciVbgRLH2NRGwOnWZPQFqvRf6UupXFDVuqEEWIZFdMTpMlbh\n",
       "ka4P3Sf3w0QH+IgugI2J6ORj3HTYY6H0wtvjFOIQ9CzB/WwQRaHp0vDK/cmOaAsfAp88JbzmmXFP\n",
       "RPEV3HlirHZ8clpUsHaz0iQYGB+/POM08LDvSoMkd5pxTRPRKX38egHwi5agQUEgkT8ZXtjNbFW8\n",
       "YS4foL2bDxXvAlPmTpxRZSgUfybKKsNcdJtGD/mhsKVA5MlnmnQTERrfricIXajxj5AoNjyi8aHU\n",
       "cytzxeiZ/LL9K/71w1IfNBiCqoMcytzDx//uMQ7ItTTwz8BspsJUwQSNrdDjkI5NrCv56MoWZ2by\n",
       "3yTe2hYMaDLj0+1DeRwF9iLbNf8NuihzB/43r/fUjxC9tCIlH+nffRZjDTOa1QJbxr5jtn4F0y++\n",
       "aHKL98EaDyeT64vRrxRMycx6sQlr0Y3xeTfrWQwLtDYLRqZDukCJj+1f9f049x6apjwaaaWcpmcK\n",
       "8lJmbzk9n0GXBWdWRVhlioQpGvPE+6n76fvPPsjSLXZaxC/0dThSYhfdcKCTMepoSXPkYUG4/+O1\n",
       "CYG/lF9+chxzcpKcUNu28Hdk1BC7IRgiOZIeeyKCCfj3q+GKtkcMx8MwrqI/wWEIeb4Szz69vGA0\n",
       "TtWyCL8/UkNinbJzM5GNLLjObcmniCVFchSgC3a2MhGK92IF/eNYuqshwMyeUJlWHeyJFAwiQ2sR\n",
       "p+3MxysUTwKtepinVRFzxrODTnyLR7nMuG3E63zmUWNSzlZllnr3yvXxoParPG+cJeF93azvVzG1\n",
       "e1GpXk1TgmvISBfJmrWVGfq3ManfWQwIhkn9hTRVIyR/DNfdsmQW27pLPK9ZLOMHg/MP7bKQBmph\n",
       "V0x83YhNSV40zvtdDyohBvM2+cMWbf0Ru9oP/39be3PGVPwvLayOlYSUp2SQ2OKrPOi0iwfxsbQB\n",
       "qPaQwJB1wxllOXNDWQ121E6UsP7xyrCV7uFbujPj3Ds4N0sffxGcE9awc+XoxhG5e9ALFvVaCYuc\n",
       "lEenR7xGpgeG4XybgzFR+5KRC8NScUeriXzWcECOPbX/dgsH+QMU6O6kfaJgN2XNaIc2hpb6SXIT\n",
       "5NuUcLAOMeLceJiGwJFDlGgBg92gfVBDAjVmYqbMbPN9ZHtVJsfprv3NKKaD65s/OGCTUElGVA8e\n",
       "wtbIglN3ZmoPw1jmnd9LAnSBGdtKdxT/Tc2eG+Iw0mREL/5bZZJKdqv/Vw3DxvvONCUzrDbC7QEm\n",
       "qlALJZ+MciqiVw8EUFtpGgiKWB1O3RXBIKHuiSe7tMmnzv6X8Pw4fkTEgvV6EJkDUKhoZP9PSQLR\n",
       "L6NiusOqWogQ2I1BfrgnAOoExYi312+tw7A3RH9R201nJl8S+PKhx/EMnltSjp1kbb8dH80sYmJo\n",
       "R9KWeeN6Y3ctzw60skk6Wrd5rYQxwMJmkkhyE8gJ8M8zTY1JJU20OpuySjApVCK1dnFWnr1xKGib\n",
       "d2tXBsGx2nSUYoal0MYK00dcj6qUMh0trOXDh6HmXdVur6PjF2b+WoTZJv/faSbdAzcAPmdqP44S\n",
       "no54etQ2zHZbZ6NsLdILhE2QDFPkbjIEJtnK1pqclnmVkGV6UhGs32wxC2aBzd8ohuM86+5FXaUc\n",
       "lmAq/Ndd5K4LIXwsSEx3kbeLJddWKD/1aGfvPSp5BtV/GUAT3ZJRvspBbPgpRnpslwSHftJ8EbFv\n",
       "qJhk4ZJbVveKlMstqgtbGCciAoE4KY4P4mfRAoj8Mu7Gtwskbu2I9Zij2cQvLaHZVxPqTBvlUKhu\n",
       "+4mrgRRuaHzwitv38bxFN02LnmI8Qwb3BXQQx41SAmev4DdXXkvYuNzvtBU4pOKIcPUeHj+79OCY\n",
       "sWbf+PsOWcxP7N8MTmJXVOHWgTP7YWwJVwQsHW2GRx4fBGRFCuxecd9pGuVBhOXMqGWPZR4U4uNj\n",
       "TqK65tg6SCmKornAu33Pv+j5px4SP/cdYWDF10oFxyIboPnnnWQoDtIcpUMOId4Qm5S5ZUR3fGEG\n",
       "/WEtr7CwwbVGZhNYVbj8kHKUrh+lrGDJtm9f3lgNj/KJeX8u8ZYNchKvtahfWb+xGJA9N/AIbcWY\n",
       "B486Kmb1i9f2WbE/BRvS68qoRHHawxcy83VR+lKw9M8O1bzdKp2WidK5o2ry8u1ZEyBERUm7fQE/\n",
       "G91mvJ8NzFtvgM7lyihUy1VxvAyD6Pco5CwSgGLEJy+WiwX6oxal3ICV4KlgvI9UuthFsp6KhGB4\n",
       "aXt4BwovCUp+MxBe1TVjqza4vqpFEhfCwKhK559YfPRPay4f2yePyX3IMp/86irPSYnL8pxQjvOZ\n",
       "GSrzGD5LmpcEAxev661tRN+sXD6m++TtJCcP3fdUBFueT1Y278caAfGmalWYFLCdnfF1nSeVyxJM\n",
       "i5Lr1psfCWKH+8ZZO7XD/y1u8/aD7rcQ+3h5vJTq0J+84sHZl6EZJ0VG4RAgVNKwdREuK1Iiu0Cz\n",
       "Uje4uvOFrk1FKxVDkSWb4AM9sxATcFMon90K0+rDMR6WlBRXEFIz9LgTiyxLZmIAvZVh1VpRtZ1X\n",
       "/qrUgH7MORirtRKhAO8X12z4aNiR9GiT1C+Xfg7VudgEyc31H9VEuABCZ+G93bcZ0sYODE37UmGC\n",
       "dh8Zk4YhcjbCKb3dlKrbcd2AFLzBSFILI7bW9ujpSZyAcXPWkthBqftVhevYjyypHeEyK8w7hvgV\n",
       "n6ziY0m2hRjG5gMwEz0/Gzzkg2le0ZFXSvTJ/2E/l1ttblR9G0DsQELdXIjKY3AQMjRRZMAAfD2C\n",
       "npdQ6Ae6RJuNCdJCmZ/RRsBwt6aH9ZksHoXrCF3Z5MYAc5w1emMjFZBSfetiYBOpgJqCeGPkpohq\n",
       "wtCRlDAFWiI72NtJp8L/QQFYPWR3GZlssyotLFlwawGZlcBfLK1RVbPJ2qNNuDePpWXrOR5PpIQr\n",
       "oO7gumGRqD279FVh1nti/Tcd+NLnd+ULG8Afgmfuz2BUFojbdwLZQ7H9uExGKQFCyXLPEky3x5ih\n",
       "ihgtLsBLuP/zUBgCghwESSMcchcPKMfwgLQqvup+m6GpJmRbsO5VL7uDCXPY18BUeuoRFRj5C4PV\n",
       "9eM7Zx5BxgyyvNWCBiuWtENgIcGHBRmXAgDqJ9eRMoayNUzJcT31hEiSydXxdSNi9F3g/O7o0t48\n",
       "DH3GQIDELANphf7jt8mdWubi/Ioe8zvgeeT4nDcIXEIObV5pldJxtiTeaSDlXlGR6R8T1WVE8o8x\n",
       "3+GarlpHWT4m4MxsPep6K4y7gxa/Y3IurNy9AKnIU/UlO+2WYjlSa9U9u9t5lU5PqtzqE2blq5bo\n",
       "PmvTg3cMwNHuFJ8IbHrNsZxJVq+1M0H7vbZ5nDHMSBYL39MGVADu+IwrtWDNO54goJxzd1XkhdAR\n",
       "nXgkqlSKfIwiyd/QjKTP68bnNG+nVKP7aDWk0GCCjmyC1JBbwHNzvF0Ed5/FqNs9u0AeOgF5uaKT\n",
       "zlx7w5/gwSW50wYdKnNFvr1pOMCvySq08sDryharU7WuIeQWFpz+59e9/6IskWJl3QoKbh2DQZIs\n",
       "rKED+xeuWQVXfRE7VyBVfNZuotd3Ai3BA7/2Uj4MkAcAevFx83VgePfX8Qp2FKnd2ODNwh3YxtSG\n",
       "Tpdb+QAAAhBBn65FESwQ/wAdie4WfAA43z4e/8x/4H2Xfe0GUs+BVnMzgzw5D+LeQNZL5+jXW5RV\n",
       "GrjnlUfdKAFtpbnCkRVuSS4lYdh53U8T1VF50PKPLzPO5Qw6QD1aLu37cD4tvnKmIsuH/DCzQS5c\n",
       "j0Af9WPvJ5HZYIZIFqzk1wO6xZuKSfNM0tYA8sn3wSRuH8WzprUyhGZkJuIfZz4Kpp1TBXv0VU8W\n",
       "qOXiDzFoD95+3gAAB9o1CI7gOQ66tKZByf+bRBeuSA9Dl9raEdpkRpI+Lkl1raMH+OlCgPzKLWRn\n",
       "gmrCXMD24xPxKf/bZEUXNKXzhjx3V/jH9dURvc/5IjOfk7Gh8djhASD5wSf42mdEYibHj+ZrQUHY\n",
       "da+7236mq7EniZaLxWjSAB05dGmJ3ircdh4A6hiuea9erMy4SQc+ucY/+7oA0VLSAk9zDS8GrW7x\n",
       "tcOaH8et0T/dwnZsFgYgdzGpBi++oz1XXoMFtMC9LQjn20WGeBUb4CyQRNR8JDBeBiEMY+DH2TOv\n",
       "JcQErchZr5pomnR2UBYn8d1Fy5gUr0iehgF4/2BJnMb17nf0lxtziVtKDaf62XDhC9za9R8FraPv\n",
       "/vnVZHbRy0sQTEqMi34tJbj3+CNZJqmTy7RPWul7+6kL2QSmKcMbm8HJcNyQDIsmvoeTxksMAE3M\n",
       "hYIeQccaXbRZRcK+njcQ64HIpJLjGhEAAADHAZ/NdEP/AJAM0ISOJnngC/zm7DQW3ZU7PfWcM9Ek\n",
       "pCSRPl4xqd9+pIAHGpn3w6hXByyFc81iqYl9vCbqPS318HwK/s39wRkextP9sv5pPAAcwsUZJaCI\n",
       "QurVdVOifFxLk8ra/qFWQbc0eFQd85MBwhyW8GcmV3seKzhu6TG/cGrp69HZXzRNgXFv63YI2TQG\n",
       "I8KP/+ZEnkZ/wXcqa5+U9ov+z2McUDCxyj1kjFf3maXHuB1zScscRNuDwx7am1KgvTJ0CLkU0QAA\n",
       "AG8Bn89qQ/8Aj+kAnTcmoQb6xA/nTX7CZzLuADgy4ZJy3qcWIm0xeVfanP4VhktkNiSB76uQ5f2O\n",
       "kp9xLXC4MuVT9kxvjikAcJY6KK2SDEIqoqoHAAsdgSKTofNg1d4jMfT5V+JpXHYeHWA+0uZWMaAA\n",
       "AAPHQZvUSahBbJlMCCf//rUqgBo95yNxywBYOeRb9+MhNtEFfWNo4EQJ01bHbm1QDtv/8WIemtEf\n",
       "eSxfH5ZwAqewUGmnQyyK7m+ELJ+nGjaMe3BqGrg7H44e3HRjY/H0pBp6rdsCF5wDh+o+PqayOfDD\n",
       "83c/3EXBJWhJG/Hayicz2Y52UhaQUgTMQgdwq1jv9VeZJ27NaZI6K9izgeQ3Mf1fnpD31f4k9HSI\n",
       "e+7dseOOZcT5j0mwqHAHBeFEw3Et/QmkuDfW+2vol4l8v3zeFTy2zh13eOSv+p4fh5aNnG9MZASI\n",
       "HHIrjGo/t2d3rS6NUplwwlyAOKyx02mb9kz0zgBIb6+yaKuv4AWGq0WME4NMWG79uw7QgEhIYeHY\n",
       "oqIz8JoOPv8m2jXN31M4VmrM0ybJ8CMyQrHxIVJBYmyAVHnoVd92vX+XwUL8gMW9eBZjqLdLRddH\n",
       "5xZmFZg5wUPETPeALaXezS/rASKOpiULzOysBpBr75VzHYlidXmjB8/wV6UHLDN1JqfIY6QKIy+0\n",
       "bC2a7Du7mV7HOr608bKj1C5I2yUNcuSquWQKd9zumwejMHALnLpHYLzjFKWoSRKfOnMNAKAu499A\n",
       "XDVcWYfI6dnMTHAscJbagNZjZ3N9CRAMtx9NLzh/1eksM7iHa+nRuSuf6y0npzb437JTShdV5djx\n",
       "HRXGH+IPsCX7FEy2WnJXRBokefh+ohuwfME4QztKzQqYL5SNcTfj7tryDvRdC65DF+zrWYi33uIA\n",
       "mdfAhvmEcDC4y/Xiwf2jl/g0F5tYJcdADB4KNuOQm6I9X9mOMWzQ1xHaxAMiHdnZnoOwk62h7ge/\n",
       "7XY1aj2iy8x4ocorcOExMTb7NaNyzsLf+CHrUu12NGm/a/8Q0FuAE5xkKM7IVbSLLCcLTH8j08mh\n",
       "0SPAzYYA9UqZpH8lZ2eFnLQyGFHC75Pck/iK+1yDgoaJhZQNkkr0wL/PDm1INEHp6TRI1CDQZUFU\n",
       "/eD3aKdA9VWDgCLxLH6+ahXTKR4jyGu15FldUdNladuNdg66/UKSr0FujuE0+0OI4MXAIxyWFqUu\n",
       "St2lydH+iEjhInprMHqAPb+HxaokaZnv5v8EtxkSUVJ9F4EYEtxo2SFEU3kdyTTC+EO/vGXKRPT+\n",
       "xLWieWR8jE+JfsLz0CuZ4gbyxeVrp8H7VjHPVMfoUgXpJuli4LJvS4RBIfo0HEVIuhecJLgfWqvX\n",
       "ylCE+s0TjvVptrkOhiPS2mZzlpt0woyvOmNdKNCyTfQ+i5Jr1VEBkm2tU2XKcAd2lWRD6s/7YZVm\n",
       "4AAAACxBn/JFFSwQ/wAcKe4Ts2uoKXJZYZs/H597uPOVO3EAHupN97NzDIsBc8mlBQAAACIBnhF0\n",
       "Q/8APTDHUn8VnEOHnhiWMGScvZjYthVS5GgmkZswAAAAFAGeE2pD/wAfvClr1Csr8Kn2T0IeAAAA\n",
       "sUGaF0moQWyZTAgn//61KoAWOvc8UALCYX+Qfnes+3dHTqp20Q3A5EfaLj52p64tfKPrMholM0hC\n",
       "da72gzsp22PlwPf/gnz5FSCTzOkygIkPWp9Nw944aMVICzHUJGZJAsb94Md15sbz0FOKR8cctFQ+\n",
       "GoQd9eRBKF3ssTiLmzFO7/N04P5I6hpfnEjhjbAhEI2PjGmNW1sMELZgJCATOBkP7kPEtztK2Q3Z\n",
       "4t5AN+kyIQAAABhBnjZCH/8AOxhCiNZbCFvbwSVGn7ZEFMAAAAATAZ5VaRD/ADsdjIuxnjPNxDSC\n",
       "JwAADxZBmlhJqEFsmUwIJ//+tSqAFhfxGgBwXBjZ3NrzSiU1DoZI6BzZOaP9Vpl9bOwOw0VqjuBW\n",
       "YJBvikFWa69rG5QwSZPNymOS/1BS9V8OVv3w2xfvUzkUGlRfNN8UCcxz9ctVsFNgTKu5A2ycsfSo\n",
       "syj0FoRMXWmcyOTTkBiMdY+xI/LOV2f1yBTX5/I+k5OKBBGx8aau2Ht+v7ZNbAFtfvBgZHna1O2q\n",
       "ReEQ5SZPtRvFAK8+lLht0mTCpTFWbTiOlo0Ah40UaBf9+FdkKhqWXuRNZx4RbaXk5KdxgRRIrSRd\n",
       "sveTVpjjyfBmlLWvsActQHy2jEl6no5dzKpS//AAOYqGeTRfLDE/XXP0fVAGz4ZIrW4PlIU9Fz+4\n",
       "4Quxmbwwfm5/BOyKX8U/4W3NDhrqi2d8qPYKj1sMgTD3CxL2KGP7YrUb5GU55UPmAqwsMgSsqTCK\n",
       "AxnXOqwSjgviCEkumQSZZAjFy7O+VKBHN76mF7UWULePS+21FPBCsymYsn2IKqCARcM1c3IPRW0I\n",
       "//8/a8JhrFuyUMu9Big4WGl+OpUHGaFbdteTQ0Hf/8S5s8j0ZNtxG+7D3v19wdwQZpXNvL/YWqZ7\n",
       "ytXTx6qI/Ao/VpD7zqTAkKgWY4HltQJA8sC6SqbfChy5BRQ01OymDxC9guH5bxbKYOyEZH/BTKVQ\n",
       "f1KD8qQn3Meb4xS9uTH9025poQ245e98IAsa7NUOQ/9Kyg/p1eHemQHTOh792k4LJb7MyJHtVAgT\n",
       "6qoqgHp9g7huYHN7AQea8S0D6Lqeb5Oeqof4XklR6X7quFgluebzcMq1xJmVksNjMLjatxOu0pK/\n",
       "zDDKiKcK0L9gr+r7xNf5IpXRaRHVlBGEyqL55Tz9gzilk+xO/k8WsYUs6poT4FD89bE+Br+30an7\n",
       "Iq8jiuzoXklV9S2g79BJ6h80sgeU6VAtKjcwXfIUmNk2sxqNpklXMQ3XHLjEi8GSTcNxlGfJu/pr\n",
       "L652Yi9ZP7ymNDYD0d5Ekm17EqHEF+CHb8gJYm6BA2IPmNBGMfN8gMZaAr7b819gHwODWCwsr8u2\n",
       "m5G6kln2OgVflW90cNrVzZqcj2oSAXfJZ4ekNp3LTJrCYhcIoZ4X/636YNz+WJENbLV9qRJppb1u\n",
       "eckVo8Gib/eiPaVt2WzpkfBrB3WgEo1OikOTI9U/wBCKOP7oEj4E9YKZqWYoAePh9541H1sEojry\n",
       "0eLCqcgH0JSeFYrHedU5gSTcwjDFnck8tH+Wc+JDigrFqWBi0bdF7yfray+YjGutwnVUBB2LUCHX\n",
       "aLVZ2CMea0F40LtwXKSV2pdTnBjF5RxudXRB0K3O/dcDSBgz3qjlx8+yBqkjiLmH1zlamFSAlEu9\n",
       "J96a2SYd/lmgwE/XoxbpXeIfR2ZBTtEd4A27r7P1cznuG3kaBDyj02b75jl5gdZMdXOXTVGDJZ24\n",
       "LGwIiaCy33dWTmAMRypG+BmzlbwJstu+byeCoXekRV+aGg6X+M4SU4qwjYqU87O4coai+GrwDhms\n",
       "dlbqKWhkClJ/3GHXz2RTmZ8YqL0gPDixLAdRHEL6MOC9QUPSZkI6ddIx+tONSAOkMCjV13NHiKzp\n",
       "w9QfQADhsPiIzqAtT0xrGB0ByD1pwH7orewUUcm040N5EHc9i9s9AW6ebVMS7s/T3WlPv2li99ez\n",
       "CgJ+e14fTRhKf8tppmbgNCyts5oz5WoqkfQnjCSqEBFZ35YE57cXV2nh2ME5Xk9K0dkNNR23qCJ4\n",
       "eZCKxS5ObjvQIG1iJFlw2ylDB8OdclSu9yDNJqpMq7IszO9Ee/G8kYXG4yAScC6p+0D//edTivLr\n",
       "EvBqOgW9L8lLA7SSRm+da8m+USIPgOaMSbYm4CHckb3Z6C3JNKY9L6pPHWwTHm3tl5YJGi9EU9eb\n",
       "eDvPIwHNTg/qKEvNwwMId/EL1m/1JBZn9GhUwAUr6lqhU0h/232+Yf9CyBEV/iceXCF0bF8Kd+Lz\n",
       "F72D07noiOZky0RfDrJUT3wGC2cIslo6D1PYnh6M77GTWAZKQERfk+WUNB3I4Rs3Y+8YEEAW1k2V\n",
       "1fO0VDfge9nojCCZ5MWL6aPcTMcLvVoNJsgoVUddXQ6+z5YxSw4XNNQ6HeAN0BCEzvWMtrX+8X/I\n",
       "A/YEhwy4+YyiolA93p2fWyiRkgmZxAUI5U4ao4ZADqSPO0D+Zh7c+plDWiokeTZTxTj3jtlPUB2M\n",
       "KoC+fBdCJuNidqciOxsaJpA6VdhbeLI2E13UmFJkPmQPYi6bxO0JInL8ujSpCSn4C1P3abQhZj1o\n",
       "J84jr5aaAn1eX2+xIRhy7tvdZ5yQ145xWydVYdrxvJcYlPAIB734XF3ckump1EZZ7kamFCYY/EeA\n",
       "Va3uEAhlRKnMF6EZ+qANfG8F/WJSZ+BGtKE1wExAeCDkCCEzrs8T+OrYW3fSHubNEVFkgDaB4Vic\n",
       "+KbYHzEh3h8xbAAuTKylMUBnLwFfIl2yeLfR342tdZvyiuM7HkLGfQmLzwGyOH6DnIFP02tCO06X\n",
       "+bfSeZan20VHOat9g9Hc4SY7U/9Lztz6XoUJKoJR9U9pUkpugRNR3ylTf9qmjcXvhB2Zu54WgjVJ\n",
       "x33G69rCwGTwuaWyxkHKN8wXChwRydiOvlwkw2tXD2CIGHV95zIqUM62tr0DV5oy+C+gXCts8JLN\n",
       "h7HdlmEoUhSocF1riLogYM2ZyIblKwUsWAZz3abr3Zxp30nqbofNxmUwHOXl6C326qj/EGh3NEqk\n",
       "5w+UJKrW/QC/P5toK5+wu67MQNsCzYwQdTmrzNogAjc1kM5Naly7dlnJXuVickH6Zu/jRkES2PwE\n",
       "ggoTubUCruUHNp5pwsAlVyIiB+cU+AIyrVZQfTvGNOI++W+kOZIu/K6KXzAFxULKxZBPzQtumSKv\n",
       "+vhfc/mWpf1lGBAjD62RQ6sbtYmzilHFVDim4PQVTU2H/qbQAnT2ghIb0m8QZZ6aUA7GvvgnrdhV\n",
       "4pCoeeALFraFVkBARjduX/l5T3GYuXB5IBtvlQivs45zW171vBNc6uWOBCBoG/kQq0IcFzzJSwXR\n",
       "rltWTxKS3SZmj2NbWDy0VnqVNuQOckQFNoNg1g9AMq5TAuJx1vLsGIlgosHYY1Lh4pSZaY4mI9FA\n",
       "X5LZ1YvYuv9C19OD3TRtkOHkVyWMxlAesWdW0/V5q2EP6cY9dObehEjwsvSNDEkMW4VSLdtb8ATC\n",
       "4alzpFIxPoNVnTcuxRC4aIxEm/uE8JPkPzIDMJyR+aH13ILHKhUZwPBHKTkyp5XxLR/bF5EpC+Nq\n",
       "+23+fA9pWIyEbD2xl+UE7/TeSADkV6r36xS1jf8ji4dvaE+Q1fT8k1/yMHOiOJi1VjJ5AJ+O5Zid\n",
       "wuuTioLztb1c9pmWXviHqlO3jtZm5joGtUprTW3kZoCOm8/dZorlZB7Wy/wgrR3t7vHYB6KqGvup\n",
       "DJ7+TsjvvnH7rsHkSQ5BuWGYbe+z56uyIjuOq3YznnlTmAku/JGJZV0x5hL8jwSB0ttDmOSxvkTI\n",
       "01A+hDLY3F6oHeTp3AzGal8NsHx6FcH6zyNmdHnbtyktvVclmWVHoHqZ7GYOVk09Sgakzfqqhcpm\n",
       "c3bjISSkEg4wjoIW1kuf4MOFoVIrToP3Hc1wuVv3ubdBubBFhfvhbPJ/3y9jZ7yJfE011W9CtDQG\n",
       "VgmKE9uWacOWaOlMTjkwLzGtx9Fyfuhs3N3D6o/blHRnS3ABDAKbO9T5d3A3sdAeZ0QQsaEJHSZm\n",
       "0almhGSZFX8YhzAlgz3j+/7IE4Jl8xBZF09FddP38rsy1Zqt9FwcfBha8Ypll4pOL/oOcZqiQ4ts\n",
       "kWnuVAX3/O0sBnBXu44RYpx3a82GXDAiUJobUH2Qln5frRyAM6VP1YetTta+N1T0dBVH79oViXAy\n",
       "jBALZmr6YJOC35a0ILe+PyiI3ufCuHZllXl3Dv8MyqC/cY1CksO/fa3Vy2Mql2ScFaMscax16b5t\n",
       "JcXkNzoKf+Muyt+f9HmMlTPaechdfWPQxGgEQiJFChsOf6nnwMwSYxLG7IEmfEQqoqU72oNMRHVX\n",
       "4xJ6hGXLe2JoldGION3g4SiSeSPmUj2cxcIiVIVwFPKFnYz8Yy3UBwJCSH7eu8bbyk9WpIyxFNJE\n",
       "tswtnrH/NGvUS7l/p9aa+f6aOcAJiiwwUA2yfqHqraj8RGpaWLW2bOMLxdUIzhIXTPCfe8t0ucas\n",
       "43TCTsJ+k+IM7nOh+33IrhZZCkWv4j7RRQprwi6ZJHr4LACMbV3s0mcwyFls8OmcnnZ1fV8Kz4bQ\n",
       "Y4cni0itspRXZX4al/X5oy5EIptnXh3vIxOkzwebYl005k/+jSKlaBhzsyzJlvrDvnhKNBSeWvPM\n",
       "d1D8N4WSP9QfU98ln02VYzKJuL2OTZAdQknhFMFqdjl/XLJdPYQG1WuVKlwNPSA3kwgP1qsleikQ\n",
       "Vw0XbfnVtBVM94c78rjh1wfmBltfueGC6PkgUbeTz6GKL/CZRLaC+1pDtuKXBuly+BJBgxFSUojg\n",
       "U9+Byc04x7ZSZaouKNkiyaFwziqoUpFSpC+n9DJSPm49JUBeujw9s/o54x1bmMQuSW/4VHLOEZDI\n",
       "WSR+yEvHBepWD2lPiDPdjdwzoORlpnQF+Gb8N4GKjoGeekANPytOhWu9sUGXa1rbLlNx/7V7bQ+b\n",
       "VgG/kLPVJT/sfcmZTEGYGSXekLe5b23/Kd1FSn233Tx78WYKORNiG/H8Ouuii7LppAXj8iBE8J7h\n",
       "SoJS9X+trIxn1ccZ436LGU3/tZVsbsjQYAX6JZ3HjDiVauwSvWTA1+kdjla9CGuRtBp3dvnBkiMA\n",
       "ne9oaPsDA8mOhK1ysja7P/Rqnf00N+21mPCRl+VHTksYpQeo9U3KlX1r6k0gjEr9U9NV8lfDNy2w\n",
       "Og+5Egcj7c+OlnF+3H50lGIAl/pvSCeE95P2nLO36VXCzkc2FCwpL+s2kobRHuNGS8CoDjTXj7sP\n",
       "xDNQiNkVDo65u43/rpJkDmCRFINPahO7p4nf60VQffW4TxQtC7C91Z2LfNr8GC1ac8I/pa38My0i\n",
       "zpPCNgJfEzjv6MsVlJVqyWdjTfuBAP24TvTq6p+NGEsAOf1ntUWquuuVHWrb/c55utZ+DLrQqHON\n",
       "jBBnD977pYnF//NJ9vqN3bnfRZrcl0tQCPAJtc79FhG04DCD+b33fy8tDNDfD17vAAABo0GafEnh\n",
       "ClJlMCCf//61KoAVZGn0AHHQD/c1NLH+TWMbi46bwWG1mzt24AZ2kYev//4IxAyOR227trGKjffk\n",
       "6Mlw+5zjPth1fkeCcFBMxTOfvxv3YDaF9szCQMyy6AjYNBOE3qMtctTGxkY/RWFhAjtB4eGxhuB6\n",
       "UZpMwYv6fVSpq+n0P32EFA+T4uc9QI6Er4ylrqks57EDw49v4sHXnfP4LRfiZW0dJeXzn6qi950n\n",
       "AiYwm7L0jE/FaSF4Stw+rC+kPF14xB/PwSaGUEgM1JlsZxxp1db+emq6OEe7eyIWlywkfMdt+fC/\n",
       "8mFCbiXK5fjuByXjDivyAHZTQC3XwkPLOE1QX5MRCKvrl5zZzt/jrNXmj3yADY8ZMZ/Q3JiwNYRT\n",
       "VEYC7m7tb6L2TIfQiPehP9KDAEviXaEhb2lwKR9gSWJ6noJuuXA7On16iIMwXo67CXZBHFRrol5W\n",
       "So88ou7XIqwDGb12H6esPd0RutDrttBwyrsDkyZTFwGuTrvSJAcEFdUtSikMzwYKzD/ynRfNVd0e\n",
       "4rJUwVFZw4RWWzbNBduFAAAAJ0GemkU0TBD/ABo7+sZ88KLpwIAyg68Js5Sbd0ACRxubsauMdDLD\n",
       "DwAAACABnrl0Q/8ANv/zpf+wtWVfUpcXmU0tG6IgkgitHW/1wAAAABIBnrtqQ/8AOb2MixNWRdJ1\n",
       "mT0AAAHjQZqgSahBaJlMCCX//rUqgAVLiNx3HAJ1ACxHtnkPh/BwXKJrC9vdWRHEsNn+dyfvZJFr\n",
       "/livdjj3Z1z7NRN59yZQoTYcPFUe9dX9hEG+8KLvBun7DHiN6o0EOOIouin/4QeZynI+l80KFcHw\n",
       "gi9i0szr6N1srfWI7+Qqo+b5C0QOO18q7Wks5dGFOGxld4C0sLVXu5nPyC+FLai8yYcF8ONHbCdx\n",
       "TjUAjOUF39uhOMHM/rsSnDM7DVaeJh+DrKCoiOxZjfY9v0Lp2jKJT2cU72B3iJRo+0WgtGcgQPoV\n",
       "3A85JduPhxLfuWIq+hddJAxNv0CePJOOBkBjntSwKqT1huw55r0V4xTd8+b3g/OYI0JeANSMkbDT\n",
       "zy1YyVkgh2pz2RZtKJLWU6t8B4hETgSEwWfFlfCjLRK/FUNvNtkJwPAiYN7mkHrP6OHtl2Uh0g8l\n",
       "yJIJOtWeFqQSXkEihFN3qnD7zC9OYIUTF2jHH3A37vLaPapTAjQd+6inzdB0j7fsX0X/7fDKLOva\n",
       "HBzkZ9mk8KypcwYa4FUTYL5U+frX/LnmVb5J1xMY4OZly5X/aAAmk0FSPi/tVnXffG8NmuRYiJdZ\n",
       "1KnWdybyHYwK9BSLZfeeCDEcmEB5us/ePzbM8r1oPPtfAAAAJEGe3kURLBD/AAaW/rGiAZ9oF+Zw\n",
       "6ZEzTpon1Ki/EUYkSuROIAAAABQBnv10Q/8AAILGXITlMq1sZCjDeAAAABoBnv9qQ/8ADn9jIpRs\n",
       "M/AHnkYDM/winpdCwQAAAwNBmuNJqEFsmUwIf//+qZYA2kzpgAnFPZSKXucZ3L/4PbpB0+kQf1y1\n",
       "JfwCzAbXmItif2aCSKC8pjCzw+roZJFBJtAHjlZZ8uauHvqVRd3yyXB58n75H+iBM9Y6Y+vCXOJ+\n",
       "B2bWsTrs9W2bIo1LXhidVJLTkLaw76H6L+gXDbMGyrOVY4iP/IZqzNpc7mdTcXnj+CPxF/K9l6BE\n",
       "CV4+e5wMqOb9dXGOw6ZpSTQDMjwkfChrGRouhwlt+rL9vqqlHn3nRhXH2E4G40S3F8KYY+p45BT6\n",
       "tY1b2UCOOsUst8p7r7dKVV81nvYsIhvld6zXBIaq70kjPSL7jlqDZkj36NhYYOsAqI/1LFvRIzaG\n",
       "d1qNOBJ2Z/dE4hCGSJduXUEf6l2odPUUabN+rIhLqkQpMiqqexGhjqfKnMNKFMLQkBX4s4zcLBp0\n",
       "dCtfPuVzjYMDNY7jVftdYKKf4gf7BvxdGbMw7t3QxOouLRjQJH9W2r1i0XGdFd+moC9FunZaIaHs\n",
       "NU9INlqIIZQVbfpX0PdyYb/smluuA3A9du4N0moi+Uir14VjiYqcNOHBwT1vFk0esmwX7bVyWmcq\n",
       "taAQjfXZ4VT75kbqjMPipewIC7Vtlu3BETg4OhjUsE+UsZ3Xe7mZHAK8MKgMj/cDs4u4lwol8Sbs\n",
       "T2vv3U0rp5SCxQ6m2Qf754Q7T5t95BYvWVsv7rrKiKpG9J8GauNYvP8ex/QihhcuaaAvwHc7VZV2\n",
       "FGfetFIL5SOkiDXsHNoF3zUC1ISsdqZNk82U9vsNizcodLXc0kqd+Yzlo87tQii3THzArZABLVA0\n",
       "22Rnf0QSNjzACm8omb32AuYatH1Z15pekk3ZW2PZjX+FJZ6u4zKevgXEHuup2be08Vs9j7Tgpirn\n",
       "+zG7VNoSPp/a004MifyRuj6SN6z+EOuaGD43Sbjq8tfRGYUIkMb5bJ2DYp/WbU7QXzmRFKOgVc6o\n",
       "jOQFdtQusTC0ZUyNZ82VlEZO0L6NENFPlJypinzNvijCaC3BDx1XGZM5AYxkQ8AAAAAuQZ8CQh//\n",
       "AL1seydPQATtYtyHdwfVMU/kotSFlfZuJVvylPiyzPGABK3g1pYsWQAAAPcBnyFpEP8ARuDW5nIg\n",
       "z8AeeRUhQ9FlEAE0k98TO3qVoxJZzJYDiUR9d9ytte5pUX5n6mIYxP862iaNEMFdFxMqrJG2aPjZ\n",
       "iPtiowUlF2P/Ncg/NJ8JvyNh2TLKyumC/GKBDQo9kWumeopDi3w2cwmKoCTN0zdifsJ722M/eSj7\n",
       "kD588u8eQIn81nbILHrUCTd0EPSzhu3qosnUekbwiOjFXGc8kZ53VsUZr1O6+CURoESpL3SCREX8\n",
       "uaiHATM8uJx+2izbnDkiRpnjgt/cneRWTUVARmImrGRFZy+BWI+1tC6LsJCp56fouqIQjWNJ1Qgm\n",
       "yzziDIFlAAAHzm1vb3YAAABsbXZoZAAAAAAAAAAAAAAAAAAAA+gAAE4gAAEAAAEAAAAAAAAAAAAA\n",
       "AAABAAAAAAAAAAAAAAAAAAAAAQAAAAAAAAAAAAAAAAAAQAAAAAAAAAAAAAAAAAAAAAAAAAAAAAAA\n",
       "AAAAAAAAAAIAAAb4dHJhawAAAFx0a2hkAAAAAwAAAAAAAAAAAAAAAQAAAAAAAE4gAAAAAAAAAAAA\n",
       "AAAAAAAAAAABAAAAAAAAAAAAAAAAAAAAAQAAAAAAAAAAAAAAAAAAQAAAAAGwAAABIAAAAAAAJGVk\n",
       "dHMAAAAcZWxzdAAAAAAAAAABAABOIAAAEAAAAQAAAAAGcG1kaWEAAAAgbWRoZAAAAAAAAAAAAAAA\n",
       "AAAAKAAAAyAAVcQAAAAAAC1oZGxyAAAAAAAAAAB2aWRlAAAAAAAAAAAAAAAAVmlkZW9IYW5kbGVy\n",
       "AAAABhttaW5mAAAAFHZtaGQAAAABAAAAAAAAAAAAAAAkZGluZgAAABxkcmVmAAAAAAAAAAEAAAAM\n",
       "dXJsIAAAAAEAAAXbc3RibAAAALNzdHNkAAAAAAAAAAEAAACjYXZjMQAAAAAAAAABAAAAAAAAAAAA\n",
       "AAAAAAAAAAGwASAASAAAAEgAAAAAAAAAAQAAAAAAAAAAAAAAAAAAAAAAAAAAAAAAAAAAAAAAAAAA\n",
       "ABj//wAAADFhdmNDAWQAFf/hABhnZAAVrNlBsJaEAAADAAQAAAMAKDxYtlgBAAZo6+PLIsAAAAAc\n",
       "dXVpZGtoQPJfJE/FujmlG88DI/MAAAAAAAAAGHN0dHMAAAAAAAAAAQAAAGQAAAgAAAAAFHN0c3MA\n",
       "AAAAAAAAAQAAAAEAAAMgY3R0cwAAAAAAAABiAAAAAQAAEAAAAAABAAAoAAAAAAEAABAAAAAAAQAA\n",
       "AAAAAAABAAAIAAAAAAEAACgAAAAAAQAAEAAAAAABAAAAAAAAAAEAAAgAAAAAAQAAEAAAAAABAAAo\n",
       "AAAAAAEAABAAAAAAAQAAAAAAAAABAAAIAAAAAAEAABAAAAAAAQAAKAAAAAABAAAQAAAAAAEAAAAA\n",
       "AAAAAQAACAAAAAABAAAoAAAAAAEAABAAAAAAAQAAAAAAAAABAAAIAAAAAAEAACgAAAAAAQAAEAAA\n",
       "AAABAAAAAAAAAAEAAAgAAAAAAQAAEAAAAAABAAAoAAAAAAEAABAAAAAAAQAAAAAAAAABAAAIAAAA\n",
       "AAEAACgAAAAAAQAAEAAAAAABAAAAAAAAAAEAAAgAAAAAAQAAKAAAAAABAAAQAAAAAAEAAAAAAAAA\n",
       "AQAACAAAAAABAAAQAAAAAAEAABgAAAAAAQAACAAAAAABAAAoAAAAAAEAABAAAAAAAQAAAAAAAAAB\n",
       "AAAIAAAAAAEAACgAAAAAAQAAEAAAAAABAAAAAAAAAAEAAAgAAAAAAgAAEAAAAAABAAAoAAAAAAEA\n",
       "ABAAAAAAAQAAAAAAAAABAAAIAAAAAAEAACgAAAAAAQAAEAAAAAABAAAAAAAAAAEAAAgAAAAAAQAA\n",
       "KAAAAAABAAAQAAAAAAEAAAAAAAAAAQAACAAAAAABAAAoAAAAAAEAABAAAAAAAQAAAAAAAAABAAAI\n",
       "AAAAAAEAACAAAAAAAQAAEAAAAAABAAAAAAAAAAIAABAAAAAAAQAAIAAAAAABAAAQAAAAAAEAAAAA\n",
       "AAAAAQAAKAAAAAABAAAQAAAAAAEAAAAAAAAAAQAACAAAAAABAAAoAAAAAAEAABAAAAAAAQAAAAAA\n",
       "AAABAAAIAAAAAAEAACAAAAAAAQAAEAAAAAABAAAAAAAAAAEAABAAAAAAAQAAKAAAAAABAAAQAAAA\n",
       "AAEAAAAAAAAAAQAACAAAAAABAAAoAAAAAAEAABAAAAAAAQAAAAAAAAABAAAIAAAAAAEAACAAAAAA\n",
       "AQAAEAAAAAABAAAAAAAAABxzdHNjAAAAAAAAAAEAAAABAAAAZAAAAAEAAAGkc3RzegAAAAAAAAAA\n",
       "AAAAZAAAIeoAAA39AAACmQAAAEkAAAA9AAAClAAAAFAAAAAvAAAAGgAABOoAAAaDAAAASQAAACoA\n",
       "AAAbAAAEUwAABn4AAABjAAAAMAAAACUAAATbAAAAOAAAADEAAAAdAAAJkAAAAFQAAAA0AAAAxwAA\n",
       "Bi8AAAegAAABewAAAEYAAAAzAAAFXwAAADcAAAAhAAAASAAAApMAAAAuAAAAIQAAABsAAACPAAAR\n",
       "SAAAAiMAAAPeAAAAVgAAADgAAAA1AAAJ9AAAAIYAAAAxAAAAKQAAAP0AAAbvAAACrAAAAC8AAAAn\n",
       "AAAAFQAABokAAAA1AAAAFwAAACkAAATKAAAAtQAAACsAAABHAAAFcAAAAEQAAAAxAAAAGgAAC+4A\n",
       "AAJOAAAA/AAAAbsAAA61AAADqwAAACkAAADAAAALwQAAAhQAAADLAAAAcwAAA8sAAAAwAAAAJgAA\n",
       "ABgAAAC1AAAAHAAAABcAAA8aAAABpwAAACsAAAAkAAAAFgAAAecAAAAoAAAAGAAAAB4AAAMHAAAA\n",
       "MgAAAPsAAAAUc3RjbwAAAAAAAAABAAAALAAAAGJ1ZHRhAAAAWm1ldGEAAAAAAAAAIWhkbHIAAAAA\n",
       "AAAAAG1kaXJhcHBsAAAAAAAAAAAAAAAALWlsc3QAAAAlqXRvbwAAAB1kYXRhAAAAAQAAAABMYXZm\n",
       "NTcuNTYuMTAx\n",
       "\">\n",
       "  Your browser does not support the video tag.\n",
       "</video>"
      ],
      "text/plain": [
       "<matplotlib.animation.FuncAnimation at 0x7fc4771d89e8>"
      ]
     },
     "execution_count": 81,
     "metadata": {},
     "output_type": "execute_result"
    }
   ],
   "source": [
    "anim"
   ]
  },
  {
   "cell_type": "markdown",
   "metadata": {},
   "source": [
    "After a while, the pile looks pretty random.\n",
    "\n",
    "Here's a plot of the number of cells toppled after each `step`.  "
   ]
  },
  {
   "cell_type": "code",
   "execution_count": 82,
   "metadata": {},
   "outputs": [
    {
     "data": {
      "image/png": "[encoded data removed]",
      "text/plain": [
       "<matplotlib.figure.Figure at 0x7fc45ffd8f28>"
      ]
     },
     "metadata": {},
     "output_type": "display_data"
    }
   ],
   "source": [
    "thinkplot.plot(pile.toppled_seq)"
   ]
  },
  {
   "cell_type": "markdown",
   "metadata": {},
   "source": [
    "The following figure shows the progression of the pile from ordered to apparently random."
   ]
  },
  {
   "cell_type": "code",
   "execution_count": 83,
   "metadata": {},
   "outputs": [
    {
     "name": "stdout",
     "output_type": "stream",
     "text": [
      "(332, 53336)\n"
     ]
    },
    {
     "data": {
      "image/png": "[encoded data removed]",
      "text/plain": [
       "<matplotlib.figure.Figure at 0x7fc45aa7a6a0>"
      ]
     },
     "metadata": {},
     "output_type": "display_data"
    }
   ],
   "source": [
    "pile = SandPile(n=20, level=10)\n",
    "print(pile.run())\n",
    "viewer = SandPileViewer(pile)\n",
    "\n",
    "thinkplot.preplot(cols=3)\n",
    "viewer.draw()\n",
    "\n",
    "thinkplot.subplot(2)\n",
    "for i in range(200):\n",
    "    viewer.step()\n",
    "viewer.draw()\n",
    "\n",
    "thinkplot.subplot(3)\n",
    "for i in range(200):\n",
    "    viewer.step()\n",
    "viewer.draw()\n",
    "\n",
    "plt.savefig('chap08-1.pdf')"
   ]
  },
  {
   "cell_type": "markdown",
   "metadata": {},
   "source": [
    "## Long tailed distributions"
   ]
  },
  {
   "cell_type": "markdown",
   "metadata": {},
   "source": [
    "If the sand pile is in a critical state, we expect quantities like the duration of an avalanche, `T`, and the number of cells affected, `S`, to have long-tailed distributions.\n",
    "\n",
    "Following Bak, Tang, and Wiesenseld, we start with a 50x50 array and plot the PMFs of `S` and `T` on a log-log scale."
   ]
  },
  {
   "cell_type": "code",
   "execution_count": 84,
   "metadata": {
    "scrolled": true
   },
   "outputs": [
    {
     "data": {
      "image/png": "[encoded data removed]",
      "text/plain": [
       "<matplotlib.figure.Figure at 0x7fc45d3c51d0>"
      ]
     },
     "metadata": {},
     "output_type": "display_data"
    }
   ],
   "source": [
    "pile2 = SandPile(n=50, level=30)\n",
    "pile2.run()\n",
    "viewer = SandPileViewer(pile2)\n",
    "viewer.draw()"
   ]
  },
  {
   "cell_type": "markdown",
   "metadata": {},
   "source": [
    "Now we run the pile for many time steps and keep track of the durations and number of cells affected."
   ]
  },
  {
   "cell_type": "code",
   "execution_count": 85,
   "metadata": {
    "scrolled": true
   },
   "outputs": [
    {
     "name": "stdout",
     "output_type": "stream",
     "text": [
      "CPU times: user 2min 35s, sys: 24 ms, total: 2min 35s\n",
      "Wall time: 2min 35s\n"
     ]
    }
   ],
   "source": [
    "iters = 100000\n",
    "%time res = [pile2.drop_and_run() for _ in range(iters)]"
   ]
  },
  {
   "cell_type": "markdown",
   "metadata": {},
   "source": [
    "And extract the results into two NumPy arrays."
   ]
  },
  {
   "cell_type": "code",
   "execution_count": 86,
   "metadata": {
    "collapsed": true
   },
   "outputs": [],
   "source": [
    "T, S = np.transpose(res)"
   ]
  },
  {
   "cell_type": "markdown",
   "metadata": {},
   "source": [
    "A large majority of drops have duration 1 and no toppled cells, so we'll filter those out."
   ]
  },
  {
   "cell_type": "code",
   "execution_count": 87,
   "metadata": {
    "collapsed": true
   },
   "outputs": [],
   "source": [
    "T = T[T>1]\n",
    "S = S[S>0]"
   ]
  },
  {
   "cell_type": "markdown",
   "metadata": {},
   "source": [
    "The distributions of `T` and `S` have many small values and a few very large ones.\n",
    "\n",
    "Here are the histograms on linear axes, showing only small values."
   ]
  },
  {
   "cell_type": "code",
   "execution_count": 88,
   "metadata": {},
   "outputs": [
    {
     "data": {
      "image/png": "[encoded data removed]",
      "text/plain": [
       "<matplotlib.figure.Figure at 0x7fc4626e0a58>"
      ]
     },
     "metadata": {},
     "output_type": "display_data"
    }
   ],
   "source": [
    "thinkplot.preplot(cols=2)\n",
    "\n",
    "histT = Hist(T)\n",
    "thinkplot.Pdf(histT, label='T')\n",
    "thinkplot.config(xlabel='Avalanche duration',\n",
    "                 ylabel='Number',\n",
    "                 xlim=[1, 50], loc='upper right')\n",
    "\n",
    "thinkplot.subplot(2)\n",
    "\n",
    "histS = Hist(S)\n",
    "thinkplot.Pdf(histS, label='S')\n",
    "thinkplot.config(xlabel='Avalanche size',\n",
    "                 ylabel='Number',\n",
    "                 xlim=[1, 50])\n",
    "\n",
    "plt.savefig('chap08-2.pdf')"
   ]
  },
  {
   "cell_type": "markdown",
   "metadata": {},
   "source": [
    "To see whether these distributions follow a power law, we plot the histograms on a log-log scale."
   ]
  },
  {
   "cell_type": "code",
   "execution_count": 89,
   "metadata": {},
   "outputs": [
    {
     "data": {
      "image/png": "[encoded data removed]",
      "text/plain": [
       "<matplotlib.figure.Figure at 0x7fc461820080>"
      ]
     },
     "metadata": {},
     "output_type": "display_data"
    }
   ],
   "source": [
    "thinkplot.preplot(cols=2)\n",
    "\n",
    "x = 9000\n",
    "thinkplot.plot([1, x], [x, 1], color='gray', linewidth=3)\n",
    "thinkplot.Pdf(histT, label='T', linewidth=2)\n",
    "thinkplot.config(xlabel='Avalanche duration',\n",
    "                 xlim=[1, 1000],\n",
    "                 ylabel='Number',\n",
    "                 xscale='log',\n",
    "                 yscale='log',\n",
    "                 loc='upper right')\n",
    "\n",
    "thinkplot.subplot(2)\n",
    "\n",
    "x = 5700\n",
    "thinkplot.plot([1, x], [x, 1], color='gray', linewidth=3)\n",
    "thinkplot.Pdf(histS, label='S', linewidth=1)\n",
    "thinkplot.config(xlabel='Avalanche size',\n",
    "                 xlim=[1, 5600],\n",
    "                 ylabel='Number',\n",
    "                 xscale='log',\n",
    "                 yscale='log')\n",
    "\n",
    "plt.savefig('chap08-3.pdf')"
   ]
  },
  {
   "cell_type": "markdown",
   "metadata": {},
   "source": [
    "The gray line has slope -1.  The distribution of avalanche duration is approximately straight between 1 and 100, but then drops off.  The distribution of size follows a power law more closely and over a greater range, but it also seems to drop off for values above a few hundred."
   ]
  },
  {
   "cell_type": "markdown",
   "metadata": {},
   "source": [
    "**Exercise:** Try running the model longer to see if you can get a less noisy plot of the distributions of `T` and `S`. - It does appear to get less noisy when I run it for more iterations."
   ]
  },
  {
   "cell_type": "markdown",
   "metadata": {},
   "source": [
    "## Fractals\n",
    "\n",
    "If the sand pile is in a critical state, we expect to see fractal geometry.\n",
    "\n",
    "To estimate the fractal dimension, I'll start with a bigger pile and a higher initial level."
   ]
  },
  {
   "cell_type": "code",
   "execution_count": 90,
   "metadata": {},
   "outputs": [
    {
     "name": "stdout",
     "output_type": "stream",
     "text": [
      "CPU times: user 4 ms, sys: 0 ns, total: 4 ms\n",
      "Wall time: 6.95 ms\n"
     ]
    },
    {
     "data": {
      "text/plain": [
       "(110, 11556)"
      ]
     },
     "execution_count": 90,
     "metadata": {},
     "output_type": "execute_result"
    }
   ],
   "source": [
    "pile3 = SandPile(n=20, level=4)\n",
    "%time pile3.run()"
   ]
  },
  {
   "cell_type": "markdown",
   "metadata": {},
   "source": [
    "The initial state sure looks like a fractal."
   ]
  },
  {
   "cell_type": "code",
   "execution_count": 91,
   "metadata": {},
   "outputs": [
    {
     "data": {
      "image/png": "[encoded data removed]",
      "text/plain": [
       "<matplotlib.figure.Figure at 0x7fc45c55c320>"
      ]
     },
     "metadata": {},
     "output_type": "display_data"
    }
   ],
   "source": [
    "viewer3 = SandPileViewer(pile3)\n",
    "viewer3.draw()"
   ]
  },
  {
   "cell_type": "markdown",
   "metadata": {},
   "source": [
    "Since it contains four different levels (0, 1, 2, and 3), we can extract 4 binary patterns."
   ]
  },
  {
   "cell_type": "code",
   "execution_count": 92,
   "metadata": {
    "collapsed": true
   },
   "outputs": [],
   "source": [
    "def draw_four(viewer, vals=range(4)):\n",
    "    thinkplot.preplot(rows=2, cols=2)\n",
    "    a = viewer.viewee.array\n",
    "    \n",
    "    for i, val in enumerate(vals):\n",
    "        thinkplot.subplot(i+1)\n",
    "        viewer.draw_array(a==vals[i], vmax=1)"
   ]
  },
  {
   "cell_type": "markdown",
   "metadata": {},
   "source": [
    "Here's what they look like:"
   ]
  },
  {
   "cell_type": "code",
   "execution_count": 93,
   "metadata": {},
   "outputs": [
    {
     "data": {
      "image/png": "[encoded data removed]",
      "text/plain": [
       "<matplotlib.figure.Figure at 0x7fc45dfeba90>"
      ]
     },
     "metadata": {},
     "output_type": "display_data"
    }
   ],
   "source": [
    "draw_four(viewer3)\n",
    "plt.savefig('chap08-4.pdf')"
   ]
  },
  {
   "cell_type": "markdown",
   "metadata": {},
   "source": [
    "Now we can apply a box-counting algorithm to each level.\n",
    "\n",
    "`count_cells` starts with a single cell in the middle, gradually increases the size of the box, and counts the number of cells in each box."
   ]
  },
  {
   "cell_type": "code",
   "execution_count": 94,
   "metadata": {
    "collapsed": true
   },
   "outputs": [],
   "source": [
    "def count_cells(a):\n",
    "    \"\"\"Counts the number of cells in boxes with increasing size.\n",
    "    \n",
    "    a: NumPy array\n",
    "    \n",
    "    returns: list of (i, i**2, cell count) tuples\n",
    "    \"\"\"\n",
    "    n, m = a.shape\n",
    "    end = min(n, m)\n",
    "    \n",
    "    res = []\n",
    "    for i in range(1, end, 2):\n",
    "        top = (n-i) // 2\n",
    "        left = (m-i) // 2\n",
    "        box = a[top:top+i, left:left+i]\n",
    "        total = np.sum(box)\n",
    "        res.append((i, i**2, total))\n",
    "        \n",
    "    return np.transpose(res)"
   ]
  },
  {
   "cell_type": "markdown",
   "metadata": {},
   "source": [
    "`box_count` takes a pile and a value, extracts the cells that have the given value, calls `count_cells`, and estimates the fractal dimension.\n",
    "\n",
    "If `plot` is `True`, it also generates a graph of cell count versus box size on a log-log scale."
   ]
  },
  {
   "cell_type": "code",
   "execution_count": 95,
   "metadata": {
    "collapsed": true
   },
   "outputs": [],
   "source": [
    "from scipy.stats import linregress\n",
    "\n",
    "def box_count(pile, val=0, plot=False):\n",
    "    \"\"\"Estimates the fractal dimension by box counting.\n",
    "    \n",
    "    pile: SandPile\n",
    "    val: which value from the pile to count\n",
    "    plot: boolean, whether to generate a plot\n",
    "    \n",
    "    returns: estimated fractal dimension\n",
    "    \"\"\"\n",
    "    res = count_cells(pile.array==val)\n",
    "    steps, steps2, cells = res\n",
    "    \n",
    "    # select the range where we have a nonzero number of cells\n",
    "    legit = np.nonzero(cells)\n",
    "    steps = steps[legit]\n",
    "    steps2 = steps2[legit]\n",
    "    cells = cells[legit]\n",
    "\n",
    "    if plot:\n",
    "        thinkplot.preplot(3)\n",
    "        thinkplot.plot(steps, steps2, linestyle='dashed')\n",
    "        thinkplot.plot(steps, cells, label='val=%d' % val)\n",
    "        thinkplot.plot(steps, steps, linestyle='dashed')\n",
    "\n",
    "        thinkplot.config(xscale='log', yscale='log',\n",
    "                         xlim=[1, 200], loc='upper left',\n",
    "                         xlabel='box size', ylabel='cell count')\n",
    "    \n",
    "    params = linregress(np.log(steps), np.log(cells))\n",
    "    return params[0]"
   ]
  },
  {
   "cell_type": "markdown",
   "metadata": {},
   "source": [
    "Finally `box_count_four` applies the box counting algorithm for each value in the sand pile."
   ]
  },
  {
   "cell_type": "code",
   "execution_count": 96,
   "metadata": {
    "collapsed": true
   },
   "outputs": [],
   "source": [
    "def box_count_four(pile, vals=range(4)):\n",
    "    \"\"\"Applies box counting to each value in the pile.\n",
    "    \n",
    "    pile: SandPile\n",
    "    vals: list of values to check\n",
    "    \"\"\"\n",
    "    thinkplot.preplot(rows=2, cols=2)\n",
    "    \n",
    "    dims = []\n",
    "    for i, val in enumerate(vals):\n",
    "        thinkplot.subplot(i+1)\n",
    "        dim = box_count(pile, val, plot=True)\n",
    "        dims.append(dim)\n",
    "        \n",
    "    return dims"
   ]
  },
  {
   "cell_type": "markdown",
   "metadata": {},
   "source": [
    "Here are the results:"
   ]
  },
  {
   "cell_type": "code",
   "execution_count": 97,
   "metadata": {},
   "outputs": [
    {
     "data": {
      "image/png": "[encoded data removed]",
      "text/plain": [
       "<matplotlib.figure.Figure at 0x7fc46807c470>"
      ]
     },
     "metadata": {},
     "output_type": "display_data"
    }
   ],
   "source": [
    "dims = box_count_four(pile3)\n",
    "plt.savefig('chap08-5.pdf')"
   ]
  },
  {
   "cell_type": "markdown",
   "metadata": {},
   "source": [
    "The lines are reasonably straight, which indicates that we are running the algorithm over a valid range of box sizes.  Here are the estimated slopes:"
   ]
  },
  {
   "cell_type": "code",
   "execution_count": 98,
   "metadata": {},
   "outputs": [
    {
     "name": "stdout",
     "output_type": "stream",
     "text": [
      "0  2.053\n",
      "1  nan\n",
      "2  1.611\n",
      "3  2.129\n"
     ]
    }
   ],
   "source": [
    "for i, dim in enumerate(dims):\n",
    "    print('%d  %0.3f' % (i, dim))"
   ]
  },
  {
   "cell_type": "markdown",
   "metadata": {},
   "source": [
    "The fractal dimension for values 0, 1, and 2 seems to be clearly non-integer, which indicates that the image is fractal.\n",
    "\n",
    "Strictly, the fractal dimension for value 3 is indistinguishable from 2, but given the results for the other values, the apparent curvature of the line, and the appearance of the pattern, it seems likely that it is also fractal. "
   ]
  },
  {
   "cell_type": "markdown",
   "metadata": {},
   "source": [
    "**Exercise:**  Choose a different value of `n` and/or `level` and run this analysis again.  Are the estimated fractal dimensions consistent? - it seems they are all still represented as fractal values. The biggest difference is that the dimension for 1 ends up being not a number. Additionally, the dimension of 0 seems close to being an integer but given the shape of the graph it seems likely that 0 is still fractal in this version."
   ]
  },
  {
   "cell_type": "markdown",
   "metadata": {},
   "source": [
    "## Spectral density"
   ]
  },
  {
   "cell_type": "markdown",
   "metadata": {},
   "source": [
    "Suppose the sandpile made a little click each time a cell toppled.  What would it sound like?\n",
    "\n",
    "`toppled_seq` contains the number of cells that toppled during each time step.  We can use Welch's algorithm to estimate its [power spectral density](https://en.wikipedia.org/wiki/Spectral_density)."
   ]
  },
  {
   "cell_type": "code",
   "execution_count": 99,
   "metadata": {},
   "outputs": [
    {
     "data": {
      "text/plain": [
       "1431831"
      ]
     },
     "execution_count": 99,
     "metadata": {},
     "output_type": "execute_result"
    }
   ],
   "source": [
    "signal = pile2.toppled_seq\n",
    "len(signal)"
   ]
  },
  {
   "cell_type": "code",
   "execution_count": 100,
   "metadata": {
    "collapsed": true
   },
   "outputs": [],
   "source": [
    "from scipy.signal import welch\n",
    "\n",
    "nperseg = 10000\n",
    "freqs, powers = welch(signal, nperseg=nperseg, fs=nperseg)"
   ]
  },
  {
   "cell_type": "markdown",
   "metadata": {},
   "source": [
    "And here's what it looks like."
   ]
  },
  {
   "cell_type": "code",
   "execution_count": 101,
   "metadata": {},
   "outputs": [
    {
     "data": {
      "image/png": "[encoded data removed]",
      "text/plain": [
       "<matplotlib.figure.Figure at 0x7fc46148b9b0>"
      ]
     },
     "metadata": {},
     "output_type": "display_data"
    }
   ],
   "source": [
    "x = nperseg\n",
    "ys = np.array([x**1.58, 1]) / 2.7e3\n",
    "thinkplot.plot([1, x], ys, color='gray', linewidth=1)\n",
    "\n",
    "thinkplot.plot(freqs, powers)\n",
    "thinkplot.config(xlabel='frequency', xscale='log', xlim=[1, 1200],\n",
    "                 ylabel='power', yscale='log', ylim=[1e-5, 5])\n",
    "\n",
    "plt.savefig('chap08-6.pdf')"
   ]
  },
  {
   "cell_type": "markdown",
   "metadata": {},
   "source": [
    "The slope of the line is -1.58, which indicates that this spectrum is pink noise with parameter $\\beta=1.58$."
   ]
  },
  {
   "cell_type": "markdown",
   "metadata": {},
   "source": [
    "**Exercise:**  Choose a different value of `nperseg` and run this analysis again.  What are the pros and cons of larger segment lengths?  Modify the code to run the model longer and see if you can get a less noisy estimate of the spectrum. - it seems like increasing the value of nperseg makes the graph less noisy and also pushes the plot down quite a bit. Running the model longer takes more time but does produce a less noisy result. "
   ]
  },
  {
   "cell_type": "markdown",
   "metadata": {},
   "source": [
    "## Exercises"
   ]
  },
  {
   "cell_type": "markdown",
   "metadata": {},
   "source": [
    "**Exercise:** To test whether the distributions of `T` and `S` are heavy-tailed, we plotted their histograms on a log-log scale, which is what Bak, Tang and Wiesenfeld show in their paper.  But as we saw in Chapter 4, this visualization can obscure the shape of the distribution.  Using the same data, make a plot that shows the CDFs of `S` and `T`.  What can you say about the shape of these distributions?  Do they follow a power law?  Are they heavy tailed?\n",
    "\n",
    "You might find it helpful to plot the CDFs on a log-x scale and on a log-log scale."
   ]
  },
  {
   "cell_type": "code",
   "execution_count": 102,
   "metadata": {},
   "outputs": [
    {
     "data": {
      "image/png": "[encoded data removed]",
      "text/plain": [
       "<matplotlib.figure.Figure at 0x7fc463315dd8>"
      ]
     },
     "metadata": {},
     "output_type": "display_data"
    }
   ],
   "source": [
    "# CDFs of S\n",
    "\n",
    "thinkplot.preplot(cols=2)\n",
    "\n",
    "cdf = Cdf(S)\n",
    "thinkplot.Cdf(cdf)\n",
    "thinkplot.config(title='logx',\n",
    "                 xlabel='size',\n",
    "                 ylabel='Cdf',\n",
    "                 xscale='log')\n",
    "\n",
    "thinkplot.subplot(2)\n",
    "                  \n",
    "thinkplot.Cdf(cdf, complement=True)\n",
    "thinkplot.config(title='log log',\n",
    "                 xlabel='size',\n",
    "                 ylabel='Cdf',\n",
    "                 xscale='log',\n",
    "                 yscale='log')"
   ]
  },
  {
   "cell_type": "code",
   "execution_count": 103,
   "metadata": {},
   "outputs": [
    {
     "data": {
      "image/png": "[encoded data removed]",
      "text/plain": [
       "<matplotlib.figure.Figure at 0x7fc45dfc48d0>"
      ]
     },
     "metadata": {},
     "output_type": "display_data"
    }
   ],
   "source": [
    "# CDFs of T\n",
    "\n",
    "thinkplot.preplot(cols=2)\n",
    "\n",
    "cdf = Cdf(T)\n",
    "thinkplot.Cdf(cdf)\n",
    "thinkplot.config(title='logx',\n",
    "                 xlabel='size',\n",
    "                 ylabel='Cdf',\n",
    "                 xscale='log')\n",
    "\n",
    "thinkplot.subplot(2)\n",
    "                  \n",
    "thinkplot.Cdf(cdf, complement=True)\n",
    "thinkplot.config(title='log log',\n",
    "                 xlabel='size',\n",
    "                 ylabel='Cdf',\n",
    "                 xscale='log',\n",
    "                 yscale='log')"
   ]
  },
  {
   "cell_type": "code",
   "execution_count": 104,
   "metadata": {
    "collapsed": true
   },
   "outputs": [],
   "source": [
    "# it looks like they are heavy tailed but because neither log log plot has a straight line, I can conclude that \n",
    "# they do not follow a power law"
   ]
  },
  {
   "cell_type": "markdown",
   "metadata": {},
   "source": [
    "**Exercise:** In Section 8.5 we showed that the initial configuration of the sand pile model produces fractal patterns.  But after we drop a large number of random grains, the patterns look more random.\n",
    "\n",
    "Starting with the example in Section 8.5, run the sand pile model for a while and then compute fractal dimensions for each of the 4 levels.  Is the sand pile model fractal in steady state?"
   ]
  },
  {
   "cell_type": "code",
   "execution_count": 105,
   "metadata": {},
   "outputs": [
    {
     "data": {
      "image/png": "[encoded data removed]",
      "text/plain": [
       "<matplotlib.figure.Figure at 0x7fc45e3cb940>"
      ]
     },
     "metadata": {},
     "output_type": "display_data"
    }
   ],
   "source": [
    "# create the viewer and draw 4 things\n",
    "viewer4 = SandPileViewer(pile3)\n",
    "draw_four(viewer4)"
   ]
  },
  {
   "cell_type": "code",
   "execution_count": 106,
   "metadata": {},
   "outputs": [
    {
     "data": {
      "image/png": "[encoded data removed]",
      "text/plain": [
       "<matplotlib.figure.Figure at 0x7fc47e5da160>"
      ]
     },
     "metadata": {},
     "output_type": "display_data"
    }
   ],
   "source": [
    "# Check to see if it is truly random\n",
    "for i in range(5000):\n",
    "    pile3.drop_and_run()\n",
    "    \n",
    "draw_four(viewer4)"
   ]
  },
  {
   "cell_type": "code",
   "execution_count": 107,
   "metadata": {},
   "outputs": [
    {
     "data": {
      "image/png": "[encoded data removed]",
      "text/plain": [
       "<matplotlib.figure.Figure at 0x7fc4775bbcc0>"
      ]
     },
     "metadata": {},
     "output_type": "display_data"
    }
   ],
   "source": [
    "# graph the cell count vs box sizes\n",
    "dims = box_count_four(pile3)\n"
   ]
  },
  {
   "cell_type": "code",
   "execution_count": 108,
   "metadata": {},
   "outputs": [
    {
     "name": "stdout",
     "output_type": "stream",
     "text": [
      "0  1.778\n",
      "1  1.735\n",
      "2  2.573\n",
      "3  1.744\n"
     ]
    }
   ],
   "source": [
    "# Print the dimensions\n",
    "for i, dim in enumerate(dims):\n",
    "    print('%d  %0.3f' % (i, dim))"
   ]
  },
  {
   "cell_type": "code",
   "execution_count": 117,
   "metadata": {
    "collapsed": true
   },
   "outputs": [],
   "source": [
    "# All the dimension values seem to be close to 2 which implies that the pattern is indeed random at this point"
   ]
  },
  {
   "cell_type": "markdown",
   "metadata": {},
   "source": [
    "**Exercise:** Another version of the sand pile model, called the \"single source\" model, starts from a different initial condition: instead of all cells at the same level, all cells are set to 0 except the center cell, which is set to a very large value.\n",
    "\n",
    "Write a function that creates a `SandPile` object, sets up the single source initial condition, and runs until the pile reaches equilibrium.  Does the results appear to be fractal?\n",
    "\n",
    "You can read more about this version of the sand pile model at http://math.cmu.edu/~wes/sandgallery.html"
   ]
  },
  {
   "cell_type": "code",
   "execution_count": 110,
   "metadata": {
    "collapsed": true
   },
   "outputs": [],
   "source": [
    "# Set everything except the center cell equal to 0\n",
    "    \n",
    "def single_source(pile, center=1024):\n",
    "    a = pile.array\n",
    "    n, m = a.shape\n",
    "    a[:, :] = 0\n",
    "    a[n//2, m//2] = center"
   ]
  },
  {
   "cell_type": "code",
   "execution_count": 111,
   "metadata": {
    "collapsed": true
   },
   "outputs": [],
   "source": [
    "# create a sandpile object, set the single source initial condition and run until the pile reaches equilibrium\n",
    "def singlesource_pile(n, k=10):\n",
    "    pile = SandPile(n)\n",
    "    single_source(pile, 2**k)\n",
    "    print(pile.run())        \n",
    "    viewer = SandPileViewer(pile)\n",
    "    return pile, viewer"
   ]
  },
  {
   "cell_type": "code",
   "execution_count": 113,
   "metadata": {},
   "outputs": [
    {
     "name": "stdout",
     "output_type": "stream",
     "text": [
      "(643, 20384)\n",
      "CPU times: user 100 ms, sys: 0 ns, total: 100 ms\n",
      "Wall time: 99.7 ms\n"
     ]
    },
    {
     "data": {
      "image/png": "[encoded data removed]",
      "text/plain": [
       "<matplotlib.figure.Figure at 0x7fc4775bbd30>"
      ]
     },
     "metadata": {},
     "output_type": "display_data"
    }
   ],
   "source": [
    "# time it and get the pile and the viewer\n",
    "% time pile5, viewer5 = singlesource_pile(n=50)\n",
    "viewer5.draw()"
   ]
  },
  {
   "cell_type": "code",
   "execution_count": 114,
   "metadata": {},
   "outputs": [
    {
     "data": {
      "image/png": "[encoded data removed]",
      "text/plain": [
       "<matplotlib.figure.Figure at 0x7fc45d1bcf98>"
      ]
     },
     "metadata": {},
     "output_type": "display_data"
    }
   ],
   "source": [
    "# draw 4 iterations of the sand model\n",
    "draw_four(viewer5)"
   ]
  },
  {
   "cell_type": "code",
   "execution_count": 115,
   "metadata": {},
   "outputs": [
    {
     "data": {
      "image/png": "[encoded data removed]",
      "text/plain": [
       "<matplotlib.figure.Figure at 0x7fc47defb278>"
      ]
     },
     "metadata": {},
     "output_type": "display_data"
    }
   ],
   "source": [
    "# create the 4 box counts\n",
    "dimensions = box_count_four(pile5)"
   ]
  },
  {
   "cell_type": "code",
   "execution_count": 116,
   "metadata": {},
   "outputs": [
    {
     "name": "stdout",
     "output_type": "stream",
     "text": [
      "0  2.219\n",
      "1  1.965\n",
      "2  1.382\n",
      "3  1.382\n"
     ]
    }
   ],
   "source": [
    "# print the dimensions\n",
    "for i, dim in enumerate(dimensions):\n",
    "    print('%d  %0.3f' % (i, dim))"
   ]
  },
  {
   "cell_type": "code",
   "execution_count": 44,
   "metadata": {
    "collapsed": true
   },
   "outputs": [],
   "source": [
    "# For the most part, it seems the dimensions are non integer, so my conjecture would be that they system\n",
    "# is probably fractal, but our results are not super clear so I can not be sure. "
   ]
  }
 ],
 "metadata": {
  "kernelspec": {
   "display_name": "Python 3",
   "language": "python",
   "name": "python3"
  },
  "language_info": {
   "codemirror_mode": {
    "name": "ipython",
    "version": 3
   },
   "file_extension": ".py",
   "mimetype": "text/x-python",
   "name": "python",
   "nbconvert_exporter": "python",
   "pygments_lexer": "ipython3",
   "version": "3.6.1"
  }
 },
 "nbformat": 4,
 "nbformat_minor": 1
}
