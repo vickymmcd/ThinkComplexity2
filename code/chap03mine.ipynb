{
 "cells": [
  {
   "cell_type": "markdown",
   "metadata": {},
   "source": [
    "# Small World Graphs\n",
    "\n",
    "Code examples from [Think Complexity, 2nd edition](http://greenteapress.com/wp/complexity2), Chapter 3\n",
    "\n",
    "Copyright 2016 Allen Downey, [MIT License](http://opensource.org/licenses/MIT)"
   ]
  },
  {
   "cell_type": "code",
   "execution_count": 2,
   "metadata": {
    "collapsed": true
   },
   "outputs": [],
   "source": [
    "from __future__ import print_function, division\n",
    "\n",
    "%matplotlib inline\n",
    "\n",
    "import warnings\n",
    "warnings.filterwarnings('ignore')\n",
    "\n",
    "import matplotlib.pyplot as plt\n",
    "\n",
    "import networkx as nx\n",
    "import numpy as np\n",
    "\n",
    "import thinkplot\n",
    "\n",
    "# colors from our friends at http://colorbrewer2.org\n",
    "COLORS = ['#8dd3c7','#ffffb3','#bebada','#fb8072','#80b1d3','#fdb462',\n",
    "          '#b3de69','#fccde5','#d9d9d9','#bc80bd','#ccebc5','#ffed6f']"
   ]
  },
  {
   "cell_type": "code",
   "execution_count": 3,
   "metadata": {
    "collapsed": true
   },
   "outputs": [],
   "source": [
    "from thinkstats2 import RandomSeed\n",
    "RandomSeed(17)"
   ]
  },
  {
   "cell_type": "markdown",
   "metadata": {},
   "source": [
    "## Regular ring lattice"
   ]
  },
  {
   "cell_type": "markdown",
   "metadata": {},
   "source": [
    "To make a ring lattice, I'll start with a generator function that yields edges between each node and the next `halfk` neighbors."
   ]
  },
  {
   "cell_type": "code",
   "execution_count": 4,
   "metadata": {
    "collapsed": true
   },
   "outputs": [],
   "source": [
    "def adjacent_edges(nodes, halfk):\n",
    "    \"\"\"Yields edges between each node and `halfk` neighbors.\n",
    "    \n",
    "    halfk: number of edges from each node\n",
    "    \"\"\"\n",
    "    n = len(nodes)\n",
    "    for i, u in enumerate(nodes):\n",
    "        for j in range(i+1, i+halfk+1):\n",
    "            v = nodes[j % n]\n",
    "            yield u, v"
   ]
  },
  {
   "cell_type": "markdown",
   "metadata": {},
   "source": [
    "We can test it with 3 nodes and `halfk=1`"
   ]
  },
  {
   "cell_type": "code",
   "execution_count": 5,
   "metadata": {},
   "outputs": [
    {
     "name": "stdout",
     "output_type": "stream",
     "text": [
      "(0, 1)\n",
      "(1, 2)\n",
      "(2, 0)\n"
     ]
    }
   ],
   "source": [
    "nodes = range(3)\n",
    "for edge in adjacent_edges(nodes, 1):\n",
    "    print(edge)"
   ]
  },
  {
   "cell_type": "markdown",
   "metadata": {},
   "source": [
    "Now we use `adjacent_edges` to write `make_ring_lattice`"
   ]
  },
  {
   "cell_type": "code",
   "execution_count": 6,
   "metadata": {
    "collapsed": true
   },
   "outputs": [],
   "source": [
    "def make_ring_lattice(n, k):\n",
    "    \"\"\"Makes a ring lattice with `n` nodes and degree `k`.\n",
    "    \n",
    "    Note: this only works correctly if k is even.\n",
    "    \n",
    "    n: number of nodes\n",
    "    k: degree of each node\n",
    "    \"\"\"\n",
    "    G = nx.Graph()\n",
    "    nodes = range(n)\n",
    "    G.add_nodes_from(nodes)\n",
    "    G.add_edges_from(adjacent_edges(nodes, k//2))\n",
    "    return G"
   ]
  },
  {
   "cell_type": "markdown",
   "metadata": {},
   "source": [
    "And we can test it out with `n=10` and `k=4`"
   ]
  },
  {
   "cell_type": "code",
   "execution_count": 7,
   "metadata": {
    "collapsed": true
   },
   "outputs": [],
   "source": [
    "lattice = make_ring_lattice(10, 5)"
   ]
  },
  {
   "cell_type": "code",
   "execution_count": 8,
   "metadata": {},
   "outputs": [
    {
     "data": {
      "image/png": "[encoded data removed]",
      "text/plain": [
       "<matplotlib.figure.Figure at 0x7ff74e93c0b8>"
      ]
     },
     "metadata": {},
     "output_type": "display_data"
    }
   ],
   "source": [
    "nx.draw_circular(lattice, \n",
    "                 node_color=COLORS[0], \n",
    "                 node_size=1000, \n",
    "                 with_labels=True)\n",
    "plt.savefig('chap03-1.pdf')"
   ]
  },
  {
   "cell_type": "markdown",
   "metadata": {},
   "source": [
    "**Exercise:** To see how this function fails when `k` is odd, run it again with `k=3` or `k=5`.\n",
    "\n",
    "When I run it with k=5 each node in the ring lattice actually has degree 4 because there is no way for it to have degree 5. When I run it with k=3 each node has degree 2 because there is no way for each node to have degree 3."
   ]
  },
  {
   "cell_type": "markdown",
   "metadata": {
    "collapsed": true
   },
   "source": [
    "## WS graph"
   ]
  },
  {
   "cell_type": "markdown",
   "metadata": {},
   "source": [
    "To make a WS, you start with a ring lattice and then rewire."
   ]
  },
  {
   "cell_type": "code",
   "execution_count": 9,
   "metadata": {
    "collapsed": true
   },
   "outputs": [],
   "source": [
    "def make_ws_graph(n, k, p):\n",
    "    \"\"\"Makes a Watts-Strogatz graph.\n",
    "    \n",
    "    n: number of nodes\n",
    "    k: degree of each node\n",
    "    p: probability of rewiring an edge\n",
    "    \"\"\"\n",
    "    ws = make_ring_lattice(n, k)\n",
    "    rewire(ws, p)\n",
    "    return ws"
   ]
  },
  {
   "cell_type": "markdown",
   "metadata": {},
   "source": [
    "Here's the function that does the rewiring"
   ]
  },
  {
   "cell_type": "code",
   "execution_count": 10,
   "metadata": {
    "collapsed": true
   },
   "outputs": [],
   "source": [
    "from numpy.random import choice\n",
    "\n",
    "def rewire(G, p):\n",
    "    \"\"\"Rewires each edge with probability `p`.\n",
    "    \n",
    "    G: Graph\n",
    "    p: float\n",
    "    \"\"\"\n",
    "    nodes = set(G.nodes())\n",
    "    for edge in G.edges():\n",
    "        if flip(p):\n",
    "            u, v = edge\n",
    "            choices = nodes - {u} - set(G[u])\n",
    "            new_v = choice(tuple(choices))\n",
    "            G.remove_edge(u, v)\n",
    "            G.add_edge(u, new_v)\n",
    "            \n",
    "def flip(p):\n",
    "    \"\"\"Returns True with probability `p`.\"\"\"\n",
    "    return np.random.random() < p"
   ]
  },
  {
   "cell_type": "markdown",
   "metadata": {},
   "source": [
    "Here's an example with `p=0.2`"
   ]
  },
  {
   "cell_type": "code",
   "execution_count": 11,
   "metadata": {},
   "outputs": [
    {
     "data": {
      "image/png": "[encoded data removed]",
      "text/plain": [
       "<matplotlib.figure.Figure at 0x7ff74b2d2b00>"
      ]
     },
     "metadata": {},
     "output_type": "display_data"
    }
   ],
   "source": [
    "ws = make_ws_graph(10, 4, 0.2)\n",
    "nx.draw_circular(ws, \n",
    "                 node_color=COLORS[1], \n",
    "                 node_size=1000, \n",
    "                 with_labels=True)"
   ]
  },
  {
   "cell_type": "markdown",
   "metadata": {},
   "source": [
    "Just checking that we have the same number of edges we started with:"
   ]
  },
  {
   "cell_type": "code",
   "execution_count": 12,
   "metadata": {},
   "outputs": [
    {
     "data": {
      "text/plain": [
       "(20, 20)"
      ]
     },
     "execution_count": 12,
     "metadata": {},
     "output_type": "execute_result"
    }
   ],
   "source": [
    "len(lattice.edges()), len(ws.edges())"
   ]
  },
  {
   "cell_type": "markdown",
   "metadata": {},
   "source": [
    "Now I'll generate a plot that shows WS graphs for a few values of `p`"
   ]
  },
  {
   "cell_type": "code",
   "execution_count": 13,
   "metadata": {},
   "outputs": [
    {
     "name": "stderr",
     "output_type": "stream",
     "text": [
      "/home/vmcdermott/miniconda3/lib/python3.6/site-packages/networkx/drawing/nx_pylab.py:126: MatplotlibDeprecationWarning: pyplot.hold is deprecated.\n",
      "    Future behavior will be consistent with the long-time default:\n",
      "    plot commands add elements without first clearing the\n",
      "    Axes and/or Figure.\n",
      "  b = plt.ishold()\n",
      "/home/vmcdermott/miniconda3/lib/python3.6/site-packages/networkx/drawing/nx_pylab.py:138: MatplotlibDeprecationWarning: pyplot.hold is deprecated.\n",
      "    Future behavior will be consistent with the long-time default:\n",
      "    plot commands add elements without first clearing the\n",
      "    Axes and/or Figure.\n",
      "  plt.hold(b)\n",
      "/home/vmcdermott/miniconda3/lib/python3.6/site-packages/matplotlib/__init__.py:917: UserWarning: axes.hold is deprecated. Please remove it from your matplotlibrc and/or style files.\n",
      "  warnings.warn(self.msg_depr_set % key)\n",
      "/home/vmcdermott/miniconda3/lib/python3.6/site-packages/matplotlib/rcsetup.py:152: UserWarning: axes.hold is deprecated, will be removed in 3.0\n",
      "  warnings.warn(\"axes.hold is deprecated, will be removed in 3.0\")\n",
      "/home/vmcdermott/miniconda3/lib/python3.6/site-packages/networkx/drawing/nx_pylab.py:126: MatplotlibDeprecationWarning: pyplot.hold is deprecated.\n",
      "    Future behavior will be consistent with the long-time default:\n",
      "    plot commands add elements without first clearing the\n",
      "    Axes and/or Figure.\n",
      "  b = plt.ishold()\n",
      "/home/vmcdermott/miniconda3/lib/python3.6/site-packages/networkx/drawing/nx_pylab.py:138: MatplotlibDeprecationWarning: pyplot.hold is deprecated.\n",
      "    Future behavior will be consistent with the long-time default:\n",
      "    plot commands add elements without first clearing the\n",
      "    Axes and/or Figure.\n",
      "  plt.hold(b)\n",
      "/home/vmcdermott/miniconda3/lib/python3.6/site-packages/matplotlib/__init__.py:917: UserWarning: axes.hold is deprecated. Please remove it from your matplotlibrc and/or style files.\n",
      "  warnings.warn(self.msg_depr_set % key)\n",
      "/home/vmcdermott/miniconda3/lib/python3.6/site-packages/matplotlib/rcsetup.py:152: UserWarning: axes.hold is deprecated, will be removed in 3.0\n",
      "  warnings.warn(\"axes.hold is deprecated, will be removed in 3.0\")\n"
     ]
    },
    {
     "data": {
      "image/png": "[encoded data removed]",
      "text/plain": [
       "<matplotlib.figure.Figure at 0x7ff74b2912e8>"
      ]
     },
     "metadata": {},
     "output_type": "display_data"
    }
   ],
   "source": [
    "n = 10\n",
    "k = 4\n",
    "ns = 40\n",
    "\n",
    "thinkplot.preplot(cols=3)\n",
    "ws = make_ws_graph(n, k, 0)\n",
    "nx.draw_circular(ws, node_size=ns)\n",
    "thinkplot.config(axis='equal')\n",
    "\n",
    "thinkplot.subplot(2)\n",
    "ws = make_ws_graph(n, k, 0.2)\n",
    "nx.draw_circular(ws, node_size=ns)\n",
    "thinkplot.config(axis='equal')\n",
    "\n",
    "thinkplot.subplot(3)\n",
    "ws = make_ws_graph(n, k, 1.0)\n",
    "nx.draw_circular(ws, node_size=ns)\n",
    "thinkplot.config(axis='equal')\n",
    "\n",
    "plt.tight_layout()\n",
    "plt.subplots_adjust(wspace=0, hspace=0, left=0, right=1)\n",
    "plt.savefig('chap03-2.pdf')"
   ]
  },
  {
   "cell_type": "markdown",
   "metadata": {},
   "source": [
    "**Exercise:** What is the order of growth of `rewire`?"
   ]
  },
  {
   "cell_type": "code",
   "execution_count": 14,
   "metadata": {
    "collapsed": true
   },
   "outputs": [],
   "source": [
    "# Solution goes here\n",
    "# O(n) where n is the number of edges"
   ]
  },
  {
   "cell_type": "markdown",
   "metadata": {
    "collapsed": true
   },
   "source": [
    "## Clustering"
   ]
  },
  {
   "cell_type": "markdown",
   "metadata": {},
   "source": [
    "The following function computes the local clustering coefficient for a given node, `u`:"
   ]
  },
  {
   "cell_type": "code",
   "execution_count": 15,
   "metadata": {
    "collapsed": true
   },
   "outputs": [],
   "source": [
    "def node_clustering(G, u):\n",
    "    \"\"\"Computes local clustering coefficient for `u`.\n",
    "    \n",
    "    G: Graph\n",
    "    u: node\n",
    "    \n",
    "    returns: float\n",
    "    \"\"\"\n",
    "    neighbors = G[u]\n",
    "    k = len(neighbors)\n",
    "    if k < 2:\n",
    "        return 0\n",
    "        \n",
    "    total = k * (k-1) / 2\n",
    "    exist = 0    \n",
    "    for v, w in all_pairs(neighbors):\n",
    "        if G.has_edge(v, w):\n",
    "            exist +=1\n",
    "    return exist / total\n",
    "\n",
    "def all_pairs(nodes):\n",
    "    \"\"\"Generates all pairs of nodes.\"\"\"\n",
    "    for i, u in enumerate(nodes):\n",
    "        for j, v in enumerate(nodes):\n",
    "            if i < j:\n",
    "                yield u, v"
   ]
  },
  {
   "cell_type": "markdown",
   "metadata": {},
   "source": [
    "The network average clustering coefficient is just the mean of the local CCs."
   ]
  },
  {
   "cell_type": "code",
   "execution_count": 16,
   "metadata": {
    "collapsed": true
   },
   "outputs": [],
   "source": [
    "def clustering_coefficient(G):\n",
    "    \"\"\"Average of the local clustering coefficients.\n",
    "    \n",
    "    G: Graph\n",
    "    \n",
    "    returns: float\n",
    "    \"\"\"\n",
    "    cc = np.mean([node_clustering(G, node) for node in G])\n",
    "    return cc"
   ]
  },
  {
   "cell_type": "markdown",
   "metadata": {},
   "source": [
    "In a ring lattice with `k=4`, the clustering coefficient for each node should be 0.5"
   ]
  },
  {
   "cell_type": "code",
   "execution_count": 34,
   "metadata": {},
   "outputs": [
    {
     "data": {
      "text/plain": [
       "0.5"
      ]
     },
     "execution_count": 34,
     "metadata": {},
     "output_type": "execute_result"
    }
   ],
   "source": [
    "lattice = make_ring_lattice(10, 4)\n",
    "node_clustering(lattice, 1)"
   ]
  },
  {
   "cell_type": "markdown",
   "metadata": {},
   "source": [
    "And the network average should be 0.5"
   ]
  },
  {
   "cell_type": "code",
   "execution_count": 35,
   "metadata": {},
   "outputs": [
    {
     "data": {
      "text/plain": [
       "0.5"
      ]
     },
     "execution_count": 35,
     "metadata": {},
     "output_type": "execute_result"
    }
   ],
   "source": [
    "clustering_coefficient(lattice)"
   ]
  },
  {
   "cell_type": "markdown",
   "metadata": {},
   "source": [
    "Correct."
   ]
  },
  {
   "cell_type": "markdown",
   "metadata": {},
   "source": [
    "**Exercise:** Write a version of `node_clustering` that replaces the `for` loop with a list comprehension."
   ]
  },
  {
   "cell_type": "code",
   "execution_count": 37,
   "metadata": {},
   "outputs": [
    {
     "data": {
      "text/plain": [
       "0.5"
      ]
     },
     "execution_count": 37,
     "metadata": {},
     "output_type": "execute_result"
    }
   ],
   "source": [
    "# Solution goes here\n",
    "def node_clustering_better(G, u):\n",
    "    \"\"\"Computes local clustering coefficient for `u`.\n",
    "    \n",
    "    G: Graph\n",
    "    u: node\n",
    "    \n",
    "    returns: float\n",
    "    \"\"\"\n",
    "    neighbors = G[u]\n",
    "    k = len(neighbors)\n",
    "    if k < 2:\n",
    "        return 0\n",
    "        \n",
    "    total = k * (k-1) / 2\n",
    "    exist = [1 for v, w in all_pairs(neighbors) if G.has_edge(v, w)]\n",
    "    exist = len(exist)\n",
    "    return exist / total\n",
    "\n",
    "node_clustering_better(lattice, 1)"
   ]
  },
  {
   "cell_type": "markdown",
   "metadata": {},
   "source": [
    "**Exercise:** What is the order of growth of `clustering_coefficient` in terms of `n`, `m`, and `k`?"
   ]
  },
  {
   "cell_type": "code",
   "execution_count": 20,
   "metadata": {
    "collapsed": true
   },
   "outputs": [],
   "source": [
    "# Solution goes here\n",
    "# The order of growth of clustering_coefficient would be O(n^2) because the order of growth of the\n",
    "# all_pairs function is O(n^2)"
   ]
  },
  {
   "cell_type": "markdown",
   "metadata": {},
   "source": [
    "## Path length"
   ]
  },
  {
   "cell_type": "markdown",
   "metadata": {},
   "source": [
    "The following function computes path lengths between all pairs of nodes"
   ]
  },
  {
   "cell_type": "code",
   "execution_count": 21,
   "metadata": {
    "collapsed": true
   },
   "outputs": [],
   "source": [
    "def path_lengths(G):\n",
    "    length_map = nx.shortest_path_length(G)\n",
    "    lengths = [length_map[u][v] for u, v in all_pairs(G)]\n",
    "    return lengths"
   ]
  },
  {
   "cell_type": "markdown",
   "metadata": {},
   "source": [
    "The characteristic path length is the mean path length for all pairs."
   ]
  },
  {
   "cell_type": "code",
   "execution_count": 22,
   "metadata": {
    "collapsed": true
   },
   "outputs": [],
   "source": [
    "def characteristic_path_length(G):\n",
    "    return np.mean(path_lengths(G))"
   ]
  },
  {
   "cell_type": "markdown",
   "metadata": {},
   "source": [
    "On a complete graph, the average path length should be 1"
   ]
  },
  {
   "cell_type": "code",
   "execution_count": 23,
   "metadata": {},
   "outputs": [
    {
     "data": {
      "text/plain": [
       "1.0"
      ]
     },
     "execution_count": 23,
     "metadata": {},
     "output_type": "execute_result"
    }
   ],
   "source": [
    "complete = nx.complete_graph(10)\n",
    "characteristic_path_length(complete)"
   ]
  },
  {
   "cell_type": "markdown",
   "metadata": {},
   "source": [
    "On a ring lattice with `n=1000` and `k=10`, the mean is about 50"
   ]
  },
  {
   "cell_type": "code",
   "execution_count": 24,
   "metadata": {},
   "outputs": [
    {
     "data": {
      "text/plain": [
       "50.450450450450454"
      ]
     },
     "execution_count": 24,
     "metadata": {},
     "output_type": "execute_result"
    }
   ],
   "source": [
    "lattice = make_ring_lattice(1000, 10)\n",
    "characteristic_path_length(lattice)"
   ]
  },
  {
   "cell_type": "markdown",
   "metadata": {},
   "source": [
    "**Exercise:**  What is the mean path length in a ring lattice with `n=10` and `k=4`?"
   ]
  },
  {
   "cell_type": "code",
   "execution_count": 25,
   "metadata": {},
   "outputs": [
    {
     "data": {
      "text/plain": [
       "1.6666666666666667"
      ]
     },
     "execution_count": 25,
     "metadata": {},
     "output_type": "execute_result"
    }
   ],
   "source": [
    "# Solution goes here\n",
    "lattice2 = make_ring_lattice(10, 4)\n",
    "characteristic_path_length(lattice2)\n",
    "# mean path length is 1.66667"
   ]
  },
  {
   "cell_type": "markdown",
   "metadata": {},
   "source": [
    "## The experiment"
   ]
  },
  {
   "cell_type": "markdown",
   "metadata": {},
   "source": [
    "This function generates a WS graph with the given parameters and returns a pair of (mean path length, clustering coefficient):"
   ]
  },
  {
   "cell_type": "code",
   "execution_count": 26,
   "metadata": {
    "collapsed": true
   },
   "outputs": [],
   "source": [
    "def run_one_graph(n, k, p):\n",
    "    \"\"\"Makes a WS graph and computes its stats.\n",
    "    \n",
    "    n: number of nodes\n",
    "    k: degree of each node\n",
    "    p: probability of rewiring\n",
    "    \n",
    "    returns: tuple of (mean path length, clustering coefficient)\n",
    "    \"\"\"\n",
    "    ws = make_ws_graph(n, k, p)    \n",
    "    mpl = characteristic_path_length(ws)\n",
    "    cc = clustering_coefficient(ws)\n",
    "    print(mpl, cc)\n",
    "    return mpl, cc"
   ]
  },
  {
   "cell_type": "markdown",
   "metadata": {},
   "source": [
    "With `n=1000` and `k=10`, it takes about a second on my computer:"
   ]
  },
  {
   "cell_type": "code",
   "execution_count": 27,
   "metadata": {},
   "outputs": [
    {
     "name": "stdout",
     "output_type": "stream",
     "text": [
      "8.28691491491 0.644337662338\n",
      "CPU times: user 1.13 s, sys: 28 ms, total: 1.16 s\n",
      "Wall time: 1.16 s\n"
     ]
    },
    {
     "data": {
      "text/plain": [
       "(8.2869149149149148, 0.64433766233766232)"
      ]
     },
     "execution_count": 27,
     "metadata": {},
     "output_type": "execute_result"
    }
   ],
   "source": [
    "%time run_one_graph(1000, 10, 0.01)"
   ]
  },
  {
   "cell_type": "markdown",
   "metadata": {},
   "source": [
    "Now we'll run it with a range of values for `p`."
   ]
  },
  {
   "cell_type": "code",
   "execution_count": 28,
   "metadata": {},
   "outputs": [
    {
     "name": "stdout",
     "output_type": "stream",
     "text": [
      "[  1.00000000e-04   3.16227766e-04   1.00000000e-03   3.16227766e-03\n",
      "   1.00000000e-02   3.16227766e-02   1.00000000e-01   3.16227766e-01\n",
      "   1.00000000e+00]\n"
     ]
    }
   ],
   "source": [
    "ps = np.logspace(-4, 0, 9)\n",
    "print(ps)"
   ]
  },
  {
   "cell_type": "markdown",
   "metadata": {},
   "source": [
    "This function runs each value of `p` 20 times and returns a dictionary that maps from each `p` to a list of (mpl, cc) pairs."
   ]
  },
  {
   "cell_type": "code",
   "execution_count": 29,
   "metadata": {
    "collapsed": true
   },
   "outputs": [],
   "source": [
    "def run_experiment(ps, n=1000, k=10, iters=20):\n",
    "    \"\"\"Computes stats for WS graphs with a range of `p`.\n",
    "    \n",
    "    ps: sequence of `p` to try\n",
    "    n: number of nodes\n",
    "    k: degree of each node\n",
    "    iters: number of times to run for each `p`\n",
    "    \n",
    "    returns: sequence of (mpl, cc) pairs\n",
    "    \"\"\"\n",
    "    res = {}\n",
    "    for p in ps:\n",
    "        print(p)\n",
    "        res[p] = []\n",
    "        for _ in range(iters):\n",
    "            res[p].append(run_one_graph(n, k, p))\n",
    "    return res"
   ]
  },
  {
   "cell_type": "markdown",
   "metadata": {},
   "source": [
    "Here are the raw results"
   ]
  },
  {
   "cell_type": "code",
   "execution_count": 30,
   "metadata": {},
   "outputs": [
    {
     "name": "stdout",
     "output_type": "stream",
     "text": [
      "0.0001\n",
      "40.5586446446 0.666423232323\n",
      "50.4504504505 0.666666666667\n",
      "50.4504504505 0.666666666667\n",
      "42.5435135135 0.666423232323\n",
      "50.4504504505 0.666666666667\n",
      "47.2872632633 0.666278787879\n",
      "50.4504504505 0.666666666667\n",
      "49.82804004 0.666351010101\n",
      "40.1102762763 0.666134343434\n",
      "50.4504504505 0.666666666667\n",
      "50.4504504505 0.666666666667\n",
      "50.4504504505 0.666666666667\n",
      "50.4504504505 0.666666666667\n",
      "39.6356356356 0.665963131313\n",
      "37.9293013013 0.666107575758\n",
      "50.4211191191 0.666384848485\n",
      "50.4504504505 0.666666666667\n",
      "39.8014474474 0.666278787879\n",
      "50.4504504505 0.666666666667\n",
      "50.4504504505 0.666666666667\n",
      "0.000316227766017\n",
      "38.4912472472 0.666206565657\n",
      "32.7859219219 0.665286363636\n",
      "36.9473093093 0.666107575758\n",
      "26.7532292292 0.665430808081\n",
      "36.4936176176 0.665602020202\n",
      "34.7754554555 0.665746464646\n",
      "41.8450750751 0.666278787879\n",
      "45.4095515516 0.666035353535\n",
      "33.5735475475 0.665963131313\n",
      "38.566998999 0.666206565657\n",
      "32.2358298298 0.665042929293\n",
      "33.3399079079 0.665746464646\n",
      "38.742980981 0.666278787879\n",
      "45.4724884885 0.666278787879\n",
      "43.0307187187 0.665746464646\n",
      "35.9812412412 0.665141919192\n",
      "43.4174854855 0.666206565657\n",
      "37.7342762763 0.665746464646\n",
      "46.0405485485 0.666134343434\n",
      "46.0505105105 0.666423232323\n",
      "0.001\n",
      "27.7864724725 0.664655050505\n",
      "24.6398518519 0.664799494949\n",
      "18.7175135135 0.663261616162\n",
      "25.9586186186 0.665331818182\n",
      "24.3776636637 0.663563636364\n",
      "18.0281161161 0.663252020202\n",
      "27.0837257257 0.665115151515\n",
      "24.6775255255 0.663872727273\n",
      "29.0646966967 0.664438383838\n",
      "34.9572032032 0.666035353535\n",
      "21.4924024024 0.66424040404\n",
      "25.2707067067 0.664339393939\n",
      "29.818016016 0.665503030303\n",
      "23.4177557558 0.66437020202\n",
      "23.8585425425 0.664556060606\n",
      "28.9194514515 0.665006565657\n",
      "40.5522542543 0.666134343434\n",
      "44.1523723724 0.665602020202\n",
      "31.1422802803 0.665746464646\n",
      "28.0973673674 0.664758080808\n",
      "0.00316227766017\n",
      "13.7355875876 0.660073809524\n",
      "14.1705005005 0.660303030303\n",
      "15.9614294294 0.661624242424\n",
      "12.7062022022 0.659426767677\n",
      "13.929039039 0.660458585859\n",
      "14.8194734735 0.660337373737\n",
      "14.4487287287 0.660049494949\n",
      "17.9540680681 0.662108585859\n",
      "18.9110670671 0.662726767677\n",
      "22.0506386386 0.663584343434\n",
      "14.0560580581 0.659987157287\n",
      "14.3845285285 0.660762626263\n",
      "14.6595815816 0.659881313131\n",
      "17.112990991 0.6604\n",
      "15.4751111111 0.660848484848\n",
      "14.1781121121 0.660115151515\n",
      "16.6957937938 0.660987373737\n",
      "16.7548008008 0.661495454545\n",
      "16.6823223223 0.661176262626\n",
      "22.3196536537 0.663950505051\n",
      "0.01\n",
      "7.94041241241 0.64266962482\n",
      "7.39612612613 0.637013059163\n",
      "8.29957957958 0.645266810967\n",
      "9.12224624625 0.649507575758\n",
      "9.55145345345 0.651612842713\n",
      "9.29755755756 0.651163275613\n",
      "9.22358358358 0.650547474747\n",
      "9.08947947948 0.647843939394\n",
      "8.74721921922 0.646413059163\n",
      "8.17213813814 0.642893434343\n",
      "8.5893033033 0.645957575758\n",
      "9.73551951952 0.652101010101\n",
      "9.37700500501 0.649066666667\n",
      "9.03495895896 0.65020959596\n",
      "8.22004604605 0.643647474747\n",
      "8.4626986987 0.645211471861\n",
      "8.90416416416 0.647694516595\n",
      "9.72386986987 0.650568181818\n",
      "8.80663863864 0.648084704185\n",
      "9.67748348348 0.649698340548\n",
      "0.0316227766017\n",
      "6.10895095095 0.612369047619\n",
      "6.11425825826 0.613837301587\n",
      "6.10002402402 0.614377561328\n",
      "6.24530930931 0.614233116883\n",
      "5.87997197197 0.602191414141\n",
      "6.09775975976 0.614732756133\n",
      "5.82333733734 0.600894161394\n",
      "5.8003983984 0.599943001443\n",
      "5.96973973974 0.607220562771\n",
      "6.17256856857 0.612130719281\n",
      "5.83986186186 0.60040981241\n",
      "6.21189189189 0.614806204906\n",
      "5.96915715716 0.608631313131\n",
      "6.11893293293 0.612699494949\n",
      "5.97204804805 0.609167593518\n",
      "5.65438638639 0.596417754468\n",
      "5.97615215215 0.609893506494\n",
      "5.83455455455 0.602292918193\n",
      "5.95903903904 0.605376323676\n",
      "6.02753753754 0.60937978133\n",
      "0.1\n",
      "4.44935135135 0.491080547231\n",
      "4.49924924925 0.498779043179\n",
      "4.41437437437 0.489844366744\n",
      "4.42522922923 0.486203379953\n",
      "4.48461461461 0.495174897325\n",
      "4.39572972973 0.479984387834\n",
      "4.47744144144 0.494157314907\n",
      "4.35792392392 0.476801276501\n",
      "4.41534934935 0.489261532912\n",
      "4.42149149149 0.488883682984\n",
      "4.37122322322 0.481417599068\n",
      "4.50293893894 0.501465695416\n",
      "4.47089089089 0.495452564103\n",
      "4.41182782783 0.488136696637\n",
      "4.44576776777 0.494701204351\n",
      "4.38387187187 0.482831807082\n"
     ]
    },
    {
     "ename": "KeyboardInterrupt",
     "evalue": "",
     "output_type": "error",
     "traceback": [
      "\u001b[0;31m---------------------------------------------------------------------------\u001b[0m",
      "\u001b[0;31mKeyboardInterrupt\u001b[0m                         Traceback (most recent call last)",
      "\u001b[0;32m<ipython-input-30-317f6af9f8d8>\u001b[0m in \u001b[0;36m<module>\u001b[0;34m()\u001b[0m\n\u001b[0;32m----> 1\u001b[0;31m \u001b[0mres\u001b[0m \u001b[0;34m=\u001b[0m \u001b[0mrun_experiment\u001b[0m\u001b[0;34m(\u001b[0m\u001b[0mps\u001b[0m\u001b[0;34m)\u001b[0m\u001b[0;34m\u001b[0m\u001b[0m\n\u001b[0m",
      "\u001b[0;32m<ipython-input-29-b5f7a6e65ab6>\u001b[0m in \u001b[0;36mrun_experiment\u001b[0;34m(ps, n, k, iters)\u001b[0m\n\u001b[1;32m     14\u001b[0m         \u001b[0mres\u001b[0m\u001b[0;34m[\u001b[0m\u001b[0mp\u001b[0m\u001b[0;34m]\u001b[0m \u001b[0;34m=\u001b[0m \u001b[0;34m[\u001b[0m\u001b[0;34m]\u001b[0m\u001b[0;34m\u001b[0m\u001b[0m\n\u001b[1;32m     15\u001b[0m         \u001b[0;32mfor\u001b[0m \u001b[0m_\u001b[0m \u001b[0;32min\u001b[0m \u001b[0mrange\u001b[0m\u001b[0;34m(\u001b[0m\u001b[0miters\u001b[0m\u001b[0;34m)\u001b[0m\u001b[0;34m:\u001b[0m\u001b[0;34m\u001b[0m\u001b[0m\n\u001b[0;32m---> 16\u001b[0;31m             \u001b[0mres\u001b[0m\u001b[0;34m[\u001b[0m\u001b[0mp\u001b[0m\u001b[0;34m]\u001b[0m\u001b[0;34m.\u001b[0m\u001b[0mappend\u001b[0m\u001b[0;34m(\u001b[0m\u001b[0mrun_one_graph\u001b[0m\u001b[0;34m(\u001b[0m\u001b[0mn\u001b[0m\u001b[0;34m,\u001b[0m \u001b[0mk\u001b[0m\u001b[0;34m,\u001b[0m \u001b[0mp\u001b[0m\u001b[0;34m)\u001b[0m\u001b[0;34m)\u001b[0m\u001b[0;34m\u001b[0m\u001b[0m\n\u001b[0m\u001b[1;32m     17\u001b[0m     \u001b[0;32mreturn\u001b[0m \u001b[0mres\u001b[0m\u001b[0;34m\u001b[0m\u001b[0m\n",
      "\u001b[0;32m<ipython-input-26-718eb6e7af07>\u001b[0m in \u001b[0;36mrun_one_graph\u001b[0;34m(n, k, p)\u001b[0m\n\u001b[1;32m      9\u001b[0m     \"\"\"\n\u001b[1;32m     10\u001b[0m     \u001b[0mws\u001b[0m \u001b[0;34m=\u001b[0m \u001b[0mmake_ws_graph\u001b[0m\u001b[0;34m(\u001b[0m\u001b[0mn\u001b[0m\u001b[0;34m,\u001b[0m \u001b[0mk\u001b[0m\u001b[0;34m,\u001b[0m \u001b[0mp\u001b[0m\u001b[0;34m)\u001b[0m\u001b[0;34m\u001b[0m\u001b[0m\n\u001b[0;32m---> 11\u001b[0;31m     \u001b[0mmpl\u001b[0m \u001b[0;34m=\u001b[0m \u001b[0mcharacteristic_path_length\u001b[0m\u001b[0;34m(\u001b[0m\u001b[0mws\u001b[0m\u001b[0;34m)\u001b[0m\u001b[0;34m\u001b[0m\u001b[0m\n\u001b[0m\u001b[1;32m     12\u001b[0m     \u001b[0mcc\u001b[0m \u001b[0;34m=\u001b[0m \u001b[0mclustering_coefficient\u001b[0m\u001b[0;34m(\u001b[0m\u001b[0mws\u001b[0m\u001b[0;34m)\u001b[0m\u001b[0;34m\u001b[0m\u001b[0m\n\u001b[1;32m     13\u001b[0m     \u001b[0mprint\u001b[0m\u001b[0;34m(\u001b[0m\u001b[0mmpl\u001b[0m\u001b[0;34m,\u001b[0m \u001b[0mcc\u001b[0m\u001b[0;34m)\u001b[0m\u001b[0;34m\u001b[0m\u001b[0m\n",
      "\u001b[0;32m<ipython-input-22-770b9a83c277>\u001b[0m in \u001b[0;36mcharacteristic_path_length\u001b[0;34m(G)\u001b[0m\n\u001b[1;32m      1\u001b[0m \u001b[0;32mdef\u001b[0m \u001b[0mcharacteristic_path_length\u001b[0m\u001b[0;34m(\u001b[0m\u001b[0mG\u001b[0m\u001b[0;34m)\u001b[0m\u001b[0;34m:\u001b[0m\u001b[0;34m\u001b[0m\u001b[0m\n\u001b[0;32m----> 2\u001b[0;31m     \u001b[0;32mreturn\u001b[0m \u001b[0mnp\u001b[0m\u001b[0;34m.\u001b[0m\u001b[0mmean\u001b[0m\u001b[0;34m(\u001b[0m\u001b[0mpath_lengths\u001b[0m\u001b[0;34m(\u001b[0m\u001b[0mG\u001b[0m\u001b[0;34m)\u001b[0m\u001b[0;34m)\u001b[0m\u001b[0;34m\u001b[0m\u001b[0m\n\u001b[0m",
      "\u001b[0;32m<ipython-input-21-3887cd9fe694>\u001b[0m in \u001b[0;36mpath_lengths\u001b[0;34m(G)\u001b[0m\n\u001b[1;32m      1\u001b[0m \u001b[0;32mdef\u001b[0m \u001b[0mpath_lengths\u001b[0m\u001b[0;34m(\u001b[0m\u001b[0mG\u001b[0m\u001b[0;34m)\u001b[0m\u001b[0;34m:\u001b[0m\u001b[0;34m\u001b[0m\u001b[0m\n\u001b[0;32m----> 2\u001b[0;31m     \u001b[0mlength_map\u001b[0m \u001b[0;34m=\u001b[0m \u001b[0mnx\u001b[0m\u001b[0;34m.\u001b[0m\u001b[0mshortest_path_length\u001b[0m\u001b[0;34m(\u001b[0m\u001b[0mG\u001b[0m\u001b[0;34m)\u001b[0m\u001b[0;34m\u001b[0m\u001b[0m\n\u001b[0m\u001b[1;32m      3\u001b[0m     \u001b[0mlengths\u001b[0m \u001b[0;34m=\u001b[0m \u001b[0;34m[\u001b[0m\u001b[0mlength_map\u001b[0m\u001b[0;34m[\u001b[0m\u001b[0mu\u001b[0m\u001b[0;34m]\u001b[0m\u001b[0;34m[\u001b[0m\u001b[0mv\u001b[0m\u001b[0;34m]\u001b[0m \u001b[0;32mfor\u001b[0m \u001b[0mu\u001b[0m\u001b[0;34m,\u001b[0m \u001b[0mv\u001b[0m \u001b[0;32min\u001b[0m \u001b[0mall_pairs\u001b[0m\u001b[0;34m(\u001b[0m\u001b[0mG\u001b[0m\u001b[0;34m)\u001b[0m\u001b[0;34m]\u001b[0m\u001b[0;34m\u001b[0m\u001b[0m\n\u001b[1;32m      4\u001b[0m     \u001b[0;32mreturn\u001b[0m \u001b[0mlengths\u001b[0m\u001b[0;34m\u001b[0m\u001b[0m\n",
      "\u001b[0;32m~/miniconda3/lib/python3.6/site-packages/networkx/algorithms/shortest_paths/generic.py\u001b[0m in \u001b[0;36mshortest_path_length\u001b[0;34m(G, source, target, weight)\u001b[0m\n\u001b[1;32m    222\u001b[0m             \u001b[0;31m## Find paths between all pairs.\u001b[0m\u001b[0;34m\u001b[0m\u001b[0;34m\u001b[0m\u001b[0m\n\u001b[1;32m    223\u001b[0m             \u001b[0;32mif\u001b[0m \u001b[0mweight\u001b[0m \u001b[0;32mis\u001b[0m \u001b[0;32mNone\u001b[0m\u001b[0;34m:\u001b[0m\u001b[0;34m\u001b[0m\u001b[0m\n\u001b[0;32m--> 224\u001b[0;31m                 \u001b[0mpaths\u001b[0m\u001b[0;34m=\u001b[0m\u001b[0mnx\u001b[0m\u001b[0;34m.\u001b[0m\u001b[0mall_pairs_shortest_path_length\u001b[0m\u001b[0;34m(\u001b[0m\u001b[0mG\u001b[0m\u001b[0;34m)\u001b[0m\u001b[0;34m\u001b[0m\u001b[0m\n\u001b[0m\u001b[1;32m    225\u001b[0m             \u001b[0;32melse\u001b[0m\u001b[0;34m:\u001b[0m\u001b[0;34m\u001b[0m\u001b[0m\n\u001b[1;32m    226\u001b[0m                 \u001b[0mpaths\u001b[0m\u001b[0;34m=\u001b[0m\u001b[0mnx\u001b[0m\u001b[0;34m.\u001b[0m\u001b[0mall_pairs_dijkstra_path_length\u001b[0m\u001b[0;34m(\u001b[0m\u001b[0mG\u001b[0m\u001b[0;34m,\u001b[0m \u001b[0mweight\u001b[0m\u001b[0;34m=\u001b[0m\u001b[0mweight\u001b[0m\u001b[0;34m)\u001b[0m\u001b[0;34m\u001b[0m\u001b[0m\n",
      "\u001b[0;32m~/miniconda3/lib/python3.6/site-packages/networkx/algorithms/shortest_paths/unweighted.py\u001b[0m in \u001b[0;36mall_pairs_shortest_path_length\u001b[0;34m(G, cutoff)\u001b[0m\n\u001b[1;32m     99\u001b[0m     \u001b[0mlength\u001b[0m \u001b[0;34m=\u001b[0m \u001b[0msingle_source_shortest_path_length\u001b[0m\u001b[0;34m\u001b[0m\u001b[0m\n\u001b[1;32m    100\u001b[0m     \u001b[0;31m# TODO This can be trivially parallelized.\u001b[0m\u001b[0;34m\u001b[0m\u001b[0;34m\u001b[0m\u001b[0m\n\u001b[0;32m--> 101\u001b[0;31m     \u001b[0;32mreturn\u001b[0m \u001b[0;34m{\u001b[0m\u001b[0mn\u001b[0m\u001b[0;34m:\u001b[0m \u001b[0mlength\u001b[0m\u001b[0;34m(\u001b[0m\u001b[0mG\u001b[0m\u001b[0;34m,\u001b[0m \u001b[0mn\u001b[0m\u001b[0;34m,\u001b[0m \u001b[0mcutoff\u001b[0m\u001b[0;34m=\u001b[0m\u001b[0mcutoff\u001b[0m\u001b[0;34m)\u001b[0m \u001b[0;32mfor\u001b[0m \u001b[0mn\u001b[0m \u001b[0;32min\u001b[0m \u001b[0mG\u001b[0m\u001b[0;34m}\u001b[0m\u001b[0;34m\u001b[0m\u001b[0m\n\u001b[0m\u001b[1;32m    102\u001b[0m \u001b[0;34m\u001b[0m\u001b[0m\n\u001b[1;32m    103\u001b[0m \u001b[0;34m\u001b[0m\u001b[0m\n",
      "\u001b[0;32m~/miniconda3/lib/python3.6/site-packages/networkx/algorithms/shortest_paths/unweighted.py\u001b[0m in \u001b[0;36m<dictcomp>\u001b[0;34m(.0)\u001b[0m\n\u001b[1;32m     99\u001b[0m     \u001b[0mlength\u001b[0m \u001b[0;34m=\u001b[0m \u001b[0msingle_source_shortest_path_length\u001b[0m\u001b[0;34m\u001b[0m\u001b[0m\n\u001b[1;32m    100\u001b[0m     \u001b[0;31m# TODO This can be trivially parallelized.\u001b[0m\u001b[0;34m\u001b[0m\u001b[0;34m\u001b[0m\u001b[0m\n\u001b[0;32m--> 101\u001b[0;31m     \u001b[0;32mreturn\u001b[0m \u001b[0;34m{\u001b[0m\u001b[0mn\u001b[0m\u001b[0;34m:\u001b[0m \u001b[0mlength\u001b[0m\u001b[0;34m(\u001b[0m\u001b[0mG\u001b[0m\u001b[0;34m,\u001b[0m \u001b[0mn\u001b[0m\u001b[0;34m,\u001b[0m \u001b[0mcutoff\u001b[0m\u001b[0;34m=\u001b[0m\u001b[0mcutoff\u001b[0m\u001b[0;34m)\u001b[0m \u001b[0;32mfor\u001b[0m \u001b[0mn\u001b[0m \u001b[0;32min\u001b[0m \u001b[0mG\u001b[0m\u001b[0;34m}\u001b[0m\u001b[0;34m\u001b[0m\u001b[0m\n\u001b[0m\u001b[1;32m    102\u001b[0m \u001b[0;34m\u001b[0m\u001b[0m\n\u001b[1;32m    103\u001b[0m \u001b[0;34m\u001b[0m\u001b[0m\n",
      "\u001b[0;32m~/miniconda3/lib/python3.6/site-packages/networkx/algorithms/shortest_paths/unweighted.py\u001b[0m in \u001b[0;36msingle_source_shortest_path_length\u001b[0;34m(G, source, cutoff)\u001b[0m\n\u001b[1;32m     59\u001b[0m         \u001b[0mnextlevel\u001b[0m\u001b[0;34m=\u001b[0m\u001b[0;34m{\u001b[0m\u001b[0;34m}\u001b[0m         \u001b[0;31m# and start a new list (fringe)\u001b[0m\u001b[0;34m\u001b[0m\u001b[0m\n\u001b[1;32m     60\u001b[0m         \u001b[0;32mfor\u001b[0m \u001b[0mv\u001b[0m \u001b[0;32min\u001b[0m \u001b[0mthislevel\u001b[0m\u001b[0;34m:\u001b[0m\u001b[0;34m\u001b[0m\u001b[0m\n\u001b[0;32m---> 61\u001b[0;31m             \u001b[0;32mif\u001b[0m \u001b[0mv\u001b[0m \u001b[0;32mnot\u001b[0m \u001b[0;32min\u001b[0m \u001b[0mseen\u001b[0m\u001b[0;34m:\u001b[0m\u001b[0;34m\u001b[0m\u001b[0m\n\u001b[0m\u001b[1;32m     62\u001b[0m                 \u001b[0mseen\u001b[0m\u001b[0;34m[\u001b[0m\u001b[0mv\u001b[0m\u001b[0;34m]\u001b[0m\u001b[0;34m=\u001b[0m\u001b[0mlevel\u001b[0m \u001b[0;31m# set the level of vertex v\u001b[0m\u001b[0;34m\u001b[0m\u001b[0m\n\u001b[1;32m     63\u001b[0m                 \u001b[0mnextlevel\u001b[0m\u001b[0;34m.\u001b[0m\u001b[0mupdate\u001b[0m\u001b[0;34m(\u001b[0m\u001b[0mG\u001b[0m\u001b[0;34m[\u001b[0m\u001b[0mv\u001b[0m\u001b[0;34m]\u001b[0m\u001b[0;34m)\u001b[0m \u001b[0;31m# add neighbors of v\u001b[0m\u001b[0;34m\u001b[0m\u001b[0m\n",
      "\u001b[0;31mKeyboardInterrupt\u001b[0m: "
     ]
    }
   ],
   "source": [
    "res = run_experiment(ps)"
   ]
  },
  {
   "cell_type": "markdown",
   "metadata": {},
   "source": [
    "Now we have to extract them in a form we can plot"
   ]
  },
  {
   "cell_type": "code",
   "execution_count": 38,
   "metadata": {},
   "outputs": [
    {
     "ename": "NameError",
     "evalue": "name 'res' is not defined",
     "output_type": "error",
     "traceback": [
      "\u001b[0;31m---------------------------------------------------------------------------\u001b[0m",
      "\u001b[0;31mNameError\u001b[0m                                 Traceback (most recent call last)",
      "\u001b[0;32m<ipython-input-38-e00714e26968>\u001b[0m in \u001b[0;36m<module>\u001b[0;34m()\u001b[0m\n\u001b[1;32m      1\u001b[0m \u001b[0mL\u001b[0m \u001b[0;34m=\u001b[0m \u001b[0;34m[\u001b[0m\u001b[0;34m]\u001b[0m\u001b[0;34m\u001b[0m\u001b[0m\n\u001b[1;32m      2\u001b[0m \u001b[0mC\u001b[0m \u001b[0;34m=\u001b[0m \u001b[0;34m[\u001b[0m\u001b[0;34m]\u001b[0m\u001b[0;34m\u001b[0m\u001b[0m\n\u001b[0;32m----> 3\u001b[0;31m \u001b[0;32mfor\u001b[0m \u001b[0mp\u001b[0m\u001b[0;34m,\u001b[0m \u001b[0mt\u001b[0m \u001b[0;32min\u001b[0m \u001b[0msorted\u001b[0m\u001b[0;34m(\u001b[0m\u001b[0mres\u001b[0m\u001b[0;34m.\u001b[0m\u001b[0mitems\u001b[0m\u001b[0;34m(\u001b[0m\u001b[0;34m)\u001b[0m\u001b[0;34m)\u001b[0m\u001b[0;34m:\u001b[0m\u001b[0;34m\u001b[0m\u001b[0m\n\u001b[0m\u001b[1;32m      4\u001b[0m     \u001b[0mmpls\u001b[0m\u001b[0;34m,\u001b[0m \u001b[0mccs\u001b[0m \u001b[0;34m=\u001b[0m \u001b[0mzip\u001b[0m\u001b[0;34m(\u001b[0m\u001b[0;34m*\u001b[0m\u001b[0mt\u001b[0m\u001b[0;34m)\u001b[0m\u001b[0;34m\u001b[0m\u001b[0m\n\u001b[1;32m      5\u001b[0m     \u001b[0mmpl\u001b[0m \u001b[0;34m=\u001b[0m \u001b[0mnp\u001b[0m\u001b[0;34m.\u001b[0m\u001b[0mmean\u001b[0m\u001b[0;34m(\u001b[0m\u001b[0mmpls\u001b[0m\u001b[0;34m)\u001b[0m\u001b[0;34m\u001b[0m\u001b[0m\n",
      "\u001b[0;31mNameError\u001b[0m: name 'res' is not defined"
     ]
    }
   ],
   "source": [
    "L = []\n",
    "C = []\n",
    "for p, t in sorted(res.items()):\n",
    "    mpls, ccs = zip(*t)\n",
    "    mpl = np.mean(mpls)\n",
    "    cc = np.mean(ccs)\n",
    "    L.append(mpl)\n",
    "    C.append(cc)\n",
    "    \n",
    "print(L)\n",
    "print(C)"
   ]
  },
  {
   "cell_type": "markdown",
   "metadata": {},
   "source": [
    "And normalize them so they both start at 1.0"
   ]
  },
  {
   "cell_type": "code",
   "execution_count": 31,
   "metadata": {
    "collapsed": true
   },
   "outputs": [],
   "source": [
    "L = np.array(L) / L[0]\n",
    "C = np.array(C) / C[0]"
   ]
  },
  {
   "cell_type": "markdown",
   "metadata": {},
   "source": [
    "Here's the plot that replicates Watts and Strogatz's Figure 2."
   ]
  },
  {
   "cell_type": "code",
   "execution_count": 32,
   "metadata": {},
   "outputs": [
    {
     "data": {
      "image/png": "[encoded data removed]",
      "text/plain": [
       "<matplotlib.figure.Figure at 0x7f5c9d760f50>"
      ]
     },
     "metadata": {},
     "output_type": "display_data"
    }
   ],
   "source": [
    "thinkplot.plot(ps, L, style='o-', linewidth=1)\n",
    "thinkplot.plot(ps, C, style='s-', linewidth=1)\n",
    "thinkplot.text(0.001, 0.9, 'C(p) / C(0)')\n",
    "thinkplot.text(0.0005, 0.25, 'L(p) / L(0)')\n",
    "thinkplot.config(xlabel='p', xscale='log',\n",
    "                 xlim=[0.00009, 1.1], ylim=[-0.01, 1.01])\n",
    "plt.savefig('chap03-3.pdf')"
   ]
  },
  {
   "cell_type": "markdown",
   "metadata": {},
   "source": [
    "## Breadth-first search"
   ]
  },
  {
   "cell_type": "markdown",
   "metadata": {},
   "source": [
    "Now let's see how the shortest path algorithm works.  We'll start with BFS, which is the basis for Dijkstra's algorithm.\n",
    "\n",
    "Here's our old friend, the ring lattice:"
   ]
  },
  {
   "cell_type": "code",
   "execution_count": 39,
   "metadata": {
    "collapsed": true
   },
   "outputs": [],
   "source": [
    "lattice = make_ring_lattice(10, 4)"
   ]
  },
  {
   "cell_type": "code",
   "execution_count": 40,
   "metadata": {},
   "outputs": [
    {
     "name": "stderr",
     "output_type": "stream",
     "text": [
      "/home/vmcdermott/miniconda3/lib/python3.6/site-packages/networkx/drawing/nx_pylab.py:126: MatplotlibDeprecationWarning: pyplot.hold is deprecated.\n",
      "    Future behavior will be consistent with the long-time default:\n",
      "    plot commands add elements without first clearing the\n",
      "    Axes and/or Figure.\n",
      "  b = plt.ishold()\n",
      "/home/vmcdermott/miniconda3/lib/python3.6/site-packages/networkx/drawing/nx_pylab.py:138: MatplotlibDeprecationWarning: pyplot.hold is deprecated.\n",
      "    Future behavior will be consistent with the long-time default:\n",
      "    plot commands add elements without first clearing the\n",
      "    Axes and/or Figure.\n",
      "  plt.hold(b)\n",
      "/home/vmcdermott/miniconda3/lib/python3.6/site-packages/matplotlib/__init__.py:917: UserWarning: axes.hold is deprecated. Please remove it from your matplotlibrc and/or style files.\n",
      "  warnings.warn(self.msg_depr_set % key)\n",
      "/home/vmcdermott/miniconda3/lib/python3.6/site-packages/matplotlib/rcsetup.py:152: UserWarning: axes.hold is deprecated, will be removed in 3.0\n",
      "  warnings.warn(\"axes.hold is deprecated, will be removed in 3.0\")\n"
     ]
    },
    {
     "data": {
      "image/png": "[encoded data removed]",
      "text/plain": [
       "<matplotlib.figure.Figure at 0x7ff74b1f4240>"
      ]
     },
     "metadata": {},
     "output_type": "display_data"
    }
   ],
   "source": [
    "nx.draw_circular(lattice, \n",
    "                 node_color=COLORS[2], \n",
    "                 node_size=1000, \n",
    "                 with_labels=True)"
   ]
  },
  {
   "cell_type": "markdown",
   "metadata": {},
   "source": [
    "And here's my implementation of BFS using a deque."
   ]
  },
  {
   "cell_type": "code",
   "execution_count": 41,
   "metadata": {
    "collapsed": true
   },
   "outputs": [],
   "source": [
    "from collections import deque\n",
    "\n",
    "def reachable_nodes_bfs(G, start):\n",
    "    \"\"\"Finds reachable nodes by BFS.\n",
    "    \n",
    "    G: graph\n",
    "    start: node to start at\n",
    "    \n",
    "    returns: set of reachable nodes\n",
    "    \"\"\"\n",
    "    seen = set()\n",
    "    queue = deque([start])\n",
    "    while queue:\n",
    "        node = queue.popleft()\n",
    "        if node not in seen:\n",
    "            seen.add(node)\n",
    "            queue.extend(G.neighbors(node))\n",
    "    return seen"
   ]
  },
  {
   "cell_type": "markdown",
   "metadata": {},
   "source": [
    "It works:"
   ]
  },
  {
   "cell_type": "code",
   "execution_count": 42,
   "metadata": {},
   "outputs": [
    {
     "data": {
      "text/plain": [
       "{0, 1, 2, 3, 4, 5, 6, 7, 8, 9}"
      ]
     },
     "execution_count": 42,
     "metadata": {},
     "output_type": "execute_result"
    }
   ],
   "source": [
    "reachable_nodes_bfs(lattice, 0)"
   ]
  },
  {
   "cell_type": "markdown",
   "metadata": {},
   "source": [
    "Here's a version that's a little faster, but maybe less readable."
   ]
  },
  {
   "cell_type": "code",
   "execution_count": 43,
   "metadata": {
    "collapsed": true
   },
   "outputs": [],
   "source": [
    "def reachable_nodes_bfs(G, start):\n",
    "    \"\"\"Finds reachable nodes by BFS.\n",
    "    \n",
    "    G: graph\n",
    "    start: node to start at\n",
    "    \n",
    "    returns: set of reachable nodes\n",
    "    \"\"\"\n",
    "    seen = set()\n",
    "    queue = deque([start])\n",
    "    while queue:\n",
    "        node = queue.popleft()\n",
    "        if node not in seen:\n",
    "            seen.add(node)\n",
    "            neighbors = set(G[node]) \n",
    "            neighbors -= seen\n",
    "            queue.extend(neighbors)\n",
    "    return seen"
   ]
  },
  {
   "cell_type": "markdown",
   "metadata": {},
   "source": [
    "It works, too."
   ]
  },
  {
   "cell_type": "code",
   "execution_count": 44,
   "metadata": {},
   "outputs": [
    {
     "data": {
      "text/plain": [
       "{0, 1, 2, 3, 4, 5, 6, 7, 8, 9}"
      ]
     },
     "execution_count": 44,
     "metadata": {},
     "output_type": "execute_result"
    }
   ],
   "source": [
    "reachable_nodes_bfs(lattice, 0)"
   ]
  },
  {
   "cell_type": "markdown",
   "metadata": {},
   "source": [
    "## Dijkstra's algorithm"
   ]
  },
  {
   "cell_type": "markdown",
   "metadata": {},
   "source": [
    "Now we're ready for Dijkstra's algorithm, at least for graphs where all the edges have the same weight/length."
   ]
  },
  {
   "cell_type": "code",
   "execution_count": 45,
   "metadata": {
    "collapsed": true
   },
   "outputs": [],
   "source": [
    "def shortest_path_dijkstra(G, start):\n",
    "    \"\"\"Finds shortest paths from `start` to all other nodes.\n",
    "    \n",
    "    G: graph\n",
    "    start: node to start at\n",
    "    \n",
    "    returns: make from node to path length\n",
    "    \"\"\"\n",
    "    dist = {start: 0}\n",
    "    queue = deque([start])\n",
    "    while queue:\n",
    "        node = queue.popleft()\n",
    "        new_dist = dist[node] + 1\n",
    "\n",
    "        neighbors = set(G[node]) - set(dist)\n",
    "        for n in neighbors:\n",
    "            dist[n] = new_dist\n",
    "        \n",
    "        queue.extend(neighbors)\n",
    "    return dist"
   ]
  },
  {
   "cell_type": "markdown",
   "metadata": {},
   "source": [
    "Again, we'll test it on a ring lattice."
   ]
  },
  {
   "cell_type": "code",
   "execution_count": 46,
   "metadata": {
    "collapsed": true
   },
   "outputs": [],
   "source": [
    "lattice = make_ring_lattice(10, 4)"
   ]
  },
  {
   "cell_type": "code",
   "execution_count": 47,
   "metadata": {},
   "outputs": [
    {
     "name": "stderr",
     "output_type": "stream",
     "text": [
      "/home/vmcdermott/miniconda3/lib/python3.6/site-packages/networkx/drawing/nx_pylab.py:126: MatplotlibDeprecationWarning: pyplot.hold is deprecated.\n",
      "    Future behavior will be consistent with the long-time default:\n",
      "    plot commands add elements without first clearing the\n",
      "    Axes and/or Figure.\n",
      "  b = plt.ishold()\n",
      "/home/vmcdermott/miniconda3/lib/python3.6/site-packages/networkx/drawing/nx_pylab.py:138: MatplotlibDeprecationWarning: pyplot.hold is deprecated.\n",
      "    Future behavior will be consistent with the long-time default:\n",
      "    plot commands add elements without first clearing the\n",
      "    Axes and/or Figure.\n",
      "  plt.hold(b)\n",
      "/home/vmcdermott/miniconda3/lib/python3.6/site-packages/matplotlib/__init__.py:917: UserWarning: axes.hold is deprecated. Please remove it from your matplotlibrc and/or style files.\n",
      "  warnings.warn(self.msg_depr_set % key)\n",
      "/home/vmcdermott/miniconda3/lib/python3.6/site-packages/matplotlib/rcsetup.py:152: UserWarning: axes.hold is deprecated, will be removed in 3.0\n",
      "  warnings.warn(\"axes.hold is deprecated, will be removed in 3.0\")\n"
     ]
    },
    {
     "data": {
      "image/png": "[encoded data removed]",
      "text/plain": [
       "<matplotlib.figure.Figure at 0x7ff74b5ed080>"
      ]
     },
     "metadata": {},
     "output_type": "display_data"
    }
   ],
   "source": [
    "nx.draw_circular(lattice, \n",
    "                 node_color=COLORS[3], \n",
    "                 node_size=1000, \n",
    "                 with_labels=True)"
   ]
  },
  {
   "cell_type": "markdown",
   "metadata": {},
   "source": [
    "Here's my implementation:"
   ]
  },
  {
   "cell_type": "code",
   "execution_count": 48,
   "metadata": {},
   "outputs": [
    {
     "data": {
      "text/plain": [
       "{0: 0, 1: 1, 2: 1, 3: 2, 4: 2, 5: 3, 6: 2, 7: 2, 8: 1, 9: 1}"
      ]
     },
     "execution_count": 48,
     "metadata": {},
     "output_type": "execute_result"
    }
   ],
   "source": [
    "d1 = shortest_path_dijkstra(lattice, 0)\n",
    "d1"
   ]
  },
  {
   "cell_type": "markdown",
   "metadata": {},
   "source": [
    "And here's the result from NetworkX:"
   ]
  },
  {
   "cell_type": "code",
   "execution_count": 49,
   "metadata": {},
   "outputs": [
    {
     "data": {
      "text/plain": [
       "{0: 0, 1: 1, 2: 1, 3: 2, 4: 2, 5: 3, 6: 2, 7: 2, 8: 1, 9: 1}"
      ]
     },
     "execution_count": 49,
     "metadata": {},
     "output_type": "execute_result"
    }
   ],
   "source": [
    "d2 = nx.shortest_path_length(lattice, 0)\n",
    "d2"
   ]
  },
  {
   "cell_type": "markdown",
   "metadata": {},
   "source": [
    "They are the same:"
   ]
  },
  {
   "cell_type": "code",
   "execution_count": 50,
   "metadata": {},
   "outputs": [
    {
     "data": {
      "text/plain": [
       "True"
      ]
     },
     "execution_count": 50,
     "metadata": {},
     "output_type": "execute_result"
    }
   ],
   "source": [
    "d1 == d2"
   ]
  },
  {
   "cell_type": "markdown",
   "metadata": {
    "collapsed": true
   },
   "source": [
    "**Exercise:** In a ring lattice with `n=1000` and `k=10`, which node is farthest from 0 and how far is it?  Use `shortest_path_dijkstra` to check your answer.\n",
    "\n",
    "Note: the maximum distance between two nodes is the **diameter** of the graph."
   ]
  },
  {
   "cell_type": "code",
   "execution_count": 51,
   "metadata": {},
   "outputs": [
    {
     "data": {
      "text/plain": [
       "{0: 0,\n",
       " 1: 1,\n",
       " 2: 1,\n",
       " 3: 1,\n",
       " 4: 1,\n",
       " 5: 1,\n",
       " 995: 1,\n",
       " 996: 1,\n",
       " 997: 1,\n",
       " 998: 1,\n",
       " 999: 1,\n",
       " 6: 2,\n",
       " 7: 2,\n",
       " 8: 2,\n",
       " 9: 2,\n",
       " 10: 2,\n",
       " 992: 2,\n",
       " 993: 2,\n",
       " 994: 2,\n",
       " 990: 2,\n",
       " 991: 2,\n",
       " 11: 3,\n",
       " 12: 3,\n",
       " 13: 3,\n",
       " 14: 3,\n",
       " 15: 3,\n",
       " 987: 3,\n",
       " 988: 3,\n",
       " 989: 3,\n",
       " 985: 3,\n",
       " 986: 3,\n",
       " 16: 4,\n",
       " 17: 4,\n",
       " 18: 4,\n",
       " 19: 4,\n",
       " 20: 4,\n",
       " 984: 4,\n",
       " 982: 4,\n",
       " 983: 4,\n",
       " 980: 4,\n",
       " 981: 4,\n",
       " 21: 5,\n",
       " 22: 5,\n",
       " 23: 5,\n",
       " 24: 5,\n",
       " 25: 5,\n",
       " 979: 5,\n",
       " 977: 5,\n",
       " 978: 5,\n",
       " 976: 5,\n",
       " 975: 5,\n",
       " 26: 6,\n",
       " 27: 6,\n",
       " 28: 6,\n",
       " 29: 6,\n",
       " 30: 6,\n",
       " 974: 6,\n",
       " 972: 6,\n",
       " 973: 6,\n",
       " 971: 6,\n",
       " 970: 6,\n",
       " 31: 7,\n",
       " 32: 7,\n",
       " 33: 7,\n",
       " 34: 7,\n",
       " 35: 7,\n",
       " 969: 7,\n",
       " 968: 7,\n",
       " 967: 7,\n",
       " 966: 7,\n",
       " 965: 7,\n",
       " 36: 8,\n",
       " 37: 8,\n",
       " 38: 8,\n",
       " 39: 8,\n",
       " 40: 8,\n",
       " 964: 8,\n",
       " 963: 8,\n",
       " 962: 8,\n",
       " 961: 8,\n",
       " 960: 8,\n",
       " 41: 9,\n",
       " 42: 9,\n",
       " 43: 9,\n",
       " 44: 9,\n",
       " 45: 9,\n",
       " 959: 9,\n",
       " 958: 9,\n",
       " 957: 9,\n",
       " 956: 9,\n",
       " 955: 9,\n",
       " 46: 10,\n",
       " 47: 10,\n",
       " 48: 10,\n",
       " 49: 10,\n",
       " 50: 10,\n",
       " 954: 10,\n",
       " 953: 10,\n",
       " 952: 10,\n",
       " 951: 10,\n",
       " 950: 10,\n",
       " 51: 11,\n",
       " 52: 11,\n",
       " 53: 11,\n",
       " 54: 11,\n",
       " 55: 11,\n",
       " 949: 11,\n",
       " 948: 11,\n",
       " 947: 11,\n",
       " 946: 11,\n",
       " 945: 11,\n",
       " 56: 12,\n",
       " 57: 12,\n",
       " 58: 12,\n",
       " 59: 12,\n",
       " 60: 12,\n",
       " 944: 12,\n",
       " 943: 12,\n",
       " 942: 12,\n",
       " 941: 12,\n",
       " 940: 12,\n",
       " 61: 13,\n",
       " 62: 13,\n",
       " 63: 13,\n",
       " 64: 13,\n",
       " 65: 13,\n",
       " 939: 13,\n",
       " 938: 13,\n",
       " 937: 13,\n",
       " 936: 13,\n",
       " 935: 13,\n",
       " 66: 14,\n",
       " 67: 14,\n",
       " 68: 14,\n",
       " 69: 14,\n",
       " 70: 14,\n",
       " 934: 14,\n",
       " 933: 14,\n",
       " 932: 14,\n",
       " 931: 14,\n",
       " 930: 14,\n",
       " 71: 15,\n",
       " 72: 15,\n",
       " 73: 15,\n",
       " 74: 15,\n",
       " 75: 15,\n",
       " 929: 15,\n",
       " 928: 15,\n",
       " 927: 15,\n",
       " 926: 15,\n",
       " 925: 15,\n",
       " 76: 16,\n",
       " 77: 16,\n",
       " 78: 16,\n",
       " 79: 16,\n",
       " 80: 16,\n",
       " 924: 16,\n",
       " 923: 16,\n",
       " 922: 16,\n",
       " 921: 16,\n",
       " 920: 16,\n",
       " 81: 17,\n",
       " 82: 17,\n",
       " 83: 17,\n",
       " 84: 17,\n",
       " 85: 17,\n",
       " 919: 17,\n",
       " 918: 17,\n",
       " 917: 17,\n",
       " 916: 17,\n",
       " 915: 17,\n",
       " 86: 18,\n",
       " 87: 18,\n",
       " 88: 18,\n",
       " 89: 18,\n",
       " 90: 18,\n",
       " 914: 18,\n",
       " 913: 18,\n",
       " 912: 18,\n",
       " 911: 18,\n",
       " 910: 18,\n",
       " 91: 19,\n",
       " 92: 19,\n",
       " 93: 19,\n",
       " 94: 19,\n",
       " 95: 19,\n",
       " 909: 19,\n",
       " 908: 19,\n",
       " 907: 19,\n",
       " 906: 19,\n",
       " 905: 19,\n",
       " 96: 20,\n",
       " 97: 20,\n",
       " 98: 20,\n",
       " 99: 20,\n",
       " 100: 20,\n",
       " 904: 20,\n",
       " 903: 20,\n",
       " 902: 20,\n",
       " 901: 20,\n",
       " 900: 20,\n",
       " 101: 21,\n",
       " 102: 21,\n",
       " 103: 21,\n",
       " 104: 21,\n",
       " 105: 21,\n",
       " 899: 21,\n",
       " 898: 21,\n",
       " 897: 21,\n",
       " 896: 21,\n",
       " 895: 21,\n",
       " 106: 22,\n",
       " 107: 22,\n",
       " 108: 22,\n",
       " 109: 22,\n",
       " 110: 22,\n",
       " 894: 22,\n",
       " 893: 22,\n",
       " 892: 22,\n",
       " 891: 22,\n",
       " 890: 22,\n",
       " 111: 23,\n",
       " 112: 23,\n",
       " 113: 23,\n",
       " 114: 23,\n",
       " 115: 23,\n",
       " 889: 23,\n",
       " 888: 23,\n",
       " 887: 23,\n",
       " 886: 23,\n",
       " 885: 23,\n",
       " 116: 24,\n",
       " 117: 24,\n",
       " 118: 24,\n",
       " 119: 24,\n",
       " 120: 24,\n",
       " 884: 24,\n",
       " 883: 24,\n",
       " 882: 24,\n",
       " 881: 24,\n",
       " 880: 24,\n",
       " 121: 25,\n",
       " 122: 25,\n",
       " 123: 25,\n",
       " 124: 25,\n",
       " 125: 25,\n",
       " 879: 25,\n",
       " 878: 25,\n",
       " 877: 25,\n",
       " 876: 25,\n",
       " 875: 25,\n",
       " 126: 26,\n",
       " 127: 26,\n",
       " 128: 26,\n",
       " 129: 26,\n",
       " 130: 26,\n",
       " 874: 26,\n",
       " 873: 26,\n",
       " 872: 26,\n",
       " 871: 26,\n",
       " 870: 26,\n",
       " 131: 27,\n",
       " 132: 27,\n",
       " 133: 27,\n",
       " 134: 27,\n",
       " 135: 27,\n",
       " 869: 27,\n",
       " 868: 27,\n",
       " 867: 27,\n",
       " 866: 27,\n",
       " 865: 27,\n",
       " 136: 28,\n",
       " 137: 28,\n",
       " 138: 28,\n",
       " 139: 28,\n",
       " 140: 28,\n",
       " 864: 28,\n",
       " 863: 28,\n",
       " 862: 28,\n",
       " 861: 28,\n",
       " 860: 28,\n",
       " 141: 29,\n",
       " 142: 29,\n",
       " 143: 29,\n",
       " 144: 29,\n",
       " 145: 29,\n",
       " 859: 29,\n",
       " 858: 29,\n",
       " 857: 29,\n",
       " 856: 29,\n",
       " 855: 29,\n",
       " 146: 30,\n",
       " 147: 30,\n",
       " 148: 30,\n",
       " 149: 30,\n",
       " 150: 30,\n",
       " 854: 30,\n",
       " 853: 30,\n",
       " 852: 30,\n",
       " 851: 30,\n",
       " 850: 30,\n",
       " 151: 31,\n",
       " 152: 31,\n",
       " 153: 31,\n",
       " 154: 31,\n",
       " 155: 31,\n",
       " 849: 31,\n",
       " 848: 31,\n",
       " 847: 31,\n",
       " 846: 31,\n",
       " 845: 31,\n",
       " 156: 32,\n",
       " 157: 32,\n",
       " 158: 32,\n",
       " 159: 32,\n",
       " 160: 32,\n",
       " 844: 32,\n",
       " 843: 32,\n",
       " 842: 32,\n",
       " 841: 32,\n",
       " 840: 32,\n",
       " 161: 33,\n",
       " 162: 33,\n",
       " 163: 33,\n",
       " 164: 33,\n",
       " 165: 33,\n",
       " 839: 33,\n",
       " 838: 33,\n",
       " 837: 33,\n",
       " 836: 33,\n",
       " 835: 33,\n",
       " 166: 34,\n",
       " 167: 34,\n",
       " 168: 34,\n",
       " 169: 34,\n",
       " 170: 34,\n",
       " 834: 34,\n",
       " 833: 34,\n",
       " 832: 34,\n",
       " 831: 34,\n",
       " 830: 34,\n",
       " 171: 35,\n",
       " 172: 35,\n",
       " 173: 35,\n",
       " 174: 35,\n",
       " 175: 35,\n",
       " 829: 35,\n",
       " 828: 35,\n",
       " 827: 35,\n",
       " 826: 35,\n",
       " 825: 35,\n",
       " 176: 36,\n",
       " 177: 36,\n",
       " 178: 36,\n",
       " 179: 36,\n",
       " 180: 36,\n",
       " 824: 36,\n",
       " 823: 36,\n",
       " 822: 36,\n",
       " 821: 36,\n",
       " 820: 36,\n",
       " 181: 37,\n",
       " 182: 37,\n",
       " 183: 37,\n",
       " 184: 37,\n",
       " 185: 37,\n",
       " 819: 37,\n",
       " 818: 37,\n",
       " 817: 37,\n",
       " 816: 37,\n",
       " 815: 37,\n",
       " 186: 38,\n",
       " 187: 38,\n",
       " 188: 38,\n",
       " 189: 38,\n",
       " 190: 38,\n",
       " 814: 38,\n",
       " 813: 38,\n",
       " 812: 38,\n",
       " 811: 38,\n",
       " 810: 38,\n",
       " 191: 39,\n",
       " 192: 39,\n",
       " 193: 39,\n",
       " 194: 39,\n",
       " 195: 39,\n",
       " 809: 39,\n",
       " 808: 39,\n",
       " 807: 39,\n",
       " 806: 39,\n",
       " 805: 39,\n",
       " 196: 40,\n",
       " 197: 40,\n",
       " 198: 40,\n",
       " 199: 40,\n",
       " 200: 40,\n",
       " 804: 40,\n",
       " 803: 40,\n",
       " 802: 40,\n",
       " 801: 40,\n",
       " 800: 40,\n",
       " 201: 41,\n",
       " 202: 41,\n",
       " 203: 41,\n",
       " 204: 41,\n",
       " 205: 41,\n",
       " 799: 41,\n",
       " 798: 41,\n",
       " 797: 41,\n",
       " 796: 41,\n",
       " 795: 41,\n",
       " 206: 42,\n",
       " 207: 42,\n",
       " 208: 42,\n",
       " 209: 42,\n",
       " 210: 42,\n",
       " 794: 42,\n",
       " 793: 42,\n",
       " 792: 42,\n",
       " 791: 42,\n",
       " 790: 42,\n",
       " 211: 43,\n",
       " 212: 43,\n",
       " 213: 43,\n",
       " 214: 43,\n",
       " 215: 43,\n",
       " 789: 43,\n",
       " 788: 43,\n",
       " 787: 43,\n",
       " 786: 43,\n",
       " 785: 43,\n",
       " 216: 44,\n",
       " 217: 44,\n",
       " 218: 44,\n",
       " 219: 44,\n",
       " 220: 44,\n",
       " 784: 44,\n",
       " 783: 44,\n",
       " 782: 44,\n",
       " 781: 44,\n",
       " 780: 44,\n",
       " 221: 45,\n",
       " 222: 45,\n",
       " 223: 45,\n",
       " 224: 45,\n",
       " 225: 45,\n",
       " 779: 45,\n",
       " 778: 45,\n",
       " 777: 45,\n",
       " 776: 45,\n",
       " 775: 45,\n",
       " 226: 46,\n",
       " 227: 46,\n",
       " 228: 46,\n",
       " 229: 46,\n",
       " 230: 46,\n",
       " 774: 46,\n",
       " 773: 46,\n",
       " 772: 46,\n",
       " 771: 46,\n",
       " 770: 46,\n",
       " 231: 47,\n",
       " 232: 47,\n",
       " 233: 47,\n",
       " 234: 47,\n",
       " 235: 47,\n",
       " 769: 47,\n",
       " 768: 47,\n",
       " 767: 47,\n",
       " 766: 47,\n",
       " 765: 47,\n",
       " 236: 48,\n",
       " 237: 48,\n",
       " 238: 48,\n",
       " 239: 48,\n",
       " 240: 48,\n",
       " 764: 48,\n",
       " 763: 48,\n",
       " 762: 48,\n",
       " 761: 48,\n",
       " 760: 48,\n",
       " 241: 49,\n",
       " 242: 49,\n",
       " 243: 49,\n",
       " 244: 49,\n",
       " 245: 49,\n",
       " 759: 49,\n",
       " 758: 49,\n",
       " 757: 49,\n",
       " 756: 49,\n",
       " 755: 49,\n",
       " 246: 50,\n",
       " 247: 50,\n",
       " 248: 50,\n",
       " 249: 50,\n",
       " 250: 50,\n",
       " 754: 50,\n",
       " 753: 50,\n",
       " 752: 50,\n",
       " 751: 50,\n",
       " 750: 50,\n",
       " 251: 51,\n",
       " 252: 51,\n",
       " 253: 51,\n",
       " 254: 51,\n",
       " 255: 51,\n",
       " 749: 51,\n",
       " 748: 51,\n",
       " 747: 51,\n",
       " 746: 51,\n",
       " 745: 51,\n",
       " 256: 52,\n",
       " 257: 52,\n",
       " 258: 52,\n",
       " 259: 52,\n",
       " 260: 52,\n",
       " 744: 52,\n",
       " 743: 52,\n",
       " 742: 52,\n",
       " 741: 52,\n",
       " 740: 52,\n",
       " 261: 53,\n",
       " 262: 53,\n",
       " 263: 53,\n",
       " 264: 53,\n",
       " 265: 53,\n",
       " 739: 53,\n",
       " 738: 53,\n",
       " 737: 53,\n",
       " 736: 53,\n",
       " 735: 53,\n",
       " 266: 54,\n",
       " 267: 54,\n",
       " 268: 54,\n",
       " 269: 54,\n",
       " 270: 54,\n",
       " 734: 54,\n",
       " 733: 54,\n",
       " 732: 54,\n",
       " 731: 54,\n",
       " 730: 54,\n",
       " 271: 55,\n",
       " 272: 55,\n",
       " 273: 55,\n",
       " 274: 55,\n",
       " 275: 55,\n",
       " 729: 55,\n",
       " 728: 55,\n",
       " 727: 55,\n",
       " 726: 55,\n",
       " 725: 55,\n",
       " 276: 56,\n",
       " 277: 56,\n",
       " 278: 56,\n",
       " 279: 56,\n",
       " 280: 56,\n",
       " 724: 56,\n",
       " 723: 56,\n",
       " 722: 56,\n",
       " 721: 56,\n",
       " 720: 56,\n",
       " 281: 57,\n",
       " 282: 57,\n",
       " 283: 57,\n",
       " 284: 57,\n",
       " 285: 57,\n",
       " 719: 57,\n",
       " 718: 57,\n",
       " 717: 57,\n",
       " 716: 57,\n",
       " 715: 57,\n",
       " 286: 58,\n",
       " 287: 58,\n",
       " 288: 58,\n",
       " 289: 58,\n",
       " 290: 58,\n",
       " 714: 58,\n",
       " 713: 58,\n",
       " 712: 58,\n",
       " 711: 58,\n",
       " 710: 58,\n",
       " 291: 59,\n",
       " 292: 59,\n",
       " 293: 59,\n",
       " 294: 59,\n",
       " 295: 59,\n",
       " 709: 59,\n",
       " 708: 59,\n",
       " 707: 59,\n",
       " 706: 59,\n",
       " 705: 59,\n",
       " 296: 60,\n",
       " 297: 60,\n",
       " 298: 60,\n",
       " 299: 60,\n",
       " 300: 60,\n",
       " 704: 60,\n",
       " 703: 60,\n",
       " 702: 60,\n",
       " 701: 60,\n",
       " 700: 60,\n",
       " 301: 61,\n",
       " 302: 61,\n",
       " 303: 61,\n",
       " 304: 61,\n",
       " 305: 61,\n",
       " 699: 61,\n",
       " 698: 61,\n",
       " 697: 61,\n",
       " 696: 61,\n",
       " 695: 61,\n",
       " 306: 62,\n",
       " 307: 62,\n",
       " 308: 62,\n",
       " 309: 62,\n",
       " 310: 62,\n",
       " 694: 62,\n",
       " 693: 62,\n",
       " 692: 62,\n",
       " 691: 62,\n",
       " 690: 62,\n",
       " 311: 63,\n",
       " 312: 63,\n",
       " 313: 63,\n",
       " 314: 63,\n",
       " 315: 63,\n",
       " 689: 63,\n",
       " 688: 63,\n",
       " 687: 63,\n",
       " 686: 63,\n",
       " 685: 63,\n",
       " 316: 64,\n",
       " 317: 64,\n",
       " 318: 64,\n",
       " 319: 64,\n",
       " 320: 64,\n",
       " 684: 64,\n",
       " 683: 64,\n",
       " 682: 64,\n",
       " 681: 64,\n",
       " 680: 64,\n",
       " 321: 65,\n",
       " 322: 65,\n",
       " 323: 65,\n",
       " 324: 65,\n",
       " 325: 65,\n",
       " 679: 65,\n",
       " 678: 65,\n",
       " 677: 65,\n",
       " 676: 65,\n",
       " 675: 65,\n",
       " 326: 66,\n",
       " 327: 66,\n",
       " 328: 66,\n",
       " 329: 66,\n",
       " 330: 66,\n",
       " 674: 66,\n",
       " 673: 66,\n",
       " 672: 66,\n",
       " 671: 66,\n",
       " 670: 66,\n",
       " 331: 67,\n",
       " 332: 67,\n",
       " 333: 67,\n",
       " 334: 67,\n",
       " 335: 67,\n",
       " 669: 67,\n",
       " 668: 67,\n",
       " 667: 67,\n",
       " 666: 67,\n",
       " 665: 67,\n",
       " 336: 68,\n",
       " 337: 68,\n",
       " 338: 68,\n",
       " 339: 68,\n",
       " 340: 68,\n",
       " 664: 68,\n",
       " 663: 68,\n",
       " 662: 68,\n",
       " 661: 68,\n",
       " 660: 68,\n",
       " 341: 69,\n",
       " 342: 69,\n",
       " 343: 69,\n",
       " 344: 69,\n",
       " 345: 69,\n",
       " 659: 69,\n",
       " 658: 69,\n",
       " 657: 69,\n",
       " 656: 69,\n",
       " 655: 69,\n",
       " 346: 70,\n",
       " 347: 70,\n",
       " 348: 70,\n",
       " 349: 70,\n",
       " 350: 70,\n",
       " 654: 70,\n",
       " 653: 70,\n",
       " 652: 70,\n",
       " 651: 70,\n",
       " 650: 70,\n",
       " 351: 71,\n",
       " 352: 71,\n",
       " 353: 71,\n",
       " 354: 71,\n",
       " 355: 71,\n",
       " 649: 71,\n",
       " 648: 71,\n",
       " 647: 71,\n",
       " 646: 71,\n",
       " 645: 71,\n",
       " 356: 72,\n",
       " 357: 72,\n",
       " 358: 72,\n",
       " 359: 72,\n",
       " 360: 72,\n",
       " 644: 72,\n",
       " 643: 72,\n",
       " 642: 72,\n",
       " 641: 72,\n",
       " 640: 72,\n",
       " 361: 73,\n",
       " 362: 73,\n",
       " 363: 73,\n",
       " 364: 73,\n",
       " 365: 73,\n",
       " 639: 73,\n",
       " 638: 73,\n",
       " 637: 73,\n",
       " 636: 73,\n",
       " 635: 73,\n",
       " 366: 74,\n",
       " 367: 74,\n",
       " 368: 74,\n",
       " 369: 74,\n",
       " 370: 74,\n",
       " 634: 74,\n",
       " 633: 74,\n",
       " 632: 74,\n",
       " 631: 74,\n",
       " 630: 74,\n",
       " 371: 75,\n",
       " 372: 75,\n",
       " 373: 75,\n",
       " 374: 75,\n",
       " 375: 75,\n",
       " 629: 75,\n",
       " 628: 75,\n",
       " 627: 75,\n",
       " 626: 75,\n",
       " 625: 75,\n",
       " 376: 76,\n",
       " 377: 76,\n",
       " 378: 76,\n",
       " 379: 76,\n",
       " 380: 76,\n",
       " 624: 76,\n",
       " 623: 76,\n",
       " 622: 76,\n",
       " 621: 76,\n",
       " 620: 76,\n",
       " 381: 77,\n",
       " 382: 77,\n",
       " 383: 77,\n",
       " 384: 77,\n",
       " 385: 77,\n",
       " 619: 77,\n",
       " 618: 77,\n",
       " 617: 77,\n",
       " 616: 77,\n",
       " 615: 77,\n",
       " 386: 78,\n",
       " 387: 78,\n",
       " 388: 78,\n",
       " 389: 78,\n",
       " 390: 78,\n",
       " 614: 78,\n",
       " 613: 78,\n",
       " 612: 78,\n",
       " 611: 78,\n",
       " 610: 78,\n",
       " 391: 79,\n",
       " 392: 79,\n",
       " 393: 79,\n",
       " 394: 79,\n",
       " 395: 79,\n",
       " 609: 79,\n",
       " 608: 79,\n",
       " 607: 79,\n",
       " 606: 79,\n",
       " 605: 79,\n",
       " 396: 80,\n",
       " 397: 80,\n",
       " 398: 80,\n",
       " 399: 80,\n",
       " 400: 80,\n",
       " 604: 80,\n",
       " 603: 80,\n",
       " 602: 80,\n",
       " 601: 80,\n",
       " 600: 80,\n",
       " 401: 81,\n",
       " 402: 81,\n",
       " 403: 81,\n",
       " 404: 81,\n",
       " 405: 81,\n",
       " 599: 81,\n",
       " 598: 81,\n",
       " 597: 81,\n",
       " 596: 81,\n",
       " 595: 81,\n",
       " 406: 82,\n",
       " 407: 82,\n",
       " 408: 82,\n",
       " 409: 82,\n",
       " 410: 82,\n",
       " 594: 82,\n",
       " 593: 82,\n",
       " 592: 82,\n",
       " 591: 82,\n",
       " 590: 82,\n",
       " 411: 83,\n",
       " 412: 83,\n",
       " 413: 83,\n",
       " 414: 83,\n",
       " 415: 83,\n",
       " 589: 83,\n",
       " 588: 83,\n",
       " 587: 83,\n",
       " 586: 83,\n",
       " 585: 83,\n",
       " 416: 84,\n",
       " 417: 84,\n",
       " 418: 84,\n",
       " 419: 84,\n",
       " 420: 84,\n",
       " 584: 84,\n",
       " 583: 84,\n",
       " 582: 84,\n",
       " 581: 84,\n",
       " 580: 84,\n",
       " 421: 85,\n",
       " 422: 85,\n",
       " 423: 85,\n",
       " 424: 85,\n",
       " 425: 85,\n",
       " 579: 85,\n",
       " 578: 85,\n",
       " 577: 85,\n",
       " 576: 85,\n",
       " 575: 85,\n",
       " 426: 86,\n",
       " 427: 86,\n",
       " 428: 86,\n",
       " 429: 86,\n",
       " 430: 86,\n",
       " 574: 86,\n",
       " 573: 86,\n",
       " 572: 86,\n",
       " 571: 86,\n",
       " 570: 86,\n",
       " 431: 87,\n",
       " 432: 87,\n",
       " 433: 87,\n",
       " 434: 87,\n",
       " 435: 87,\n",
       " 569: 87,\n",
       " 568: 87,\n",
       " 567: 87,\n",
       " 566: 87,\n",
       " 565: 87,\n",
       " 436: 88,\n",
       " 437: 88,\n",
       " 438: 88,\n",
       " 439: 88,\n",
       " 440: 88,\n",
       " 564: 88,\n",
       " 563: 88,\n",
       " 562: 88,\n",
       " 561: 88,\n",
       " 560: 88,\n",
       " 441: 89,\n",
       " 442: 89,\n",
       " 443: 89,\n",
       " 444: 89,\n",
       " 445: 89,\n",
       " 559: 89,\n",
       " 558: 89,\n",
       " 557: 89,\n",
       " 556: 89,\n",
       " 555: 89,\n",
       " 446: 90,\n",
       " 447: 90,\n",
       " 448: 90,\n",
       " 449: 90,\n",
       " 450: 90,\n",
       " 554: 90,\n",
       " 553: 90,\n",
       " 552: 90,\n",
       " 551: 90,\n",
       " 550: 90,\n",
       " 451: 91,\n",
       " 452: 91,\n",
       " 453: 91,\n",
       " 454: 91,\n",
       " 455: 91,\n",
       " 549: 91,\n",
       " 548: 91,\n",
       " 547: 91,\n",
       " 546: 91,\n",
       " 545: 91,\n",
       " 456: 92,\n",
       " 457: 92,\n",
       " 458: 92,\n",
       " 459: 92,\n",
       " 460: 92,\n",
       " 544: 92,\n",
       " 543: 92,\n",
       " 542: 92,\n",
       " 541: 92,\n",
       " 540: 92,\n",
       " 461: 93,\n",
       " 462: 93,\n",
       " 463: 93,\n",
       " 464: 93,\n",
       " 465: 93,\n",
       " 539: 93,\n",
       " 538: 93,\n",
       " 537: 93,\n",
       " 536: 93,\n",
       " 535: 93,\n",
       " 466: 94,\n",
       " 467: 94,\n",
       " 468: 94,\n",
       " 469: 94,\n",
       " 470: 94,\n",
       " 534: 94,\n",
       " 533: 94,\n",
       " 532: 94,\n",
       " 531: 94,\n",
       " 530: 94,\n",
       " 471: 95,\n",
       " 472: 95,\n",
       " 473: 95,\n",
       " 474: 95,\n",
       " 475: 95,\n",
       " 529: 95,\n",
       " 528: 95,\n",
       " 527: 95,\n",
       " 526: 95,\n",
       " 525: 95,\n",
       " 476: 96,\n",
       " 477: 96,\n",
       " 478: 96,\n",
       " 479: 96,\n",
       " 480: 96,\n",
       " 524: 96,\n",
       " 523: 96,\n",
       " 522: 96,\n",
       " 521: 96,\n",
       " 520: 96,\n",
       " 481: 97,\n",
       " 482: 97,\n",
       " 483: 97,\n",
       " 484: 97,\n",
       " 485: 97,\n",
       " 519: 97,\n",
       " 518: 97,\n",
       " 517: 97,\n",
       " 516: 97,\n",
       " 515: 97,\n",
       " 486: 98,\n",
       " 487: 98,\n",
       " 488: 98,\n",
       " 489: 98,\n",
       " 490: 98,\n",
       " 514: 98,\n",
       " 513: 98,\n",
       " 512: 98,\n",
       " 511: 98,\n",
       " 510: 98,\n",
       " 491: 99,\n",
       " 492: 99,\n",
       " 493: 99,\n",
       " 494: 99,\n",
       " 495: 99,\n",
       " 509: 99,\n",
       " 508: 99,\n",
       " 507: 99,\n",
       " 506: 99,\n",
       " 505: 99,\n",
       " 496: 100,\n",
       " 497: 100,\n",
       " 498: 100,\n",
       " 499: 100,\n",
       " 500: 100,\n",
       " 504: 100,\n",
       " 503: 100,\n",
       " 502: 100,\n",
       " 501: 100}"
      ]
     },
     "execution_count": 51,
     "metadata": {},
     "output_type": "execute_result"
    }
   ],
   "source": [
    "# do it in a different way - this should just be the check\n",
    "lattice = make_ring_lattice(1000, 10)\n",
    "shortest_path_dijkstra(lattice, 0)"
   ]
  },
  {
   "cell_type": "markdown",
   "metadata": {},
   "source": [
    "## Exercises"
   ]
  },
  {
   "cell_type": "markdown",
   "metadata": {},
   "source": [
    "**Exercise:** In a ring lattice, every node has the same number of neighbors.  The number of neighbors is called the **degree** of the node, and a graph where all nodes have the same degree is called a **regular graph**.\n",
    "\n",
    "All ring lattices are regular, but not all regular graphs are ring lattices.  In particular, if `k` is odd, we can't construct a ring lattice, but we might be able to construct a regular graph.\n",
    "\n",
    "Write a function called `make_regular_graph` that takes `n` and `k` and returns a regular graph that contains `n` nodes, where every node has `k` neighbors.  If it's not possible to make a regular graph with the given values of `n` and `k`, the function should raise a `ValueError`."
   ]
  },
  {
   "cell_type": "code",
   "execution_count": 46,
   "metadata": {
    "collapsed": true
   },
   "outputs": [],
   "source": [
    "# figure out how to make regular graphs that aren't lattices/with odd k's\n",
    "def make_regular_graph(n, k):\n",
    "    G = nx.Graph()\n",
    "    nodes = range(n)\n",
    "    G.add_nodes_from(nodes)\n",
    "    if k % 2 == 0:\n",
    "        G.add_edges_from(adjacent_edges(nodes, k/2))\n",
    "    else:\n",
    "        raise ValueError"
   ]
  },
  {
   "cell_type": "code",
   "execution_count": 47,
   "metadata": {
    "collapsed": true
   },
   "outputs": [],
   "source": [
    "# Solution goes here"
   ]
  },
  {
   "cell_type": "code",
   "execution_count": 48,
   "metadata": {
    "collapsed": true
   },
   "outputs": [],
   "source": [
    "# Solution goes here"
   ]
  },
  {
   "cell_type": "code",
   "execution_count": 49,
   "metadata": {
    "collapsed": true
   },
   "outputs": [],
   "source": [
    "# Solution goes here"
   ]
  },
  {
   "cell_type": "markdown",
   "metadata": {
    "collapsed": true
   },
   "source": [
    "**Exercise:** My implementation of `reachable_nodes_bfs` is efficient in the sense that it is in $O(n + m)$, but it incurs a lot of overhead adding nodes to the queue and removing them.  NetworkX provides a simple, fast implementation of BFS, available from [the NetworkX repository on GitHub](https://github.com/networkx/networkx/blob/master/networkx/algorithms/components/connected.py).\n",
    "\n",
    "Here is a version I modified to return a set of nodes:"
   ]
  },
  {
   "cell_type": "code",
   "execution_count": 53,
   "metadata": {
    "collapsed": true
   },
   "outputs": [],
   "source": [
    "def plain_bfs(G, source):\n",
    "    \"\"\"A fast BFS node generator\"\"\"\n",
    "    seen = set()\n",
    "    nextlevel = {source}\n",
    "    while nextlevel:\n",
    "        thislevel = nextlevel\n",
    "        nextlevel = set()\n",
    "        for v in thislevel:\n",
    "            if v not in seen:\n",
    "                seen.add(v)\n",
    "                nextlevel.update(G[v])\n",
    "    return seen"
   ]
  },
  {
   "cell_type": "markdown",
   "metadata": {},
   "source": [
    "Compare this function to `reachable_nodes_bfs` and see which is faster.  Then see if you can modify this function to implement a faster version of `shortest_path_dijkstra`"
   ]
  },
  {
   "cell_type": "code",
   "execution_count": 54,
   "metadata": {},
   "outputs": [
    {
     "name": "stdout",
     "output_type": "stream",
     "text": [
      "CPU times: user 0 ns, sys: 0 ns, total: 0 ns\n",
      "Wall time: 54.6 µs\n"
     ]
    },
    {
     "data": {
      "text/plain": [
       "{0, 1, 2, 3, 4, 5, 6, 7, 8, 9}"
      ]
     },
     "execution_count": 54,
     "metadata": {},
     "output_type": "execute_result"
    }
   ],
   "source": [
    "# timing of plain_bfs\n",
    "graph = make_ring_lattice(10, 4)\n",
    "%time plain_bfs(graph, 0)"
   ]
  },
  {
   "cell_type": "code",
   "execution_count": 55,
   "metadata": {},
   "outputs": [
    {
     "name": "stdout",
     "output_type": "stream",
     "text": [
      "CPU times: user 0 ns, sys: 0 ns, total: 0 ns\n",
      "Wall time: 83.2 µs\n"
     ]
    },
    {
     "data": {
      "text/plain": [
       "{0, 1, 2, 3, 4, 5, 6, 7, 8, 9}"
      ]
     },
     "execution_count": 55,
     "metadata": {},
     "output_type": "execute_result"
    }
   ],
   "source": [
    "# timing of reachable_nodes_bfs\n",
    "%time reachable_nodes_bfs(graph, 0)"
   ]
  },
  {
   "cell_type": "code",
   "execution_count": 53,
   "metadata": {
    "collapsed": true
   },
   "outputs": [],
   "source": [
    "# It turns out that plain_bfs is quite a bit faster than reachable_nodes_bfs"
   ]
  },
  {
   "cell_type": "code",
   "execution_count": 62,
   "metadata": {
    "collapsed": true
   },
   "outputs": [],
   "source": [
    "# faster version of shortest_path_dijkstra\n",
    "def shortest_path_dijkstra_faster(G, start):\n",
    "    \"\"\"Finds shortest paths from `start` to all other nodes.\n",
    "    \n",
    "    G: graph\n",
    "    start: node to start at\n",
    "    \n",
    "    returns: make from node to path length\n",
    "    \"\"\"\n",
    "    dist = {start: 0}\n",
    "    seen = set()\n",
    "    nextlevel = {start}\n",
    "    while nextlevel:\n",
    "        thislevel = nextlevel\n",
    "        nextlevel = set()\n",
    "        new_dist = dist[thislevel] + 1\n",
    "\n",
    "        neighbors = set(G[thislevel]) - set(dist)\n",
    "        for n in neighbors:\n",
    "            dist[n] = new_dist\n",
    "        \n",
    "        for v in thislevel:\n",
    "            if v not in seen:\n",
    "                seen.add(v)\n",
    "                nextlevel.update(G[v])\n",
    "    return dist"
   ]
  },
  {
   "cell_type": "code",
   "execution_count": 63,
   "metadata": {},
   "outputs": [
    {
     "ename": "TypeError",
     "evalue": "unhashable type: 'set'",
     "output_type": "error",
     "traceback": [
      "\u001b[0;31m---------------------------------------------------------------------------\u001b[0m",
      "\u001b[0;31mTypeError\u001b[0m                                 Traceback (most recent call last)",
      "\u001b[0;32m<ipython-input-63-1c19a848c019>\u001b[0m in \u001b[0;36m<module>\u001b[0;34m()\u001b[0m\n\u001b[1;32m      1\u001b[0m \u001b[0;31m# Solution goes here\u001b[0m\u001b[0;34m\u001b[0m\u001b[0;34m\u001b[0m\u001b[0m\n\u001b[0;32m----> 2\u001b[0;31m \u001b[0mshortest_path_dijkstra_faster\u001b[0m\u001b[0;34m(\u001b[0m\u001b[0mgraph\u001b[0m\u001b[0;34m,\u001b[0m \u001b[0;36m0\u001b[0m\u001b[0;34m)\u001b[0m\u001b[0;34m\u001b[0m\u001b[0m\n\u001b[0m",
      "\u001b[0;32m<ipython-input-62-84f2750c0e29>\u001b[0m in \u001b[0;36mshortest_path_dijkstra_faster\u001b[0;34m(G, start)\u001b[0m\n\u001b[1;32m     13\u001b[0m     \u001b[0;32mwhile\u001b[0m \u001b[0mnextlevel\u001b[0m\u001b[0;34m:\u001b[0m\u001b[0;34m\u001b[0m\u001b[0m\n\u001b[1;32m     14\u001b[0m         \u001b[0mthislevel\u001b[0m \u001b[0;34m=\u001b[0m \u001b[0mnextlevel\u001b[0m\u001b[0;34m\u001b[0m\u001b[0m\n\u001b[0;32m---> 15\u001b[0;31m         \u001b[0mnew_dist\u001b[0m \u001b[0;34m=\u001b[0m \u001b[0mdist\u001b[0m\u001b[0;34m[\u001b[0m\u001b[0mthislevel\u001b[0m\u001b[0;34m]\u001b[0m \u001b[0;34m+\u001b[0m \u001b[0;36m1\u001b[0m\u001b[0;34m\u001b[0m\u001b[0m\n\u001b[0m\u001b[1;32m     16\u001b[0m \u001b[0;34m\u001b[0m\u001b[0m\n\u001b[1;32m     17\u001b[0m         \u001b[0mneighbors\u001b[0m \u001b[0;34m=\u001b[0m \u001b[0mset\u001b[0m\u001b[0;34m(\u001b[0m\u001b[0mG\u001b[0m\u001b[0;34m[\u001b[0m\u001b[0mthislevel\u001b[0m\u001b[0;34m]\u001b[0m\u001b[0;34m)\u001b[0m \u001b[0;34m-\u001b[0m \u001b[0mset\u001b[0m\u001b[0;34m(\u001b[0m\u001b[0mdist\u001b[0m\u001b[0;34m)\u001b[0m\u001b[0;34m\u001b[0m\u001b[0m\n",
      "\u001b[0;31mTypeError\u001b[0m: unhashable type: 'set'"
     ]
    }
   ],
   "source": [
    "# Solution goes here\n",
    "shortest_path_dijkstra_faster(graph, 0)"
   ]
  },
  {
   "cell_type": "code",
   "execution_count": 56,
   "metadata": {
    "collapsed": true
   },
   "outputs": [],
   "source": [
    "# Solution goes here"
   ]
  },
  {
   "cell_type": "code",
   "execution_count": 57,
   "metadata": {
    "collapsed": true
   },
   "outputs": [],
   "source": [
    "# Solution goes here"
   ]
  },
  {
   "cell_type": "code",
   "execution_count": 58,
   "metadata": {
    "collapsed": true
   },
   "outputs": [],
   "source": [
    "# Solution goes here"
   ]
  },
  {
   "cell_type": "code",
   "execution_count": 59,
   "metadata": {
    "collapsed": true
   },
   "outputs": [],
   "source": [
    "# Solution goes here"
   ]
  },
  {
   "cell_type": "markdown",
   "metadata": {},
   "source": [
    "**Exercise:** The following implementation of a BFS contains two performance errors.  What are\n",
    "they?  What is the actual order of growth for this algorithm?"
   ]
  },
  {
   "cell_type": "code",
   "execution_count": 60,
   "metadata": {
    "collapsed": true
   },
   "outputs": [],
   "source": [
    "def bfs(top_node, visit):\n",
    "    \"\"\"Breadth-first search on a graph, starting at top_node.\"\"\"\n",
    "    visited = set()\n",
    "    queue = [top_node]\n",
    "    while len(queue):\n",
    "        curr_node = queue.pop(0)    # Dequeue\n",
    "        visit(curr_node)            # Visit the node\n",
    "        visited.add(curr_node)\n",
    "\n",
    "        # Enqueue non-visited and non-enqueued children\n",
    "        queue.extend(c for c in curr_node.children\n",
    "                     if c not in visited and c not in queue)"
   ]
  },
  {
   "cell_type": "code",
   "execution_count": 61,
   "metadata": {
    "collapsed": true
   },
   "outputs": [],
   "source": [
    "# Solution goes here"
   ]
  },
  {
   "cell_type": "markdown",
   "metadata": {},
   "source": [
    "**Exercise:** In the book, I claimed that Dijkstra's algorithm does not work unless it uses BFS.  Write a version of `shortest_path_dijkstra` that uses DFS and test it on a few examples to see what goes wrong."
   ]
  },
  {
   "cell_type": "code",
   "execution_count": 62,
   "metadata": {
    "collapsed": true
   },
   "outputs": [],
   "source": [
    "# Solution goes here"
   ]
  },
  {
   "cell_type": "code",
   "execution_count": null,
   "metadata": {
    "collapsed": true
   },
   "outputs": [],
   "source": []
  }
 ],
 "metadata": {
  "kernelspec": {
   "display_name": "Python 3",
   "language": "python",
   "name": "python3"
  },
  "language_info": {
   "codemirror_mode": {
    "name": "ipython",
    "version": 3
   },
   "file_extension": ".py",
   "mimetype": "text/x-python",
   "name": "python",
   "nbconvert_exporter": "python",
   "pygments_lexer": "ipython3",
   "version": "3.6.1"
  }
 },
 "nbformat": 4,
 "nbformat_minor": 1
}
