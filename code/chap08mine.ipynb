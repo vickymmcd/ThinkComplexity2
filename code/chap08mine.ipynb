{
 "cells": [
  {
   "cell_type": "markdown",
   "metadata": {},
   "source": [
    "# Self-organized criticality\n",
    "\n",
    "Code examples from [Think Complexity, 2nd edition](http://greenteapress.com/wp/complexity2), Chapter 8\n",
    "\n",
    "Copyright 2016 Allen Downey, [MIT License](http://opensource.org/licenses/MIT)"
   ]
  },
  {
   "cell_type": "code",
   "execution_count": 1,
   "metadata": {
    "collapsed": true
   },
   "outputs": [],
   "source": [
    "from __future__ import print_function, division\n",
    "\n",
    "%matplotlib inline\n",
    "%precision 3\n",
    "\n",
    "import warnings\n",
    "warnings.filterwarnings('ignore')\n",
    "\n",
    "import numpy as np\n",
    "import matplotlib.pyplot as plt\n",
    "\n",
    "import thinkplot\n",
    "from thinkstats2 import Hist, Cdf\n",
    "\n",
    "from matplotlib import rc\n",
    "rc('animation', html='html5')"
   ]
  },
  {
   "cell_type": "markdown",
   "metadata": {},
   "source": [
    "## Sand pile"
   ]
  },
  {
   "cell_type": "markdown",
   "metadata": {},
   "source": [
    "`Sand.py` contains an implementation of the sand pile model."
   ]
  },
  {
   "cell_type": "code",
   "execution_count": 2,
   "metadata": {
    "collapsed": false
   },
   "outputs": [],
   "source": [
    "from Sand import SandPile, SandPileViewer"
   ]
  },
  {
   "cell_type": "markdown",
   "metadata": {},
   "source": [
    "Here's a small example starting with two cells ready to topple.  `n` is the number of rows, `m` is the number of columns."
   ]
  },
  {
   "cell_type": "code",
   "execution_count": 3,
   "metadata": {
    "collapsed": false
   },
   "outputs": [
    {
     "name": "stdout",
     "output_type": "stream",
     "text": [
      "[[0 0 0 0 0]\n",
      " [0 4 0 4 0]\n",
      " [0 0 0 0 0]]\n"
     ]
    }
   ],
   "source": [
    "pile = SandPile(n=3, m=5, level=0)\n",
    "pile.array[1, 1] = 4\n",
    "pile.array[1, 3] = 4\n",
    "\n",
    "a = pile.array\n",
    "print(a)"
   ]
  },
  {
   "cell_type": "markdown",
   "metadata": {},
   "source": [
    "To execute one step, first we find cells that are above the toppling threshold, `K`."
   ]
  },
  {
   "cell_type": "code",
   "execution_count": 4,
   "metadata": {
    "collapsed": false
   },
   "outputs": [
    {
     "name": "stdout",
     "output_type": "stream",
     "text": [
      "[[0 0 0 0 0]\n",
      " [0 1 0 1 0]\n",
      " [0 0 0 0 0]]\n"
     ]
    }
   ],
   "source": [
    "K = 3\n",
    "toppling = a > K\n",
    "print(toppling.astype(int))"
   ]
  },
  {
   "cell_type": "markdown",
   "metadata": {},
   "source": [
    "Then we use `correlate2d` to make a copy of the update kernel around each toppling cell."
   ]
  },
  {
   "cell_type": "code",
   "execution_count": 5,
   "metadata": {
    "collapsed": false
   },
   "outputs": [
    {
     "name": "stdout",
     "output_type": "stream",
     "text": [
      "[[ 0  1  0  1  0]\n",
      " [ 1 -4  2 -4  1]\n",
      " [ 0  1  0  1  0]]\n"
     ]
    }
   ],
   "source": [
    "kernel = np.array([[0, 1, 0],\n",
    "                   [1,-4, 1],\n",
    "                   [0, 1, 0]], \n",
    "                  dtype=np.int32)\n",
    "\n",
    "from scipy.signal import correlate2d\n",
    "\n",
    "c = correlate2d(toppling, kernel, mode='same', boundary='fill', fillvalue=0)\n",
    "print(c)"
   ]
  },
  {
   "cell_type": "markdown",
   "metadata": {},
   "source": [
    "Finally, we add the result back into the array:"
   ]
  },
  {
   "cell_type": "code",
   "execution_count": 6,
   "metadata": {
    "collapsed": false
   },
   "outputs": [
    {
     "name": "stdout",
     "output_type": "stream",
     "text": [
      "[[0 1 0 1 0]\n",
      " [1 0 2 0 1]\n",
      " [0 1 0 1 0]]\n"
     ]
    }
   ],
   "source": [
    "a += c\n",
    "print(a)"
   ]
  },
  {
   "cell_type": "markdown",
   "metadata": {},
   "source": [
    "Any grains that topple off the edge disappear."
   ]
  },
  {
   "cell_type": "markdown",
   "metadata": {},
   "source": [
    "## Animation"
   ]
  },
  {
   "cell_type": "markdown",
   "metadata": {},
   "source": [
    "Let's look at a bigger pile, with `n=20`.  All cells are initialized to `level`, which is meant to be substantially bigger than `K`."
   ]
  },
  {
   "cell_type": "code",
   "execution_count": 7,
   "metadata": {
    "collapsed": false
   },
   "outputs": [
    {
     "name": "stdout",
     "output_type": "stream",
     "text": [
      "(332, 53336)\n"
     ]
    }
   ],
   "source": [
    "pile = SandPile(n=20, level=10)\n",
    "print(pile.run())"
   ]
  },
  {
   "cell_type": "markdown",
   "metadata": {},
   "source": [
    "The `run` function invokes `step` until no more cells topple and returns the number of time steps and the number of affected cells."
   ]
  },
  {
   "cell_type": "markdown",
   "metadata": {},
   "source": [
    "Now let's look at an animation, starting from this initialized pile."
   ]
  },
  {
   "cell_type": "code",
   "execution_count": 8,
   "metadata": {
    "collapsed": false
   },
   "outputs": [
    {
     "data": {
      "image/png": "[encoded data removed]",
      "text/plain": [
       "<matplotlib.figure.Figure at 0x7feddaa2ff50>"
      ]
     },
     "metadata": {},
     "output_type": "display_data"
    }
   ],
   "source": [
    "viewer = SandPileViewer(pile, drop_flag=True)\n",
    "anim = viewer.animate(frames=100)"
   ]
  },
  {
   "cell_type": "markdown",
   "metadata": {},
   "source": [
    "Starting with `level>K` produces all kinds of interesting patterns."
   ]
  },
  {
   "cell_type": "markdown",
   "metadata": {},
   "source": [
    "Each step of the animation drops a single grain at a random location and runs until no more cells topple."
   ]
  },
  {
   "cell_type": "markdown",
   "metadata": {},
   "source": [
    "Most avalanches are small, but some are very large."
   ]
  },
  {
   "cell_type": "code",
   "execution_count": 9,
   "metadata": {
    "collapsed": false
   },
   "outputs": [
    {
     "data": {
      "text/html": [
       "<video width=\"432.0\" height=\"288.0\" controls autoplay loop>\n",
       "  <source type=\"video/mp4\" src=\"data:video/mp4;base64,AAAAHGZ0eXBNNFYgAAACAGlzb21pc28yYXZjMQAAAAhmcmVlAAEDDm1kYXQAAAKtBgX//6ncRem9\n",
       "5tlIt5Ys2CDZI+7veDI2NCAtIGNvcmUgMTQ4IHIyNjQzIDVjNjU3MDQgLSBILjI2NC9NUEVHLTQg\n",
       "QVZDIGNvZGVjIC0gQ29weWxlZnQgMjAwMy0yMDE1IC0gaHR0cDovL3d3dy52aWRlb2xhbi5vcmcv\n",
       "eDI2NC5odG1sIC0gb3B0aW9uczogY2FiYWM9MSByZWY9MyBkZWJsb2NrPTE6MDowIGFuYWx5c2U9\n",
       "MHgzOjB4MTEzIG1lPWhleCBzdWJtZT03IHBzeT0xIHBzeV9yZD0xLjAwOjAuMDAgbWl4ZWRfcmVm\n",
       "PTEgbWVfcmFuZ2U9MTYgY2hyb21hX21lPTEgdHJlbGxpcz0xIDh4OGRjdD0xIGNxbT0wIGRlYWR6\n",
       "b25lPTIxLDExIGZhc3RfcHNraXA9MSBjaHJvbWFfcXBfb2Zmc2V0PS0yIHRocmVhZHM9OSBsb29r\n",
       "YWhlYWRfdGhyZWFkcz0xIHNsaWNlZF90aHJlYWRzPTAgbnI9MCBkZWNpbWF0ZT0xIGludGVybGFj\n",
       "ZWQ9MCBibHVyYXlfY29tcGF0PTAgY29uc3RyYWluZWRfaW50cmE9MCBiZnJhbWVzPTMgYl9weXJh\n",
       "bWlkPTIgYl9hZGFwdD0xIGJfYmlhcz0wIGRpcmVjdD0xIHdlaWdodGI9MSBvcGVuX2dvcD0wIHdl\n",
       "aWdodHA9MiBrZXlpbnQ9MjUwIGtleWludF9taW49NSBzY2VuZWN1dD00MCBpbnRyYV9yZWZyZXNo\n",
       "PTAgcmNfbG9va2FoZWFkPTQwIHJjPWNyZiBtYnRyZWU9MSBjcmY9MjMuMCBxY29tcD0wLjYwIHFw\n",
       "bWluPTAgcXBtYXg9NjkgcXBzdGVwPTQgaXBfcmF0aW89MS40MCBhcT0xOjEuMDAAgAAAI3BliIQA\n",
       "FP/+98dPwKbo+WbLnUU9ITCK2PpIKL1Y7NAydQAAAwAARMDHEW19z/wfGWAo5yk4WxvvVXIijqVg\n",
       "iBmUYgnNR1dFZTWQXy+Y7RD8zZXhXktuFwV5WGcFqE8XMqWYFQOjHTjtfxjO/VS1LYQeLhX60EI9\n",
       "qv/xvc7Rnn4BLk9YhldyBGwWzBATrD1+x6XFps59l7F9qy2+lEZpeh3Wu1lMtG90x8ldyeAiOJLN\n",
       "SSrtK2Y8umPfOdZ/U/XNdgcTwhlOwMjb/Rm3WC6ETaStSk9Us7HrCEfeu0X4NZglhenAG1wFTgwh\n",
       "mNK/0Eqo2Xposp5o33EOB+FzTxIAFJVm5KUhxprtjV7ztSFStNhr2W/1r7/+cqHVZHA/w9avCfPj\n",
       "94R2oCVFusM2b3iSGBR4VGgX/2drxhq9nfzY81+MGBLxlIi/1w+XcWX/olHpQBkORMy6fsf1sb5Y\n",
       "GbnVHAwe/FaAwa8uEQK2OyYY0jGci3qe1KpigninTuvjHwECK78WxSw9BO5wohdszCTTg8RVT8Ts\n",
       "OCEHqwei7ilinZOo4WY2Q9pQzCzP7C7RFGE15zIaWwgdVxnr99jo5wJkyVLlCZnIEu+SiyyXlLk0\n",
       "1T/grbOFviADDm9xDdBpSK2VDrlXnrp8Q7MErxR/QP3kxCxqDsTO3ilGon/G11ysZPjbMkCukY+K\n",
       "khMrnly0Wr/cbhw9992unL8cUVqRjJ5d+tk6xMMWpV0ABf0HLmGs/Tn+/zRBV9fqJLKBKDUxn+Yl\n",
       "kE4KcYkzVlsD6iNIc5Us4vFMeSPt9FMXN3At0+ZzgU2tsEzDzqO4QdcQDmM2B2U/29IBiWQK9Vro\n",
       "oKcehM+4RVnU7ptzO7/gZuby8zMPJT37ztHWEufM17ihTPpfH6gJSCDKVYv0bCfJngmMkJyIODC7\n",
       "up+pqhJwUWSyy3JQO4D/6cYjedT+XuOG8lfvlQLsRnlmxUgIlUdWs6ct6ewjpYQv8ayY+zRVFC58\n",
       "wgpH079Mja1DtOsrdNrvSy3/5FOmJlRyyxTIIajmjl9Z+2PfCBk75+v5dB/uaO4wci9hXB/iHYlD\n",
       "KoAV1x/z+lqKffbQdJ3rX7JzcpMh5hVwaNudgSo5BE46pFMroUIU4/1aVzXtu/EYgkTwECcdNgPi\n",
       "1WOXhf7fu66laIinG/N91AltxqNevcNpBF05fbJk0SMJKgQPfkGsoWDhjbg7K0mYBPVvPvkxi+8J\n",
       "9YK3BvFZgfVXQcR+GjwAL11CNFKmn/w1DR6fIuMtWrnBfqrlE1vd2fLraet2d5pbDcQctQBCC9H/\n",
       "f2Mjz7TUwzKlzyWtEO86UD9WaOcf4wprK2gyVq4JyJftBvxN2fWgcbtir5eHm5YK72Ja6LReyU0z\n",
       "8SAZuBnBPh+qUse/aPuab3yK8MLmueO6RJTHTWk803+MWErRZBFgJ1oI7opzKuUHgM2bcThn3yoW\n",
       "fIzhmANy8ozTbHF9nIIjJ2ZrbT5oOVk+CMnnYj8v5I2GLG+WuCncBI0vTxRYy6JAf+OOv68LXD+d\n",
       "j9w9fp6BEGwgsy752cStJx6+F5LUdbL8s9l4/nOo74DJgveTbm/UEu41ues1bzxhWJX6v6u9fm7r\n",
       "lx9igxQHUoVl8xi9SnyGnBJ9DGGuiyI/YlSfTNkumicHGrSypWtk5J5bTjq75VwzIlV3gX7/EYxj\n",
       "yRE+lYR2UQ7KyzwJqVpGEQ1ZlbQoFcRyzu1fJ5J/VroVKGnj1rIczsKMM0cpJn7qi9nquuVQotXH\n",
       "v1EWQ2fifGSo5UJ0tlStqg5gfpoqH+JTR5pYs7rToBbYCtReXiVMhZDBsCEDT8zJCphDkrybfP+9\n",
       "P2U3+goKwclDOR2QD6Nq/8kFUUjKSYBMI9jw4z0AzNtOmFfrGyXRh8oJB4wF48TYk4wqyb0mTiO4\n",
       "eRpt8yIRHULK/pR8lp90QG8eMKc5Cc3/2fZwtsVxwk/JBa7hmaCccZaOce4rNzChabtGWJV7bSnH\n",
       "kk6zDX+K30OQM9y2xCtcGF3gD3nyPwf9VWzxmN98hlK/hfs0RbI+V9kNXpezhBV6ZWYS/wTmAIIS\n",
       "V5l5FvecEHv3wxamvZ8RDAT20h6PZDW7ita/X0E+61ldmSo7dIxWv8/ZVggs3DslYmINn6a5ZCAA\n",
       "BwXbTA0WMNxezQQAeCdGfKHXFUlqevZF99S2V5YayRazBTEiOjYh8GSsRnBsrzMlN7+Qne5IlrHS\n",
       "wSBZhM2n0NwRq9kWh9t7JsKZXxQncwIOyROHQkUTfNWVfuO4FaF04bDl+c84y09p5Q/0olcuyH5L\n",
       "94y6FUn1sF7M1xiAbXTlsfm235Cy3xntq0iDsCsYwXvES8JuH5OxIgqTlkWGVI3JHkru/MRFxIVU\n",
       "b8JkSRhVQZqL6ARMeMX9wqi1yc1gPo7WsbDGuFS3z2fC7Iuzipbq2riiLfM9YQxL8C9WUXlETvZ+\n",
       "wNQjfn/yYeIEvM2alttQKCLgswk2Onkk7IpVV6xbnnamJn7XWZNL6d/kyOFmisHaVNECNZBH7H5M\n",
       "fC22bMtUh5qASQPwprFqyWM+gKM5k/7HrcaoREkMOTL4pOYm20a6Q9+d1KDx+8P9JZtjDutoQVBb\n",
       "0Yi+zMz7LYsOD+QqwABjU3Aw1hA8BtJiGRiubWZibH2GL/K5AHSBMHDVUj4nI+9FTAN7OSo8wWyl\n",
       "XMTv6vGJVR78lpqjHATp/0Wfjfy2x+Q33pdCzqS2O6tcujFM5YCvvdAws6WcpVTcR6XwDHQZ0xZm\n",
       "Hn5iG4Mg/SDFAZfjdBmHpAANKWZfwnotwiw0svXETtKRx0H/2lnsNTRwEtGlLY3NjYAGsRnLd95V\n",
       "F/pjLSzHqWC/Q8zT4AebrRLea47R+gHQdF9fA1/TsvxVb532ge1dYSwtdu7Upp5pU6OC5/paxxZH\n",
       "N//IyguPzWrDhqRzUzD/5q8N+9AOOT74JBvmJsFe3ku1n8RL8GV3pugcTypO4RmfSB1EXYC24EoI\n",
       "HOR3xxTv6LYIZc6Rnh19KO4s23T07r+dhpoO7oQQIhX/z5acqYTAsiyaGJrr7FDgtNABF/fXSUHI\n",
       "Jr9aVOutHrhyZFMk9YhNMBvjWNCct5H+//4NQK8mHd4TrqPWEn1maLg8/eHIVO1EI5f8CQFxFLBP\n",
       "VJHetHc7Vw7H3nD4DdnrkY3Evsk7NkDBMZtmvCmdAllNYtip69VJ+eof+YCZRB3fGtXekAgsDLZU\n",
       "lMb/hZPsb25MJtX0lbzpvMvd8LDlQyZW3+7AYRpUNItIJ0uZagxjG6rtDCU4L8H95tiuPm3P3czT\n",
       "dZHyTHdRM6szP9HkJcsgLSnFq66KBvuq0D29dbAywZunGMJTFFGgJKTVUN+42QvWhV6201jAWBV2\n",
       "+TDeFlkk65G5YUSuV+d4XV+EEE7bOafrJqSGZ/WmSxhmBA+EInFcNEilvVmLAUCht5NUcqI/INmX\n",
       "r23ZY8aohnChBVnvU3qDBo1cqCJMmTPLgBxw3BW9BZyomGjVsTfmP+BJdTrpoZqM/OmV2gGmOqg1\n",
       "ujVSrRNPCg86RswLagsMpJrHlzR6B8RZaQ26zoVlljZdj3Wf1ix+QWFRFwkYRJ2iyzC/NNEqB5qc\n",
       "w05wqfR+mukHihn2b/xF1mvsKiasT5kJR5EBQVrskm1t7la5z92e53S/0rfiSVzhx6RcBZT3ykSt\n",
       "4EEUSDGmuKaT6V4BEoJTlWmtGISryK/0cCrI0umWdkfdOTIHRD7ha4QaKM1lUtCwp4wbruCysisy\n",
       "nh0JCkx4TVX9U3WRmxwODXXn2tn2jJBCigqk9Himl9dfC8WA4YOBjRjNlEUENTIUDX3/SWvsfFPE\n",
       "Ob1Khr/160Wfvncp+yQNex/8lMlcubuKEuTbF18ByZMNfD/Pse1jOmKJkFnhEMriV7zn/HfMdINQ\n",
       "CLoBo5f8vfPvE2YCjfCSrQ4tItmMiI9OuKRXJzinkohVXfWGI77jNObIiFaAirK0/XP/4fGZkyOw\n",
       "qv9xDM1RNMrpbT/JLoxP2q2uO06dn61594p2sBdd6/rZez+BpdzSFJTGa/yGQu3X3u6eQJ2P0t8V\n",
       "2fofL+J5ogBdgpc2HmL3+/0Ar54+aSMO06JU54eGYXv12RAaIyfb5iDbnhUcT6/ZnNp7nPr7p416\n",
       "Q6DFVC/jNu44IFR1w9LVDYZOw/acdRtWtpnljMko3pPeVNThbxU9nCz4i+hXocKKYVGUnM9UmMwB\n",
       "ORqxI5qv92ejUGNhdujWgbUYR50evPjkDDfJCYOhF6nPBJwCQSsRuRYaKx8pKfhCE13U2qmVx2nu\n",
       "9q1Y2oHnjX4jzJWtOAFElKaGRSaK2k5i9qaWym0yiojK1SHOurIfv4c22q1nwAMBG+JdD3VFWe5U\n",
       "Az7IoEj4heCoUzyvnhhni/3qnaud+uXZ1Fd1R9LPqe2GJbnX7blWwnObFkWw/jKKyBAlZB1GA9zi\n",
       "PIdBAhdoCouEoLluYHpuDx2IEy1MnrOapAu4SPYhth3i8AOvdicdS4jzF976NruCXiEvFWe/caoD\n",
       "r+hEKBeAA3+a35M4jlgw16/6jkTaTcJcR615R/8X6EigmnUbN//0Kc4clvDfxb4n1sFk4921OFI8\n",
       "MihqhIY0i7x3KFe6azTVyLCYH0qbxmSotrIqrUBV0maxciu7umDc+k9xLTBHQF04FgIyVxHgCznz\n",
       "8k3eV5ezdFdLZNBhdnmOMrj4YllAnixKbylqtsNc1oadE0p5MCNr2bD4uz9ahLo2FWV8Nw5VpfLg\n",
       "Sg2bN5bTZatJv3lcvIb+2pxC7N7f+eyUxL5aKVnRNne4GYHyU9A6zt3Ytm80XnuZgPCRmEFYTw13\n",
       "Kl+JdwQM/ONEUybWYDF1FLgVkxeJoI8H3D5g5R+yguYX90j+Z56MtxQ5dcqnssbbiWveK8fEUBQh\n",
       "13GYF3dhnvqNSef8YYFM09VYuLA1I3bW4ATzhNmJAN8b+Istg0TlX/dUmU/SIVoQUUwd7fOnO5oZ\n",
       "6x9s9QhY/jgkIfUNzqGf9dpNDaxLeIy4nOscDIFA95MsSo9qGXMnfJq5ihUC/AKrn+NdxzUg6PJf\n",
       "K8Sh8FDb5jUm+X2eBsXAuTYXdA+B/2RpF2A1iSq8Fvl5YFTM8KhFmonqvKV78xxD2q1sbx4ZLlLl\n",
       "zmt1+mm2UobBxUCS0axtdU/HcYvhoy+c/qupxqSbKP+dtNqMO50foYKj0gVRJwJd6bjyseb4sAKC\n",
       "7NguMqswLCJK75Ph+6N6ir/AwcZuLvHjkk1o6ynbzN10kOK47VJD67wFdcTHNJkAaPLmAJBOmm2c\n",
       "eCd/aD2vkjMeG0BF1JHPoLLpQhqCDXMWZtUjZPW6aVieJTgcC9XQ+khlxduFMGfzrf5fM6DwinF8\n",
       "0kN10X44TTbLnJsNYCHmbX01V4TaKNEFybXyKBjrUz546wEGbutYo3Z/VvPVXzfud1wPYk7Z5Vc6\n",
       "YUG7Ui2wWNqFS2vnbl6GsszTRs29Eub7cA5iY+Zw1W79g4I16ZvaAl4mdlnbI1pR7mPfk/iHyU24\n",
       "PRtDFNzZ7oyitofB4WQ0XGM5l6RzhJfMlWie6JLa5w6kS05TDLRrojebmIPgaao4tfrARkUJ25ji\n",
       "537/ofDFAMWdpRTkRSOfiHjm1CuwFrYi7EAVHh6FnILFbcm6gGLqIpO2faaHPe9qbHCp0+hFYD1x\n",
       "kr/1xyb0FJvNk5v/hhZiqDsV/YGlMY+O/ypb4XnpT7lWmhKPlGfBEw6hnFsS9yU1HQuW9+lybMLp\n",
       "Yk1ii6wYrff/9Z0jqoDx88Ji9/eDhwXsB/IBX58Xf1u0AXCRffi6QjB5e1NUh8T9jKHZTkNUwFdz\n",
       "8wvYIkuS/IT7xtRthR8v9iUdo374IjyswtekjD4lnatqNOd7bnFq7dmyJ8gcMt+lp6mTR8/XnUtD\n",
       "m1XICVBvJ+LEIkI+5ovCCuNbOAMv+L3dSBzzvDFtLul6LgI28JO7/CHyGxdaUVJ9/ENSNVhGBHw4\n",
       "c+W5fyekN9DG2vEIuRxKfK5CSaaex2Fqf4mNGMwTEv6K/vS3Ia68kC4afBc2bqkoPMISQgOkXR5j\n",
       "TK8UIbInHiaX2TyvWaQzLa3FhFu0xdtH5Qsu0MXzzfRTN5KCbqKa0Lt0hNFwvuz/iOlfwJLn1I6L\n",
       "5g0o7G0GXm+FcESzxP6sgcPPPwCNaYP6maDON6HZrXb0EkNyShxHBPf1PqaCgeLKKaeeRfB4JqSo\n",
       "n3I4C8u37qZ9/gb9tiaIatgYaZ91ER6bFzBaeAey8iBAZcWhbIkkXqoi4d8M+DHGqztDl6nIlCig\n",
       "87GtAL3hQS7IKaCrwLWX7rZnaAluA1LylrK93kdumL5Wfjxp6yEhUFkQi5MwplcOrjRBl+fo+BMe\n",
       "0nIakJvexkArwyWqCd2nX5CFCZmovFrt1DbgIXBOVgfIjQQ/YELAqGhIn+rOcNTUmXZtJhNxhMX4\n",
       "RYm93sl9CkhlFF/8h1znkrRdQt5Zj3ssKWeW41IWO1gNVm7IoKmOnxqCAD9JnEYnGjIPa6KY+vy5\n",
       "TW15QVn7gCn1o6JZ0oh36+KLl/vdOEPwHqIEIu87oGdyUaHJd6WCkC+YrE68vybd+tNNnsJXQTi6\n",
       "js5C6nnWFAAr0tfjWBjnTVK4VXk4ZKE1U3iFJxwHviWUIz/xVcyFlz8q/0Ao+8fcQueXjsgDyhNX\n",
       "26s9lcIA6BE7Iie9GDdtullQBWnk7zuNGbwi9ECegP57CNSxI8tfK4GLZpOOJzsJxpYQFvq222Xk\n",
       "HJAkCXNosvzjtbROKTDx8rXBQsGN+dRjO14eDJPVIEaH16GvWp+MGKckGZ6mnUJ58JQteQ/VuB26\n",
       "6rftf0hPhrQT5nqIUwTA+5ZPS+gei5Ptxn9MEqO0sp1DdYC6N4oNnoB6Ntd/LNedHTB4hHaEMmTs\n",
       "Dsq7hZ5m8nNzqEjaYrfUxovBbbyzRNPiihl10xHT4ZHmqB1hTr3qE9SjxNAM8NLa69o+VZvwnuF/\n",
       "GfD8v4xbHhUHcDzE3eqP5HllDzFv86syE5OP5bvGZpHuG+i5qzx66hGmC1GD3VHzMx+WzcIP4R8s\n",
       "nvzB2s/9d7PGErPCpb+nTCUXW381P1R+M8pyyMo/LFriEFGuvnb7CP5Q9a5BmV5oRAdkhyUjM9F6\n",
       "7UOvmB3+ZDp1t+AqnhaXOKMFQcWvGbkPm8wYGGYbDFL4fcyi1mSL935INlYpxA5iEH8g6zFG0uME\n",
       "lY60+FKpzOZU7qP2pqSuu8ao3Urg2y3VEeA7LiNexHCDQjls7pU0bThTt0Q6IYsRi1DFInH45XhQ\n",
       "JMAZ3UqnvALopI031L2CeiaaU0EUAOWW9+N7ncg7IXQrnDok7IwuQMsh/ge+MjikaFp61WcK7cAP\n",
       "Lf1KqRVcLwX5nuCQV54+WzQJIA1zxyUtomYvwdFQtF22Dk/feXCzGWZzJM5YH/T1k5l3SF46fDOg\n",
       "W37FWsiyv/OFUUAD/mqBzDc32FQ7UAtBa2crB9stetYXMXhjdVhayJOI6ewRd9GNcg5nHM4ElA6r\n",
       "ey1ziK1Lpaf636XZ1hlWZF4vaJAjWnUovTwYsEDVIQVdbz2nLvJE3iwGF8uIwl8xdpJypzwfjatw\n",
       "7AwwvzqPy68WAabKjY6Wo/b8HD7jAgS6VCPY+AfYKtNQPGgSxpSpMU02qpg8kwocmpwD0Yes4Zb1\n",
       "cBrOWKaJ3DImJBFeWJuj+AI8za5Io/gcWf0St2IEejEA09+jtvgxCIPHZtLaiHxpKK+mVouoJIwH\n",
       "8KMyJXAGkwMLZQssQpQwUdUsfJYMHB5O9vuuZIbfojoepQYMqAOb3mKa5xc3TQpTEW6fQVor4Q1L\n",
       "kcqIqypU1oeSW5/5volGIqGJmTWJt0wFPx6Ib87v1yyB0g5GWjnMXiKQ5Kv62EpcgV71PdaWH3UV\n",
       "6xUT+er1x5H5Oi71cmDreZ/xpVpZjycDHt+81A9/fACN3VXy2R8FUmVQy8bcfHtofPnZbufZBZbz\n",
       "2AXteXVf4ae/5wTyOEpUEy8JPI90Bj7X1+LLkxpUSqDfWAbs6G1k70eD3paj51iCRKsuY9LovCeM\n",
       "CRaMCk4mUc23h3kcz3/ZTPzWnGYvZ9My3H4rd+mvZrBpv2boFb05hmVs4miaUiS2HIRCCwmBcK5X\n",
       "S82SU1noVhX8sLPdmX9AU74povBaksJ0CAz9a7VBdpBixwvZnhvQ0CkKZj9t3GoavtFaKE397CLg\n",
       "E5VAmyOV/muQ19JqmUoTVpLIvaVpe/8KRrq2D4hDXNtq939m5uI8rCf0CJDO4/wTmdhO0zIEMv/i\n",
       "TiMpMe+nwLEJoW13SkynP9Bwq2OGBwe7lujXuzkTPVm2ynAlc0MMf0upnxL/FuVI/TFJzVqKS06m\n",
       "Q8WiN84CIZlIZMqJ1yW4U5HV4YsOTFqmmerPASuGfmQZfK4kyRxg3hFv5PftgJuV7QiaeGpRHUYy\n",
       "0azI58sqfXkc0yLQw0okAokXRUNNNC6B2TNGOXInUCYyKZHz4g0+lwS5n9HxXCJDs+wBuLXRzZPf\n",
       "409vAWPwYkNjFkZWmngk+OLr1w+l5Kv2ZbOT1Lb+6dwdiZuy4ylCOMuzwa+KReiR4d5nP1OxF8DH\n",
       "4IR+w+0JctSdGqQeD38+Q1p7I5UVoK66pFgbjwOcGVJfrqCOSaQnSvDKlSbnWklOGgcsRzYFU2oQ\n",
       "QQrCh20knGeHEEv0Zh3+uF/iTg09H2Adw/W4V1PBQuuon2do3xsvw24czMMVKj40bnlqqP851Sw8\n",
       "2J31nzUk1E+04Qe6D59s1oYzeKdzVlEi80O1zjNW6rFPylTcgYZK27lDzKGbXSugIlvZpVXCHYIm\n",
       "3bTvF21QQCzZAXL6uPw1GRSZvUEitr1h5ehj26o/brmhT1eBU1j7A7JFf/8vH1QeQk9deXP70wEO\n",
       "m3sSyoAvfIY+hcgTmdtQul3A2wnWWv5DfdnBj2HM+Ky8KX5Ex0xONAXtSFW3LlyBPEc9AIOgFyfm\n",
       "A7RAs0nJr711PPnpwrwDdenrJMoPBEjN8j3aCoMNbYKnHnQkiYmK1gRPMcT+KaOWM0yAYJygJ7Y9\n",
       "UG7Gjj8SDmhiJHv26EY7ept8Sqbb4DsPJ5e3xKy66RYklZhi4EmaE0s5BgHJFlKvK8YsV7DHNXrh\n",
       "n/jbVnwIgVSDSGG+zhNvIppa48kbAKvMU5fc+Ym5oyTJibMc6it1qSo7KfQCnP4Rw6P7rtn+Y4L1\n",
       "+0o2Vi1nFHBU2J3RNMGLktE4evbMAthZz7e8Ty3VnsJNTTLGOTn643XAc0OMfgYt4jtCXGVYBlbW\n",
       "I1vhURYFA119dc0q4lS+03yhhcviNjelsGpBIE8WQXtCrAoq1txyFxxVMQsXqT8qQj+ealMp98aJ\n",
       "OkHgLZjiTXILOHhwSsu6bCBVObyhZUj2IwAA5r3swoWa/OZNUi9WayE4NNtn/s4OqzxFKI6fI6Yh\n",
       "w564dD4a0KkOeuQHSneLLNuy39ceeFKsrT7LiHPUgbUSeYngftJj4EaAPey48HUI1fneOd9Hi72M\n",
       "QwPJc9MCovfmC3trscpMbIwLE9V/VpdMD1LRH+Dn5jkTnGTuWBn8b/COZhdRNFECpw1D4lXrYbdL\n",
       "vde/v2Jbyq/c1DHMJnWh3D5iO1FoCUv+3VeGpRGY/57wmh4QfT7rvxGSeIoxGqGDgiRsgU5aWH37\n",
       "2niFGN5lZ7pNInS4ajeQLBX8vzNrhSk3D6Nzdc8Ln5wCOIg591KzcZVsGDTkgnxUhCDwUmkpV8v7\n",
       "FdAs5rvJxZpz1K85Z2ITy6XZLqZtvC3HX3rZ7s4J4HsbtuJsDkz1Fr0w5E/M95pQAoBmoBYw0VBn\n",
       "UfRq1UDvbIoF4Og8RoeAen1PJUCjMPyK9ShC7n0jhoQ0uu+4xNrtcILRQfXE086DcupGNfi/iaYq\n",
       "cjsgIFuUg4DDuiheR9npV0PCjOuyYgZCvUU4h0l8lYgXqh4Pxxhn1KKKeuez2iZyrQ1J6d2CsqEQ\n",
       "OwCW+IUfslCDiLRMFyMXZZlwn93ZxqtSNOyWHsLwEXFxzrNpIeIk7wJZ+x32070QnlscCxR3DWO0\n",
       "oJcWfyAKnFTGmBpJMXNP38ZANw+pyoupNtWi3Ic1X/bvQetjyWuFqHTyjWwqIMETfm78r9SKupgK\n",
       "RUWjbmk94av+aYLwyVxrjuWlg0AAPe0Mwv5US2tvXriGl7E0Udw5kCOf3A6EozQHkw39+3lkkTqb\n",
       "OAj7O9UOy1FELlqZDXO5eINXRqdJoiJUYY0eySKjJ39BtQCpT//mDKe2GGCCeDNDLgb/VijBvem6\n",
       "NtGqcF22PRGt6Pg6+57I/LeU2jlk98wW6e5EmmuetSt08aAoRZsoHz6z/EJYiPZeBk99E+mXdT1N\n",
       "arP2r0xczhN8FPPslADWHhYiUvkfz63LqhaqEW5XAXktzlCa5CX+RMQA6ektVtfalSHLEf+Cu0mG\n",
       "P8yoBXnaqa2GitKBwcLujZCUGiWLxYELappa4nVfuD6reh2DPlxi0W8LuKughR/6hUviNSyKwUiw\n",
       "UfEC22lo0ZqiIcKGKb+VQjeU3yniMt0dz5hM5J1T95gBTX2mOE7mufrSKThkDLLUWU416t2/AGpn\n",
       "g1QUjjAC8vtm0p4PlqpQ/3CnkTJfAXNV/9rPX3BO2khkefAAWp0aIrhflXs9d2NqNwaKREVx8vnP\n",
       "eDxWZO6JhJW2TIfF8rNAWzw+Tebm1B7ux91LEFc6jo4liukW39Y8pX0VQ2hVA4jQ++IruRpa3mzH\n",
       "/tRbme480GiP3cFGGv4HbY4Arp01TRnxbCKKUKcbdFQyzs6sAA0K/lDbd+vycxFgBKow4OEPFu8a\n",
       "xnZS8hCkgYSpExJ2Z9x6jtBFN2SGBWH7SoLXx85s2R7zK8/gnzUYznYf5JlUJ8J3Lo56NlUcAHAy\n",
       "7nhoafOVNKuL7fvJAcs41SIQsEjhyn0U6vE09jyb1wORdry/Wk/OVLpGwkvcZopjVTfZxaeuYfWV\n",
       "sjyT6bxGrcm9rPK7+2jMMjjfDpKDgADA/wXzcbS31yWLzdy/8Fs4M2VKTB49R1TS1hn+1M61EVWX\n",
       "x7sspDZnaiuDVh5BAV8Atoxc/291Xau9z7BEAdSQ2o5oSNDmF939VpyX539lJmIWsZN2J4Wjv7od\n",
       "yjFglwqBk0mRE2sMw8gBabv9unzzIZtBooaE4ZrL2YDnF1YYcBhCq0m3fB9AmTWoXUBI1Kua2PDi\n",
       "qfscZ0Ev4Uwg7KdZSWpGQrIX0nbxseByi9U+JdgyVpjsqfaZGJu1lXCCV1w4WVow6jX+fIBAZjnG\n",
       "77k23vh1xjcAmi1b1ZqSCBuNGvc+YZgqRrIA2xPsJBdymHuCI8KxOcWXMPXaV2F5fUi1qpCcNjkW\n",
       "E/ySpQW+VgrfzR27Sh7JkYdZKT4VGAjD3C2+81yjByYKHqhxytZlGwYbioiMcg1yZ87m51HLJOZE\n",
       "bA6zi72rMWW41wioL0hmYiNSPgbDGlGbW9dFaeG1ccq7tV3So5souB8iXP6X7G/TFi/9p9nlKaLV\n",
       "vVkCBmsVIc/Vr4wr0qhEEbA8ZVkFqBQ43YipeZVzqeUNFikj1bykJKWc6IiuBkKvXQxnll3LLJc+\n",
       "fyPrfGiQN8x4DKScA+gB2qEP9TljntsiurllsTZaDjWQQKuP3V1Ongm37cMEFBGxtFLibtOYgt/M\n",
       "trUPKxrftLGh11sudJSPTGR4LEysaPFWeFAfehUaZaxibXgLTMLtGssqMeB+2xGlprXRJVRYA5Oh\n",
       "dMsmf4odPiuWoctlLV4TsVADnvPUXLV8QlrzsKBkSTTx5tJ/k6H9ig83RpfN/xg8fLqP/7sXkNvx\n",
       "zxfHKdlMMsYh/4nNpKxvqhuS86VCfilbiI2a8m0HM4wiLmXhZDE3SRYdwskcbkKL6zKJD4bCZ5HJ\n",
       "FavnbX566mIEihmGlwPTulGKDNfenokQPzAyzmSyRSgNgjY+oppxjp6UwzVhtziRcVrQk5SL6Nr1\n",
       "lWxRAWjyfnXa2HdhGRwyuklNTy53zrPtwzsOqZLv7Z+JHeAYwOhmiFZCcDVTqgZYwE5KrELeg+uO\n",
       "Mj5zchyUjOcCiCQilulk3ZYmRW9VNCqGRXmcGY7u7KKBZo760YE7alr2U1x371NiuTUCbovkgO8I\n",
       "Q5dzeUVyoXmo5+aNosYH78vymSoUEgd1QLOcAxjLIV0yg5cM24m/Us3N63b+95tW/PC8w0QAA3WU\n",
       "JqDIK+EAAAJPQZokbEFP/taMsH6jUABuN184YPBssJrEFseTcsLjy1/W8Z5K78+e3QY4NQMitznM\n",
       "wvbS98GfgA1l2bVQ6eKRXjbdQpbHTeoYt1sF7e0ik4TSSeK1x5JsYpApj0jIN78CNQkYIeov0KKU\n",
       "K+3mNC/jE+syf02kHEeWMc4FM+bF/ZxpfU/LQynTGmcUu5+Pf1wv/UQPur3bS5hLIx2AC0+ufLKU\n",
       "J4ugMf6Phdw0QakaM/NtC0xghFOFeMPj+phRUZiKbcCLKygrFUwGGkZHCbM9So/rjhmt7+jC3P02\n",
       "WsS+ogCjHgEYmBCEnOgIkYqnuV/LqOj4aV8I9UdAbxyGMGfY2it8ReYDifXGtJOck8Z6PT/DcClb\n",
       "ZWZqS4/o5GiATU7BfFdebl3YTtNP/xfJwhACJCXJePDwloq9NHQBZo5s/YE4aIeGoktRXYOqhVX8\n",
       "7INLlVXpD4Go91zl7OL18pm0Y1oCnHTtAYuJ2VO25uYm4ByQVJQlJM8U72CTzrhYnCIDqUKeEoxE\n",
       "ls+Cx2mjkrIFUXMIUu4V4ig5iXPE+u++ADKnT+g1JYQ2llrHC5myKZw7Pr8ai6D7NVal4Z7YNfbI\n",
       "H5+VD6gCwwksHUBIADhuZP9L3Acl0evgaXXfClbOkQHUPMYnihPBA78HBjHD35VK+OT1ov8iFN/C\n",
       "FLtR5XMmU9WvQZHkIN3HQYb7AuRn004u5omuGRFJP1awi1yVr+PbE64rpFWkTV//4ywlZsMRHbRs\n",
       "a3mymOS21IlK5ELBGeCTyYQPRWVHXesowFGHtM/IAAAAMUGeQniCHwBjA7Unlx2GVPBikSJuMvj4\n",
       "QfR6jnxkY0lmwvkVhRx24AKhdp6Al9uhgakAAAAnAZ5hdEP/AMkpJjPQsHpXoPVnhIk5yD7HwwcV\n",
       "nzwCAvtymePjAA6YAAAAFAGeY2pD/wANfmcvzFv7Lq/Sx3ZVAAAHQUGaaEmoQWiZTAgn//61KoEB\n",
       "73SASLkhlEnhunjPVr74lYKcntUxfju5kCi4KkeKUIuk/oqepqdSGrr80KJ0sYq3T20ynr77CkLp\n",
       "/2qUJ5xh9Eub8m+NDXKzKRiMA9zdsyBDYa0GqF1rCsJYycVKFzq5qLf23YhxxKpJKBJf4Z0HtlCw\n",
       "7fUytNCmRLKbmPj+aAFZHAmUxX7byk4xpu5Pd3fEWtVgSnDnwBn7lkL1849GXLB50w/C3Xk23vdp\n",
       "94E0gZaBO789LsOOqUJDEdE8yjy5sNu8srhjO82esAaYzVvjk2zTWmH9i5HHQ+no7lszTMYxl0ru\n",
       "0G75F+hUfeUSg8HbDMjSr9sMCr+9fSStpQx9hFafDgMyEH0vTicXzAE+D+Nc6HPb2y6rrjBbmwKH\n",
       "9ugOYC2OTuujR6q7uZKaFLAfRL+SQkqZU0rOXDxW2ftBJYNAUf8GPh68GBdSB4ngPWpuW/mILRsv\n",
       "nz1FWieCGAUWH7HUhq5bbFbKez6eFOwGw7JRFnum+eNw9VD24lpzJSbI9a3UWXCEE9Ec1v+8/7hb\n",
       "gk42rMdkxSu+b4qnPTQlnQTXFuO8KSNYyI5Sp5kvPjC9ALUQCP2D6hnDJ99LrsLQCB2kN3ugKIRb\n",
       "0gEHR7t8jZJP2v6N4RHzrLoWC5MkZgaywBWMUdzZrsLaIsXW5Xoq2yxITEEhe137iP/9w/fXybho\n",
       "pD9nmijjkIzzbo2JUzDwLxSBm6N/iWP64I/HIWaflgCyqyNFwqth6165b+h+ylEkF15NP/dU3UsL\n",
       "D9lEYBWlEsFrJ+NHPq4VGS3YrTN+StGoLQP3qXFpah4LN2eZy2jIkFXhQgzcIPR/Dwd9+/CKXEw0\n",
       "bIR7JUYLeFKiRHSFynj1VXj4ovN8QUQvVveaZwrblzYxTCrJtT6qMuDBGvVWLSCDPbtnRK8Uos4L\n",
       "F/W5HxwszgS/BVE9rSaGFV2B7uMZbOTUoJwGRxsJNOLIaZtXGVUuUaJmxhKOciHTF8QX5WLcYr+e\n",
       "5kqL8JDAafbHK4P0FMmCZOQ9TBNJMLvP778ZdFpIzmGNwQGd4F7s6kx6NBh8edBSCi1KICP51G1o\n",
       "w5EWzXJoFtmmJCDcLSI5pYT25BVD4T+HvicEAKC652nMwqTVqbQ94ClbzPGvuGq5KmByIFUz2R1s\n",
       "bABCWcwzPLIdc2VdRYZHsOIQKILmGXWAIaL9tKFrSKP9w8gt/AFcEUxXdCukKX+gjd4de9N5YbkS\n",
       "tXRAYQ6KlXd+XQ86lmEvsYSKmdEmxZZFtnCYe3SVZo/P3k2iafAlx6h49MPeJWBpzUsQzw05N4ag\n",
       "Jo3/y2hiTQpzEyDN5Sa/K6yfcm6SGmCvx49i41LCMmxQPHAjXQOlBr8SZOC+/2M73TJSRAFqyl9h\n",
       "wV1cnUbAFKnjOkTaq9D9WYJk76Qo43U4O3RNEPOSlZEHKjslzJlC73BNeUR5/FOqe5/2tFBYCew3\n",
       "FAlWlIbVeMkr0XViAntR2mXcRaFO9PGX+VUOuGOHm43AWQv+07GCcZoHK9c5Ew6zdEPQ+5q/FQPs\n",
       "FHxz28/3ezNVy32k4/60HEjpHXO6ksnaK3iZ5VQiEXX3qIJFKMGuWyMNRR3RGR+jIEJjbcNKr8IM\n",
       "OsZHGomemsp+HDVqV7YUqZyb9Cu5+umflAUiA1wFAMrhs6J2Qp0gD+6OsYiHQDY96OUf7pw0kmsc\n",
       "XedeaJvxGkX6rsck6KtHqmCs8GbdGv9RcTLh8j+2RX5u417hoehySmfMPHUd1KnURExM0Re9F2Vn\n",
       "W0dkl3BLjsWuyRh6NB3UI+nuM+dED5qoHJfAiw9Lbyhhyrk1HG244vgCPXZPxR0a7m9ArBkOgc4P\n",
       "H0ivX6X8/n2dm2p9M2kyaOS07KgC5IJN0dJO5p2l2NVhEfDDsQgV/fxJYqO01tSGGpC4oJ60x02n\n",
       "o6In2bvce317PPaL9ouM916XswR2PakQk4aEMysBGmKv8vOKRHGJKkVSgc5cCfshMN1+P+liYp99\n",
       "nl2HUIlMjL3vl/G8XJ8aDnIjzYDInQNofcwleaFhMvYCexDIdG6p3Mq/Dn/4VFRqjcD7MIbhs9SK\n",
       "w3VSbvGgeSEoBL3XfjEAXYhId5AKIUb0b3iOgE7TWhdcUUop8KTtnlOQfvE/ufA8p7CFC84rnEFo\n",
       "vzUr2ChYc1gqFFZ0foR6zbi37209/BZDfKhHKchmgmnRfbDouqum2SFLRU4j8d5P8Hfc6xRKppcH\n",
       "/QEsjoEtDzhO7+AGYd6DowBXQCLB8eb0JS9C/5BqKS10cphV0khzJOZkZjpIWTRruADakZaGebYz\n",
       "Ph15xFWrLmTykI/iNfysOaJIh80nR2TMEHRY6cOP185FVIVRJil6U2bAkjscxZ2QDlGhzam2zLPR\n",
       "s9II0Y0Kfxf+BhjM6IdSUXBmmT/VAEZPWEWGTBeCYnYt+ndyyXcTeOyB+b7v2NNurrsvPKlAlMjI\n",
       "nEtZST+TzdoZ3UWjmbqG8wAAAGRBnoZFESwQ/wAuPbC0el9cMzH6T1eDqJJ9IhCADk0boiyjLidk\n",
       "BTv/HLHEu38+cLlV9atIA4+4sZoyithYwPx0thcBMAVbIYIsmK9rOJojlVZYWHjKtTXQVb6r0KlF\n",
       "i5VgKED/AAABIQGepXRD/wAirr6NwwNzZT6lyXbwWnxVHCMaAFyD+s1f3ymkNfUI4QG+rcV9wkE8\n",
       "hA+yD//aR77oKEQqpXHiz9zuV10lI0LC9CicMrEGJvAiwvP5TQ7abwRgBByZh7X7elE05ObwHYZE\n",
       "7vEVT8t3M+3r+0bvYa60Hnylr0wckCEQ3zO3GUROjYR17q7MpnUxGtNzaBHmPQHBa6Y/JCq+/34X\n",
       "LfGlTzj/whXo8DiZIWxBaQ54qpA4cuRTS/T/4AISl7RU5Qux6ZsdOUR2L/689pUvZ94fdQP6ZAzo\n",
       "fWb3oz7JK+yJ0RCeiY1qF9uRX91ZhWNPc5GxgjcRQXeL9syP/SgsJ3XQa5SF9FFa/yfVWJIF4Bko\n",
       "vQ+RXLNXQ/NLLrgAKSEAAAAXAZ6nakP/AABHYNZK/zC8Vu4T4yOAXikAAAE4QZqsSahBbJlMCCf/\n",
       "/rUqgBlGi3AA2xIU8oEpdgx+AZh7g8dwSOB/+P7MFTJ7zn9hl5iVlllKhY47WkG5TEk2g3dgZAqA\n",
       "B3GyOe/N4dpPxqPC36zUJ8SV1jpfKaAe253xfqd22R/uaDedPtCpW9LvKlba3usyauVRt+TuvjZY\n",
       "MSubRv4Deg79J31a3AjdPbMAq2HQa9F9/OP85VgkzX7y+PYOF0jDzrYWOhmol1tko5o9XUIXIFXB\n",
       "A349vh1Yr7GgV60jBP/JaYFk05uRpgib0x1efpCEyuaWA8T2T4l3rI5Sc3rYMiBptblD5GwaWQd5\n",
       "aX2Fh/3AabppyMU6mlrYyRaLbdQBXk1SR2JqzVXHveRjERCGHgqtNIkbrw9ohcmB6x9+KhxS7Gyo\n",
       "Q733uCblLC/CXx0R5bKCAAAAJEGeykUVLBD/AC49sK8wO0HSt8NngGiPi9AlkmnQ0bjEJv/heQAA\n",
       "ABcBnul0Q/8AAM3dJzDbiur21M4hoIXlbAAAABQBnutqQ/8AAB+8Jdwo3ezwJsppFwAADo9Bmu9J\n",
       "qEFsmUwIKf/+1oywIL+EAAFyp4O7uCAtlu2Jtqp4v4DBPIjHYaOv5f/C/Ag2//m2QYTAEHRMvqQO\n",
       "cplOLTudB3QtS4wvDOlk3yP/ewklHmU8z/5HjJLOD6nT8h/Xt7vVOp1+q1u7kC1WScuxHyG826cW\n",
       "EOl05xBwc99SPLr+km2IjgOIgyf9ubDqkL/hIPmcCg+HtdgMGJ3CBvwnsE6jZvgi2WM1S73lOihp\n",
       "iXXaps0QMQ921ZpyWaFHD+x2ZeRIvtp2hI7Vdj1sZF9EO7efPW1G93nLiK+xgPUtDOMl7GJaK/Oj\n",
       "beLEEbpwBTwQ2/vtfCZtEh5+zE2Igb70e+xVSIuBXzWTjeuSRKVw9qDylvkkPlGSKB0rd3KxxdMy\n",
       "aYyqor6+ZrvPfsfFNfvoVDc6UTD8z6FNb2wDGyjX3sbM6JjPJSp0VBc9A7FqmJsEyvzaWE6cpuwK\n",
       "dDni454R687qinOBT1tOUroquobf64NI/Z4bpwhAM99YeydZ6R5qAAen9AIg6JPq3sNSyb6XABwt\n",
       "y5y+uqPyvy3S7JxIH7rX7lK8nHOAvB+bU+k2mNYEoGeo7S0CRZKeZ1gbPKtrjqCRe7hqSrqPM/lc\n",
       "sEJnoofBGJeM+eIe5ZYeBDvg/IdjGt4qr/GwqTS+5JaPAh85Egnm+7J+8CnHf+7dPt8uwSl3Zhnf\n",
       "xHx2ggsoqWUHHJ7DI1BuQgW71GLWOejk1U/45LKh/acLnz14TeSJJ/rOFuio71iKR2/OpjxayQi4\n",
       "B+ENoO8flIvfPko/aIsarfXzdl7jQhsjT830D3kMFrKngj9ddZ5RWL2XN0ZZ95GshrVqvKAMKoT9\n",
       "fWUaNkgyn/rMm0ctdbU0fPk1IxJ0X63fQ8XrsHujPQfQaX6TUup0uRbPM8WM/iK9fO2cDOu0p/vJ\n",
       "AQPWzbNJcyf24rfjYgyv9SX+2EwIN3y6bAqclEWpRinjO+3k9iV40sJjkXTWAkeBu14y6pcYqJ0+\n",
       "WyUOvqfpsCVgofeoBrX+B0jXGSqpojt4FKvgthJV7PmFnSXjqvsOfS/loXA8qm+XUKJpRgxAlIWa\n",
       "ui7BjULXj0cdw7R2Ap6i8jDTITVEfqoJ3nOciZWR/vIg4s3lzxUnRF/dBqeMXS+bH6CvAeRCBS/E\n",
       "i45kIDT24kxbDDtiUZRC5RDHk4fCPHWFzsLUJva6DlgWhYW3eNwqQR5CpWi229/Ld5JCLGAJC/J2\n",
       "RM8JrLRanWQgvXJFNUfF1Q2nILMk5k567oRNYIlDwo6xFpMVrVXM1fHbf8oUggrYa8Gu77Wj++xB\n",
       "t3y0hYm0NqySPAg+yoPKHSXubGi6IvnI9bUtIN0q/hjES66FqC9JS4HyDHTgLZEbBUV7cgtYkKa2\n",
       "8L3MwWBKur3u44eglMYajzVLQIILpfAwn8W2lWFEmOnkFPP0J/Qk023hRvDYKNaSp2yN+WFC5VrA\n",
       "3hahFxGNjC+YySiTn56Ofr/A4lgLxPeE/r8gAUIk6IvpzY0cYFWIx948Oyf7vymDOvqsgmSe4AW3\n",
       "2t7MnUfXmExr1sBuMgkK3tqNe75vCZdPepPnSQdZzFio+JE7SeZv+Y0O0PtxNpSnCgt09qSSay4r\n",
       "d1Koj43hdLncSoYKxWoYQblmgx/XK1EFtTM5FZ0SSZE/MjLKUj8eFC5sm5q20Yqb+RHhmXjBxhmG\n",
       "WgewAq6FsDKru0rFL5K5crqUQWjA+3oKA76CBJmW0V1pyjXbc2FGz8c5QEhc3cK9F1zcOvU2CIgR\n",
       "E9B+Fvs/K0aaP09G2iWpu1/swe4a3KksGkzV5KzLw/vhfj3bIk3HPAQCaW37s8vbe4HU1U8GUu2u\n",
       "col/1boqX/+gUfW+Qikj8RefKnpI+ue2m1Qj1vOVXCsmD4/42LstpV1OvJcRFw3yBkTlZDcJRrex\n",
       "wk4OcfGW9Pr8FuNliTv703Vh5GQIBUDgPmh4ZmzrwNXtmY87vCSmnK9TN4lNiAVBXzBKPFrzFMZ4\n",
       "oGcbwcWojzveN5L2u2ud2B1P4G3VEEaaGRNEQN9el3+FYX6oEtHYi0vLBwATuuIY5JG+Qakuti0V\n",
       "J+DwQcOH68MhtRFAxknGC0UqqUFx7Eifzkpmu2/jnULPUeo6xvmkvQo/KcxYDzCYmVxaloD3pA03\n",
       "r9I82263SgTqBcTqmA0Or3UlcAqxK2O2PBp6nPb/0Z7BzEgrLNlgF9iACBVjftZA/8cw0Z2I+JRr\n",
       "AZ7U9Oqz6cSzzwepfxVt9OZD+9RTIMrunT3fp0Q8ZWXP2lqUNJA00F4gBp+n/enbuIUIKVP9+l4s\n",
       "DatJEyciBCidN9p9ijw9ko0kNUEThrq7VDlGS4JelOj0sNPgPa4+uOH5t1pA6UNle4YC6EmUnAhy\n",
       "FpAAN/li7DJ48w/wGk8JBaf/yg3PsEwbHF9iINuwBWszX95aAMsH092vOh+H67pjo6B/eKBZvYvI\n",
       "muj3k75jU0FaIF8TAnV2Av9TIdsLwAVQ2Otfy8qq0PqhZWydH6ZjERALIOX8RTHxC/Rq29p9Z9Pk\n",
       "1qsjWOZtcU0BRWjFWEBVLY/heZiE1F6whYq+Z6KfSSjvV69uJLzYcCvNlbQuJznwKqejTrVyIN4U\n",
       "zJVWN9WqgUVXnUwadqtN4hRWwFUXclFZcZ30JYY8ff+MZsu6tWXnCLSpcBRaH17Kq5N9DQpoVSLt\n",
       "9GouKp2fTj1pr7EH4gBQW+ugPpqJZPznMGq0fhY5exG6pwjcdkHowuxQec3G2abh9mTyNjljIr0S\n",
       "PPkEuKKpLmUTQu/lQrCSxXMcK6zYxg3U9EfBS78n5iQ0ymSEpsQa5a+n0LxsdbuHSdbIkAzZ/Vhs\n",
       "g+097Yo6K7XCYtwtfzO5SVeGKoWeh+0VFhUwB7CBVtGvk2goF8m7+3ut2flKAsnOqR4x1YTDPOW9\n",
       "LNqESlBG7DzjEZm4v/0icp5vCy5Js+2Dme+x51PKiRXNntUpTf1zuCmHq9nwo0Yoxtit9ts8fIuv\n",
       "tcSUEa30qn8gfai7Ua1PDMLQ05wMhw2AjOPktApaKXrUV/299Rjvgl50mPvSNmn1xYzfmFRDmWkz\n",
       "1yX4yehAo4lV8Wt5lkLX/M+k67kT5/y9hJYw1dmS4OlO9lhBzsv3XAv9WqlKFfYAWk/NC4hTLaAM\n",
       "LP+oFuUlSNU0MD76OMa9LTrrMyNdQAHsL80JtGTW+PGt97v17N2AggkuH+nwxup1e9ge0cIa5WFr\n",
       "Pa2ok2McVEiLfd5MD7mmN99jqVgehQaL7qKWDkUaqg+OCAwMJMfME6csS1C7vekv8LwEy/UVqEe8\n",
       "tMeBuaSKFo8o/hHdbz1cNAimV1N4Ef32EDcYZMDQIJy+hBFON9YBxmUkMIc0xyT60pXwVNEPDo5S\n",
       "He9KYzTFjUIMs6wN4WoDElEPlTID4YMgv8aZMDJ6R7Ft611L/wzYtHb4wTYr7IVchqemgt86zreF\n",
       "wcVDBZ6JcurQOoYUm2g097ah9aG6ba0FXHa1t/zqBIfOWdcwYSr2ctB9jqPsFvfrNvuJhwXcKlrr\n",
       "rKcE5dBSb9DOFvfUs1CV/xAd9tqHIk026w7sOGGOZw9l8IaLoQG3zrJVwRpOZiHeJIUKoCGbz6BO\n",
       "0gOzSG0C5kthDavA/0xRTRh7RdiPe9jlg5/XxMSaG1cDesc1eVt3yb1P1sEI6iyNdZrovGhyrnzE\n",
       "SfSeRIqOmAFiL4pE01bTWw0S0QXzP4isu44XAJTzeyprZbVX167D3I9FgW/YejhDrt0845/hyCF+\n",
       "mpyjiZPjz6THEaCnH6ASGr4eLRyZVOC/ZQNGcbS3Fj6oELgt4Nsyl4n/EHkijxHscHftixbT/UN+\n",
       "4gq6AJUK8MwKwzqX3DTw6v5DN8YCndnuwBROKZeWw8+HIEIf1PlMD+YxeFY1XjcwZacNbBPVdhMI\n",
       "ZPDiho/9VLb78XkAPHjY1Nosji0eQGnzu6ixkuFABWyYrwRMBj0ySJ38wKAvJoTDk2tHf95ZDDaG\n",
       "RLWs5iYcLOUheFL9jBGEeGNME67ze9dzUxLJvak2oeNxYkSvucxLd8EiNOEtf3iOKIsfaSUnfnJn\n",
       "9pYQjCHTG/gawoFGeqgt03xStHv/+JjG98469tRploQnanjJkY+6zPpl4EU4zsgI2+f9o2OCfiB0\n",
       "w7JhYdK2iE/DlPSzEWObqlmSxrUWrvT0yRC8NjbQJ7u8Pju/JbGDZl8Kb+IVjXbi5V6th0mfOaQE\n",
       "sbCF3kEjEZdziRxK7J0wjYoIpQ6RsYkMOf/pzhEEm3SPtw6Ye0kR9MEdn/yOav3KROf1UTTD7DBx\n",
       "b4Agexoef7/9kZzm4PbJ6vAlAF8z02qaJozgUH51gZrBePhtPB9qI1FbJABkueHgmHM4lnFmnBSU\n",
       "9miSYPl2RnG0R9EPVxdEM9D7TDf1b3A6D+QK3xhbve4lKp+QF2mf/DXpjAYYcq3ocKg+VV59XYfJ\n",
       "euVehB5sbvIVQhETK1zW3vmxOoKvzeLU6uwbofXIn9rrjbQTUuQS645taxpvf519KD9zJbXg9gmM\n",
       "Ebt5LNUIBaZ9ef7G20FqYHPdg8xBYu2/aA3up+DpngM1EWlOHuzsyW/MF0gz8nojDwvccdpzRIwd\n",
       "l6ClzaetVkZmvm/hecikWpOnXRhPrBNlqmHDy+GGFkmNRS9O7Vmv8/4o3NAQls/AHuYFQZhpYygz\n",
       "qrjZMWMqBT13bFUUVaNS/quec7uV9sMd188fDgoRdZwqtEGzQ9FLeMeUja80C1eHClvWlI4lw6Pu\n",
       "K3/AjWEEhcGusQfWZM3vixeiTFflwHFOIL5ofooWWauCBI4+nhl9TrEYvrD9qfuba+5sFVprtbp8\n",
       "HkIicQO+DKtxX0n36aUAQj7yTlaI0ViZRi6PAT7Nk1gB1+9j9LKmuu9EBSfbnAS5AreksY4yUX/6\n",
       "NFbw2z1fT49PiR4bxtAFh3TnGhpEvmjyo1JZT6mPhGVZfjSSgzYjgFTT1FGoOZC7pq2AbN09/WXM\n",
       "v2emNQNp/6H/MaPpwUVq7dMxAAABe0GfDkIf/wB8+OagJ2/qW0u/8eGOXnKsmzfwbtT4DZIU8Bd6\n",
       "gBwkloGyQvs+vyjVqttReGT8B3g2JrrDL1kIL/pzjase7/q9veoLjQ0NbqKl6GCvnRA3Gy7AArZ4\n",
       "XDyiG/eAzKvMYpvtBVVukl8cTvE1ZfE/zRRtN9K1j5fKetwT8ZAFdjFkYk4ktEzZu6IB1PHspeGN\n",
       "tikcwyAxSqBMXolj4esXw81vtQnWsBp/8HaMJoQScvwh/Yz9u5ccItwdPmFn3WnXTfQ1aHnhHXZ1\n",
       "166FbbEe9HZJBJFk9G88yTX84jaJ3zRjqkB4BJjxtt1tScL5RfSME6PqbvhKLVFm8QGvp++DiKpr\n",
       "3CosM5kdSw0O/CBrwhfneZzbrPosDYrfXXblbDSjvtf1RWK7pkvt/9zH3N9l6zcO1/1yD9NpPAmP\n",
       "hDsd6qUFmsn86Oi48OgXd2wUoUOaY3axVRoJTTM7Pi3GH4OlfHnizVPjl92EEfKjeljRmXPMFRuR\n",
       "snEAAAArAZ8taRD/AASVckxnoUqrVRjVSwANAit8H9l1WeHs7ATMshvb2EfrDYRBLwAABnJBmzNJ\n",
       "qEFsmUwIJ//+tSqACpmN9QAZG5P0E+P0bPcGMZjbm3rDFOCOUvu6ia7pD/fmcbLmyXEnjxSalfvD\n",
       "nwn5VBXZ5ZcGzX4/W/XB+gxPm6DNahWtO7qdOZHUo7krVFvtbgkfmLIYexx+f6AWvj/zauIEGG9r\n",
       "CoX6ME/n+jygocmHAd7EOUPlqxB2OofMA/ErpuXqhMuBMOlNAAo3kd+S+JAm61C7tAeymk+XnK26\n",
       "vEZSkw75gzj1E/WgI/2S1LPW1uAFn+ECE1HbQukBM5Ph7fby8jOoCVUmXq7oC8R2kIOHJ8okvLGE\n",
       "dqEZH1IG6YtM7o9o+ZNXQAgGJd6Sux9wcaw9aCTj5DML6DxziGNR+jNc2u5x4Fc1+Hkr1VR37New\n",
       "0aQ+AU1KrAjcQSamiNe2M3l31NsxS0azHOmIn1ajNuTc3ifXtAprwPtDoeFqPP2TdWg0UQoDJtW4\n",
       "mJtQuzCIbRYWcYIk8Q1+k7qYY1nsWJqc3qOhsoURI0zs6QGDV+wNMJeZ7etctuCfUKD46+amDWGE\n",
       "Q1EuDXfSfF7AsnWpERq+Q/TZzfxW7fDknRdhxSOto+MISWqA2kbcuWmj3JToBQtX38JcIX6iA/52\n",
       "p60vA5GiI1N4zAI8UUxSsIWbXov/By5hwxRKKrecPBlHmLb4uoBl4T5TRaPWMU5Llkot1hafpGit\n",
       "KrG/hSf1t1l4d8RwkMwh/LrubBvKquvcf1VkbTuO65BdZCslABtuYGe4fAW1O8KZkWl43fDJb4Ip\n",
       "U3C2485cVL9we+kbGNkjKfQx4MQRDgM5A1Rr98A6AcKwrTY4S2PhU3s/OuLaxIn64cW2bqETUnd6\n",
       "WyX1ks+kKl8rc0nfVcpUMeXwVyiJqyz/ZCxcwxWu5b6eQENMQqwmQAG7EJC0QcChWxs0Jjcj89Zk\n",
       "CzpsMGrvUWfuNoH26cj+16WixKeAXNwkneQq7B40TqPUlkZJZ5TOqWBVXyZFvMNuIsj9v9FoJHeu\n",
       "Y7hBj1D01H1w0DUABVjxQVPaZ3cUiyVXkyD4+urjr+ZPzFvTHJ3nM0C4XUWuh0o8wj72MJVMB5z2\n",
       "I7R1qQL+8v3icewt7GreWKfH0uW68MxMefTuMNNGAmZy4Npu7+yHHuPbOb6ufvM59NYJWsFKpuNJ\n",
       "3rQmvXrY7+ByQp1A9tvLLFS8nBhfcXYbZhZuYNLrhVGoGZP3RfafUKc7C5hGtqoKOnD7E4D6RRrg\n",
       "7Eq0XZ3CIa5r9Ffw6HcuMWv+i2l0RI1SqXKatM5hU44M2b3FVVCxYPjxpXK0fhwTwLrRJQG3++it\n",
       "wz+FD/nCFq1pou3vKtX0SMWQQ6OONiEIHXtFqVf4EGAUMFf7urZJ5EdXgqFakIIXlcM4OSr81qSd\n",
       "ocUFPmUOCEMLzFy8CTjPUKMqLGGiAWb818lEh1oWpgG6iXUh/qsSxTGgrYlDIEjJyPFq48OhNHqf\n",
       "81c2XNz+5WCjrd6fvKdMVJ1+Lqz8Cmyqwb+U47TThzl5hRlG/5LcSeK6N3SpzfN2RngF6FsBylM6\n",
       "iAEhk6DT7iJ8LhAKMR8nAJ/wmTCrQngxGiOSQ56irHKt3hTlvrEgpb7X0v+XzbFaOSmT947lBW5P\n",
       "KBKcX0w1R/OY6LAInmwb21cBsgPNIz5palZz6ts1ewyc9UqlT0pl4oAnUKA+2mP7YJN8JWYweoXa\n",
       "k7+rh7HsCegv0pFRQabUoVLsohhaQ6BoRHEzkNySPkBIkbXmBEJWzCkzMz6vytspKh+O+pG7zjNA\n",
       "0L/lUcgYNCuhVxRRFlHiJ6xxvEAYyNLCRPtVgO+OqidE6U45DXoXXWYUz8hsDvZrr6Zk4Tis45Qb\n",
       "zYBwXrMyV9HozMp1fs2EB4rpGJd+fvK1UAmoEMLr3zxseuL5rk+gLW6WJZep+muZ21rsVM/l5ZbK\n",
       "jy7T3Ev+bT2AdiwctgIEepDdkHtK2Ou0WLq1mqgvkFC3gnfNm8vK6HweyEBfYOVcDjpus/vFO95s\n",
       "3Z6E9cKG1n8Ej0Ad/OWqkVFI8yxfGgqn2TNK1oNyMrIwLzr0COyf5eD1CzYCQM0tOCS8oTZtMMCx\n",
       "4k2j8yHtoIXc2b+Qlelg2zv0MbZJ+qpn4G+ejWLMdOi6Ae8MM4Ruxm37ZQXh6SII0tL6vwhrTlGL\n",
       "blWld886Tov+c85OIXWBmBhlXKj/2z2omURzA2cMJtthEgBrC+iCiN3BtNnMgPfHZG8AAABEQZ9R\n",
       "RREsEP8ALj2w2X4c12dZzw7B2ELX1QWZ+zECJFNEB6qk7Qs9TACFP4PeUWYmQB8nfz6j+7PDgj5O\n",
       "a/RLlorh92AAAAAeAZ9wdEP/ABz6+QpuMe2jdK+lpVDodbuKQit6zKUxAAAATwGfcmpD/wAHwwhP\n",
       "0G7ec4TfJeOgN/DBlAr62r8fAFb9HlfgAhSbZjGttB6P5nga+cZTXva6xrwqCOD6CFnunIPImSCi\n",
       "8AX+Kz/Lht6+GLAAAAQBQZt3SahBbJlMCCf//rUqgBS5ujyjSYAMxki1Icvvsnp3UdyLCPaXlkYE\n",
       "U12kE7rQO4tFwT4W7H7QgVebCJWnEEABRe7y7F6nZyYBSP44vCwl7MhYFbLjffTs1w0bM3GXHOUX\n",
       "cvaCAisL8CHxnlUtcdX9Cu1KbLmiJGosb334i8im9JdDRBmk/r4g+cdA6/zg51c3Xs7oQ3wJk4bw\n",
       "jeXOx+1cMUaARxNPXP5uONtgg8DEJajm2zrxfynQeOQEsQsfSYzujXT7c4mKQECy3/iVdEiRryw3\n",
       "PEZkI7xFgEhSbH7dkskjkN/SXqfPDB5ZkPao/AvL4JGT/91x1JD7Bim9dj1jT05VWwg0jmoOkpIt\n",
       "0OQP/zgaRWLqA9j/4o8OBIqnWHtCPIwEoZWLK9r0SsqHR52r6/mbXGiSv8QtfPUKP5k6m8soxzKs\n",
       "YVDtC6dCJVfQyMQfde+oe74DzFFMLBG2/UI8vn4cmJ3XAXAcPGLLtaOkl0ef7aY78Vwdw5Zxbjkt\n",
       "i3DnlsVLRY3243FfQNXuOVJetJ8DslYUdASuTxDnkfN7txVXbktIv578eufz+khRorvKzfhhP9Ni\n",
       "zAQjLY0iYSIVhr/a65uS1HAOf7WRNwaU2Pp9UcFVlMRsazSTqdZWmNA30zXEMd5PaMosFCpl6sjj\n",
       "DKsI+icvMwvYE/gQFfBPvuulsUn+vVwrXgfBtJARBzOBh0hRH9zyT0RCbKbkRAOlGJA3nvyD6TW2\n",
       "W8dpzPerWcYtIVle91zuOoYxFOMIWXzIOnhNmBYhYxljcInxZpOZZde6F8EVe8e9hQQK2fTG/eVs\n",
       "XxjOgjUXcxr9xHVQp548BCgFbK8fa/vWxALuuSesFMMwOn8wGEtZ2wDbymjkKPwtNBznk9MxPaEM\n",
       "6j8oNMY5EQzXaxHOfI7ePVEXKtVnWZRYTYA61cee+rv8//JryKXshPCXc6dTzI++I57oJ9LmhfQ4\n",
       "FB/zKfA9HvH4xZnv9WhpT0k7V2waN4CrN3YpGzZvtVeFeaOxFNj931R8Gosdnd6g242xDizdKmYj\n",
       "58bvCewMMBNnLBqlqDJ/LylJctqDWR4RXMI/3M0JjL70LVScwnZd5R3E8on0bQPrVu2be2DdHmzE\n",
       "JeLysfHSeDA0T0jXyhOe+DhDzd17kkTPC+x64CZwtagt6k6XJbOIn1C//3CIum1eb6C8Xh9v11pL\n",
       "beFE9EUl+Ao7bodmVya/sigoJiVfK0iZSDd9vEpzPyOzKW8a32O2PGUDNzRSjdLYQQuz4S9okP9i\n",
       "bv/DKS5S6nA9OlDIT5nBQiw8IpJuTdC4sS8lfY/sJPl/vryEquhIlCrvWABn8QyTdEKAf8xtGa+v\n",
       "tzOYfbJX5b6Ihuw9B6QAAAA/QZ+VRRUsEP8ALj2xIZfkV03CTerf/aWFQVQBH0e0gVAVkMBy/NIM\n",
       "FTJGRFTvHvr0+4h+89RqMq5TZYvvoNnxAAAAIwGftHRD/wA4X5mr/2FX08hNVShXIaULYQW1Mdfi\n",
       "9h++SA6oAAAAFQGftmpD/wAD4YQoSolewU0baKO1SQAAColBm7tJqEFsmUwIJ//+tSqBZvGMIAoD\n",
       "NzOzW4W7X3tVvW/bYU4j0WszRV27XqY69KdB5c1XRRlQU8N0cS2bs9T1zA7a1fOzHRA/BLVqD5EK\n",
       "h9QEtGiTtzPLWKiW9ytPf3l6O6alpgTxjTYxB/Pwi9/kaIgs510V8JcvLBnmmv0hcf0gH3Ru6QsH\n",
       "zO1VjqYf+BNnoHBXk8HWcREpYT04cQ5SB6fIjocYHKGmHzfll4bg912L0JfvXnN69y1tyO/83tUD\n",
       "a+BEHAFPycereJ54Rya4598ErI5hAL3mJYFbzq2hbagUQB7OQ6ykA3HQt4okYFh+1HCKtaCRT79Q\n",
       "tfr3eUqxeIt+Cb3UiSTZJGt475/deWME/J8f2WoeVoUADkwooK7K6+swsp2aq++Az6Q7nAOja7hr\n",
       "QZB1KG9ZFYvocrJ29RTkia/4saoIVSHhHV1Ys0/C217+HtxmyWUM0OOjiqdBdDyx3R2WJRLCfrYw\n",
       "ksh9sgJsZ1N3GYP8lIyKx74sHeOZ7W4y3yEalpS9MgkPcAA3/NF5fxlG88RBV0o1K89fRxZlr4OL\n",
       "pPtvSUJfmVqNaVgbyp9evcMqdaUR50FPKOsk9ECP+5AMSjDoENBfo1phWYibVgkLQRsiTHwrEdJv\n",
       "22+UHfQa4ziKc3NVUVkWs/tmdOVYtKcg8DA3Wf2pLJuWjIwwFRu3UctDiBxY87lTLkF3rkm6022R\n",
       "P1R1z2nLNVKzvKxpmljg8+aIPSkqLTY8EQD+03Div2OzevYqHKq79NMwZMYcDoZshUFppn+zW5dv\n",
       "LToXARsMNAIpQeXs/TVasD/ShSOJbwmi8noTeREf6nRISJ8rvA3+gJWSGboWNjVsfSR5f9jCjvC6\n",
       "9szx0xmd8QLo0DmgujNJBGPBvB3vSTKKR9TcSVEuF4YOeG8pBCb865tuiy/hF1PQhsZGueJ8WwXF\n",
       "8JptpsYEd4ojusfzUjl3cwbrA4U6aZMowpyoLun0epIMhbqQIk9oLaDrTw8wGdpHIc12cEPcvifn\n",
       "vtGafy6EHm7x2kKdMuDs9JWqwgB9BiBGcQe+lMkrIyhH/FiXC4s+CmxNmQwcWkOW0BP4jd4xYrem\n",
       "EylUFv477wMmKlaX3P1WtdbjI/S8gOE0eZpnco1mzDIWYWnJQW+QJIPVqaAqZOT5uYMkdA86pPVz\n",
       "vEbLpWpaPeVF0QmhNPIOq3b1Erfi6k9YhPypPJ9SE7HKcFe9qmZn4K8FjtWgdPFsDhcrn+zlupEg\n",
       "tctuwRmGJQgXSGC9jp4EUKbjPhyDcE+LTpkA4JTS32c2PIVvRB1BwGuLQl/lz3E5hRI+3Gdeulk1\n",
       "p6NmSd29i+HngrDG2/S/WucoPc2WESPtL/VLa/7/KLZduS+Z0NCA0jwyOYxFyZgCvIKDuiWsHWXh\n",
       "OsHxaqapEnz6/CqFm9zUsciHkkI/J4be9pVj7V8RnZU4AY7RMdDP6vhdUlqhUmlzlhMM/ccxAIhl\n",
       "d9FkezMW1F0h09emT/DJuhN/19QfQwiuDVfwdF+smclfyIDAsyvJpMp3B6+0NdQ8G2zb4jtzBfD3\n",
       "G2AzHyYSqsHVJp1c/jbeltksfp3ioeI6J9RP+FDVvT48rFIL1dWsXlwMz9mCtP5XohRBZNDy4C1k\n",
       "YF4OsUB1XA1ePe30440WnbDxnRcAs4DzKiAtmIBU1rkTiJfBxXrDUPdxluYlW1ZKqvvMdqDFuJGY\n",
       "mvhFrn79R3aJPxtX0gLgn28dx5VtF8F0MtYg8DeOPZWIHfATXrNXJYNL9teaavSQQctbDMbLiAeo\n",
       "gey1cWjKMV4GeApAFyVimuEqSLtxaclhOn5ghyjyXkPAYXyfPJHovKZRxya8amo4F2OKdSgrMVoJ\n",
       "TWQ7/6YvkqF97bYXC2l7L/WkcHqrrkLIjkzvwyxRM25jwkRMoeB2144bFmW4/hBT3ogSo2SMgZzP\n",
       "h2Q2BR/1j0cSJ17bzbyZETQ6ObsOV8nD+HI4wFPe2QbpoQt/IN+5B2SBKhhRUXIzvk5yTcvjlt+Q\n",
       "vOyGO/2WMrU5nNaZx7oT3kGQdZugKsUE35N64DRZHcS2r8GspKYMIN455lBlH6MqHsIJufiuJEH8\n",
       "8ogWB66d9JupwbLrRtM9WamlsG2DJZChhlY+lzFs1gYAJy2eErMEhBlD82u6nAdTQnO2KMxHOgxV\n",
       "4QMfrYiCRHv4m6grZEGBx0qYChhusMNUQg4QEsb1gyDbTkCHRnyXuW5dG0EXMn9WrEpg6///CyeI\n",
       "LOMBxgM/P83ZhZh1enTt6WXGJ8FT75N+aW+Z2XOENxEM3hfvzoxl5YxnDtZzcEAbQS+AdTo99VNi\n",
       "EJ5M2ITqzJsOZvK70NCb8rTxyT/gtejioxw+3RqNM+HUegDLqqJAi3PiNWF+Ng2dCrNjbzqfCYZ1\n",
       "9R2CR8nzxLeE+FVlzqSNOgdMT+7lUmzAjvxeosPmqzwM+X1GokFE+f7aVdqvq7YaF3PUgd1RL+PH\n",
       "gnzdUvYtIRzpMSgZ9+1+phwFR/0PgbuvWs+UxDMfiF19aa5CAyitm3wmK9ova5hP4DkoI4iNSi0j\n",
       "zlSRcz/b33dvNGaDyE5xd6MYKRiO/PrXm0k27XU9P0W14GpB5IvfjlVsydphjDvp40AN3vNr6MaU\n",
       "Ba+dmTbHSEoG1S0HPKTCp6QuLfQHjLkcZPcFh8+L8RJZIJjIA4PR+4eaekZqD7McGaPReRJTL707\n",
       "qUoWO2KhsARWMpy+gFhNbo9OOvs1zvbLhZ3uT9Ic7ZYvCvMoeX+8eL/xgbM+PynGM885jt+f74T2\n",
       "XtaJtvlKI+DQzoYi1NLPzLREVdOuusW3qvzWkzUM0QbpeWzRNTnLSytHKzMOrgRmiat1kgc3Z1Gq\n",
       "9Xpu/+Wl1OvTn8Sb4dsQT/SC9E6f3H025V6yqDMgrl7CyYN1vhWZGXc18ktngLaXnXaUf8x0jUm+\n",
       "lsrOIsVBJKXLHj4Cqi9wD7kBORNMgfghOlhkGXDqIse5DQX9zfCTHeGN603/tTVZ6zj6dXshuGLk\n",
       "WKsyab7W4hCvORThDIwpUK31gI4HSLDqAPgef1nKr1YVIEyJP5EFkiyLwPKl60WY7nlTDSlK5qI5\n",
       "xKXPOcju4/aquywBNgQHYsrXTlS7SNCcxFvsGlXW2AHA13ZtCKC8jaJ9KjfmtgD3sRuKrxNjSxF0\n",
       "zBLHzw5Dx9pQMIAb23+3LfwHlRVka3nocbDBWIOEV+DWPs8ZWxZQCvXUD97+L1TLHvJ/2jjMo7wy\n",
       "8Yj3oUXjO9JAPpRuqLtQ/F6ybYfnHhF8RTdeI8S9n8Hy7KQyhvAml7eT6e0ii1s4eRFuD3+/ju6A\n",
       "fqZVkjgBYIbaQ1NiVJiea86pVcVP3JVNqds5hr4vr3vP6oEQ4VhNnJM+ngH+JlTjRtZ/8kXKqzgG\n",
       "HngyhHAE/ErU4WTG1lkGa6gYBlUCzoYjiEsliNG1uCwUyOd92/0NwDlc13CX+ufU9IemyaU6a9UK\n",
       "A3MHA/KKiuSMqOdCJ8rRVc/ZtCn5SVH0MPdUhBO2c0SGKO0cn1Mskbho4lP86uTfx8SitXxuFLjq\n",
       "edh28Ifz4rENLQ2ZegslP2/fGDjqOs+gN02Mfg/93A1MvwTY4hcwlto313JU+otBWTLZCTkAAABa\n",
       "QZ/ZRRUsEP8AXEp2Y+RJBuSUNa4XMjvf0cAKhd3WJqpC5PAYjbBRvwRgfaepr8ydj8StHqhF3faJ\n",
       "AGCzZJft8w22kunMpBgBBnzwl3T+UDTKCXgEA5WpQxUsAAAAJgGf+HRD/wC9L2Yz0KVV+xRzt7G8\n",
       "6lzFHiLilFVCOgQ8XXUQkCphAAAAZAGf+mpD/wAjsG5JGsvUtsnrWFW0JUXCuAFtHmWfirur+znu\n",
       "O3dbLbXCaXcCL/8HaXNVP1cZrPIcpwL/+/6eiOHFSNPL9Lh9Xmj0TofDfwzEbu6k9s/wQtkP/XIv\n",
       "KNjFhaM1Uh4AAAqpQZv+SahBbJlMCCf//rUqgFu45BP0QB0tqpwGZmcSdYCScTyJMJgInyLzfyVk\n",
       "SfZCX7el66M6n1QrqyV/YAMd7R9LAgBVQGv9TE5w9seh0JeSZNIZ+IdZjCmUpuT+g8HbNgDJBC47\n",
       "xoQ3Io2u0/ImoZvuWU13cLrWv7WIdHw5DeNc8ZzfDz0ErkDvQJ6wPvONwQFoIbGNj8eUnxQZ5jxB\n",
       "GQ4a8fZshLszyrEP61xC9PGGM+Vpwrlncgpb5k8GSZv8vs6S8okK3hyWJXgnyQrPAqSJ3vkbNMY3\n",
       "BImS1qURc1fkmluJkZnPo2wA/OpDwYQ3mPJtttNi2ihXg7CbfItMcThlXN3ZbsErCWzZmTOoON0B\n",
       "uFDjKHySz385iCg8rZys45FL1Bsz4xKtx2A9PC4D2pUaAr4R+UwbMf1lmbV3GiyeeNPPSdY68hRc\n",
       "pLOZWeKr6xWAR4UiUdr10Dqz4wSaHjxYa4ppD0WZxGei6olnPiLA8QLcbm2Q/7pda89of7t3fv5C\n",
       "aW0HyuG39beCTEP58shwiq6LOmNBmvRsHiGLJb5DGDyYgj8hWvIFL8X9UGfLV+pTr82l2qRxBpNB\n",
       "1Pa8p7Nvhb3eFUV/j99sj5LwZl6AX9RuM7xtd1cU5a76wptUD5+a/vLExMWor4QvBNmQbWa67Oji\n",
       "9k7QMbDK1f3ZCyO4Xqk/xANpAykjcjWlXQVBHl3ZHzXvYRAc84Ejzbz66C3/w9Gd7Rr5OO3vCrbp\n",
       "w66YC2p4bRiGZ4vo12nVNVoitV3ZDBVoMdysOTOmRXAxa1JOgvcdse32AiLlE0HZXaSNVOnCTTnl\n",
       "MBD5T/4jRWI7F2UirOBHf2L28s5qJGVgzFdB++mbHSynrvuYasHUkmyMKp8SQ1eA5HsDQnQ3cP5b\n",
       "s9hjnCxxpjfbxnzE5nGpfVTU4aD6jGMWinjd7iEO340Sk6lUusDUZAdyfmLLh5g673uPO1k6mLDZ\n",
       "gn7rVPA0fcdp7vDaddkHDFRhGWQ1NojmBA1NuRJF9o5PvNE319+PJ7n9RQgJakWwAOvwhW9H6fYL\n",
       "Cx4jyzrRpsPsDWzwwj8RfTfR9WUONRfpgVTGRiXdRNQ60DETwg8dP7UYDodeICsydi4F88nPRW8v\n",
       "f/hqcwVRjTORGTnGYt9lzR2NHCl840jJUfTfmVOULjP0uwoNirZ0TPHIpvW7zpaHELS6/AQBHzRw\n",
       "8ph7+NwM+taFDTtu7Vjxe0ZUNRKBsw/sEkiFXRFcUcUaFPLEknEa04Tn6d9qyZD1hAHPyLZMTmzC\n",
       "gacTasSgMcUwvP6KoOYLZRVmvy7lzzzHqo13nJyh+czWeM172wHN6ndNP02vvTWvH1dTBbTsfV+S\n",
       "AwKCBNLPEXFekdRSd6Wx7Yvj0RoMMBPhAe3tMNv79hqhdi35/THWkmHEZpEiCnfIqYWTZWyBQY/a\n",
       "S47Ga7nrWWFv3+RlfToR0eYgJ0qHQBlwc2KbW8vFtpI6sE3tpy4sxA7WYp4d54q9autIsmSvhrd8\n",
       "JOzc5gxMfVuYlV7FdnICheYmV09uzKZoI+BQIf9l8s9o9ppW+Ti/Hi+6yZDaqk3z9/y1MLwTUFk5\n",
       "A6+0WYbcdP/Z2TpJ5FxlkrrmOOCMSxWT1SvZclREx14NLUxovyV6ImLptadL8NIyRhr9bSZsPMNY\n",
       "kreBk8XOT3LefwdLu5Uc/JUn0qlilG4eOctgvK7hjcZNu6qQtl2+dzsOvID1pHThHuufHIasGwoD\n",
       "a1DkE7ZSPu32gbSXNt4J+Tp4MmtogjySVDCp17SPaIEEu87n3zdtrkv2BLDq/UOVF6OIfQD+3945\n",
       "sZGxwIt/+/nsL6pS9nNsTIF0D0rpd2BX+qmh42gSwKDSN1lSaulftSArqLThKYbuHAT75zZzUWGs\n",
       "P271gYf0HFf3OLEIqVG2BySKUNIJM5Mo317WUYfvVz63j2Ml3FP+PWoN3MpeDKsZ1p7Tq0xa6wfk\n",
       "hEZiRBBvbgt4E7L4IlPD38SFjl9mJL4hkATHbBhRsASnKka+oXe9hHycgKihRcugQ5tF+7kqN8T/\n",
       "ExCxLKA4xg9X+jqbrubk8OGv0aByAOb73AB2HqYDetYSgnf/qjvdmx1nWTHy8t80vYHCVcSgx+c6\n",
       "Besp9HdF/HGWUq3z6v7SCBZneupPuyIgas2pYIUjbQALohepjkkzojL0cSy5oyLUCWMVmoOkygJr\n",
       "P3AOH1gZv+0HV4PthKIOx3BqfkADMbXGrcAclnw/S3ACzDtjMFSAE7Ezl7wulbaFmDdsqBbA6xSf\n",
       "U3ExVfC/0Vo2X5+y56PJI/ewLF/98j6BXWSPQSgpejQJCEmIxH7PtNxQrDdoQZ8bG7IeacFQkCgU\n",
       "WeO+WoqJJ5T5ZbU8YsVVJcu6Y1hIpBaSfti1/E2Ai5EC70XRr6fri2nl2cq2ojoYeI9hOzsxneIU\n",
       "rP9aL/LcPgnvX0falNlsqOW1Anz65QAj59VX+rh39Kw9DBXjrwNyPXL+pQIczI1YSL+zLQjOdOmr\n",
       "dMfMKnIDMH2d6L5AfeBkBipVSaLZE+7mfpvbdV9B8moiOlQQrNFWjsheT2P+MRd9vH3nOy20vUkL\n",
       "1/sZsYixQuZmZi7MXKI0k6KFSPcUrXuFtPzyIhSnsLbMCwz9zGgT/3jq/il7ab6Pvs8yu5qb7qOQ\n",
       "kDgsdba5D8aohvUB2mV4cJqPNhOu7fVu1msN/xVA/NwA0Wv1bAUvM8rYjRorcnWn6igXU5njbXru\n",
       "Du9czUqzaPoDopNLuEA3zzprVmtBml0rgOztHpPKZwpClzujTHeoL1IYpS+nykRX6nZiPhyuhCJN\n",
       "0EJ/VOiSVzCJwiBK+lhwr4A5cnMgNB9F6lNB83GVS7T9/k0I5BykxyJCLTs40MjPtmJ0CEmKkrmF\n",
       "LfV6uNwB/2mcFyJWrsic60HzxiOu4eXyohOxAs8lNDiIlN5kqOIt7ZeYg6/8FWyj0yE993wHbjOy\n",
       "6bsgihIT3Et1ObRve3Dud9KySh+TnfwCMrBaLbeb/1q6MhGX6+oqvtUWywRsqdQPVxc46Zg1oQMo\n",
       "gQLxTitChqyCaWPZeDXX1sFxaKK+eRVWnvkRw4sJza4l7+q3qyd8jeemHx2kIwHxNagNCbsHbX/A\n",
       "3HQhMWAiHhGLJk4rU2y4BNd0dkOPlfj5Ls+vBwhf5HudqB6scHBqWw3OwwvKqe0cxafV7+Qnu9Va\n",
       "ciVjLyvbcGyXjfQhBJRgXyVIDh9l90P8P2FDLZ6yQePWM2LxMJbSOSzmgkdy9W/ByR0wG16rpU65\n",
       "q7D83N0HzUmcKxtjGCQBzj++lw3lNc+avyV+W9kfVE8Ifeq1GqIVMsJIzRF5FD8FSoU8qOtL88Yj\n",
       "+XSGtbKs2leWCHd8Vfk5r8uCx4qtPv1AKtM5Xfbe1Au8zax2Q60BCiZdLI16xTkLYHSXH9XY923M\n",
       "sslKXP9Kd8T4x7i8JIb/JNGWjoyVxyHW8Kec3wfnMfDVfJPhTw0UbJ6VLmX12XCu6O8UVEfLIlLC\n",
       "Ne6oe/cL6UFVwHzzjaMyxQFYDmzM4/DN8AaRHtVSKPtuyapMe6WT2X1kpFOmL6MS2a6TTJaeduH/\n",
       "URf2r7rOUE3jr8P4wAkR3thEY8WAXui3+WhTACTML5RKH59V8uLJlBMeG0gzRribhEx5rLiGY92U\n",
       "lwYZIfEAAABRQZ4dQh//AHPj5qAnbqnqtW978KpSY90Z4nZw5e9UHP5bXdjXr20ik2QQ+AG6Gj5i\n",
       "eEle1hIoeSqMRIja2HvY619Oj7th8JLHkArfJIi+1FnBAAAAHwGePGkQ/wAjq5cRw0s08Jh5dcfO\n",
       "izQ4mTgE1s9ucEAAAAxGQZo/SahBbJlMCCf//rUqgEr0W4AHSmoJ/GeYxcMYw116One2XN12nb+m\n",
       "JY+pTm05W4JZ9kBc4T5NALDaDdKHmyUEEk2XpJsn3CyzVfbAi7/DVLmPLG3//afLV/AD17DRk1CD\n",
       "hKOgWV0DXuCzTHvB913WtV3DoYrTZn36FKJmgTBC5r+GDFrGjeRD2qjYe7ZCaOsaYdc8TW80Q+0E\n",
       "NoRRYMQcxXQ/exSWFXaKFqhZtqKJxspVBHL78COAaZG7+xX9Q3bo6lFgHCyY80Ie7wEVH3oWhhgB\n",
       "rl1lPg0gJUcHn1aM+LkTZSJLwi0VWB9GhlehQ7wWK5dqj2W3QBW0Y0pVVuqtEwhH2nN+5cncgnSK\n",
       "Q4nTzF7ZIViDWlpeUB7fHno+/cc02hPmxF5oBhyJmULEiTQAcEmr9k4b+L9yh40I3vI8xXc2osq/\n",
       "ZenYb10s/dlhzu0WKHUVbEttuzKIlJUYIu4Qgrxn3VRAQFxj//cRbOr3pMFO/EOPmWqVVAPo4gCq\n",
       "FuOM2ytJuACHcBnrFmx7v925VDC3gKqriVFU0ZUMCgerfPOQDDRHgZKauKUOrH+UAF+YIzy1fLHi\n",
       "3tA1G76oORnMhsRsTuwoVStDZQrRILdAqfT3WX7sDsh8BuH2icuuD5M3OJDnwDQAI4s7j7CKWUiV\n",
       "TyXJu2jL+oXhR7vLYT9OWXmRrWAbjEtmWwxDBooWZWLXkYM240AK4SHI57DrY5NJEudOyqd9KiQ2\n",
       "K1g/QYtxFC6WDHLfZckzJ0lWZG9d3nGnL3DDtrdR37XqJv7skHBk9GV3VbO7ukXyVv/rGjDmxOr6\n",
       "qHUeZxvim1XgadejULyDwFWRwAeKPa+CgHPTJGItNLJOl/iAw+6bRui7s/OF7k/kgBHtwj7+NJmN\n",
       "YvtEgo9ouoMklVXaiHb2PkbdBhTA8wYWtAwcvKTxhxuUQykuBDhCBtpQBVIwTeJwRHh3/wjReVe0\n",
       "j8OYAW/8KZF2MaO4babrkgJFo1R9Qtp7njyHqUJGMD9Rfg45+MqR8C6JspZcTEccg30F+LQZNqdQ\n",
       "TqBQ4WVmytn+P5YUl4SYRCCW/UcEPaiCki5tykwAbLVp+rczpLX3UeFcNAL6px0b0/cYYl1gA967\n",
       "1JmR/S6MNKtq0dSOT1QJGwAcZymH/1wWgb+8hEg/CaRCFGBr/A7Zqeh+a0raIYbaUSkDdTe8Qk0h\n",
       "TGmADum13xLKZUMJdKuniBFieh6ccgzawFDkYsr4t+Rt1uyQMZjZNdUy8orC2TKLBJb4+aKn+A2h\n",
       "t5Z6nkRM/rfUZjtWWZErwMo4cDIz2YxZxMwzvZGQSecK+atNKCjsz1rgUm6HnQrGJWsK5KO4BCWF\n",
       "8pKtM5hW9ud1GKNlMeA1ynkv9klzq0liHy73VC9P8+DnzjtbUnUcyAbQDMPTZl21/OpDqmdlYVZl\n",
       "hK8bKQ7pBXKGRUONoOxJhH1hSXAtqldehR7ry8Sto4+x27fBuVqBfm3qWrx5XP3T/f5NPeyTUVBC\n",
       "vytShUlUaxqklRI/l9XwYH1MfiMRmN2XbEq/alLq3/79hm9sc2cUDsjKXBTmIRNGTQHe8u7d2Vpe\n",
       "x4LzgNYBi7AihBChA/UV0Z6MLN4NvijjrYQ7xwn+ax716PAN4jVYjkoIDcbVMkJdEhxR9nY//vJd\n",
       "QiEMHOOm/uckBYkbZ/ivUMQ3SQyW8nQxp7nE/mD5VgpKDHqHNOi6QLduDZKjWfzV/2GhZxYuefOG\n",
       "Y8T6RaTIB4z0sug47+BmOp8jWNLFJPwWvuCDwynhkcxXPng56O3D6h6LDCMq+vlktNVfk0xemi54\n",
       "FGivFrZeWvNTV1IP44EuyYiQNQRHGAHBXOBv2N2nIwISCjy1E9Gk/K/izlG4jXoctaHTUil09vW5\n",
       "4yfPw8+RNIhjr1eH3NUFTFNNv1vAifs0vfpWQPSoS/9swqgiIU4+hFU1rU7rRhaakJ73grajTiU2\n",
       "Uo66GoYxCGjoOHRun1siz6MR7YDYoNYptoeKLVHyGw1BvALFESsXGys/bfFAiq9zNz7HR9NnRmEl\n",
       "gx9sedAuje1tEGBsCyqX/R7LQN5A8nckgcdQKxuDjHFXq1jc/MoIf2OVOXKHsYpy3cot6e3RcGLy\n",
       "Jo+huDdNGJP77YmTrRDCmAjraGMppsxbcLhcXjTnNTHBMQX/MweleTbLf1U/7iNndzyrVQCom+vF\n",
       "jbL1lJcN+HDr/lHjr0+6Dj2i6lKccuNoAoJ27F7IZ7Sx4jNgAiRQJj2S0kJoj6Z7jnuZRIWFClLu\n",
       "sRYzXfGXKiiw8AWz7wGjX+cYmgFh0wuBQzwu/T+2w0rifrKiOsusr+OsUsZUbRJfS3kDYvgalN/3\n",
       "k7SOvWdYW2OjXf0jYId4rNgwZ7sQ/hqVB2Mh2GyiS7/lwcikWJWDITZuU00MoVsIprmEsGrcMC8Y\n",
       "JGefxkUYKPc4N4II1zU/jqOpjPS4uytWu+9wrInCswoLw7S7B4+RAIZRH0ColREGoGbilry4gh3p\n",
       "h9um1WqI1x0nJzxD7mRCTHgfJik8CoMIUK/ZWZmV826lloIe8xURugpvP4vfcEsYtBejIjnW4nK8\n",
       "MlXkr/O/2vwOhIdRrqF5gxKk1V3uaxV21E+FymyYh6LL5pAMo53osEljZiT7vidi5uLl03+PKNwm\n",
       "KNv6NoEgakY3fz9jzzIoEadKi+q7vnn77zpIs36pFZcdVNBkukeR/tKy3UWzPwc5GiCGo1OYfFaP\n",
       "3r7lxfrF/87OuNmEzFMUmEm/Oa/UPVffu86hIk/yf1nhtDCAwMiDysW+tCu1J16OAqXzfqROc/0p\n",
       "3o6cJ/yXA9gJPm/86gkEQFfXkX1JBrIjHGdOqLtitkEuHT86VckrpCTJc9YK+wMB/S60oquPGHxJ\n",
       "6iiRdcdi0/DWs7Xl/b09CCq/3jObF5lEIruPu69s3m9GWMrgvCPduRtOq1ZN0zl10pbIi8JmpgVh\n",
       "VkwJD0ZVn0yg9L15438zo2AcpobAnaY7MBBCHij56qMYNy/mOcu47kA+EiiNJnMbXokOVD3rqlMq\n",
       "mWJvly854afG8cCvpcNapgr/XLf792w8fmkSyWz7kqi2aswslJHkeC6fIe4r+isN40W2s0RSXwRM\n",
       "jkdgnijhFeTFJZZL7wlJa6i37X6YItN1XBFnG1MU2Qz9u41Y1O0m31efC9RVqQtmVYUWUBA3h4ED\n",
       "KIDy5jphX9/y35TOPR1GnpE/ELUptGTN1/hHYW3wdFafWVHPHIm+RcIr6LEraARQ6qcd489TNtQ9\n",
       "7xXIzfzkMYlEz8Sfc6ARMz5tflvk3gHJXiu9FioqsghgjLkCwvtOjDmTe0bZBEAzYTrrBaDH9iOf\n",
       "HfV4f/vr2TP7ti+NpWj4JW3oxsL5dg/QWcLswlkv7vKfUFNvvyRvVJqCVR/6m062uTFcFXis0AoX\n",
       "72vGFXbKmJJnwjA6GcjZkJtllfE5vjg17dfRXcQoRVAouUEF4pSYGcd8Ql7mShZacU+zYbLZBQ8J\n",
       "ay2/QPNLOvX8szpvLyML6Oucjr8B3+dfqUuOT/TK9M20JgIT5qZMwlWkbKqrTUMEb6I5EDaK6NmX\n",
       "+PGwbiK3Yj65byU2BF1vO3gkkKMhSwiI04LWAxKdXEa6xRQ2SLFZ8wNkbpbYSXfqr05meA6MmHh1\n",
       "Bf8J7I+46GEhM1fOb1havJC7w/L59fPOESIxDhiqMvE6UEbIHwi2CUfscDW5t91zsfLAyOTMhZps\n",
       "WZkOud9GRsbaqavp82RO4CGYDsirzZQZAKnFE1vMRGjAPEHTKhBicWGnEsNDxpdswIIN8uYKZHOO\n",
       "F9cnikj7YJLl/wMpT7OHeJEr4XThu/7tgny5GDiWTPg0inPQCxdWaEx1NWP7f6gHwODLTfkgLkGf\n",
       "mAKc4tog1vMG4ndB26qiRLy1Yr+JhkQr4ITc4S335LNszJ6j02Y3H1LLPHP+QvB8tMthq4IhF/pP\n",
       "5mZkU/0Lt2e1OIyj4arj/R4Tttztfw3rPJdYwXuxKvz9//r+cLi12A6f+KHSU8atobsZgi199bhy\n",
       "nfb25VddESQGIV3oui+uB9/mMeQoU7fmGmRcyFYRf6RSwt5XEU/UwoR5cRrakB7nIyYgFG8Hd766\n",
       "HLqbdwn5DnxXhGwnmluYcoBI8Lzfbuv1vTpxY9JWy31zPeordERWuCOUedveWnWbIJHFTPuY8wiU\n",
       "h5pmsX25gf8LcGDgkUECm2us7dulPAAABktBmkNJ4QpSZTAgn//+tSqA23mSgBx095640SAxErUz\n",
       "Ahd2SOAAJSXcKH/6bPgLf+QmK48Fz8zkJOfqwwRJnR74HS+J6mpST4yvoCjEx7BVbT8/9fgq6bbL\n",
       "fX/S/j2fakLMkWyU634zxwrrLudX238OOUucD9M4p3WUz7LREHBt8iv3s8D9UXOkP/B0GB2vsHR4\n",
       "09vGh0YzpGBd9LYtLygkjJnLvvYLGbo1iA//CuBGtlHfIXVYu5wdunrhLA3oE9Hi7rijaVHkoS64\n",
       "DyuXnV2glPE6T67xrZYYoAymRZoxXuenovupocGQOLvBm5yyqYMFWqhHUJ4hQ9UkVbgbzQpuEhDu\n",
       "lSO+xDlSozQOVHRdlS3o+fFfk/bXPLhexxSFMacE2EVNO1iuKfkfnnz7D2+v+/kjOwxGy/2/iqYh\n",
       "+oSHFTeCWLEK1rgGgWFeqhAY4z4KnCp64H8N64MKRgXh6LrS5yQFmvqJxJYF2i8YZVloUjM56XSt\n",
       "ZdY06g4oU6NXbUAdABXF0Wxz0JxWC9vRGnxp2+rIYkc4uHs6TZ59P5fyS3uKMm0xycCwg99k1pxL\n",
       "vHKv101pL2dyjkJ7DpaE2/Vo2nASHtA4xkkTGVZNL27FkTu+LEYyTLBc++OMSJHGoi6MZnhtWEpJ\n",
       "HgOOpGYPv2OcYlgmCellXBMWbs+WaVBBGLSVpCmvPUiC9iz+RUoqLyMQ/pwe40U8DmePTTkAfT3n\n",
       "c5tjoiELW9dQc5zduH1Wv6uzEEDs/VdxXo8Q0PyEfrfoUqUnPCQEzsJoEvUk1MEKbheAyAb9Q3Hn\n",
       "PvVFINKl9NODAqeQbLpF5t3OdsV0zVzop3BtciD49nBrjGY1q1+5TB5JIzM+CnxgJ7yFuRL2KtNA\n",
       "iFd/RsRZUn6QwvxnWfppTBZRSVoqk/58GEfiLpnszH5ira3lGrg4UDZK1oZHWV8wBWPCfWSvdoua\n",
       "MhUE9gMZ0fQrSQrCS/kU841/bokLCczYVa44IjkQghCMO0gjjLpMzSgwyxPuQz8oe2W+M0VHy282\n",
       "cBmUf89fffAnS7KKVt9qM97ftP7cWxBE6ruLPXMoyPguogbBKSpyDrquBesRkUaUq4/qL9421Tuk\n",
       "fxLI4QRK5UZ86lSBQZ6x4D1mJliMTnLNnASW6tqa7DmItCOqJTrCYMGVOGjgeDykxH8wqYy1v38z\n",
       "3w3pxNefjBSsEAb9TTVwBTTmpnCsPjpJosBHMZcf+TD9DIbJ4xkUBsMcezi8remgxKG6JE5ITuk0\n",
       "KhOtKkWc8lHryQoD9L/5wTEkm+2ZJTU4amUHNXJsr9Eeh5HmArvvSBMWIlnu1a+A35NR8RCdDhEk\n",
       "2y91NcUv3opeLtl2tZMCcjmORhFVhfa63JBUWZDKotop5qiK5JHXDfOX5rXed70nhL/1JOQ/SlKe\n",
       "+kJUXM7Fay4Ce7Thby9ofhUn47XdVNhAwEKgqsX+9fZUEUM/rf4vFwYiWh6g19VwFL93gdl1coFH\n",
       "hROHyGNNu68giVwAlhjAJJiKnbalJ3oV16SnAeZuX6bXZHe1zuSY+asdqB/gY2S5JWRMYRCm+hZi\n",
       "zrGvTxIv6pQU1CVMcb8CO8zV1ULdtkPRgTGMB4Gvs/zuiksdyvHlGibqNNVy965yJ3B7swO9Ukhv\n",
       "DdR/F5mO9Jsj17OS8im+jgJ2YzpJn6R++PHuI/c4bpz2NxBv5c3VKX6xUelmi8zTNNGSBfouJCZ9\n",
       "0RFryrQxmjGwKdKnWEGs8GlM4L8/lrLbE6MeRW5z8t4g63Nc9rK3hqNgJlLO8rWsygkplJiQAJgD\n",
       "/EQRLn6jNh+nunGMkwUc+lXT7ekYaG2XERhl3G4SWdsKpmL7NqrO0dVuetbDJtDbP7BXWxRlhwAX\n",
       "ZbMqHsCgoMzIxgpAnKWxQck/SHwGKec4TAnWQKvq+eDkFrnLNGUAODATXEz70JrQjZUrCx4+7ZTA\n",
       "NpMW8+zyqRxsL8WBgHp/zwxtUujrbkKuuSGQUyDRdjm1hq7FlThg2K8mjO2JKQVhQ72EK3yjjShI\n",
       "r8yToCs1anVX0LldDT7QurIa/KxekcCuZkz1d3eCsTEs69fIOx4mg8PcLB8FTrPgyGDunMyxluSF\n",
       "HEVtFKEV2smzvqIR5F8p68dM3i5z+ayjXckYAyutIm7V8v5CTdWEebsAAABJQZ5hRTRMEP8ATDzp\n",
       "k9aUlcmMQHlFt0po2rKw8QBxKT9mPKs4zBmssy5JGOZTjUM6VHDCtf7TWk6ggHEBaEyk4r+8saJa\n",
       "2SVtgAAAACMBnoB0Q/8An3+dJlVXFCapNlUTv4CjNTSa0XKH1ADekNfgMQAAACQBnoJqQ/8AGR8e\n",
       "Ewe/HuxuKlVVOTUc+rWerxLjNrFymt4AZ8AAAAZDQZqHSahBaJlMCCf//rUqgHBggSpvBKhK8Hbo\n",
       "353UHsTk4xnzN4agb5Orv+p1Iz2530QDrvxnGfX3jzCJVFU+T8L/zM5sFXEpcvWG15NC/oxVhtHa\n",
       "PPqhtzG2Izmd4p7ofU+w00HjUsleC0fKPR+BU3X1rZ8OpbFL7JoPycsSVTGQg+gjUIku1pIPc6ry\n",
       "ddXWfesIzU1euOMoVU6lXIVPqPc4ZTN/35GNNuUAbPTEBGnlWRVIHh9Jz1+/gyHH6pliH1uSE8ae\n",
       "4aV/Ee/4JFOtsV7gYudxYoqOKiDTSIYF/+EPbFdbdhc1vF0rllShg8gPZRD8lWHBK2QKndPUIBvN\n",
       "Ko0RYWRvMy5GryadleS6Ced9I68C1EGxAxfffoCBcXFaiMjP175g6InGleav742feu8E4CqYrfU/\n",
       "8chRQ1cl6L3OySFqHZ7RVDz50ZdUdWbPUseTvup5EeKGov/E9ayXUe2AtnsO1NaL1Cudy6Io9u2V\n",
       "JmqhYQl6FDnlnrZ83Z26MPAVrKlReqhmnG7n/fVA4x8NupBsiI+XDUfrrehSgzciQ+sJGy340l5o\n",
       "NCJJyNs4qLLbAoW/WNUmUAHZbsuqwlRML9gb49cqwOADFl4/MF84qXs/faynZNc3hHdIapQtItoY\n",
       "IO30/jpDOpxpoIGEdb3w3aoGxoh5kTj9qnemoHyi7DOklN0vK9hwnsP09LefYA+PJe19oZGnfczZ\n",
       "WEKN0xaDDxTk/LBjo1RkSGzy+MCBziSBYX0Y1nfHDLmzGeSkACykWPQKYjdcd3yq/5Y6wkwKGpBw\n",
       "6a8ueP1IqYTtCqhxDWobbGfudPhBQN7HzPH79ARHpy1UVaFL2j0+NtilhV7sfbczf+uiTUCQF6Kb\n",
       "Aip0bVxKqpOUKa5aJ7qu8T5k+di8Mvw/1Y5Ljd4OZoUWt+6Nryw+oImH8Ij6JjX2uTqI4mknUVaj\n",
       "sco7MEgyV7LK57heBmCzqVp0QUho2qmm8wi3L1aqfqQ/akpHTwxPZ65S73hhM5Ez21wZfgWJXnzy\n",
       "JaCQk8dyJ/51P7iXxFGlDk+ivTOdEcNHw4zMoa2ZmTP8VHtEqk5k7R+s6kN4M7KWoHXcla4/n/vx\n",
       "vpnsZt0su9mX3TamW57L5WWQiSmL3A0HYchwybxkB+7MJDG1mseZDL07RojUYcFZ0EJwlF9qwoDE\n",
       "G63cu342nyCq2oIKjkr9HNiAw/fxLSt+cJgwOkgkFHd069AaVB8IRTNUhsTCJTYxQMDHs4M2GJ69\n",
       "FaIsqT6+66g0hM56/7DrusMhLQsG/mZ/8v3cQPlXMHLyBDJ3lUO5gjzFOeuKgpwef2PqBQ+TPRhZ\n",
       "T55S1mRr8+TT6ngHY3RDFXwGrEQSosXY238loBfhHKHjcNnU1TUAoXAT6Eb7HdYkV/8tbrV7oCmK\n",
       "M1XG5l9K9kR1Eg7xTYZsF9hGNs9ltqFaCREuPx5SAfQwTsF2giVVlvXUDGu6b2xVhkpoynDEb//S\n",
       "HdMOVlFkgaOmnsb/qQ7tUbRsj+DCk4m9hBcxxpr+5/cXN+m1CrquX3+5D+AiKaOHzAj/39sJphC4\n",
       "Tlymvgtxi/4h8PKx7sJ/mq3FaadhVm0pGJmLVHhH6qYBh81glNEaG22ZjK7/q6AW92dl3GCXQIse\n",
       "wPLwB/znJeAwHddiTMmH+UCy2ZkasVLhfEh+v4DJSUH2Hx0i/aZSJMuE4LnbvLwN1ik0QyS5SLSQ\n",
       "3J4cKEpElnrtslETaOHJTGaR/jvn3ki64toeEVnmyzXueRT2z2GzbSTDz2mPuP3IIRKR9wlQqLgn\n",
       "LSO5EpmVpNFoKEvGPEbt4IgMn0udX2l0Mt1DK+IBnkXurhepSzwMkLjCu9YV4RwvseE4kZ8V4b9d\n",
       "qCbTr8cN+xeEzudB1VXZWyej6hAKo42w/lpO7sXhC2OmesLlmxUMyfW5qiL2nc6Ffksf0s1DHD3i\n",
       "FEFjsCHv8zM/+h95jiZv4JqtKSzOpq7G044Kg8zGAbDhrDAG+myK2hE+q7fxsfnMXgW/bBbL6Vx8\n",
       "+Nw76IpquI3cGc0Nu1qdiAI4Ute8Ca43z3s7FsjiRY1zJJv9qJo8/0FE70XYc3QaCWh+yuOeSvo+\n",
       "eAzWQaiSP9MxZeFsXlCISYIqjGM1VKcIcP1JVLK2B9S/FvH62QAAAGhBnqVFESwQ/wAuPbCd9IAu\n",
       "Uwpl7Y/b0j4geYAW6b+AwHojDwztOcS0xHzmd2KmzEo/lHTqC6zYYLYrGNX9JNeZtoLl6ZFfpPhQ\n",
       "vWtRsB/NuLDOysbHq90RwNaKQYuEZWe94SUswXabgQAAADQBnsR0Q/8AGv/50mLtrJl9fzKyA28m\n",
       "QRJ46lqWPXL4LKgmlf6uABwQ3dEDqj4b+cvVeTqhAAAAHQGexmpD/wAaXxzT6x2Jh0xODW1zFW14\n",
       "dlFJT9bBAAACFkGaykmoQWyZTAgn//61KoCkV2F9mIWCPzsUe+IWmNW0d0gl+Q8eiww2aUt+jKQQ\n",
       "iCctdzQRQwjwaR4SzP6fNomdJo1yQqyE2eJlq0QXu2xjG5e6V5TLkDmDO1Kg7ZjgXgp4giAUmpit\n",
       "p+02mr+pJu8ypdPP9KnqWc6SmrXNt3q6YvR9J9lkoA/xP5ry5rUBxAyhVr5rgEYNg9m4IwBfF8X7\n",
       "aMkzWlfuFOkwDyYSY9xQLaFes3SqvRox7f7378SIyoRXs5Fd8nCsCygm+cbdzp6n5tYyPveeoYkb\n",
       "YQp/IMW2WOoax+wTs1taI2dy2xIMNmFddB78/Nt+YXYP5VKpKXWBVVg6wk0bdFoUjX/9f+VT/ckH\n",
       "t+Wyw+0DLTFRQ6G5c01xrNIR+hb3pSvwR+rvrdz3wZMph5ts2LHsUArYouGIyF5gs80IISZiAu2Z\n",
       "epnNA0Q6VASND1zCgm/0MFbxoi6rpSpEPsh7moGC/xoLIIUeh7UHa/H8pAoKVni9QkBvyMlrhwku\n",
       "IpTBwo+Xj1OLtwH2dYeXtGGFfkg1Wh1nbgY8v6SzLUJY/Cfuau4Pf7Mb8tu+cDWhCSMnG7+RVTHH\n",
       "yUnZ/6lp/zfx5FyZvAGOVPWjpSExaWpW3L1/aJL8wgJ3z4WUzJQprTQe9r4roNB7/RoXGV/jbfV+\n",
       "JOOiIzcsjHfeb+s2ypc/TFdd/W7AfrUKPFjtsDhpRwAAADhBnulCH/8AZQRtE9tvM58lkH4cnsPg\n",
       "PoyvpwnSuvtgA2kNIFYNaM4c4k/ywCwVTy4HiJ0LbXB3QAAAACABnwhpEP8AGRulBywDipe+tw02\n",
       "lKunK5X/Q3po9E8WwQAAFRVBmwxJqEFsmUwU0TBP//61KoErdH2cOtQAfUDYdr4pdKQtJcADgXj0\n",
       "gB1y88g1Fpix2WHLxlzBYKkK3flze0l74TRqGPoEhatG9Kc8CkOanvBQ5Y+E+msLisp+hL15Z/hH\n",
       "P4seSNHFK0e3/5CsrHUhgjb7wMVDPNGVwQVky8l6d1DxIeg4s08PcjUAnlCzrs647KFl21Qwh330\n",
       "+fJprOnG+ocpFqpY55Z9aYrGhffLhfvS6sBoEsTB2wNgX+trkFdqel4zFvnZeEMN72XKedOzzef0\n",
       "/AYSAZ7h0YODzLAAJCDKf1XuFKfRma8lgEds05VC54o/zAf8FTe8MbH49IDJv1ooA22WoTFjrhfZ\n",
       "VImfywylLpdzkQzgEY+tYjg+++obVwzyNP3DyJ0Io2uCg0VD8Y4mYb83pJUvE/2bY/k7HQmovI2I\n",
       "JhiF8s2lqd3M+26DNYQXbR5aXpf0CFYqNE9vW3nqfaqVeDghGcADChMXZM3zarU19freoQpA979T\n",
       "G43ZcTh1Dv+9WKsozgbTWNlA08xfLJfaFsP0x1GsP8OGQg9d1sixIWrWq0GRHKLCjUf/cmtCdrlf\n",
       "Y0V8oJx3sjcaPVUOwKczry4T7XD83qs8rLVjlSH5osD5Q5Bunms2h22YVLE7PUL1wtkLgihwq7MT\n",
       "eIFFdP0FW7OPyBO9LkSwdSmizvglmHknJxG30guwRt4SMqc2t+B7ohMa1JqL6/4z0I8h2k3H0qgS\n",
       "pS1z9ANavcY6eA6AOGQmmu41+0wGTDBIENr8vX8dJtWFvcCfsvvRQUnRiYsuDnbHoASPsWHA9Abf\n",
       "So7vmCiUtyOoua3k99r1mWuopz/NCBgrFm+ZDLsqAh6hxEpIkxtW7LOmS0VVtuysypl7g/i03dkD\n",
       "Mi3jvS5vT/r3x8l099qwSbO7uw40uj2SwMyhr6bpIPV8Rk6TsJ5IS+uOm1dxYxd6knE8jEFt+DvM\n",
       "4eRHHkrKAMABZriiCQuUe9Yc9fARYDMurS1VnFvXudJxncKUb9KcNqXuQeBm9J2uhel/KmHy6nlb\n",
       "EozjX/Mvy4VyZdreCLpZRNQbLzHBtW39UjVZiOiXmzcIwHyTgY/lR64ojQoNuNIh7ZFGg3ol05LR\n",
       "s7510aq1ersUj897guEI5wkGPVq2mYRnm7Sl78b4hu8+A3yo3zv+rRJj/UNMELgsYteqbP5y5a07\n",
       "4zbtuzygxdvuecl0+as7ljkH25Napzg8UGTjUINUXyUAT8lvSreIQJQ2TcXg3GRIPGCBzWteoJDM\n",
       "LTHeToe+Vhgt7i9uS5tovhdCEoonASq/Xd/j6i0i5sMtOiLQRRBe6+4FrvDi3Yp6P942xqpdiQ16\n",
       "ZGMDA4U0JqTRMs/YCEaEmqG1dZYmxcDUqa+MlB8Lowg27M/U5hmm4clFEqG41jzukAZF0NDlpTSs\n",
       "6H3UMfGx9n1sHuXXmQwm2rPJnKRQrHh8rYYSxEG/P7OPqkh5LtWwXNhpeqwmaxnlbYzEBzbUib5x\n",
       "qBGrEidjHEM6gy67MRefWFIE6ok06AmIrwKbeDOeOsBa57B6lFHvj75juf8DWfQv5Z7E6T+YlAHN\n",
       "Zxwtmt5irWq/0/K6+U4e62u0cUv1fcQAB1u5/lPd8MzUH1YbvI3DOxuSpcFldOYi5+la4KrtjLmb\n",
       "uiall+YWsd/22r0pxVNX4Ywe7rUbyXKadhY3QN6aTIFJxNKnBOj5Tob+aieg/PDE7vrWYUcfi3lI\n",
       "LEu39ri+5BJi+OeLk0mG+tKrzfGp/TZHuZhaufbLjEmM7YNTymMask6GujQZhrCL1VkQMg0kpQM2\n",
       "LAvRw20VuodfE7xr5evzaz+cFhU9NSWKXTdBBgQQqQ9/3Q8WNkAAWWDkln7FLLbpPwxjCapYYVZ9\n",
       "w9yeBBDVqgvIZA8s0XQV8UoL6EUUkxufn+nCDYf7FCRDYGMzGBdwDFdu+TrzjsnR5ZIVdJ018EQv\n",
       "NTjPqkwBNxfNau5c7Dt6KTG6EfkPELeJ1pHyHj87lc/2eI3VRF9rwpOie2pG31NQIVPRl1PGBrj4\n",
       "QxsuauR9VCrOCqIm9zQm5czvoHP4oCrSC+J2GHzy86aepVOqHVWF+pyUCvTCMdrK5NMttslam5gv\n",
       "GjmAHQAgFypVzNmOrT3G2Wyzc5QQzpEITfvjbHUwsV3wB8gwxnZWKxf3IHu0i30Ap93EbQtA/akE\n",
       "c/f+qn5xIPmjQlQP6Zb/JHc4G2BYQ7RHnaXLF3tk1Vv1uMpj9g05sJF2j1tap4kbwrVLH4IzqTG2\n",
       "Z0E79rGXzQts1y8BaC2vdJy/vjDSSkh7ynguUKbOkCbTU5MSwB1bn8h4H4AkSUdF5XOfT7oAlYYh\n",
       "a1lxaCLUC1eh4IeovJO5b1aFxYCBqmELpdW5lynBa+6rbijkrx/s8t9oE2Jfn48GrJlizeGHtdZB\n",
       "j0ZLs+BnqhX8uEgkGLWrwzkhTDTGs4mSSTcJ5nEPbTDQLJwBL2/SkvMO3jgKkeI84YPg5XipXk4D\n",
       "s7dMzSfUN44Z62uQJGCjre+RM+i2skeb+3vC7lk9RE4MrBAy/oHTNr2Re3kW8Yh3tSRsb2jwhKzT\n",
       "GhFo5dRA+szs8KDeu3TqGIWh5btwfjHJ5hcH95x4phyHKAMrqU26msglk/8IeslFSEDL1Nz6PalC\n",
       "tbWC97lPLlWXf3Tv7RJwHBBmzjAgfnlXjArPJ4BWbELmjnpQVg7tMr4+cPgBnTSz39s9+y3L+5GF\n",
       "2wD+Q2IXwEzN3D3F5YHrQ97kpxZL2BwKNpykOUqcWW02ev3UgmXSQoh/xmpI8HPPDN1LGLcthPz+\n",
       "+LIT+kUIpjg/OsZwFSEPRlTsOzml5pvaGVcozPYVPi+T9BPrsSh/65j9IFPwt5agv7JVQilW/d8f\n",
       "hLgncMFjkI169bAiUWk17cmaukVPPMoZ9fImnm+79tCQa9irozzmPeHbBj0RFPMSYwToy54EVhKN\n",
       "YkNNw/DdiUqtQN75rmdhtAf6ZbDRppxUrH89a+8BgFmLCPQPNN/MuCImhLKAfkX98ODtFV8RnGuo\n",
       "L3DQPdQPa06te8YDqwQ9CxyRVUZ2ZIMMkloGLWvJQQ4sYM0qFX+TunXNoC8g8rl3fzL3UpTH2ggT\n",
       "vO3vwmdE/+YnJJhHDIpl1k+HSDQTq9F04WsFZMo7Qk3wSsamT05guzoiMCXt/Cf15/P+MunNcYnV\n",
       "WKPBhGBgbBhvyGAvpRYNNlSwx4jvoGfa5qPjXmqeKZKwbPvVglf0VmyXTu+lV7sjg5aqfAFz9ATG\n",
       "FBjxDPZTV+5cCHyh57IQ7dSUmBgnIexEmjr3PqVKoi5/8lbB7pfVkvRlHKcUu3sD7z9p7rFbVCnX\n",
       "bXI5NoJdanVNtLlNu5hzVTfl70PH1U0i7icOKumvqeRIBsN8/hNGWBE7odnHU+phT7U4i6q/ILDg\n",
       "zI3fq7HM4g1zzcDg8yUjxpnpGyjX40yxWXw0Bw/MBf1Eoys99FHkQhEW/VGhC4lJ98bdWLtDMw2P\n",
       "gOp9S4+3YdWmH5FuScyHOf1KPyN3bAH6jByKtBLaZgE1/xcUuPSNWF9fIjPzSm+FRRYOLhpFnyo0\n",
       "IaFZD+fPM93JCrDX2N4hM/VmMmgfcs4rDKo8NHN322E5jqVQHIZUcA4DDzwyb3DFavjVvd97LnA7\n",
       "/Df9dRN2mL0bZsoBeHrKqWKWIsp12IGOVfFN4/kcNql09q5m3P5PXcw7SsV9uHUT/czcH6njhvmY\n",
       "91u9jhFdhTY+sTy5QEz+56xVMCkRaow3ba8s5SmtDGr8jEQ+QYU1rhkfxtq7WTBMh08YXdd99G9o\n",
       "mhMAoXntSsQPu+Mudnf63iuer1kV2T17SVPFo8+hcHxYTr1cctg5+7Tr86orbFL6BPUJMcok4Q4y\n",
       "uyXJYHWdtQq8yRyWRkXAghJjlJM7jRp1MREztJ6vykwbf00ol+IbKKRNAPXE0Mf3/HwvgDeoZIZF\n",
       "rZkcHOtb6hx4egL1Tr+TtGk3ysCbwWwpYCc+ehkjlwKdAztXmHev+TH/MynTSJNKiFwPawQK8x2w\n",
       "pG4DzOUZljuYYx5f5l732u+TQ32BppVGCanvwnMTZJvKNdY1KiKApBSJwKX6LiDx0+qwexfAfLy+\n",
       "DIH2h2l1Q5WFqHv6v8JAyD3GeMJ7OOAOy9ZRquyVbw3t1Abm6ZtEUxTgYaSB6n/yrVRGZt07/zHL\n",
       "EtPNOBk2LkHFm4xd6S5vNGe5eZfVYWYTxU++15XJ02oCgV4DK+7hThuuRB3vUIiMOKbkamcrvxQ0\n",
       "2ptBJUysnHmaZ7m6zxptrxXWpelegPGqqb56g2NgdAf00fq5DWnr6VpT6UYWFswbFYamfHQ1NUi1\n",
       "rwoJZMQOmKscUrBBDhfxTKroDC3F+sY8CxyMrr8V8WlFErHjQsFr78EUYzldFiNf/JU/iNeFnBrw\n",
       "MruzFIhDm12LTyE42T6TSaQpiDFZ/YJA23xSgW7n7aT+31UB5Vbpi/fCsBl0Ox5VvWkVhnbB32Qe\n",
       "8YZtpVORM5eTW6XdgsuNTv6QEkRouFe137n9kOdCaSxaurRRrjZF7hYOjQA6RVN7bbhd0/WzgCwo\n",
       "ILw0Lg6akz4cc5BFB9St72PjV96FvfyprbJB5iIoT3iQnceNQfuIS3g+2FJiSd7yCN0ZTntxv3BB\n",
       "cXUPV37wZx9fRGx6qp+eHp75omADDDdlm1cxGMv8F9gQzIRrqPTpR9NFiBovTyhSU2HT9Npf2Tie\n",
       "/rcu9kLxqaktIBT59IoViLD3sPe/FTW5frA8hKKTydJz9MTwcD13FAFRetN8lFZgDuW0iNoFXaAg\n",
       "YTuCZGGn33SBQByUhYk6Wi3t6YsjyIlEOuATuRVFIIWZAliqRwdECFAnAjKydZ7gvozcIowF0QxL\n",
       "6y2RalU22R5HAg4kHiqmJ0VSovLfm3tJH//auxdzcb/1q5ioz6z4fuwa23zCUEPAB01+QmyuO5dj\n",
       "ZBaG4Zni2lZkjte/9sDWaXBuP0/RP49tH7XChur8XQFyKJO3OUMHQosRszKBnVl/lRb7UElMHY62\n",
       "yWy1dPXhyFbVWduMGQndgeH74PBGdnNZh+kiTCk/oPxQ5oCiSfDMPddxi4Hz90T0Ci/Iyvtaq+cf\n",
       "NvfvRRELiW6O8FwHQrNcIaTl7g6UIbl3o3NUCRrXoycKdBhc75+JcsVqD/GYEU/c8CkuJFldPOQP\n",
       "RKSBil9wIWc1drsrO73BHe27eiqxIEbvglFOEmAvGnq+a284B70XRGFdGQyxHn+i87vZSX+XkqlW\n",
       "r0wOYGiscwJWJ7gDK5btW+D9Q+dKMStLYahG5fyFlrytONGhIA0duNoIviEBRYS/RO4c1niTdzVx\n",
       "2kbVXO76QGEir+Xj8aJHyrpo0pGHU5ddgv1Ne+5zqPLNu2OPOVlr4h7NP0SAqcRWWb48fbaaCroF\n",
       "Hct+STOfCFwuF9IKPymigWO1/HKvcd3HYJXjUaGXyBrEyBc7aLUm1rv3k7Tw7UainuBkOQmJLiaY\n",
       "gQ5xiKgFDz3FXz9EOdVrwBG9q3piuOnkU3QXMhLMq7tgSqLKNSdPewblsewPJUuDk0nxEexQ2o8S\n",
       "XJLZ61cD6YwDGHNzMPE3iragq9eNFfD5EQ5vS6IV4Jd9cnZaglDeN9J4w2icGWYLda93JD5Ed8S+\n",
       "ci9yRS7idhjLQwcMffaKUIXW0mZuIHMCxhmLFxydcUDRZSu5kxDvT62oEj04mOlAFU8RR+EN9OTl\n",
       "jY9WrXknAVaWvlC8OnNqmuvFBovF48Jd1BZddjrdVMxVHR87Nb+MBdKFmgFqzlC8YIZx88QHj4So\n",
       "mxtjMTNjO4dctCWJxWsbewVC8avGSEQQXb4qRLmh5paJTU5cXZ7xRoaEnuzB+SqnVOgU6NrbG9MS\n",
       "LW2s7yjY9kC2RJcW3c9RJAMUBIKBoVpAiFyWL6uEpWV/KWGA1wUZxC6mtKpF+8MlAnB1Zp74NSw7\n",
       "d/6/ouaRDtHTRggAvEcVAbWCTjghGv2yo0tiaF9vO6yPQcFCH350T7HzD3y7MM4/APRFyILPUxSa\n",
       "5lmxJEMztbpvZ7X51WRrrswPf7jr5fUuEyU6YXXAUMiGT2TpcmmFs1lsC8TCYzsn6TF0a10Mopuw\n",
       "5Qb2XyMNFoK44bMORIs+kIBiZp4ZSh74xSsZrzEVNEN+rC3BhvpB9vC8R+mz+eDXT4Adm+6kgyrf\n",
       "mu4fp/+YjxB1hvYN71yUsul3Pe3a6l4wXKorGQ7/fNJi/kPWrxTMR3wwbwjCD+756PK+X0G6laPk\n",
       "+C+9F2az51LtMFYix07JltO4fIvXLUKUEwUwQbrFiTCvKrnYh6xqNeF/fQZ6NvCPE9BBre2t+ZDP\n",
       "NaWaZpmNSsKnxTCfRfoUvVu6nrvcKV+H+5Db3+1rVZA55MyCjzIVX1Rc4VcQYZ6sFBShSo4ttnG5\n",
       "c9DM/sR/YaavQZx60vDfltPZzGwi7jsaVFYa9apeU/PrdvfZOpr3hJFYxgaklWqyO31sBCOCVdii\n",
       "TqQ/7x94Rb6uALgmyhWPeaY/hYKincO+qmOinnvI1xgtGpjIr+Gg6/hu1I97lUOyq9JL0TkB/wkh\n",
       "Kh++9pZtZjpnSBrYzG7Bp4fbW5VpYE0eMkEgede/jy6GGT8Mnu6LHQCDjZyStSLI1C87gURDi0MG\n",
       "MrzyE98+zx5qmeG3vFdBcUaWxtXK76VbdFlBqN/TG9CnYuUQgpPW89dccoE6tEER6rylXFky4iki\n",
       "rHC9o0B8WWQqrO7cxOcCBDHxc+Cit77iSzuYeFM0EtPexczMvDCJ1uXYwy0fjc4iry222njW30Jw\n",
       "d3ccECTMi2Cyveqn2UR39cmankJh2nrBs1Ruc9FGc0UaspUy7RLp7Xu91SiegtlZCjp1kckqdHTg\n",
       "6Pb5U3PuKNfWaMTgZ1QCjg/Fz3XFYJs1DoNVGsACQhjOUNweGApYT58q51nu2WbMQ32kuARh47g9\n",
       "3lca++wqpYi6zhZ6NsFg9qbRXJRdM1iAIRxSPMhmDEz9WKojHu6Omqne1GOA9D99KD9DtEs1s4pn\n",
       "0YW00tPw1iB6m1FV9YI7zE52A9V1km2YTpYOsMR6UbaCAU70kvHrvJGITWfitOU8Zbd9u32kTr8Q\n",
       "AnOLxJVmESGHYqJYQpKsek6vqHO/AABSBXB4Vn0j9KnIExOox/eSpnQiW76Y4ZUeenyx2ic4ANP8\n",
       "xcYVueNobYGFMZzcAVaIxslT8LkyUxjWyS569XJK/3ONwlsPFWmlkgeSdgcifOBX8RWjCYwe1OAA\n",
       "AAC8AZ8rakP/ALLCE/QbLeaB9zw/tALeqEmEbzOcPzJdxOIH0N+CipH5Jmo7oMHKK+ERBGkFROus\n",
       "z70no4ETsgAFkmU52wpuWdULmVDPTEiyMhtewMk+4b/78rHF0ekT9+gACH/nLy4yuvABveqjNl56\n",
       "W/J/xHXJbb2qd0elNgi2/Up+0RcSk+ULqhDalo3K+PcV0sIzs9052M9oT8wNHcgRbfHXWgyQtgtn\n",
       "SfIZFo0Z/0xlt1T5j0GFZpA5xfwAAApqQZswSeEKUmUwIJ///rUqgS3BOOegaFXlDS4cbPhuFqAK\n",
       "zYxB/P+20XEvTiweAksOrrdoe7A6j33IngZd2r/moxdmEZ19AzkXB//gsb2VV6CNIiA2HweJo4jt\n",
       "6LM3JbFhBEsxlEVuV/3ZHJaAv9kK/oJqWhsV/RuI03WErTY66OzcMH4C1/q+6LWOf9OVRhWXGI7k\n",
       "zbw+LiXpCQ3jN4EO13M/52iCZW4d/4J4n1Lwsw7RNC248iSHKvQuAi0/0zd6xmg9pVgbUkptor/+\n",
       "+9OUKDiJiYcE/2eHURis8xT/eACp/m7Q1qiPwhQvjDzm6/Izqkoa3fgGCxpp+CQlQWAkWdN9m8vH\n",
       "3eGp5aohDtTRVEY2XQrZ7XVC9/WtAIyNFfbwMScY7COYtzPrDgMVFK0AzZfFdTxnkN0Lms0TQ01e\n",
       "+V4eR+gFqkoKO5iM/LbwHeza+j0T03zadCf9ZUa+CQ2D0VIg+hKg/sh6yhS8lQO03SdNFG7TGBSZ\n",
       "eG1qHksZRX6ruQFX7r611XPkmcQtxKa2mk+TFK7W21EeI5e7LJHE2z+9JIiYIoqv8B4As0dRLLxW\n",
       "v6dm+tprteq3viDSulXcSee0dUDyLU3T6FwJU9lk3vM5OD280CALLvwPVg8qjzUsiniT5/iNnViI\n",
       "0Q59Sfqflavt1FPv8glAo6ScdPDNnFmmkMbOIzMhI++Qd9ZpykAmBVNd5kdmszL3HJxx5BvrAxBF\n",
       "g/IUd6q0xrLhElfxkkFfbnE/ABZZWb6+JchB+Y0PVLghjYFp4YjclZXnTr/xeLhx0hAkjYHultOo\n",
       "vIXcdyA4WBs3lP/C1szfm4u/EZnFTsZSGOFL8ZzE6iNZOZNIGVCcxaPuL3cvJ6sPQAhwbO5J9HFv\n",
       "VMvaQ90RWeUUhSYWQzsCsmaI4W1wYbrt2zgIaKWqMBJ0p3SbZfJZe24NNDMidzH4NwGmqcyu7z30\n",
       "sNxJpW9GRl5R698si2h+RktPuqBMtrP2TTA7pua/6C0nSbHLZH5xeDjcWfLWXpN6BdXxVTkIletm\n",
       "cv8HBGSDU1KSYQ88fVQYKw932ZAC0qKxyI9JC1F66CzGWRzOuzOs658FpOysx1sJgI6HXZv8w3er\n",
       "kDPon8DSak3P6uK/jZfh8GbLfsMYdQhALom0tHtoLz8hkKnE+OW2c7Eh/1lUUsSP2uYVZxjUmrWn\n",
       "mxL72n+K4/R97DieM0TZ7OsefphQJJd8NhF2L7dHsenmLqYy28fpSjI/+UHtfsHdpUaoDFzEcUzs\n",
       "o9o6HFPmuhP2J3tdVyyRrBwXKTAn0V+r9JLLbh5i7N8eJDCEYe0k1myTqP9K7uV44LOEYslGJ/qt\n",
       "ejIlIznv7foZm9FWA6RUO0y1GYuN+iiAuEq3YZnQukQBSbU6hw9NNjQuh2OnNt5zWvnHc9lP9d10\n",
       "R2hJPEFYwAoOWTY+cEuWp5ktEeVOcp5obW2gJvPHLuf0kagEj5+l2F0NUu+zOTmnSH8uc8bS2z+e\n",
       "nVRhvPe0vZou+3tUGdEwdm+sIVPEdXNfY9yLKwrEdf0SiIza4qEFXU1b+qQmiTgw91dLfwVQMfd1\n",
       "zjM83lgQMn6E/vZ6IuM+6Wn1iE8sloWSyeQJwslLXhpt4pJo4EwblN9cBD9s7HcTEfFPA+0I21Wx\n",
       "fP5s25giOOi4Rz1x5bhYaBiYBqNDLYwEagJ+8DgJtt0o6YM8O7XV1QaNajXrY0m8amh9CmnLUFuR\n",
       "C2qKAL/9YhKQNLScdZDzVyFR6M6cmkeSi96MQhKxmOOT8dKDa7Jc3+CGo5JB8KN5X1m15+PsTnfm\n",
       "V655LU76/dDo+3qXWEelbj6v9x9deSD7F3YQUpF1+eGJWje8sTEnRa2t/B25Nm63M7E69ktMxB9m\n",
       "5j6fPh72tNaEu5cuYbIwezu54k6ShzIgJEtjohtcic6UdoELB418WQiDt3gQe+TzfkAYepGxAh9F\n",
       "qMW6beT3se/Vjaiw2Va8DvGaBCjLiGC+G0PcVo0lcBYnKgGlZX5WDqkcdxm5TGltsctXW91n5+5R\n",
       "0JpIytO+NJIXEPmiZWGZW6S75Js22IXlvmdWbBZc8hvkqaFVyfp+wZg9JHQsgcLDeOIsVwaHbhv8\n",
       "6s5NV+YO7FVnJ3dGN5tYntwlVUauUyKj8tLjCXyS7bT4hwKF0r5mBVgsfXy0yFq+y0LuMyQFrvXi\n",
       "bhqJ7YY+4p9RPgSRGx0dmX7YGgl043D8O6yPUs/rYD1Nki3sJVq9gVPNsKv7Yxiqbo1FjttKwLLI\n",
       "YvJLiU1nbRECihyDucKIdx5AgKcfgJ7jjS2ODfMguVzBOwKJlScj36/B7si8b/EXudHVdp9yG7iO\n",
       "atPgou6adh2QU6LDxUiJVD+MBzWMp0kGKeXzTbs8KmsjTyONre85ioQ5c5XCDum0c0GBM2+DB9Q4\n",
       "SpPZe8nUYjzlUnOTonG0XJonLmBOMPfZ5tN5y3s+j3kwfv2tjg4W4H6O9ZjurFGZEbGMZA5l1APq\n",
       "IFjH9mcKenwfQE7trIh1QbvuaekiYdgijvNcOKtgvDeFDeIepcwEtg1tRmglim7J6RkDsDvDeN9w\n",
       "FfI7iDACCuXcphBlJ6lctcx1EwT6C7veLnKa/tvx5uqNYcR2FDSLzHzEqhslKLk8Kx4qvCgmk1cG\n",
       "w/oAe/avPWjxCgAp4mTaDLhDtSf+DIvHaZjNSVEji9SFH02plKJ+YZBZKjOUmw0oLh0k5NWAPy/p\n",
       "tMdlDMWMcJtWUtRAB5SDXzvEqcLMPjfbKwy07FVhrEp2AEedw1u/HrMBeikA5Wtmjh2zViYbiVo5\n",
       "tqdPi/ad7pPfCRtdBgrkaGSmo9WkgEj++3GZM6+sVEEaGtJMUd/BMGSrOEMSTZHKll4VkbzmF8tu\n",
       "BAQtZnGnMUoAhk2s0mzcuE7yi9wccpvZXGdhqaZiFlolMnVSRSt9vl8FSOQ/lk2JZr/JJJ/u4Bso\n",
       "2nqd5mdVCacA9pvYjVYXaQh09p2EfvZ6b8SEVEak0cLW+ZTFXDPLLrY6gvvWhjTZXjcRoTaer8t7\n",
       "oA5b5WgBOf7EDVw5JWqthk/va8PHEAtQh+PlOAW3PrIe55VMH7EVc/F0OLUesuxkoeeadml1Eq9L\n",
       "OSavR0A4qNM55ybakxRncujh6wsMFxTDQUlGWPTMu4gj3IRzzqL3bWE5rJq7pMuAcPLsRC8OQcxK\n",
       "ZM9JZacN3PA/XulWP6YlUxtMscilIbvRBfLCUs8fpyKtF+VJqXf5SGyEjE20NlDTiRul0dket5YG\n",
       "tRD9sdxrAPOKL/u/l6GkPcgONpN+jEynKip1jb9P//gmL3SFP5sgG3rvIFK5t+m/zIUkWABP16T3\n",
       "p1DxQt2VnMUHTONWQcY+Pm0/F+5DP74QiWq8TADsji+vAv8SDVs4xTNbsp7W5cDXnKTaCDtRIxi0\n",
       "mdJTX6jmStfqehM6lmwhgAZdjobUsKTI8etsxsLaOASiLEL1pQISsX8mEaNCX+Sf87uAKpx+0f5q\n",
       "tZkiNbCW93TnbicSqWvyj8/T1vKOfkIGHJwq2kZfkG5HgNTeGL5V39KH7/Zz3rAUW9MJHB+rcdNI\n",
       "tFIGo9Xir7F49oEAAADUQZ9ORTRMEP8AVpzfYXQ84IDCm/nCmXqSHESsAhABULu3070ho2IBWZbw\n",
       "fmPUBcufqrbGZkMpJN7H1bGOzpzj//vMWhAT056KUFGjzD4z4v066BDyr5Ye1jXoyEZMs9wJ/XYu\n",
       "bmOl45XgJvco4/a0/M5kRjAAoXFuNyosNCdyWaCix0xQJ/kXeBu1ck4RK/24xj0N4SFxj1zjfbde\n",
       "flLZIbY8cS/HiY73A5/D8OZR1d4VErTxXRp6H2dpkk1SXMK7zyWvfnx5PTPXRqjEP2L62jzaflEA\n",
       "AAAnAZ9tdEP/AB8K+pLId7wZmnEn8RpVZcOPMZQzVoGQs7qKJasfMBlRAAAAMQGfb2pD/wCy7H7X\n",
       "wtU+Fhf4soL3STYQJ9UXfEIWOis7kQyKmrCUVg7DdiJgTnWjSoUAAAUYQZt0SahBaJlMCCf//rUq\n",
       "gBlAycowvBF3AWZ8AfFD3BPEeSYeQRFCsmNqpOR8vRC2fdIC3EmYjCjpG9/8iAHXNXCe4vAa13x4\n",
       "lC9W3AuCq8YX9tDhmTs7mohuyqjoB5j9+7+aVpuMZJO8Dwcb9X1dw0y3+pnCU1+H6QRTFW1YRmIM\n",
       "2pg+1SkV2q7kr7Yy+1bvGFXhFh3kpaSNi8CQTErwYv0nn88LnutrqXpxKYJ3kGFqtXVT3lKwfhEp\n",
       "0LxbegiG/bO//HPCaO5wbHRUwY4WDCQzoXU/JkSRzph7bVyvOVUNZ+xzc6s+FMCabqaXB1ZpifDY\n",
       "+oT3VWNA/afwcyQShpwaYh8+1Zgih1OCooQtP2UlpdrTMf3urxZAQWtGV37uihzWTgxgSn6FwgzQ\n",
       "frS86y01mhsbof3oC1R5MKCRS/HxJ+H0rBc/att2yoEDBgTcFBpa+dr2rDbqW1WKCIBRa2CI1NOe\n",
       "Fy8OGWRVPTZc6uUcvmklEPT//v7DyywqyQn+FMZOCRqVyxxA0jGX/YMv03hUaoNx/hDglbC7E9af\n",
       "gBpkkODDj9YS79/8GQgTrnKZquf9Krv8lsSaezI76Qbm4bYK/GS0Qa9qii4Q0Xi9Xfcnb0u0qlYY\n",
       "J0p2XloAuvEy9CNMBzbnZrFJzrZPl/PeqshLCb9aTsY4fMJmgSEKduhhQHvYuBSH7diuq8lWf5L0\n",
       "fehdXTPakokhCGioj5RcZKa7CcQXKXNZM2xjnG0bTBRfXJqEa9vq99dfKPjwDAPQ13CsGQnyMeU8\n",
       "K8xV9HDEjqYj5duf7IcOChX9ZeuknlVdVJcBBb40BF7qVf73bydAfrVKWZXUP3/IIjKqDyMvSD+h\n",
       "9rIHzAdnRLlXcRyA6cxb3IicRgX9HiBdDG1+LCnX44YSK+H0AUGG1Xbl9Do8n4ak+2G37mj2+tlr\n",
       "vp8egX9ju//U+3T8yTrpRi/9albGy/5cqTmU1vi1RePoMM6hcXIU+9Pl5cMI1T1kh6790ymkxaiq\n",
       "Pt32cZarsbkzojxpl4gn8I/0lOGl6sgawHWt3ftFon6f/BEqSg4cw9mzzlvp+esepb1IUylv27qG\n",
       "+menKDSkh7Lvlra/cjX9Zcga26mmGD5N/Ciavy5USyTxv4bZqDQR3Mf79pWjeq2QJONyj/QRki3Z\n",
       "sbyjIBNBf11PjPI05Xd66Gfl4MlQBoKMv/yNGlVvZkB1ki9C0AknTg685RWUKkEBhnht0l3izaK+\n",
       "PaZx7QrqyQI4+MOtjFkh8goUC9BbIJ+tsEFaU0eyna35OiFH2ks0atldjSUGN6YLiVBkp9eOxrlT\n",
       "ptaf+JWx1Hjd8YKaqQFFcpJU0YOymvMyNky02YbDOlgges7Y5OibIszjh8HmIyTz+r08AogYCysR\n",
       "x/9bEIDgnoLuvHsodqsJbX9tG4+UknOWTwldASPGV73+s340R6nS43A9VJGvb96r9C6EnCgUeAX3\n",
       "dimTYcAfE3qawX8U3VPfjVB5nIFVTfPeu9xZFk9nuNCtuPFZsssROlkWmWvFO+tLaSYd0Ixssry6\n",
       "RcyFaDOf6n+NW3vv4KEJ7wshE/Qyx7K8N5tvRTvuPGiFVetGIpIvDF4SprMSfDTDeZqbGzaMFWh9\n",
       "a3XCUmbiHsSD4j9KFr9xJCftpqJbBEL1lCiDno7HWSS4YTTWIEY/+BCjH/0K2lR24eTrPRzhzwvv\n",
       "LR0fTyUKXGtXEYY0WfsRCW7h2x2dXEEVWZeMQChZlOiJZlwAAAB2QZ+SRREsEP8ALj2xcz91OzOC\n",
       "F4nXXthX4c80Urlq3F4DkOrRBORl6GwA1de4QZfZg+r7DywVmvvVh64B0cUz+MVe9d6F+0P+Zxet\n",
       "ShCj9oRlQ8cqyGsMBai2ev50GBZlq+3as7FpLJ0tBd20/qVWTxt5lauIMQAAABoBn7F0Q/8AADI3\n",
       "SnR/wpNHI86x1GQRo3B3sAAAACEBn7NqQ/8AQODW5wOiYsdGzKTdGhpDtC+KVCxK8Xggm3AAAAJP\n",
       "QZu4SahBbJlMCCf//rUqgFJkcOOvlT5kACg7VDxldhc2id8JvW/WeC75/vh4BHY5qokTZdQukuHr\n",
       "ul7qzWlSi6A0qrie7UtC0RuOEM5YuorYHpk66nbqS0ELW8N3YafTEvsBhUP54F5wwT4mfaXGYjEw\n",
       "xcAo2eobSWdHZLHLAh1RU4+5+l0+KDYxsfj+NJ62b/+F0/8yuHdAh/K3xeEQoM6tGHVcFAN8KD08\n",
       "R7D4AKlpp6gBmMbqFzrL8t6e5962NXmOg8Hcaa+uWrksr5AgZ5QlQSgmo/D9eKdF431Qd37mA++Z\n",
       "3sBv1raz7zMnbDX+5Qs7P9OYLr/IE8IF6yoIjTljIUz3LkAtfsBJAJfIMPvWBkA6saxunEg2HE/9\n",
       "x3+Arc7MZYNsC0Qujgq2u58gkSpM+z0jhbhY5CesfCVkislLQLtqKhFPIGARbIi6jRNllaxUD5RJ\n",
       "1yjtIhE6pEnv7It0krPtNyKmS0AxJK82oWExkGiSq+c3lS2uZxUoGpTrMXaY+kQJa6viB6q5SzfP\n",
       "sUvTEB01GlG4Lufr5bPDi6A8mBu8hSJJVn5HSr/XXfY1FV3JEPSJQVAYOwJvYw+2i7E1zmYtcTr0\n",
       "cOTKeOFuZQpOqz9Zf9htGQQ6biZMFGVYkXg77+U+oaYpaA0mflegDcpXxgCXFm0fyDsUGbVZjegU\n",
       "aU9+3YNHoXHF/b6Qm2OtIawgUR+U71PrgjY3y6/Uq8Vx3MkJuXrY5WGYu5rBkf3yIqc6Lii9epmp\n",
       "hp3XpYqifKThFPLGBX8voka5J1CBAAAAL0Gf1kUVLBD/ADPF6xof6rMiYISofyXTBaT8+xfBNX6+\n",
       "WSE1EIH1nVj7DyvESuqwAAAAHAGf9XRD/wAA3N0omvr4DZmrceWNuQguWoBHy7UAAAAeAZ/3akP/\n",
       "AG+Tn2IHiOY4od2rFo21a+Ofr+kLck3BAAAAUUGb+UmoQWyZTAgn//61KoASBLCI56f4C4uZo6Zn\n",
       "xLNruPx0tNaJt8Aab4GnSUgu2pAiiNEbv4t4JsWcWQ1KgrPGpZzGhSl2wYshb4Ygq4pvgAAACAFB\n",
       "mh1J4QpSZTAgn//+tSqApF3fyQ9ASG8KXs0lwLAdiPR1wdG/wXhPe3K08/k84RDPG65rz2pj/Iuq\n",
       "Lpbc0aLC7NEYwOL671sl1gahi3jKamarAQhOtNmSAD2iVu3oTDTvOXGZPfwByyYzCwfEnhx6uVA2\n",
       "k/bHbx4w/k5u3UPGCb05lxFSMfUO/URJxTpc6eF/4jXFOpsUNVrjfyq3nPobCnpraRE+vTqwJ9oV\n",
       "KErcntAQ8kLnW4sEZt3TL2yMV+vc5PY6Nj4Fid+UbcJ5YjkRFFlIRIUJ/bs/KalyLRgPPZGlqG8X\n",
       "TwI3aHgToKlDmDStSxISg6x+ReU6f3vVyjd/X4k/51mXKT/Ujonko+2YAjJ20+Pcpa5chLkZag5L\n",
       "ok7aPI1fXCfX8URUWZpeY//imdATCkZ33fEmnjyFPbQXWD0vCPXBTggZ69UNCZ2WQVdhDezH8Po3\n",
       "EWGL1fpw15OAWHLzrrgGyjKCIoATdO6Kn3+/ISgpx4u//aer8Xhk6pEG+UPEwCHlSp1eWPceCB1+\n",
       "pV4cSHc1wAbPLfis0+igtwJfnvquEkcs6yPbsWsJGgUWSiz7Pj1k8Kt02+uz6NF0ATr0dbyajN3R\n",
       "S59E8dBSlK3BG79OKNYiVDXpES14D5B7h/7E3XqWkEv2wEYC2AAcvXgsw1h8lafNdhj3FuZZizRz\n",
       "4G2LrZ58r1+UUv84Vk799d7Z0jx2h/gPQLtvfdI4XCBRF2Y3YFg/+5v9Akl7waHQTGWTpEfpZL+O\n",
       "2kk3y18+SSkElRVzoWr/Ybj+5GkIsEVY2tKiF0wuYXSU1M1X4Gkqn+M7hmD3X5s/Jp6Nh5JvnDbF\n",
       "Elspy0x+Nm0PVyR32NSsedJLQyP6cwxr/QGhny5tLkwSBfgfe3ghMfpvwP5R/H01K49UHwoYuZH+\n",
       "GMqnsd6mi+ghQ2mi0G4JT1x9YXoLQ5fu170XCi8cZW0aIb+tmUU+tcAAmxTyZUfZ97URqMeJcAxh\n",
       "LRDncvHCoHagxbHE9UJU9zwOOxUpXr+gWoOidGhkmJY1GtHLQzMaX1ATSN5qhWVic3ytOKf7Jjx8\n",
       "w0uKQKBWtvc3f+wVmqg4S7np0uMJyfZ4xe+sGJGllRw+R9LcIYOoJX45YEfOC57jLMz3euBkupEH\n",
       "RasBIwkkZKb6oBsnk6T/M8SWOAq1yao0+Wz7+CTJ7Ei4i0DIBAnMK99bOtN5EUK0BeY3oADVH/IF\n",
       "OGIkRaMMs27QEQFi78/seoT4HboHsvcFxuTjdHNSYyPERM3I//JSJy/nkinbYTKS78iadjsjG06N\n",
       "2nWcEnW0ddC+/YOnZZX+jwQ6bMKx4YcAT7oJiejg4FMfR+ZVDyMDoSnSLBz8kT1/5pa6yPN+EReE\n",
       "d638M+1IqUz1BHmBPyh0fLyljCIu088iBGi+ajgR+OI3i22mMB0Gzx2fBY6ZQkMtxlxNy0FGy9Xg\n",
       "V9oSfrY+y50I7Mv8zutLUU4yy8Va4QWsxXKt3GwlWkqcOY8jEtF1YZb/W8t/spjyvOPKryi4uCok\n",
       "o8CPCPr0SzQpVYrjq/nTRF8Nr3rlTTWE8WSxaNbtidT87T+itcYds90Q9DTSbuDBkNuy8b/LSX62\n",
       "UdoTEOWnaZvqDA2Lis2ZKeYDN3vzCjsYFqmGBtNevyM37/LVDfhV5sKxG5JA90lf35648wJjtPFl\n",
       "FoMEQe9xLBVq6shT7Va4gpo6/vhoJGuq8AL2FSTGKRFse607B+PjdwguL683z7tu+7vMm/B3RPjA\n",
       "E+1jVnSgDr0vnikkN7P2NJtmHKuFLOwkszyIHwDG4HfyuoDTIzjslJuMfq8ZVRbdmcqTkU++/Tsl\n",
       "uhZbVssV/u4ChHl1GN3rBmtxphjybKbogzMEoeO/ybqhXOfbCWDujMn3n6djb3XnN2+pqsAkyeA3\n",
       "QfynEmLPHEOBL1XjJEnqTpxVifOl77VcbY1nEeo/1wYz3zvXXJ7EDFSomlLo4j83TqGqxG9l+BTk\n",
       "2GkP6CED+Khr0QKe8euASPIcsG0EIJiPjhxlwXZCbaj1DNn618Qnpb8Ehp6fG6MTtu8JNRl7eWxG\n",
       "xbqd/MhcLpQmzXFIMTiWKwaixkAS1U2vygC9C1fAhSsUHhm3tqisSKFU0xpKrZN5nJODvMVQAWmn\n",
       "ZI5UnVPaLXeNyYG4hZssHH2XpB4gDHVrSguEFupY6TjyroOyLd0tku7dOh24FWfx0pEza9R1qcpL\n",
       "0YZYwaxBd9RsyKTnVDd0p5+ych9mCMvAcnNP2TdNxNFudHosGj1Tm5yJ2sx8MNiu7RvodevcSgZx\n",
       "u15msYdFtqTx03MKX8ddl9UtPyPls6ihUD+1UYANqgN1t3gAYez/V2sCYP8JUssTq539llvnyagQ\n",
       "jwQCBBh/1Rf/Gx8gRiF/gxKvpxgueQefTdUM/+jXl5M9MCpOjB/dnijyYFdpXQQh8cwOlaa0KH6U\n",
       "HgDX6Dcl0Q/miDjXxi4h1V3tiEXLYPKKjkzzwbbYgwvCA9V5vphIbXH31azm1TEgtPd6IzEPHWd3\n",
       "elMpgW6IS7Vjn+fH2vfG6Otcsi5OdZTSQrfa76kB4pS/tbPazpSzK5lrcvCZ5tUTKOn9Cjkybkoy\n",
       "JwRhFnnSllhf0KzJpIOwWnKrLCHlUXLctE6xJEhJvX//rkZNk5Z0O08LwWD8HB9kxDnTfb9d4VNc\n",
       "O+cFbKYkv0+ID3nvpLzHOTu81bktMDOiAKgy9PxkyCelR4zDnyYmvyjrLEm4JclTnYox2IEAAABN\n",
       "QZ47RTRMEP8ALkjYym/icgFc5Nh3ZMbYIbrbmHyVAkgEbBElabI9v+7t8s8/c82nhp9vuABxU93/\n",
       "cNT4lz7/RD9KxpkSwEVBiOXrPbsAAAA6AZ5adEP/AGUKU/MPq+vKsDVHfXB1J3EvzcpRg320JqEK\n",
       "6QZjX4IQ4wAON6qioTJGvF11RwQm51470QAAABoBnlxqQ/8AZR2zwX2UZxCu5Qa4UPQ3Hi6Q8QAA\n",
       "AtFBml5JqEFomUwIJ//+tSqAcfJ5WgAHObVz3WzTJPTQ1be9xLeZ4G6uCfB1bGudMJv2bWqTNXxK\n",
       "7q50vEgF9IsNM4WQ7KhW2pbngj/3kbkLW/kY2Px/EHOeu2yeqPzK2djIRRDw5BkNu5QMC1RejH3R\n",
       "dPSBgbCmOW34If0ohJwGKZB4gsu8oT5wYZ10Vz2V23Y2QN5WOvSCJ4n7RjlBLmFENETFfdKeE8mg\n",
       "6Rto/7gytRcbd9Z42jXTQrjWNuTIPP/A674xL796YP9NhpE9Eu9Skmcbg9GmLtew4upRraiWh0HD\n",
       "wWR+aBbukivlz2bQ4Qs0zC5dJ3bS8iwDQ/GV3MVsfNOp5mqyLiaRr83MmienFZ618Cd/gU1Wbh5V\n",
       "fnBZt4u6XZk1YVX9SduVqgvQt4SGNZvQN9eIh+E2GdyhwEIG0eC0pgK/ewiZYuXccfDQHp7pynQa\n",
       "8QPBMV/hE4O9RssmtJ21QX6JT9Rlhz6xL9bIoJuwoxaQ5BzJbQY5E2QbpV3pW+wyEdag1ppPKzmM\n",
       "Zr4UB/IBwYHCEYUNnosC1sI7iumIrKHwHm3Ve4BPfU34LLScnwTgZ88r/bCZax1jgi8ULbbV7G2s\n",
       "uBqSsiBSOKPm6+Kkqqc2RmQJSFg3ENDcaWKmsf566TV7kxAj3ls+wsvB2frkbccCVkw+I/Jp6owv\n",
       "RcPSOemHel3g8x3clcUcZ+XNwiO3VLXZ/SuxpyWwQY0uLGHivb91YVMhGcS50V7+OhGbr5vyhwgZ\n",
       "nN06kqiE1dvhqcTCR+5DILDuD/LMTnlrhCPAx00ZdfNw6v0muOEg34IpMb5o5xjeFzTO+Qu/GzSo\n",
       "gtob1Gml83Pac3mP7G1TRayV+5lE5Mpi2khoDDVnoE/fSZm3+2EL9NK9tE/P49BKEkU0H3RcVzwW\n",
       "vJ4QL3pTccbtCzvthAWP1dPXAU/m2bR/EbhqTXhv9ZMfUNRMaGMQAAAN+UGaYUnhClJlMCCn//7W\n",
       "jLAw5//0xIaIAczbuVAPcMKYIiV8IC9oCBiMlzcB+LOvN1x+ylGk5XXE3Ur5d/wAqAorMCDPtKKE\n",
       "svibr8Bg6AV0+ecfxlseRkkyM9ucooPj+NJxh4Fhf/8ChQ7cTJ3EPKrEYQgXJv/zcJE/2BG1/dYc\n",
       "7TPKuXVYA4iFMYjaPtlWKYmWCwWa5t466LdXUfgRXTHdXkPAe0kI1qAQn8SXkNhbOkBvsOQuIVfB\n",
       "Tu/gOFXhCB/JVOXSXxcbQRocOIBW7gHhIzBKy9VWjdl3R5KV3mvxaZYJGKvUXtJXBgHM+ywur2N3\n",
       "nowGMFl404nvU/xeZqswe6ubxRa0fvgl7ZY3YEpgUWtPeOrvcitAtZ9FhzgylVmMKxCV3AzfZge5\n",
       "ET10fW//XXOGuOcZpr0Alu8UcTTGyqCOSYRQGlOdfPoqcQa+800M+Ct6hzHIVIW6UZHSEaZvuPdk\n",
       "dpYNyK00abztgpZv4l/DADZtgQfqmlxl44l9dJqQbsf/pfDpY+aPa1mr1tPi0lrKGxxsSbAsSQ/t\n",
       "YqvRU0nPJRxP2GTGh28+vnCfN+s0MT281zVfkuKiSSyDddLGfZsV6DwCYpNffLDREE37+5L0Vt2/\n",
       "GbHlvcs6VTiENSHKjFSxy25DFR8F++JQVu3CwQsu6TejGrPnUkHgKAqTUC6JYMNtdEkkmX+XA4ao\n",
       "fDlgdMdwBVN/OYcGCGOX1FpU0gEuqH1L1AHoZxgDfUh4YRUgicxj+DdULI4efs6n+f8qnX1FPLEy\n",
       "ygMXeVhhZrMHMkUSRPJsM8BNyLKRez01IgpEyyRONOqREZ/eAauPWBRtsrrx3QMWb+a3amW1jmrJ\n",
       "LGrrVq56anv0BXuYCG9Rs9k8a2BnomVogNxZal9riaC0xWaFKkOrYTLBdlH4RzoUOtDcOlorDN9J\n",
       "L+hQ6EmJnfGNz6oEc9iQtixKCB0szc4oIXZZp+4EKJCXgiDNe8aB71Csn6aFnl6jwlcxw8eN+9lP\n",
       "AGlD0QGjUWIh4ix083UgkNZN+Dq5zVQty9EwT41HKWpwpU6k/SDnLzvMYx+lXPC+XqHqjYi2T1hE\n",
       "AUXOUZDMPpldvVYTafxSCWZRx7BvJskv5xEkQMbzWF8ky8a2BIA8muO68+pca4qtRan4ePPYXRVx\n",
       "rNL9fGcM6HHwnBbLD6VgP1ElgJHMeR+LEIPOXnV/AI39knCpjrq8EWj4x4/fXIv/luce1su34TVB\n",
       "M6VptNJlw4xYiw723VPx9M/9xNfa9Wa46qz2d3DxzONZuBQh75538m8AMYTkJDUw6u85d1DrLwzf\n",
       "zs6FAti68s5GYCtDPKhwNyfTKDgtqfvLMufRxPph2/h3mJOH/IlZxphV7OC1U2YZGK1esRz8ADs9\n",
       "BcRXwoImX5PKNIQtxRjw4AdsmXgLXrd/Z7NVxb3zpACp7oA1bnphAZvgKa1weFD3QtI1UVPgMOCl\n",
       "gr9o3HJpdLLkNjtZrCt+rn7BRFH+md4P4EMRu6WZZxh5VHTFP4BJ43J8L70ZVrA+ik637wtW8BUW\n",
       "rvkQWD/SyJ1dtGwqhTDn2sQd6FEcdm7px0mWqBJdlzM+ZAUqNI5DjdI50ECM8/KBxsl4Re/82sk0\n",
       "mCeBliGUnn1StPCL/R9IxcxQiKPvI80jjHqDpfin6bzAVmUfLbhmPrQjadbZ58Usa3TB/L6Uusl5\n",
       "B6LZT8c/ss8PGjIJJuGYoZgMtI8iYJ3aOW//gVe/rflVPxHQ2q9yasEpXLx/sogY3WwXbHUjW/s7\n",
       "Y//h2uv520oyd02zRQKlUbmMrHHhFtI6WYuUvMNDzlOkBFW61f5jy9hYR4bnuQDN3TdSM46ky+4o\n",
       "nwvqF8M4S4mmz7OJII3MmO3ByaTQ19DB1RgIF6rJpYDum+pK3W09MJ1/5klgVXlN9oVyU5K+3qmJ\n",
       "MdskLUXRC0Ormn5lljQJE3JN4PBp5N1ti4k2ffi6/75Wyvh3v8FLAix39ysl+3RMh6dcRnFYfLiC\n",
       "D6FKANkGIQNzflqWwTq3/eFE9NVT3Wm4Cv5IC/LXbkKr6l2WYxWsT9ghd0Ev+f/NUa+djKhckftJ\n",
       "IDjjwdhwLKEnfVVxsk7b+p735P1ngSamEdmrAl0Ial9calfJdVSMdfv0YayaJALW75vOH3YhdDUH\n",
       "L1lEuvyCxnDBr1reLeVqY6Of3w069epVJqdRCaq84YlDyst9CLL5v5UMf7TIomSMJuI3qHThmOxT\n",
       "d7TjPHm7tpT236Ojg02f0fVUhpLLEeg28GTLYdvYhwMMyUZPn2WyZwZneMMBwEI84R6T0yzXhtWC\n",
       "kC+Z7gEXGN5D1LEYxn8JJBjaD9Afv477NE+FzHncihtquu4ZpdF+597ZWflu3gnaYCQifq8SRWnY\n",
       "J7FAfI3V1wQ+kNLr6e1EsrfabVEy/OamT+AZy3vInotKnf27Ji0plex8gDo7MAFygBXGZ8aFiZdr\n",
       "N8iIHYeAXOTB6fF/9DmFlSmw2RShD9S4FszJHdajGddDVOev4HYKumfBpSxNwLxGIxQu5JfBflPQ\n",
       "N3oGYSeofzrYhyoYRKFsYbtvAveNN/oDxXxj6XE3GddozrVX0ETSCJb9mbAztW8gG1DgR3+JTGlK\n",
       "8muFw3dCeyls0imLQPb0OV4qSytdSkVXpzVnuOHcpZ3sj707gYqf/ASd2YkF3I9jq8CBpAqb8ZpB\n",
       "OwntErnbomlp3Eff49hl0GOZ9Szctt7HLJzNPkf2kT3UgWlPe0gEv+gUObJU+1K303ojbl/PU25M\n",
       "EOsOOrVUWKcjbZnEpbBc9QqNMTHL0GJvOiFck16cnMg/RYxqmKYWA4tkIYx3r4KQCZS1NsxnDke1\n",
       "VMDzPcWLkTaMvN4bEd+zqHiDfWHK0iYNq7V8a4tRkV2iWFQk70MZwXk/E1Ciu7FqD7mcPkAGUkhI\n",
       "5UaqRTBTEZUJw65zZhmJn1KcyEQe9E5pRv0YPhp2uhZ1kZNIsmpwsuac1R4QIqI6QrPv9uouiPuO\n",
       "isFYtc3h+W2JKB3boKGjBV/dhpbnhKCa9Lt6utO4Jl5E960nwV53vww9kZwtUQNyvzmOBFGzTuWw\n",
       "q3lHiZEQn1dVr0dQwJPy1FP7aBei9Dl0AChjT78sOSvh5MJu8bbWuUn/fn4UrPAPaIJil/0zu0eP\n",
       "XYBj+yF8BOZG0DkcIHU2J4wWZ1g/z2QaVWbMEjr0hSn17Mg+lW0QVL5k8FmiWM0xmPisfnGolAn2\n",
       "De5TxRjbmGC2o5UkS3tHY0Y3YnWu0a9Qk/l6vy6sqk4+UUV0p17JkNn50WXU8fcSNDls9IZ+Awfe\n",
       "Y8Vhyrt4vW2uywVQROv42RdAXDBDYfqBSi6rMDPrWdBuN7HCksJQ9qPytzajBZh3+o48GfKoPszQ\n",
       "yoGZwnKjrgNvSxxqZV17/8ixlQXRaEbGTbgN7rEv6hpS4k9OKvJqNrsV5WgODbaOFlfFPCh9Uggw\n",
       "pjd6fZkrmCpbo7zOhF4wvwEYi45ji5IU7yD5SJp4s/J4vyr9HynbdM8nTOodyxYtoFA4tCt4563R\n",
       "g4fEVTpj9iNNOpm1Hm3erQ7dEi4QBwjqmTXzn8F2Jle25yyIbkIna/sfjOzyabei6JVRudZLq/hM\n",
       "yjbtQCnhhB0ekExgX13WoeueFB7XDilyxS3ZXwhvTnKwhiQ7BEM3whm8YHh46up+Ow94CDohWLZr\n",
       "5T/W0MmoDKaaz4sEgRQVgbRErQ37sFVMXgoCRwASo0FFijACobSdMCivIh+sHV8yagQ0SpqljpPv\n",
       "lrQc5y4nicP1HSz1Pr3yZC2DdVTdjhjDl03s/oUUG+WVuD93R48UcYF0M8zq+1Tvc6amlROScwol\n",
       "vSJAU445WJ8Vq27rUO2RP+twEKun31nQhswy1tPGBCVhlMNldI/5rdsWzmG7Bqu48IG8nZx9D3/3\n",
       "aEuo7Am1fBsaL+pav0g+vfrPCqatERdy2UACT+Be98koo7OmPsntW9xwSYmW3sj8mzUTrzBAiN4w\n",
       "wJTtfoRmf1xrtMBXaaiwjzZ73hvzTT6R1vNAS/MRsT0jdyCah5nJSv5vb3Ca6TtTmnIkWsFTP1RM\n",
       "kgWzhjPXVukaV46NM5yE5wKJxyGrV2eMO+AAY4/KE/fveDig2wJthKpV1vCW4cyetfRg26VpcPFT\n",
       "QyAM0IAfxpQ24gfdwRnPA7Fn6G6ITe8GMgT3z4yyMOMPs2a/01rACJUsSQsjc7G8nEdJZz61m841\n",
       "ZYFM2x9cWtGN/jyFxoGuSFUB1NhL7OrFJJVrd3pm0Ge3Mvxe6Njd9qFxpk7vrLfMYuESMlH7iwbG\n",
       "m86+CB0bF8HmXgLdX02oEBfVGRTz4EuoPwC3VPVVKjTtnJ5yqmA14SRJSyBfmIK96ZiniSJvs0Ge\n",
       "uyw860FWVIeakcNnEEUCHekoA6dErLBUZf0lnZvu+QohX1Okcapu+d2jNeH11zY93ZRQHPGL/vNz\n",
       "gPE2TO0NTBnT83ApTN68ZBOh9k6uNoXOMb8W8PznAXdfVx/EEdrkeFrVrAdBR95A3OzBpbXmoql/\n",
       "9DF13VaJq43d65Xqf4z8yk56I5Ctd7nTiLrlN2WTiiayPW9mkn2BSLWVcCf4t5Oy+wrjQnxVJnjj\n",
       "Hi8FuvInn3Htf5z4nCTP+9AOPuUqxQOnLyAK7HbXJHqyMmdU+Z05DS670xwuwIpJkjwyv+a2x5pf\n",
       "4bvqdTV7AKRqqaMhLZliDMOrXFPdwx/zyFJ9CO0/JJTOrrQdXHSr5ZqJtcDIQtTXC9AFDmAARSvi\n",
       "GnQOv//o6WVLsiBFxOuDuBr96ClL7113iwhDdZAAAABkQZ6AQh//AI/o0g4F4RtsTgsMUmRINwY+\n",
       "SXWJRzD4KNH/xvim4CUw93brfgkAVGl45QrESZKE9BZ6HToZy4/e24WZ41yx29EPF/dbPv0Uu7w2\n",
       "ix+bvJW5tZV81RAVnBtirVoOmQAAAWUBnr9pEP8AkANbmcdvw9eyaKy06uEnapsmu+orl9Pt2bfU\n",
       "rQSeyle/t0JG4kARAQE3WDROXY+z4J5mvVGaDzl8tyu4dXA/YeVQjcDpprwJ0Ep9b+Rv/zX/7FGP\n",
       "dfXtslcYgo6gMnB7Nt/zRFdfOFlLm5kWsU9pOoHT87zl/amaNOZCbNnBnTn8oHZbwUimJsZolKUd\n",
       "XyLlAvYibLKrALgX0r/ZUgOmIZC44jhM9jXqo61TigBimY9SuQKHgLUs7mpJNYRqrW7Zr8jX7g2i\n",
       "AWf+tCRAU4BphLSE8IyUQ5zsotVw7Se2y29SbHnyUXStnHX110PP3DMjx2JUMNnuYIvlH+b/ifbA\n",
       "0uJCeDXO7bNs8Ev7mtW05Ql2AsiHDBQZ52ZsdWhknFDDlEHqze90cadvc5+h3MuIsrOc03TfXqmG\n",
       "/OOY5zwgTMxHj/VVPCw/pxEBZ4N+b/lxWvkrplRlBRibwFrHfmAAAAGPQZqlSahBaJlMCCn//taM\n",
       "sBlyyOX1gBx9u5QLCHk3XqwtNbUNzeKi/IfdqprR27CjCyig+P0teGLL9xHtbysj08fojgTcr2lO\n",
       "sPY+ahIIyZ8VeabuZ5RN2QJEOJlAMedJBfouHAXvhi3WFJ6jv9wqwJkr5x8Zom0pHtYa8HDLHaOD\n",
       "0whxZH/ncXSoIBTOS3MIHNzJqaCESzIlkvcrqiyTYm5NOhgYihf0FUS/SYehpo46vfhs6ap0p9lj\n",
       "BaSGz+p6dM2/4ltO/dmBdFOyjelrMowmSknw0UBTeHKtLVAMnnzE91sbPmS/2LDVQNF1rtJ39thK\n",
       "iMnJBUD5XcWZdlGS8MpY75n5JHtq4Hty+JkWDHeGquyfZkESZ5V/F/grxfdRw2QdjlcAcwmc2Kii\n",
       "PWvaQFnK9rCIObC7mjwVifeASxyT1diXGX+Qnoe2yIpE65XWWzQUyXw4TQFMCGV5D943IEtDVkkC\n",
       "4v9h+RLaGd5eNAZ2xkc+iUUEcwxzhaJx8PwTjiki5GaR0yrRyGMbgpqBAAAALEGew0URLBD/ADXl\n",
       "8h+/DTnEq8N7RYOdjLwN3xWYcnXZCfx3gIqu2dQmVwnTAAAAIQGe4nRD/wBlClUlAdq2xCPbQHDj\n",
       "i7Hja+6yoboHeVZxwQAAABkBnuRqQ/8Ac+P5ONWTKMAVw/hpZ1ydrZ9PAAACT0Ga6UmoQWyZTAgp\n",
       "//7WjLAXL2GAARkiQPUBtiaB3qvPSlHKn+VPdSWOLK0f9Nl00qfiVL6ezbpoYlpYu5YySzZ4Ohas\n",
       "R/gm7T30YrHX0t/BXPoPkiMA1J0UH7Zayr0vX6p3q/8dKrvdW3hZN3emTW0UmA7yIpw+LDjykhMe\n",
       "vK/aLkQhHBtJg03zJiUf1hW8waA0zFfxXSOC2z0HlcHJcf1AIO3UKYX6i0IaLQ60iw3AMcs/1Pun\n",
       "aKRP0/E3HpJt2H/V8PkTwyuimsACW0ZAQlBUQ7nyUhEGZsK3toEIc71jXo4sDEDxpXBcYW9NiZTE\n",
       "1g7F+1WFcvV2WDAlf2eG2S0XPAnjU8fnIoJEI2ZuXZDT9bvBpFTShSEhC7IJ1ueqGHXpYQvum8M0\n",
       "Uo+HGs7Hciy7RWxx73BP9SoXntSU+iQZYiCZ/HUJMCXGkKAN1s5dSEEm14tpL7HnMIgRDkxJIPSi\n",
       "saijFw/BHJilRhGIzlKGHs16x9lDTTKe6eGCZPrpwq6HJWqaXOXaMaeCdzs2VGGhcG+wcFRVAc0t\n",
       "1B506CdhzXvIyT/CSkT8Mfd95LJOXIpqNINGNv4dOu4tdMeZrx+loU4LHbfdjD879gG6hvrRTh1V\n",
       "hpZt+aXpfAiBsvOeUSNv8P/9Pe45DbrtbFVIuMmmDqBjxqcQsmydWZ2S3/Tr/rjEdvIoA1fLhvwK\n",
       "OTY7Np3/gI+IwRs15nCmOo3Egelp9BVYr2hesQj+fStxL64ExhtEf0Fjy1bJ9ss++eQv7Z1YfMY7\n",
       "Oxe+7NPhYXdd5QAAAC1BnwdFFSwQ/wAuSpTObIU4APniAYuP4rZzDgcFG795JKXYaQeS52RZwFOv\n",
       "A4EAAAAcAZ8mdEP/AG+bPS/YaDFGlviUf+EC9Ody+a4ZHAAAADQBnyhqQ/8AZR2ztaX35AD2keU7\n",
       "oro7aMFwMrc8vQ+LYAP3owPlC+rh2aPNjlUIY4LMrId+AAABZ0GbLUmoQWyZTAgn//61KoBSaj4A\n",
       "Bwjj0FY92KO75YkM+vp0tfQT6PSf+CelQvywbVSbG/5oQYbgZ4DHh+MWU19ZD3bZaGt4XjJvIWQw\n",
       "WGO56rSTK6CC860RtkggnrN5uM1d/K3VTNPJy063fx02mDkswYhSvtMH3JlUBVi2soh2+KbnIpsx\n",
       "ZUtXPXUsjtQFaXWuNkbwOQmiG4OvX8HeiIhQ2LZhV51ajp0QOZ8HzR4wvTF9dLJKRY/iQpu6jroz\n",
       "hEA8JWBfFr0jHMClYp3HRXLYqvwGv9zsAXoXARkxwabq/OyQpW8weuXBcOwTS+uz66SmSH7gs3Ex\n",
       "08edT9irjLiNPOkLwvOQx4Z/VBhRYiz9pmtyvgusncK5QxLkP9bOpUC5a/AoQBm4GpSLYnJ/HaNz\n",
       "vIsvqaTpK/Szub4Wu4YvBPYKf7ucjkZLBMph3Hfv9fvnFCZcg6bTOI0jQOmMQYJKv36CwhojAAAA\n",
       "J0GfS0UVLBD/AC5KlNg0CXR5u05I/iMPsC8L/1wWGwtvXXJ8DQvN5wAAABkBn2p0Q/8AZQpUl/ry\n",
       "9B0lmzIoayWuLbdwAAAAGwGfbGpD/wBlHbQnethzSPa2siLj9cjMIbmyYQAAAupBm3FJqEFsmUwI\n",
       "J//+tSqAAWaX+JNWAEowdhQCRButUMI++yf//CDNUXwPelz7Sj6CTIhbEu9jTVZ6Z8BF9Swlqvq3\n",
       "hN3j7TJjDG9t5/YroDxWtkc1hSKaCMJ5E0uLhe093pXcdrdblJprp1ByJBrqZmO68GPT2pf+qBkQ\n",
       "LialkOFZdJoDeyUyJBou/zSnR50vu02UdhAV5KENA8GUzrkwP4rUTZOcrh4rCDG/2uDpB566Q8qF\n",
       "hEILwLIqSnqJg79CbxmG2ZneQOroZuMvAl+IKad4S3ZaNuy0CqJRc+OD0AAZkv03SfvnAnol+LrN\n",
       "viQ6tHSdMti7rC1iV6HUht0HxVo+DW9xod35Fsg0rJUl3kFLwuupq30hTwi/Xp98MuB3yFtpgOFn\n",
       "lFEUsBy9o/j8XLcsduyB4I/be8wizy7wUy8ml7dZZJX7YEkgTXLA6wb8qKGyY5m97BXi1zVHoWe8\n",
       "TlKtNdtl4zblsk5tOd0e7KVoSTJZ5s/tMbvJJ9Y8F/FEX7nB1Cq5/JYbe8mbVpC6Fbex4Ddd2IHl\n",
       "oG8CGrFLBKauakwUj/RtafzrJeiu6qMe9k9VlDinxmweSdNPtAQjFNxt8UGy2VRB4M+rsB2M4pbH\n",
       "sGkr02EehgcAz6KPIjo5pG2qzJ0Sy2ivsVvkRqCocVDDwKos3fpOT5y8+onuDG90QBywIRrrTi/G\n",
       "teM5vPzxG/aPdBrNXJ+0dq762JICp6/fxjozJU4GG1ddIz1WVESd/ofGhDd6qA3JlmF36Lr04DgP\n",
       "tONVuaNH48qq9Q/SH/WxGlx/JPmBD95/6It6l9OIRohAqAFkWc3xN6gRT5yLhU9BuDXcI3d3BTea\n",
       "H/e5kF6UA0iK6hcwxbW1jBJtCKxd7pfsZLUj5VCG4w38Uh0htFtnnYZ2LjkndBe7JcB9g62buS/Z\n",
       "XH+uuBZgBNeKn4gi7E5ujUnMfjYElrWAKYkn0r1iMLHhTHnULnimmQwvj/AGdAA3plA2ZQAAACxB\n",
       "n49FFSwQ/wAuSpTObIU4AdfuZh9YDmc8lGDTXMKC2U3aAU4iLlQj0oTrYQAAABsBn650Q/8AZQpT\n",
       "6SVA2AM0vDvQp0sDOvJA84AAAAAfAZ+wakP/AGUds8HPvx7sb3t6tT3jRlzQs9zf5YZIeAAAAhJB\n",
       "m7VJqEFsmUwIJ//+tSqAVH8HABSXPlq5uvJZxJJZydiWaUgmXxyuTseG4akVoEW7S33NNSsKuwLY\n",
       "Jz0JF/WatNkX0MOt/nOTfBBdGeKWHg5jtVpkKjUxMz2j1lwKKjQM2O8tFqwBcaxWpfScV2aAgbuv\n",
       "y2H8Xh3+aeHTa3L606suQM9WhZFpTdXNRPQ7MRcS0lHEoaKZCQkWkapR+lLVVFXdv1cCdco6wYNi\n",
       "Lntjl8FqTVQ32ZIy6DPdLYHc3mnwSc5iX0bN5tDitvRxrRdWL1BIagdt/f2b3K2Ps/Xhx0qq15BA\n",
       "xhZw0NqnDhTFLIV+9rhCJBAoOyD6+9PwouR+PWUCZztIw0zNM2XvjAhXKN2nBQI/VmFol/nBhmJw\n",
       "2cwRnXp8kuiqHyc9PcvRbIrM07U2MB5G3GUy3KbG3dP1gMP34QvDNMrPYp02gG7BY/+pLElyfvsl\n",
       "lqv+fEwoj1bOOa4MppjWwzuqxayBZnkxC0GuUaEmIISBSAXRMqPO7i/LMmPvfv999JOayqxySoGH\n",
       "YFMYL4LzPJypNzpOCHrJgjOmKN68Tqoeyu2KC/dHoizusPcquN1gQG4lzRpnsLeKJ6WzyqzbXE6L\n",
       "DNbkmWIwJ19y4bbF8pkNL2aoctdyiAf1zITT92m5cfiuLgsir8yamx1MZ7+dwUk+IYiiks+gpemG\n",
       "nyuz6EEzlbYcGfq4sBQxRQAAADZBn9NFFSwQ/wAuSpTWfHe4VGpBhMwtZohGIBUN/W/yQBPlF7Ox\n",
       "1O70lYK0F1wb6WdKJAC+bzAAAAAcAZ/ydEP/AGUKVIJI1k9/lEWul6udDLE7H2WAwAAAACIBn/Rq\n",
       "Q/8AZR2ztLWjUKy0Kk9nmcthd2qAea15wvITX/uBAAAPTEGb+EmoQWyZTAgn//61KoExwM8FfLAs\n",
       "Gbt/yFDsAE1p27ZScc7fVTm2KVpaPoaqF2q1zWTddK9XhpC8p97yDqKsZtleCCFJyUx+LsbG/IT2\n",
       "QWzmaS3qIDd++7kuCLnYYrKXkIR0VDCdKPZ4o9MdyDTBOVXaToWW3W4jo694/9eU8T1+1oEyDGsS\n",
       "ZdtssjJtIaVBUkRJ/2JMvJbGVjqbToS3DY7nvx0FrHJ8bXFZsIZsd9mIz646QQgCGxZg1yPQpx/q\n",
       "Yq8hjLuGQpkWPf6jASPcc/0oSFwISr0HZ5N6//kvKKcY473EdmJEWmSaE2VquQA56l8DyY2v8n6A\n",
       "QUWDvdEjCPW0a4CPKmSI4AlYO4pSOC29og2vMT/HkyM30EgZ8nyVe4Lt8rq88V4OwxCcSUriTTC1\n",
       "Bd7cBbCTCpRdQeeB/vMrHaOBQ9xm6XauMZA/lUhQwVQOLJswyZZyDYHNgztr6DurBLljqzlPfbwE\n",
       "BZsBctu1VaILxnueWPRNFEsmYChrSadV5qQ0FJmqAMRGZ+BOzxJ1wntot0kVzeXO+eG4wyrXcSDS\n",
       "DAo1UMlOr9MN9oa4w4c9mTI61ftNvDQB2m7H0Pt342Hi0946SJY4GJzcfSBphldRIKiylTnmyuo3\n",
       "OpdI23EjmMcxE0GO8HxmXHeXEQwzwPNapRJHZEd3P3ggcUuRIQj4FW7F49va0gvBGSstA86pRzeN\n",
       "9Xm4IPDvL0ZbTzwCWHq8W0Tl3aojUTliC1C7FfVCyXfUSOAKMbtMFIfeTXAacc6oqp+36Rsncrci\n",
       "SGTckmT2KosHJzD9/XD54W78Qn81FriJetyvoTdehmN8N28MYlDRqggU5wPYuovjRxhful8ajKeM\n",
       "9AkxxJ6MXmdJ/4ZvcSCa6FcUDrZbnm+bNcBM1SutkToZ55qIYPrkiAIHN/oYFX/seaNsmcv4VLFS\n",
       "He2HaVoBjPwPFTyV/bNGq6MYWGPvxt2jwjCYNmv5I+/nvnCjcbOBDu5kzUY1mo0a/rCEtUhbZK6q\n",
       "JptsZ3b07/y/GjiP4hqwZ4DFXmV7EtZ95Usu4yMLH+DJChrgA3Ob7QTAyZUf3TxpUDB+WpyQVcrC\n",
       "QxJd4VDkP5DxXwLoeGt1uQjFCqd5LEJbJEosXyCOfMXxj7MnZicE2hyycH34B5rFaTIKD3YaU2OG\n",
       "+iP+jXJpB01mpIoH8ABB8xHTqM38gFffN3sIk4vEZuWRO9MKqmw3R1T/vqhlScUaEN9BJ/d92v+s\n",
       "/8rCDqDAvz/lHAh6O4gQSq6S4DZuyIPBvEEo/61xAJLSGVdkYjrTbDiq2ddpXju+JV8wSLwoo7+u\n",
       "PirWqKqru9NSJNuMvbm47QZZqWCNRo0YXt9THIWrfNGXQODaQdXk1edIbNhNECUUcpJrFR4Ho74w\n",
       "+EXfCzYiiTI7Da7YvofeKUedmuy5JS4eS/RFrT9dEKt2Kc7t0fStAqfS8RbZDpAQBwzn71K4a3iy\n",
       "y+ZvYcvF/iGsFP3Sls21eF4wUDZOZS1vxSOjWZrk7fwX2xmKQ6KgZzV6ElO8dweW/ZpW+1j3gD/6\n",
       "EAnH9DgMk8EPHi3aTZ/+cC5MycU/g54GCg4oSxzbltjyREqnpd412nmkbBR40sHRbvNlQhLf14w5\n",
       "fyiN7viMP+LpbXBAs0R+/n5GOfV8RagFwTCPCXYnQzjn4+R3JRyk1IfOQ3oyj4dYACXNQ6WJD4pV\n",
       "uuhHmvcKUqIekVUhVxOwXdKlfaV8CytGfLEyHa2D5LyW188W+dVoNH4XImGo8/YzvzEcrDnNjou9\n",
       "SEWGTjHMSanuljahfEKHBoCfsIsa+48IsD/OT9stiGgm6pWTuJJ/1B/7uoUtjMdf2MRkD3xGx3mG\n",
       "P/DJMsmyMmJgVRyDiTvUOySbXDTfZiwcDu9py4ZYp0qoUwNfk3Wi9Kc2/SEr/dqBI5z9KiWgH1nf\n",
       "jX1NXuvK0JNLuMvE0PRV15bN5auxmjNN8HUp/o7GkIWvYEIvEXEs6MBbzGegu1anWf9xwh9TJZTS\n",
       "YF6db5VxP7lrQqLl458lJMAvW2jaLaBbnUpiE8y+kL/U/MFcrqYEl2YgtuZKg4hyUGll+GmdLF3b\n",
       "h9Y1/KkFAavqldA0vBmZ3IMOxypdtGsUDetRs7QepM8V5hnX4Cw6yUekci6l57vj7dwzE17ttET1\n",
       "R6RytlSCWFkDnHKGF1da44kamlD1D/lHPFDenj9aUUJhk2S2MvpZhK7WSW5jxzam43RUKiSZnqIV\n",
       "sFAOoRb1n+Iq50bRJr41IUup1WoQBVSgUGZnoJMJPXNb+BYW1tpUba7F/2IyR+nu2hrO7NiT1UG9\n",
       "+WiKQEKeH+v3IcQybVyjJqGdIIBf3BTilwKg1EdByNSHNNV17XGSbkyIMJzc3z+5zhckRRr5XSo4\n",
       "zeQN/NH9cAFCV6KaeYoP8rkvl0q/WKZ3i7S8sBxL//AbL3DHux4tV828fleSpWf4I3fvIUqKXVi9\n",
       "FP6ZV0b0/BDKXqZ89S5R2rrUKNHsS6JfHvTUvnfr4TLSlVh/eMGJGIZYRqbQUlWOCDZU11f+FKhv\n",
       "8oefh1eHeaaQgl8SocrmM/90C+qKsamFSNug/bSZHT2Qp6B3kYiIshrtbC30gTpCoOZAPXw7MUAh\n",
       "Qy/bYAhpEMtdxPuUXCXIrkcRAKG5a9BfzR1uFo4XBxGf46cuswqLssphubziNA1LGLmqVj6/GkdN\n",
       "firfwr39I8tQPupMy0fcUpXqjAOnO4kljyZ2847XGs9D2mant0p+YyvpDJvo1xb99ZnXTr+SBiEW\n",
       "FlET0fcFCYT8zUnmujJfvQWQ0tz0jOCbfr81fYQYJljbxD6OYYMropEtI+5g5rl6Nle4FbJx5NX2\n",
       "FcdW7juzuyc/B+Y3buoioaVuVK8gGaBtfmjL4mMNWlucl9sK0gvqBig0VnlRdmUUO3GNigmtnWZc\n",
       "Vrb2ZTTNtPZ2PEpAJuZ6Xi25tF5s+SHNNhYPvn1kSBBb5OPTK7sGBInLYpqAUt50ciJxyyNJwWNF\n",
       "qw/b7NeA4B/WvT1gND+ylF59MrgwCBQ2hLMAobBSrVhNjf7UHHLv6mLbnUG46dLaePA61PUSQIVE\n",
       "U18NXQTZUggqDUdk3MdpsxsprrNY5JBFgUntjkOiMvr+m7lnlgfDe0GsVwo1pWMibWpfeJ6Cg1FY\n",
       "dTmf8T3JACA+Fi5PFFq4/iXeChVyT/i9QhGeBWOruWOhzZtpt2JVeHZmS4J3D4cL5AwXTpmi1T1h\n",
       "23BZmPrhVJJkw/IDFbi9fZfk1gAILwK0LICQdoLHbb3fEcn7E69hsS6QUugQQ2cQ+O4ZgvLL8/tO\n",
       "gQUOALQEgfegW8RmOiM2Lpn/b3XL/iAyf3CYfI+eq8KV/22a7oCuchTJ2+vbLB6lLUI/Tqrxq3r2\n",
       "mO5YdH8EC5uDvYPJW+YjxP1R4J6FoXC2YvJg+lkjGndDvwC2jsvrmiAc4yzVzC+RrZFdoIV3d/yl\n",
       "5pUXyGl20L4GBOaRS0B0Y8VCA6qVcC4Hc1SBoaf3IlmJoUuUlVQ+r/AJD0QxZBHBhT7lXPps1Xe7\n",
       "Zdh0iI1E+sCXdQJJwHuCQ39BAZpFV0B6Zjzk7e6THuT+GBunpbuAx0zMX35U1MIklF8rIIKvV+je\n",
       "blZR5Jhof0/lZ4m+xGz9iZ1WBRGieCtoD1Xe48GDRJryAY/WnxvlPitUhu2L0V+n6vgZS2/OW9+T\n",
       "NdvouexyGoMv/FAM5vSDkQ8iQa1tkRQCxsEvgaOvP53Ev+zNom6Ul1aIn7ybopqWVebaajdKvGwb\n",
       "e1k2kJJOla1NgrF4qc/qA09OOrVwffCAfl4OVGzft05dEwiWCyDbUhw+0kxAl9sUt2q4fqyAX8Dv\n",
       "H8ebDILrd9EA0w9fkmhlCkEf8ZSZJAf8b53tCQKRLqbZwSC+EWEQhrzqcO6jh8ts+l1BZuH1h6l0\n",
       "em5Nnv+9hXQdELTzZNfyl0nIIBgDGuHSiWRAMvVPacQRXL5Nd3X8GY0DVPMeJ4frA6OM+7JDTMQr\n",
       "Fv88iqwFm8NvXPziIpuGnZTufmheukhsffsFXQmisJ0pCkYYqb8LYgmHgyq0fqJBeuGetxWlwxqA\n",
       "FrMpYSA2KuSKb66HHLtO6B26hP9AtcLbNRDIcYzDukl4oNfiESTa3HJx2OszUSiJMEF0/8ZF6nUa\n",
       "sRlWi3V5Gj+3vS1zBaBP0Jn6XT6HdLFgzSMxNOcVnVw2wLWcRqnEwBmUUI/3+eHUrrRsZz90FmNu\n",
       "HnvtOTdZbTMJ4VnD17oe0XNZFI4+iJSxhFpD7P6qa12qldMQFbb16dBd5IK0Ax4FiXVJgEw3sQ3b\n",
       "9yMRAaTmRai8eZCnAfE5CZOoumxC4e2g9RSp4onM6rcYnJGwZ4oT/SRh3CXf+q9uJf2aeaP2znTN\n",
       "SGFTARCT660QjeMIAS/UQ1gFfqTPwDkMimGWJc+W9a3bCauWjDvKSOJiM3TLGVTYcoTH9EzEvxCJ\n",
       "N1NaTpBijBgz3hHHifReAnaE7C1R4tabaUxCJhEDqpMkoELCmF8XtRS0AfeJ7mSx9poZQjv9hnAN\n",
       "8OrEuYf6B5XE1uixhKRd6p2V7XeACOBtmOIS4lkDrWsRMT/OGinRHoo7mYkt1V58BQSV2blKL4Gp\n",
       "iVvuu2dXxrxB7AtPe0wG9kFeQIa8wT+3lTybFFuguQGVQDZofamxalwQzdrGFJpYCk8HZjHa6Qxv\n",
       "KLjr0dvWiKskOOMVedbhC05JBERvA74a001haTC3fPpSxQlMOnXH5n498vTLzJ6AFdODbw6ijMsH\n",
       "RX4tjJ1pzdloBlPicAmviFgOufcdaARq4FSg6VHCExzFT6y0/60Jt75hKdpRtEZEbgtENdrG5y7a\n",
       "ausK8UuGsek93YQHiQaB2gXPlGKCuslZxJcvarYCOUd2KA1E9JYrwgxWvSZbFAB8MlzzP/MopjFk\n",
       "0cTx2K05PDg+ipDkbGY+QEo/JLu/wiscLty/xSwDn2VLVjjwITWAxmSBI0+ic2kk90rv6eejgyWE\n",
       "J3WQErHg8EPjUXeSlk0uZE1AyScniLk8j51hBZnm1qGLZY6b/zVnvSZK9apNCPSGfH2NdZYp5qVf\n",
       "wQAiE5XWXh4m1zzMmP1iU4SXkKdrSsveBcnJXRmzDB9yqEkO4stNhV0rvClV6Z3v0wzPC+87UYxO\n",
       "5LuJsPMh2cetERQZOv/2mcipF6VVkBwqfw8a6/ajyliZaA80dYXXnObvcyemo4UT9mjjXKz8WFKQ\n",
       "E3dlJyDnHQJeePwmR7vmxpgAAAEmQZ4XQh//ALLCE/QbLeaB/h9Ix0Hsxd8/Va8FACReaKU3KLj2\n",
       "VdgWcSWnTgru8XVoGJymvuXAyZibEWltlpbcW4QJ1X8hZ32REtJ8rYlQHBQZF404azy0hTqDKy5F\n",
       "w06lxOBqdstdeou7e0DkG5Joittsob7kRIg2T0qj2PaWjQ3VgVMhqHA2HK8siA7g6yV+lQAWwbFi\n",
       "cYYO/jf4FjdLfO86Y4SBKa0Qo/BC2oSm4dulTgbTAXOmqBuXecBR+1hDUlSi+bSHbpCIDa0tUfti\n",
       "/GIfpzeS6PrTo/WN17plZ+tF6Gr3flZtfMQVLAhchEu18mOQkfvyMKp8yi+eWNQD4i+3e6i4LeG7\n",
       "LYk9Eu+YrojZ/L+DMd2EPeyA9UMNrObdF8eXgM3LAAACtgGeNmkQ/wCyr2Yz0KVENkRJ17OUd1LV\n",
       "nKGIuqpNledihdIgCjzEP06dIt9UvfgABJPAgz3gwnAAOmamk33JYH3hQW8ok1ahL3MNxWABCj6k\n",
       "AlF8zLlbAQAM4TqesHN7PlZIn/7xAKhAd4GILQRE8lUBP3yrJIh6Nelq5Pu9qgJ3TgPb2eu7Kh7t\n",
       "/NR60aOl6UEFkYVBXmTf8m1fXLsDwcSs4/6Zcg6Z4fpMhrJfAZ6+BU2vDf6hw+DNcVa3VchJF3In\n",
       "fF+2V5I62cUmzen/MI/ze2L7Xx8jrT+RlAIr9/xSeZ40v2G0MXdEnXg2dni4f5iwrwx7cs15obfq\n",
       "WFqf7rHkkQSmHx5Tt6ER6DMurmsQvAlsT+fiV1gYRs/x3m3oNcRvLx69jLbPIq/AYd8ZNwaKE7W2\n",
       "/kuDwB0da/Iqflh0Bi2IZcNzMdqeaVu9X5dkSJfTH5QWvEFo3n7AXlH3UgNR2t49UTuh1gWbQeAG\n",
       "Qexu0dkdPtId9kVT4bqiu1VYiwcNyEZRWX18dwaTP49f4rzwy2UsYHcoYzOj6wzRWT54wtFFYb3A\n",
       "3xHlxR2UPV9n7B8g5E/T5tNB/I3LNzG5Ogu/Z7WEuuFLhzRb7GpPpPdLeYmPbwOYdWtS6Hf+0mBT\n",
       "aU//WEDouGPxuOK2xDvLER+Sb2ZKWeZTKtjSK10Wm7sPCWXyDrndJDdSsHh6JKV1HoyxEkY8HtC8\n",
       "SbjeI0OHPs0ye3AokHoQbGzv9t+2/yJKhdG3SQcAZnFs078uweucaeo6Ey2Bi00ETPMUo1f8Mh6b\n",
       "VVh/cI+4sbL8JDnKlMWyJy5UZOf6BcB2n0Gzar/iesvmpb4tPDLr6C03/NRYh6e88OnM3qQXVEuf\n",
       "4PIpH4l3Dt122HrioFmMnmsMJdGP9Ke7IAzCfhbpgJAIk78X+tF5HC9N5mUAAAJnQZo8SahBbJlM\n",
       "CCX//rUqgL3MdOwtgAdmzmVRZ+LydYynT+9voaD1CWAJej8qgJqBxcTVOIuIbWasPCJ49fB5X2pf\n",
       "mnH3FvOKpBStx+FLL2IPECcehJmR6Ujj5fJZBTrDP6FUOKMysjvQxc9IqN0Ma+gEjiEyIsmrlaxc\n",
       "SFXfj+HOmRW3byOUmgyXcviWirnZ3IXvCCX01vmVCz0G8axtiWbObX5xX45pJIidcpsm8OuAU0qI\n",
       "ZmE+gIZiIPoMDB/k7B+8cD52RHwbmZX8lrfTWD0xfpsOwoSP6jBzgXt4GxkJB7FKnmdyYsu+soC0\n",
       "n3OvcnZiyytuewrdc/NaiPw8NMLpKT6YnTUq4jD9YJpSSNA7vBr7vsp4tIz8rP2VCJv8SZFUGbA0\n",
       "o1NoCjcMYHkVZcoeTtqLDWtG1E3wIvuIqcXTXhxC/dp5NlMoUxSWle6sAjsVEGyUNJW1YYAGU9/6\n",
       "ueMNGDJSCe/9MV2Zt3PttnQ8rFe0zv0GTlM/Vev5VPNNafaY2QK7VHvV+aPDu3mC4u3nQhjV5K6n\n",
       "LUquLLrjOq9jwXE4bhRoEQD9xEi7ocCr3S1OfhB5mRvL7w0oaYKQ5z3G0HeqKe9lPwLhXLTQIRAf\n",
       "gfr97VV3oCrx84DuFayiOEpYwQf6ap+WGrutvDUztDKm6DiePNxZrjS0l92H2iJeNe2DsITsHYJS\n",
       "iVyWEYiW0mJ1x3w7tVwpmjuukcVa0wvmaR5B8jsWIFSVUDq0lmWfVqxqNaGtzFrfcBF+1PrBDmIU\n",
       "EWpw/EM/Qw2GFfaWN4RWuBMiwDNw6gU0brQ7HSvsMl6P1szIAAAARUGeWkURLBD/AExRFEWmisaU\n",
       "XXVXGW9OC7Ze9fCC55CgA8R0upriKLNWzMDaH+asTFGwnW+BiH79AjHUOzJQlQgSkh8fpQAAAD4B\n",
       "nnl0Q/8AeD/Ma/0f0pGVG0pw9yEpuMAFooWn6ptouZf5JxLskk+dApi40oQeNFgHedobI86gyxwH\n",
       "Pc3TcAAAACUBnntqQ/8AlwNs74N2D1DZ1oJX1YYWK69a9y9wuPQA+4aoC5/BAAARHEGafkmoQWyZ\n",
       "TBRMEv/+tSqA4+uFLv+QoiAA4xhPR5L/fEENay/j8II4CXRU+3070CRcmNBrcucLz+QqBT6BCkL2\n",
       "rMLB5ZF22n56qXBG38lonsS9gfBxKZ3Gx83f+IOiOfKol/+kt/+AOYtkl8rQCmG6b/YUDc8tPXSn\n",
       "8D8rDrNUB4rvQdowhC7tXn2XJkpGOhyrwu1H3YD6aOElbojc7BDLUBXfnCjIzjUtSJjylGG9WHBd\n",
       "k5ZcEpwrnOonhL55ZSA4ONnMQCmiiA+/+TLbKkzpkO066GrMUsXW0JjIk40GKwvodxkGnxcisU+p\n",
       "lJxnVMOUemHWroK1TnRZ00pnD4D9NOyeNbznvdjl8z6TIeGfoPcWQO2X2dOYWpSmh+7DfiQ4iXGK\n",
       "5KC6LpRAGGo/cxyRo6tcM4HSnOs3GNRSBjJ0IYih9EyMvAVyhW7hCCy47G2KfJQaZ0PpG8oed9l4\n",
       "duKxvtp0GQpZZSws34C07yzHVOkqoLYUvmZ/SAJbkner73DZl8QOGdjBU87+tmqpJxCRm85yqtHF\n",
       "yCLiq/ad1jud91vhbCF7EhPWfN+6p3ThNdsrWwIs90+r+5jpFAjdSdzd9j98zzu72U3aFwqF5CYA\n",
       "U+yOEpixXFHwXVfaRwyJe8eWJn5DoOJVtfEpDJXRi94eaSk1tEF3CkNssAD3FcuQPJcMj3FVpAxa\n",
       "4a6zp6rW9IPuHY4CLL84+XWUcP6+MK2x/+eEdBg/YBuF0veg/+GtpJ4Cf4of8GdFj+rMw0maBcL9\n",
       "sKsEpwVfe7EL9//it7nQh+h/m935QDhO4S36aiLrg9ZW8q9vjY6E81sZ4TkHoI1u9DcCoIdnECu1\n",
       "cgPHxQmd3xTcKVIXyCrtYqcxZ2ZDUGvk86SEeAsfFcW/dF3CZz3qviEMw15rQ5l/yhujpW2Je7/4\n",
       "PpeJP9XcVQB8iF+AwJaQTznWFNU4aIdTQYxqCB7mLNUVLHSl0fQlRS7ss/IQF8DBc2DrTzQwABA/\n",
       "ssYTlG5TFVk6krfZW/62M+Zj10A/1n1xRHeiH3xMJkfKExU21G5t4R+VjUOFh8+DtSeT8DKwwY1X\n",
       "lOQT6Pm1la01qVaXma1QeA2xfhLMYlC+/h1EIG1DKbPbfatnBe7TOByKq2YDWg7jMMSex/4RSabi\n",
       "Z6tf/eBaPtEABQHwOZkMjxF290s3HzQkuzG1sLNWjquhQzIrMvQltmIcYRewNKjZnSbes+uzbWdQ\n",
       "mp7D/kEril2AOZYdVY8+UqoeO+Rz7vSocjDRl6Ikug1Z5nlNQ3sly8mC8pVEoa2YyAHzikY0apsY\n",
       "5/GmJ9DcF+U8pvSPJ6JPIUNt1g7nD6KaFtP7ZYzJC6FPovSxdFJUeVKIHu0WgF5IGQh9LNWAMluP\n",
       "L4+EYgJS3yHscXVqRo4iwbyOS1YD5ybtQIx6lI+BK4disYc1ZFQpazR1mI1XgquJfYaBHc0IvjoO\n",
       "lnZtNEtM+NkixRLYwS7Y9sIjjON0y+L65104/9wSXtFc2mRVTJ3s5k8+DhGpWlDQCJwDzR+8Hf/i\n",
       "fgU9blUmuYKk7fuAdpIymdfg1UJtIrRQ4o25mApQOieH1t6A8LzXiZt1f5f+Se8QRGyKX1swZTMC\n",
       "bGPDqohF8AT2vjxt4vK1ES7B8k8JNCvTZzmrPWdq2Mjzp3ODB1Kqu2wuTc4x9ofWw8tAI8MFcifM\n",
       "z/p6dMQXT8i+oKe9yGgpqgip8WIiqwpdvVXGS8znhMTtAWkrH48408792MsX0VdbpCNbhYIReeQD\n",
       "A1EpqcUTzBEDTPWR+kiwW97BhP3n/RBJ7n+7Wg56c1Mlp8Bk95orJvG4vLpu8lEUBWvgnsWRbqoj\n",
       "spL/Q6O6lnz/U9UJi73y8Zz2uog0x5k9Lvqt2A1AR9Z1A03oCWaoaPAGow7h6/DT32S8zH70/Ed9\n",
       "UIt6mX4r5lWYfOTMRYfOpKGLdq9RiJJEacnqcRFF5LENX6rH68Ya+QsbFIaHQUaQXqdTV3uneBWK\n",
       "ZKnPK2j1xuI9J9SXgQNcq03SzmdAcSfAGX2EMOA7ZMDsy4w9gM2+d+AtJnpR9D5T8v0Tq0QELQPf\n",
       "8dHBwR1GVjzKBP6+e0cumOML93d+3gWzAYtsqVqE3KRPmzEvlNLvqP2T4lQ/HCxyboQn7hJ2MKXS\n",
       "i/gYzIjuVwTy/9FrDJH0Gg2ETxabZvu4vYx3aa8UEBE2grwOVPjxsjyYuUWlwkkewSuQ3fOKEfPt\n",
       "Bvn7TvdEkZ87DZxnNc7ox5jGyRL+JR6U/VAaeNYfej3JUWi8RpWgQKUF4jHMlvIsyzOZV3vOJYBj\n",
       "g1J+TByYd+eLJAZpP1vffXMky6+5C3+wslLofPDPm6fwF8EfZtRW+lRmhy2d4hJvUkqtJGq9lx1A\n",
       "R3+Kxm3MD4DO5P7WPvIBtMlMzfJoQLLuQyc30edbBhAS034ZPZ+khhtyqEm6OFV866zjPhssVX/S\n",
       "6UUHLonIxUUGBR51iK10MAdQt1Zxl1cU66MYLTylhCPlMPyeoEz4SXjjYsJyxKQzf9So2GXGesdO\n",
       "PQldYdd/99+VeJJNWWRMjwsfLzyvlKpAb+lRxDycvgWtswYNexpMbJ8ijLpbGEgHNLGZyDcX6Xvj\n",
       "PQACwjlfCfAaWgRsHTJcffSMakRX4KRRirCg7NgwajuVM6UVV3CM6hHjD99TPW4hFQog5Vkk8YvX\n",
       "mxzJkq7tXOEUjZc9JyqrtjnTCQFxtDXEWg7vaLQAYs0q14WmLmC7iNOdAOZO8s91n6DvrLYNqGXh\n",
       "vmW2bUkeoiqxXJVr34rQp/L8jmoabckdwXlV14AdpoCkIJqL/jSSG7OmIFDwURabCenqz0Jx0Aih\n",
       "2U4/29eWrQWXlOjh9Hy2oVay4QeoDf9gfxcbDGGSaAWYcDQuZJkhGttZk/+azdHhoJFQCVoJnWuo\n",
       "uWbTUB9a4aWZaxJ1kMhFO7IMNiMiqRXHoAxffP4okJlvxRDDBWIrGGIYcK3u+8oevXK5YdkX5Snq\n",
       "/9iE506/cmIfp5miqxYeyvzrd+EPCbwt/1lp7NhDB0qCKDsq3eC05NVJ83/StfUxB38ccajtlDmq\n",
       "BQMze4cGnkjZEI4mGnAbdijrYiZonYnJAddba4OtlkIKKEUkUO+JoTfRiB2SGK/Hd01zpdc2uWnN\n",
       "sQtRp8GF+2p/1cOQ3RvkQZopgz8RzmmgT9/JnqynwWjxDQy5IU24RpnJLyANx9oq+qQIQWLRlo0i\n",
       "KgyHUsuAOV+djEYNTtc0UFMWnovzTt5g/ZrRUtqmJlgZoOEeqFSPbFgsuxTRAaJxIuzV251dRPFN\n",
       "7knYhpdVYN7vfHab08Vo264+xRJrd/svvt5x5Z1ED690BGOGuT3AV5x1fW3GXQNVMdK372TZGnvu\n",
       "6vFbIP317pHCU2iCx43AleAEr0dwmlFsUUPTJC6FEa1UQRblQ7Otf5xofPwnuIZ3gu3gbzqO9gAt\n",
       "I4eayT1w+CU9zVKk6/XutGfZGxifFyOPl0zBNRlu2/tkq7f7w4DFKSbOEZnIY3pFIR+qhkevGiPS\n",
       "nVUEInJk6cQF+chIFJJG6KihewpMRiqQB2KS32RqBH2t5Xp0SKe3rdz0aYAn8ok5QNYYp1+RBFD5\n",
       "G/NjvFGZ5u+GuMSBhIps+wJ9tBac/TIYt2YYFz6TIV9tRd8xuzbIhRoRP2bfGfkeFc70UJXiSWl0\n",
       "VIAGgLpfPc+qsdRzXNGO2xqHjdz8UrqbmGnLp9Nqbve9X93de+LMW+7iD39fCPyQ8XPKyu7Cvtr9\n",
       "QRx3z+Fzy8AYDPVfyUE3pEWndfGaMOHr0m0iXmReXZdSqp1lW5NM3dkFS+r7XE8vx7ppQnflDZED\n",
       "EHfxxhZKG1VszpwcODvRwMxAbFogJZXCO4d5EkwK/z9kvMW6596iKVwVpF6QwCgUUWSsGMe+MrUC\n",
       "QwsI+yoZXNleMW8QxfwwVdzfHjRFLYpodIB/sc3Gby4a1mneiC0GiyyoH8yZoxd9H3YBGg/gO+y1\n",
       "0yTLhTS9Hw78FM/mYFcC0/YICmjx0ITOcFy33zPGydGEdZFLFer2YfLxiqEuF/Mk/27wDdh/0ocg\n",
       "hatICk8f6iaSeeWXUvcN2jU+Yf7lBoHWO+aUjG7IsLhI5lpLxPEMi+hmBSxrnmACZdZBCcgbzx2k\n",
       "9OHrd9zMifW8zQwmf8486aI+pOh0Bf+jQZhneSUlCR28xBd6w3r0eB999yYMV6C886/vm90JiSgx\n",
       "vm8lbFGBD8Wrqwu8GL1T/Olsmg0QvYJeO/g5XDYYh8QM90sf7eRlxa8oB5E4P+EZIgGI9jg+xafn\n",
       "2xhmcB6LPqE2+N6D+Vy8TJ/dFlBFIa26pDTh5bDrYoguQpmyuAXBg8NofLnWawMeibaU+3XsCYAF\n",
       "WLj62o9jdYJ269TqouzHfX858XF8wJ7bR3KYwuwLl/QIMHyaoQhVXqgvbbhbSAsI7r3FPVNbxEYP\n",
       "KQqZfE/ATeUBGTRex+ZqmXhBY/TkP72Ed6pYhyapuRcIHpuzZzPpwXd23m+Ipgj9im1i4jHOZqHR\n",
       "wH68Rqjz7owbUSigDI4q7LOluDRGNM6xo9yoR2J0dBxzeiGlhMcudhX56Ag8404g+RTilhBdLQkv\n",
       "qDAAVofwMw2U9FjB4eGwbPHCLTxJletah7x9TWBOv4yUnpYGguKdBun2cR3diNqkShxePJm9DyBF\n",
       "aai4X4zo7LlQ986l3AtGrG6YVnYpSiKs63NnJfMzKElcLCQsT2GXvDyKansiWnBsrrtAupfQKH2l\n",
       "yi2PcXU1zoIGq2attd3+t5y/6brFaXkneCLkgrgzETsXBew8uJRDaRU05wf19L0WMbrroqsyhGB3\n",
       "0nyEvKZsRWuIaJlSatJwcWCK5XNIhH2lZZzN4JDGJ5lSSjFIJu5GxOwuTGHdH0kWwc8T//oS9z3H\n",
       "LDnFT6mMJ/4TQShO9Dd5ONr9USgiNMngtvsqw4B7jXKaMf9VsWLRkcwzLbRZn7QwAGLYhSwc1SZl\n",
       "e+dR5xD+VHCN/JDSJASkDWWuxJGwIGjmvZ6deD2MeXn1hkrouCyryh7xKQN2frYcF+7zqeyhXaEt\n",
       "ShQ7q8M2uVw/EZreS8wiI01lkC1ikDpkHXlcUvvnKU01EBh81qAkSVk2dtYpXyjPBuAgxneteh4/\n",
       "X8AZiVCSQ59ADhHFwikszcB3whcomDvDT0hX/5rgpzMvBIpqPydSfAAgscIv4nW6qI3YR3vx0Fis\n",
       "rpScTmNxDsKM2xFKR5j+BQq9JALv/pwZiiwjYc2bg4BQEhNBOVW8MBYML3XEiBoyUQaG9jZFse4W\n",
       "cpbRalQjifYnLRB2DMvFxY8of9FmwPAroPNwvhWMVndPHPGy31/zmc0i2Kq/mgiETUCiSLeD7OYZ\n",
       "L3J3jF101yirnnSG6kZvEZ6+QkQgQtDfku1iZ8pVpwOmjmliuBoKirsNG2iz87l3l5kPnA7CcGhC\n",
       "DpQmUR6b1/P6bKF0yysdQiRB+C2EImRJwtiQZgHhz6bwRLZ/S7hly4ENqkJOTNfIbHkXy9YxttqH\n",
       "Yb6wyTfOZ65QH/pBqMjZ21At7WJthgjtHKuVzZSJ+G557PxSEMXK0xUeJ71tPvvTG7JtEVv+US0M\n",
       "nHzTsIIWTnAsQF+u/9mS2Go7NEp40m0Geb4woepxELc5wZx261UXwe+G50HAV3siGSMOq4+BygRy\n",
       "0L1MABc84Ci/yCPB8201iDOyIYm0/dQUqezEwsX5JukRt2VpecWoF86d0O4EhNBt/SyyoWbtxIhj\n",
       "sx0xa94763sfzxpRPgA9uuVITKn/U4gsLQsMKkxZZ1kRywNyMaoR/rTcVjkJhrG8Cj6GNuSuYSFX\n",
       "eOUglyso1svPPhMbo9L3CpmF3YJR/T5zEEQ7r/4Eth9OjdOAAEunWwAAApABnp1qQ/8An0zl3jYm\n",
       "jpXwC+QnvSuit//mwARWgNZZqm/Zg4p0d+R7zLIkY+ONoK6kgiABzLaXKz7nkG59408GbQ4xgCmP\n",
       "/681P8JqJ2Zv/b99o+H1eqWsR3oa5u0o2mvZN8f7ICPSVS4FE2cEpSU/22ka8NUHXeyIr3HwWg53\n",
       "vOr6qufU2bvzZE0lBlB3um2QIZTz6yWTrexi2Da1dLtSPUOmZ7gEI9OD0VER1r1usGiVBnCWQk32\n",
       "t927c9HkaVkzm0yPzBFmDgIoCHyk7ppQNgDr8UBf5mJROcdUJgAEqrfoIU7pVcZCY3f4O+0nC7Sq\n",
       "EtH9t2Wwzz03wzKolkXLmS/punpNGQGhtj1TY/El/iK6JR8xPD2XHvTazzDaP96PcIBmj7p+fXMi\n",
       "4dfZxHokqnvZiMnEj8jhfDN+PUm6NdHrxyl8zAUDJSYepoWXTa5g2qsJAV1SeSmnOJC6HuR6rDzV\n",
       "CLzuXoUbm2bC7+CXfTWnfctRHE8lhiP3YbusSrevJAdgv3wNKqa/0y2uKUgzAhyBHhhRy/fBdkBP\n",
       "LuYw6g1MiovLKjocfjfW+RWCLdi6c6MCKHit88/A8TZJfmoovs4HAZYRNva849kettOo0G4rrufx\n",
       "62UyoO4U4np1Yg/+B0CLWn/7C4UPxDkyVvm2BYFcGC1XUfBqAKjlXljdHwoFujVg/MN6dpuTkps7\n",
       "Wjs1gjKX+o5APJucef2xFaEtVJKMpNK1kQbAy6dSwrSSa6WQFRjRfevURXuzw+ThVWD4RUJLN8l3\n",
       "/QfSX5kuc6WjA3q2q786nH2VY8p7GTiD9adn5a+VT/cgT0gUukV6oAj3AZzyqcLdG8Wy7MPQcb2g\n",
       "C/6tmhfd/cQ/9ZaBrrGN8AAAAq1BmoJJ4QpSZTAgh//+qlUAJAx4U1PeJAAsD1oqx7b7Zm6M6duW\n",
       "FetBJfQ8lCkA+TTQhLPrXLwrC9+rwX//sO/f6iH25q1pyy/XYoXHsuXp2Z0N9NNYJJGid1foSATh\n",
       "gpFOLyDlQYn7ROnSx/YrM6O8MyHnHvavLjla5/JOibqs11J3vR71+E8gRUBOnVxnVIIuF6G18Ewj\n",
       "DuRnNHUKZ1WDCvZQ0LKDb0SNKdh869e652h8QOCEqJHK78MzSXO7OCn6Ul8SBgUAVykPa6Qh80HT\n",
       "p/6FxK2/wSobFAS7t5gnHFa0F1p1Ua22yV/oxL/qINA9vyquUhTfmdPig7yWWA5nYWUuf/OVNS6U\n",
       "ah03YyGmh8n2rZNShnakqLH7AAC2t1ldbLaXrAdYhZDuhoXGM8UxCCV4vrw0l8vpPikICGEtfiDw\n",
       "Rum5k+mtSGi3hgZxatdnOTi/8VQm8RM1CX3pV14Xct3OHzr1P8qThvb79Ymn009Wp73fBwNqTg/L\n",
       "a4H+2Ww7gktw9PG8S/1shsIJohzGx0VDbYrz2+HZT9dLKh8rqlyghZS5G/5cfzMr84SJELpuccxi\n",
       "+EdKcZ/M+zZUTI/ZryMBsZ8hBDt4oioPhhWm5BCgiS3Ny7IX/+cqBh7XEoXE/jJ1MXi6KQYliqky\n",
       "IPDqTLPAutt1IVzPiGlYXbVcUE6p6lWva6yrOAQsWrVgJ4/NLvC7EVJOmifJMVixOxqraAZb8F0a\n",
       "iTWdmtl0M9JI5qQ6PsV5dyG/uVfGcUHtuFbRL20ILA2+/FKBuSZRxQea58KOTrx8UMO/uzdeIL28\n",
       "KHg4YBTsN/DrsbfmQQ3uUSxXcSTlJayLci00PXanRVSVn2aMY14gx/RcW/kk8mtHO9oqYfFNZg0+\n",
       "KlWSE+NJ1/YfftjHDRfPmS26Xq2AAAAAakGeoEU0TBD/AC5I2L05IbA2QXZmHAGVxCMD6fj3WMbS\n",
       "dRKigQA2CxjEIOKyJLKgMGLgx9MW/8MihPdxGRpxW4ZD/K+pa5uh0bsQN+rlVmfmxlCEq/cN9j/k\n",
       "Go/FnJViOHYRwXo0qKwQQIEAAAAqAZ7fdEP/AGUKU3hr8MjqgmMvcIZ39ojdXQ+x7RAmF61iQ8aF\n",
       "ku6xgj7aAAAAIgGewWpD/wBlHbQOkayQhBvsAEwJzrMjZWeofXV9bmBe+8sAAABIQZrDSahBaJlM\n",
       "CH///qmWAAAUmw1OHT9QAcCnxIW/v/zw36HszXkKVvP4HDk22JRmr4Y33KHtPTRWgFpCZCjSjAmv\n",
       "PsOZLJTAAAAH3m1vb3YAAABsbXZoZAAAAAAAAAAAAAAAAAAAA+gAAE4gAAEAAAEAAAAAAAAAAAAA\n",
       "AAABAAAAAAAAAAAAAAAAAAAAAQAAAAAAAAAAAAAAAAAAQAAAAAAAAAAAAAAAAAAAAAAAAAAAAAAA\n",
       "AAAAAAAAAAIAAAcIdHJhawAAAFx0a2hkAAAAAwAAAAAAAAAAAAAAAQAAAAAAAE4gAAAAAAAAAAAA\n",
       "AAAAAAAAAAABAAAAAAAAAAAAAAAAAAAAAQAAAAAAAAAAAAAAAAAAQAAAAAGwAAABIAAAAAAAJGVk\n",
       "dHMAAAAcZWxzdAAAAAAAAAABAABOIAAAEAAAAQAAAAAGgG1kaWEAAAAgbWRoZAAAAAAAAAAAAAAA\n",
       "AAAAKAAAAyAAVcQAAAAAAC1oZGxyAAAAAAAAAAB2aWRlAAAAAAAAAAAAAAAAVmlkZW9IYW5kbGVy\n",
       "AAAABittaW5mAAAAFHZtaGQAAAABAAAAAAAAAAAAAAAkZGluZgAAABxkcmVmAAAAAAAAAAEAAAAM\n",
       "dXJsIAAAAAEAAAXrc3RibAAAALNzdHNkAAAAAAAAAAEAAACjYXZjMQAAAAAAAAABAAAAAAAAAAAA\n",
       "AAAAAAAAAAGwASAASAAAAEgAAAAAAAAAAQAAAAAAAAAAAAAAAAAAAAAAAAAAAAAAAAAAAAAAAAAA\n",
       "ABj//wAAADFhdmNDAWQAFf/hABhnZAAVrNlBsJaEAAADAAQAAAMAKDxYtlgBAAZo6+PLIsAAAAAc\n",
       "dXVpZGtoQPJfJE/FujmlG88DI/MAAAAAAAAAGHN0dHMAAAAAAAAAAQAAAGQAAAgAAAAAFHN0c3MA\n",
       "AAAAAAAAAQAAAAEAAAMwY3R0cwAAAAAAAABkAAAAAQAAEAAAAAABAAAoAAAAAAEAABAAAAAAAQAA\n",
       "AAAAAAABAAAIAAAAAAEAACgAAAAAAQAAEAAAAAABAAAAAAAAAAEAAAgAAAAAAQAAKAAAAAABAAAQ\n",
       "AAAAAAEAAAAAAAAAAQAACAAAAAABAAAgAAAAAAEAABAAAAAAAQAAAAAAAAABAAAoAAAAAAEAABAA\n",
       "AAAAAQAAAAAAAAABAAAIAAAAAAEAACgAAAAAAQAAEAAAAAABAAAAAAAAAAEAAAgAAAAAAQAAKAAA\n",
       "AAABAAAQAAAAAAEAAAAAAAAAAQAACAAAAAABAAAgAAAAAAEAABAAAAAAAQAAAAAAAAABAAAQAAAA\n",
       "AAEAACgAAAAAAQAAEAAAAAABAAAAAAAAAAEAAAgAAAAAAQAAKAAAAAABAAAQAAAAAAEAAAAAAAAA\n",
       "AQAACAAAAAABAAAgAAAAAAEAABAAAAAAAQAAAAAAAAABAAAYAAAAAAEAAAgAAAAAAQAAKAAAAAAB\n",
       "AAAQAAAAAAEAAAAAAAAAAQAACAAAAAABAAAoAAAAAAEAABAAAAAAAQAAAAAAAAABAAAIAAAAAAEA\n",
       "ACgAAAAAAQAAEAAAAAABAAAAAAAAAAEAAAgAAAAAAQAAEAAAAAABAAAoAAAAAAEAABAAAAAAAQAA\n",
       "AAAAAAABAAAIAAAAAAEAABAAAAAAAQAAIAAAAAABAAAQAAAAAAEAAAAAAAAAAQAAKAAAAAABAAAQ\n",
       "AAAAAAEAAAAAAAAAAQAACAAAAAABAAAoAAAAAAEAABAAAAAAAQAAAAAAAAABAAAIAAAAAAEAACgA\n",
       "AAAAAQAAEAAAAAABAAAAAAAAAAEAAAgAAAAAAQAAKAAAAAABAAAQAAAAAAEAAAAAAAAAAQAACAAA\n",
       "AAABAAAoAAAAAAEAABAAAAAAAQAAAAAAAAABAAAIAAAAAAEAACAAAAAAAQAAEAAAAAABAAAAAAAA\n",
       "AAEAACgAAAAAAQAAEAAAAAABAAAAAAAAAAEAAAgAAAAAAQAAGAAAAAABAAAIAAAAAAEAACgAAAAA\n",
       "AQAAEAAAAAABAAAAAAAAAAEAAAgAAAAAAQAAEAAAAAAcc3RzYwAAAAAAAAABAAAAAQAAAGQAAAAB\n",
       "AAABpHN0c3oAAAAAAAAAAAAAAGQAACYlAAACUwAAADUAAAArAAAAGAAAB0UAAABoAAABJQAAABsA\n",
       "AAE8AAAAKAAAABsAAAAYAAAOkwAAAX8AAAAvAAAGdgAAAEgAAAAiAAAAUwAABAUAAABDAAAAJwAA\n",
       "ABkAAAqNAAAAXgAAACoAAABoAAAKrQAAAFUAAAAjAAAMSgAABk8AAABNAAAAJwAAACgAAAZHAAAA\n",
       "bAAAADgAAAAhAAACGgAAADwAAAAkAAAVGQAAAMAAAApuAAAA2AAAACsAAAA1AAAFHAAAAHoAAAAe\n",
       "AAAAJQAAAlMAAAAzAAAAIAAAACIAAABVAAAIBQAAAFEAAAA+AAAAHgAAAtUAAA39AAAAaAAAAWkA\n",
       "AAGTAAAAMAAAACUAAAAdAAACUwAAADEAAAAgAAAAOAAAAWsAAAArAAAAHQAAAB8AAALuAAAAMAAA\n",
       "AB8AAAAjAAACFgAAADoAAAAgAAAAJgAAD1AAAAEqAAACugAAAmsAAABJAAAAQgAAACkAABEgAAAC\n",
       "lAAAArEAAABuAAAALgAAACYAAABMAAAAFHN0Y28AAAAAAAAAAQAAACwAAABidWR0YQAAAFptZXRh\n",
       "AAAAAAAAACFoZGxyAAAAAAAAAABtZGlyYXBwbAAAAAAAAAAAAAAAAC1pbHN0AAAAJal0b28AAAAd\n",
       "ZGF0YQAAAAEAAAAATGF2ZjU3LjQxLjEwMA==\n",
       "\">\n",
       "  Your browser does not support the video tag.\n",
       "</video>"
      ],
      "text/plain": [
       "<matplotlib.animation.FuncAnimation at 0x7fedda9a5d10>"
      ]
     },
     "execution_count": 9,
     "metadata": {},
     "output_type": "execute_result"
    }
   ],
   "source": [
    "anim"
   ]
  },
  {
   "cell_type": "markdown",
   "metadata": {},
   "source": [
    "After a while, the pile looks pretty random.\n",
    "\n",
    "Here's a plot of the number of cells toppled after each `step`.  "
   ]
  },
  {
   "cell_type": "code",
   "execution_count": 10,
   "metadata": {
    "collapsed": false
   },
   "outputs": [
    {
     "data": {
      "image/png": "[encoded data removed]",
      "text/plain": [
       "<matplotlib.figure.Figure at 0x7feddaa2fd50>"
      ]
     },
     "metadata": {},
     "output_type": "display_data"
    }
   ],
   "source": [
    "thinkplot.plot(pile.toppled_seq)"
   ]
  },
  {
   "cell_type": "markdown",
   "metadata": {},
   "source": [
    "The following figure shows the progression of the pile from ordered to apparently random."
   ]
  },
  {
   "cell_type": "code",
   "execution_count": 11,
   "metadata": {
    "collapsed": false
   },
   "outputs": [
    {
     "name": "stdout",
     "output_type": "stream",
     "text": [
      "(332, 53336)\n"
     ]
    },
    {
     "data": {
      "image/png": "[encoded data removed]",
      "text/plain": [
       "<matplotlib.figure.Figure at 0x7fedd4cf9b90>"
      ]
     },
     "metadata": {},
     "output_type": "display_data"
    }
   ],
   "source": [
    "pile = SandPile(n=20, level=10)\n",
    "print(pile.run())\n",
    "viewer = SandPileViewer(pile)\n",
    "\n",
    "thinkplot.preplot(cols=3)\n",
    "viewer.draw()\n",
    "\n",
    "thinkplot.subplot(2)\n",
    "for i in range(200):\n",
    "    viewer.step()\n",
    "viewer.draw()\n",
    "\n",
    "thinkplot.subplot(3)\n",
    "for i in range(200):\n",
    "    viewer.step()\n",
    "viewer.draw()\n",
    "\n",
    "plt.savefig('chap08-1.pdf')"
   ]
  },
  {
   "cell_type": "markdown",
   "metadata": {},
   "source": [
    "## Long tailed distributions"
   ]
  },
  {
   "cell_type": "markdown",
   "metadata": {},
   "source": [
    "If the sand pile is in a critical state, we expect quantities like the duration of an avalanche, `T`, and the number of cells affected, `S`, to have long-tailed distributions.\n",
    "\n",
    "Following Bak, Tang, and Wiesenseld, we start with a 50x50 array and plot the PMFs of `S` and `T` on a log-log scale."
   ]
  },
  {
   "cell_type": "code",
   "execution_count": 12,
   "metadata": {
    "collapsed": false,
    "scrolled": true
   },
   "outputs": [
    {
     "data": {
      "image/png": "[encoded data removed]",
      "text/plain": [
       "<matplotlib.figure.Figure at 0x7fedd6573550>"
      ]
     },
     "metadata": {},
     "output_type": "display_data"
    }
   ],
   "source": [
    "pile2 = SandPile(n=50, level=30)\n",
    "pile2.run()\n",
    "viewer = SandPileViewer(pile2)\n",
    "viewer.draw()"
   ]
  },
  {
   "cell_type": "markdown",
   "metadata": {},
   "source": [
    "Now we run the pile for many time steps and keep track of the durations and number of cells affected."
   ]
  },
  {
   "cell_type": "code",
   "execution_count": 13,
   "metadata": {
    "collapsed": false,
    "scrolled": true
   },
   "outputs": [
    {
     "name": "stdout",
     "output_type": "stream",
     "text": [
      "CPU times: user 2min 52s, sys: 44 ms, total: 2min 52s\n",
      "Wall time: 2min 52s\n"
     ]
    }
   ],
   "source": [
    "iters = 100000\n",
    "%time res = [pile2.drop_and_run() for _ in range(iters)]"
   ]
  },
  {
   "cell_type": "markdown",
   "metadata": {},
   "source": [
    "And extract the results into two NumPy arrays."
   ]
  },
  {
   "cell_type": "code",
   "execution_count": 14,
   "metadata": {
    "collapsed": false
   },
   "outputs": [],
   "source": [
    "T, S = np.transpose(res)"
   ]
  },
  {
   "cell_type": "markdown",
   "metadata": {},
   "source": [
    "A large majority of drops have duration 1 and no toppled cells, so we'll filter those out."
   ]
  },
  {
   "cell_type": "code",
   "execution_count": 15,
   "metadata": {
    "collapsed": true
   },
   "outputs": [],
   "source": [
    "T = T[T>1]\n",
    "S = S[S>0]"
   ]
  },
  {
   "cell_type": "markdown",
   "metadata": {},
   "source": [
    "The distributions of `T` and `S` have many small values and a few very large ones.\n",
    "\n",
    "Here are the histograms on linear axes, showing only small values."
   ]
  },
  {
   "cell_type": "code",
   "execution_count": 16,
   "metadata": {
    "collapsed": false
   },
   "outputs": [
    {
     "data": {
      "image/png": "[encoded data removed]",
      "text/plain": [
       "<matplotlib.figure.Figure at 0x7fedd4d03990>"
      ]
     },
     "metadata": {},
     "output_type": "display_data"
    }
   ],
   "source": [
    "thinkplot.preplot(cols=2)\n",
    "\n",
    "histT = Hist(T)\n",
    "thinkplot.Pdf(histT, label='T')\n",
    "thinkplot.config(xlabel='Avalanche duration',\n",
    "                 ylabel='Number',\n",
    "                 xlim=[1, 50], loc='upper right')\n",
    "\n",
    "thinkplot.subplot(2)\n",
    "\n",
    "histS = Hist(S)\n",
    "thinkplot.Pdf(histS, label='S')\n",
    "thinkplot.config(xlabel='Avalanche size',\n",
    "                 ylabel='Number',\n",
    "                 xlim=[1, 50])\n",
    "\n",
    "plt.savefig('chap08-2.pdf')"
   ]
  },
  {
   "cell_type": "markdown",
   "metadata": {},
   "source": [
    "To see whether these distributions follow a power law, we plot the histograms on a log-log scale."
   ]
  },
  {
   "cell_type": "code",
   "execution_count": 17,
   "metadata": {
    "collapsed": false
   },
   "outputs": [
    {
     "data": {
      "image/png": "[encoded data removed]",
      "text/plain": [
       "<matplotlib.figure.Figure at 0x7fedce0de2d0>"
      ]
     },
     "metadata": {},
     "output_type": "display_data"
    }
   ],
   "source": [
    "thinkplot.preplot(cols=2)\n",
    "\n",
    "x = 9000\n",
    "thinkplot.plot([1, x], [x, 1], color='gray', linewidth=3)\n",
    "thinkplot.Pdf(histT, label='T', linewidth=2)\n",
    "thinkplot.config(xlabel='Avalanche duration',\n",
    "                 xlim=[1, 1000],\n",
    "                 ylabel='Number',\n",
    "                 xscale='log',\n",
    "                 yscale='log',\n",
    "                 loc='upper right')\n",
    "\n",
    "thinkplot.subplot(2)\n",
    "\n",
    "x = 5700\n",
    "thinkplot.plot([1, x], [x, 1], color='gray', linewidth=3)\n",
    "thinkplot.Pdf(histS, label='S', linewidth=1)\n",
    "thinkplot.config(xlabel='Avalanche size',\n",
    "                 xlim=[1, 5600],\n",
    "                 ylabel='Number',\n",
    "                 xscale='log',\n",
    "                 yscale='log')\n",
    "\n",
    "plt.savefig('chap08-3.pdf')"
   ]
  },
  {
   "cell_type": "markdown",
   "metadata": {},
   "source": [
    "The gray line has slope -1.  The distribution of avalanche duration is approximately straight between 1 and 100, but then drops off.  The distribution of size follows a power law more closely and over a greater range, but it also seems to drop off for values above a few hundred."
   ]
  },
  {
   "cell_type": "markdown",
   "metadata": {},
   "source": [
    "**Exercise:** Try running the model longer to see if you can get a less noisy plot of the distributions of `T` and `S`."
   ]
  },
  {
   "cell_type": "markdown",
   "metadata": {},
   "source": [
    "## Fractals\n",
    "\n",
    "If the sand pile is in a critical state, we expect to see fractal geometry.\n",
    "\n",
    "To estimate the fractal dimension, I'll start with a bigger pile and a higher initial level."
   ]
  },
  {
   "cell_type": "code",
   "execution_count": 18,
   "metadata": {
    "collapsed": false
   },
   "outputs": [
    {
     "name": "stdout",
     "output_type": "stream",
     "text": [
      "CPU times: user 18.3 s, sys: 0 ns, total: 18.3 s\n",
      "Wall time: 18.3 s\n"
     ]
    },
    {
     "data": {
      "text/plain": [
       "(28379, 211320220)"
      ]
     },
     "execution_count": 18,
     "metadata": {},
     "output_type": "execute_result"
    }
   ],
   "source": [
    "pile3 = SandPile(n=131, level=22)\n",
    "%time pile3.run()"
   ]
  },
  {
   "cell_type": "markdown",
   "metadata": {},
   "source": [
    "The initial state sure looks like a fractal."
   ]
  },
  {
   "cell_type": "code",
   "execution_count": 19,
   "metadata": {
    "collapsed": false
   },
   "outputs": [
    {
     "data": {
      "image/png": "[encoded data removed]",
      "text/plain": [
       "<matplotlib.figure.Figure at 0x7fedda951650>"
      ]
     },
     "metadata": {},
     "output_type": "display_data"
    }
   ],
   "source": [
    "viewer3 = SandPileViewer(pile3)\n",
    "viewer3.draw()"
   ]
  },
  {
   "cell_type": "markdown",
   "metadata": {},
   "source": [
    "Since it contains four different levels (0, 1, 2, and 3), we can extract 4 binary patterns."
   ]
  },
  {
   "cell_type": "code",
   "execution_count": 20,
   "metadata": {
    "collapsed": false
   },
   "outputs": [],
   "source": [
    "def draw_four(viewer, vals=range(4)):\n",
    "    thinkplot.preplot(rows=2, cols=2)\n",
    "    a = viewer.viewee.array\n",
    "    \n",
    "    for i, val in enumerate(vals):\n",
    "        thinkplot.subplot(i+1)\n",
    "        viewer.draw_array(a==vals[i], vmax=1)"
   ]
  },
  {
   "cell_type": "markdown",
   "metadata": {},
   "source": [
    "Here's what they look like:"
   ]
  },
  {
   "cell_type": "code",
   "execution_count": 21,
   "metadata": {
    "collapsed": false
   },
   "outputs": [
    {
     "data": {
      "image/png": "[encoded data removed]",
      "text/plain": [
       "<matplotlib.figure.Figure at 0x7fedce01b350>"
      ]
     },
     "metadata": {},
     "output_type": "display_data"
    }
   ],
   "source": [
    "draw_four(viewer3)\n",
    "plt.savefig('chap08-4.pdf')"
   ]
  },
  {
   "cell_type": "markdown",
   "metadata": {},
   "source": [
    "Now we can apply a box-counting algorithm to each level.\n",
    "\n",
    "`count_cells` starts with a single cell in the middle, gradually increases the size of the box, and counts the number of cells in each box."
   ]
  },
  {
   "cell_type": "code",
   "execution_count": 22,
   "metadata": {
    "collapsed": true
   },
   "outputs": [],
   "source": [
    "def count_cells(a):\n",
    "    \"\"\"Counts the number of cells in boxes with increasing size.\n",
    "    \n",
    "    a: NumPy array\n",
    "    \n",
    "    returns: list of (i, i**2, cell count) tuples\n",
    "    \"\"\"\n",
    "    n, m = a.shape\n",
    "    end = min(n, m)\n",
    "    \n",
    "    res = []\n",
    "    for i in range(1, end, 2):\n",
    "        top = (n-i) // 2\n",
    "        left = (m-i) // 2\n",
    "        box = a[top:top+i, left:left+i]\n",
    "        total = np.sum(box)\n",
    "        res.append((i, i**2, total))\n",
    "        \n",
    "    return np.transpose(res)"
   ]
  },
  {
   "cell_type": "markdown",
   "metadata": {},
   "source": [
    "`box_count` takes a pile and a value, extracts the cells that have the given value, calls `count_cells`, and estimates the fractal dimension.\n",
    "\n",
    "If `plot` is `True`, it also generates a graph of cell count versus box size on a log-log scale."
   ]
  },
  {
   "cell_type": "code",
   "execution_count": 23,
   "metadata": {
    "collapsed": true
   },
   "outputs": [],
   "source": [
    "from scipy.stats import linregress\n",
    "\n",
    "def box_count(pile, val=0, plot=False):\n",
    "    \"\"\"Estimates the fractal dimension by box counting.\n",
    "    \n",
    "    pile: SandPile\n",
    "    val: which value from the pile to count\n",
    "    plot: boolean, whether to generate a plot\n",
    "    \n",
    "    returns: estimated fractal dimension\n",
    "    \"\"\"\n",
    "    res = count_cells(pile.array==val)\n",
    "    steps, steps2, cells = res\n",
    "    \n",
    "    # select the range where we have a nonzero number of cells\n",
    "    legit = np.nonzero(cells)\n",
    "    steps = steps[legit]\n",
    "    steps2 = steps2[legit]\n",
    "    cells = cells[legit]\n",
    "\n",
    "    if plot:\n",
    "        thinkplot.preplot(3)\n",
    "        thinkplot.plot(steps, steps2, linestyle='dashed')\n",
    "        thinkplot.plot(steps, cells, label='val=%d' % val)\n",
    "        thinkplot.plot(steps, steps, linestyle='dashed')\n",
    "\n",
    "        thinkplot.config(xscale='log', yscale='log',\n",
    "                         xlim=[1, 200], loc='upper left',\n",
    "                         xlabel='box size', ylabel='cell count')\n",
    "    \n",
    "    params = linregress(np.log(steps), np.log(cells))\n",
    "    return params[0]"
   ]
  },
  {
   "cell_type": "markdown",
   "metadata": {},
   "source": [
    "Finally `box_count_four` applies the box counting algorithm for each value in the sand pile."
   ]
  },
  {
   "cell_type": "code",
   "execution_count": 24,
   "metadata": {
    "collapsed": false
   },
   "outputs": [],
   "source": [
    "def box_count_four(pile, vals=range(4)):\n",
    "    \"\"\"Applies box counting to each value in the pile.\n",
    "    \n",
    "    pile: SandPile\n",
    "    vals: list of values to check\n",
    "    \"\"\"\n",
    "    thinkplot.preplot(rows=2, cols=2)\n",
    "    \n",
    "    dims = []\n",
    "    for i, val in enumerate(vals):\n",
    "        thinkplot.subplot(i+1)\n",
    "        dim = box_count(pile, val, plot=True)\n",
    "        dims.append(dim)\n",
    "        \n",
    "    return dims"
   ]
  },
  {
   "cell_type": "markdown",
   "metadata": {},
   "source": [
    "Here are the results:"
   ]
  },
  {
   "cell_type": "code",
   "execution_count": 25,
   "metadata": {
    "collapsed": false
   },
   "outputs": [
    {
     "data": {
      "image/png": "[encoded data removed]",
      "text/plain": [
       "<matplotlib.figure.Figure at 0x7fedcd6b5990>"
      ]
     },
     "metadata": {},
     "output_type": "display_data"
    }
   ],
   "source": [
    "dims = box_count_four(pile3)\n",
    "plt.savefig('chap08-5.pdf')"
   ]
  },
  {
   "cell_type": "markdown",
   "metadata": {},
   "source": [
    "The lines are reasonably straight, which indicates that we are running the algorithm over a valid range of box sizes.  Here are the estimated slopes:"
   ]
  },
  {
   "cell_type": "code",
   "execution_count": 26,
   "metadata": {
    "collapsed": false
   },
   "outputs": [
    {
     "name": "stdout",
     "output_type": "stream",
     "text": [
      "0  1.871\n",
      "1  3.502\n",
      "2  1.781\n",
      "3  2.084\n"
     ]
    }
   ],
   "source": [
    "for i, dim in enumerate(dims):\n",
    "    print('%d  %0.3f' % (i, dim))"
   ]
  },
  {
   "cell_type": "markdown",
   "metadata": {},
   "source": [
    "The fractal dimension for values 0, 1, and 2 seems to be clearly non-integer, which indicates that the image is fractal.\n",
    "\n",
    "Strictly, the fractal dimension for value 3 is indistinguishable from 2, but given the results for the other values, the apparent curvature of the line, and the appearance of the pattern, it seems likely that it is also fractal. "
   ]
  },
  {
   "cell_type": "markdown",
   "metadata": {},
   "source": [
    "**Exercise:**  Choose a different value of `n` and/or `level` and run this analysis again.  Are the estimated fractal dimensions consistent?"
   ]
  },
  {
   "cell_type": "markdown",
   "metadata": {},
   "source": [
    "## Spectral density"
   ]
  },
  {
   "cell_type": "markdown",
   "metadata": {},
   "source": [
    "Suppose the sandpile made a little click each time a cell toppled.  What would it sound like?\n",
    "\n",
    "`toppled_seq` contains the number of cells that toppled during each time step.  We can use Welch's algorithm to estimate its [power spectral density](https://en.wikipedia.org/wiki/Spectral_density)."
   ]
  },
  {
   "cell_type": "code",
   "execution_count": 27,
   "metadata": {
    "collapsed": false
   },
   "outputs": [
    {
     "data": {
      "text/plain": [
       "1439522"
      ]
     },
     "execution_count": 27,
     "metadata": {},
     "output_type": "execute_result"
    }
   ],
   "source": [
    "signal = pile2.toppled_seq\n",
    "len(signal)"
   ]
  },
  {
   "cell_type": "code",
   "execution_count": 28,
   "metadata": {
    "collapsed": false
   },
   "outputs": [],
   "source": [
    "from scipy.signal import welch\n",
    "\n",
    "nperseg = 2048\n",
    "freqs, powers = welch(signal, nperseg=nperseg, fs=nperseg)"
   ]
  },
  {
   "cell_type": "markdown",
   "metadata": {},
   "source": [
    "And here's what it looks like."
   ]
  },
  {
   "cell_type": "code",
   "execution_count": 29,
   "metadata": {
    "collapsed": false
   },
   "outputs": [
    {
     "data": {
      "image/png": "[encoded data removed]",
      "text/plain": [
       "<matplotlib.figure.Figure at 0x7fedd658bb90>"
      ]
     },
     "metadata": {},
     "output_type": "display_data"
    }
   ],
   "source": [
    "x = nperseg\n",
    "ys = np.array([x**1.58, 1]) / 2.7e3\n",
    "thinkplot.plot([1, x], ys, color='gray', linewidth=1)\n",
    "\n",
    "thinkplot.plot(freqs, powers)\n",
    "thinkplot.config(xlabel='frequency', xscale='log', xlim=[1, 1200],\n",
    "                 ylabel='power', yscale='log', ylim=[1e-5, 5])\n",
    "\n",
    "plt.savefig('chap08-6.pdf')"
   ]
  },
  {
   "cell_type": "markdown",
   "metadata": {},
   "source": [
    "The slope of the line is -1.58, which indicates that this spectrum is pink noise with parameter $\\beta=1.58$."
   ]
  },
  {
   "cell_type": "markdown",
   "metadata": {},
   "source": [
    "**Exercise:**  Choose a different value of `nperseg` and run this analysis again.  What are the pros and cons of larger segment lengths?  Modify the code to run the model longer and see if you can get a less noisy estimate of the spectrum."
   ]
  },
  {
   "cell_type": "markdown",
   "metadata": {},
   "source": [
    "## Exercises"
   ]
  },
  {
   "cell_type": "markdown",
   "metadata": {},
   "source": [
    "**Exercise:** To test whether the distributions of `T` and `S` are heavy-tailed, we plotted their histograms on a log-log scale, which is what Bak, Tang and Wiesenfeld show in their paper.  But as we saw in Chapter 4, this visualization can obscure the shape of the distribution.  Using the same data, make a plot that shows the CDFs of `S` and `T`.  What can you say about the shape of these distributions?  Do they follow a power law?  Are they heavy tailed?\n",
    "\n",
    "You might find it helpful to plot the CDFs on a log-x scale and on a log-log scale."
   ]
  },
  {
   "cell_type": "code",
   "execution_count": 30,
   "metadata": {
    "collapsed": false
   },
   "outputs": [],
   "source": [
    "# Solution goes here"
   ]
  },
  {
   "cell_type": "code",
   "execution_count": 31,
   "metadata": {
    "collapsed": false
   },
   "outputs": [],
   "source": [
    "# Solution goes here"
   ]
  },
  {
   "cell_type": "code",
   "execution_count": 32,
   "metadata": {
    "collapsed": true
   },
   "outputs": [],
   "source": [
    "# Solution goes here"
   ]
  },
  {
   "cell_type": "markdown",
   "metadata": {},
   "source": [
    "**Exercise:** In Section 8.5 we showed that the initial configuration of the sand pile model produces fractal patterns.  But after we drop a large number of random grains, the patterns look more random.\n",
    "\n",
    "Starting with the example in Section 8.5, run the sand pile model for a while and then compute fractal dimensions for each of the 4 levels.  Is the sand pile model fractal in steady state?"
   ]
  },
  {
   "cell_type": "code",
   "execution_count": 33,
   "metadata": {
    "collapsed": false
   },
   "outputs": [],
   "source": [
    "# Solution goes here"
   ]
  },
  {
   "cell_type": "code",
   "execution_count": 34,
   "metadata": {
    "collapsed": false
   },
   "outputs": [],
   "source": [
    "# Solution goes here"
   ]
  },
  {
   "cell_type": "code",
   "execution_count": 35,
   "metadata": {
    "collapsed": false
   },
   "outputs": [],
   "source": [
    "# Solution goes here"
   ]
  },
  {
   "cell_type": "code",
   "execution_count": 36,
   "metadata": {
    "collapsed": false
   },
   "outputs": [],
   "source": [
    "# Solution goes here"
   ]
  },
  {
   "cell_type": "code",
   "execution_count": 37,
   "metadata": {
    "collapsed": true
   },
   "outputs": [],
   "source": [
    "# Solution goes here"
   ]
  },
  {
   "cell_type": "markdown",
   "metadata": {},
   "source": [
    "**Exercise:** Another version of the sand pile model, called the \"single source\" model, starts from a different initial condition: instead of all cells at the same level, all cells are set to 0 except the center cell, which is set to a very large value.\n",
    "\n",
    "Write a function that creates a `SandPile` object, sets up the single source initial condition, and runs until the pile reaches equilibrium.  Does the results appear to be fractal?\n",
    "\n",
    "You can read more about this version of the sand pile model at http://math.cmu.edu/~wes/sandgallery.html"
   ]
  },
  {
   "cell_type": "code",
   "execution_count": 38,
   "metadata": {
    "collapsed": true
   },
   "outputs": [],
   "source": [
    "# Solution goes here"
   ]
  },
  {
   "cell_type": "code",
   "execution_count": 39,
   "metadata": {
    "collapsed": false
   },
   "outputs": [],
   "source": [
    "# Solution goes here"
   ]
  },
  {
   "cell_type": "code",
   "execution_count": 40,
   "metadata": {
    "collapsed": false
   },
   "outputs": [],
   "source": [
    "# Solution goes here"
   ]
  },
  {
   "cell_type": "code",
   "execution_count": 41,
   "metadata": {
    "collapsed": false
   },
   "outputs": [],
   "source": [
    "# Solution goes here"
   ]
  },
  {
   "cell_type": "code",
   "execution_count": 42,
   "metadata": {
    "collapsed": false
   },
   "outputs": [],
   "source": [
    "# Solution goes here"
   ]
  },
  {
   "cell_type": "code",
   "execution_count": 43,
   "metadata": {
    "collapsed": false
   },
   "outputs": [],
   "source": [
    "# Solution goes here"
   ]
  },
  {
   "cell_type": "code",
   "execution_count": 44,
   "metadata": {
    "collapsed": true
   },
   "outputs": [],
   "source": [
    "# Solution goes here"
   ]
  }
 ],
 "metadata": {
  "kernelspec": {
   "display_name": "Python 2",
   "language": "python",
   "name": "python2"
  },
  "language_info": {
   "codemirror_mode": {
    "name": "ipython",
    "version": 2
   },
   "file_extension": ".py",
   "mimetype": "text/x-python",
   "name": "python",
   "nbconvert_exporter": "python",
   "pygments_lexer": "ipython2",
   "version": "2.7.11"
  }
 },
 "nbformat": 4,
 "nbformat_minor": 0
}
